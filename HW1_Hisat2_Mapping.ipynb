{
  "cells": [
    {
      "cell_type": "markdown",
      "metadata": {
        "id": "view-in-github",
        "colab_type": "text"
      },
      "source": [
        "<a href=\"https://colab.research.google.com/github/eentartetekunst/NGS_bioinformatics/blob/main/HW1_Hisat2_Mapping.ipynb\" target=\"_parent\"><img src=\"https://colab.research.google.com/assets/colab-badge.svg\" alt=\"Open In Colab\"/></a>"
      ]
    },
    {
      "cell_type": "code",
      "execution_count": null,
      "metadata": {
        "id": "JDiaiDxJlNeD"
      },
      "outputs": [],
      "source": [
        "import os"
      ]
    },
    {
      "cell_type": "code",
      "execution_count": null,
      "metadata": {
        "id": "2OHeXsfGXtTc"
      },
      "outputs": [],
      "source": [
        "! pip install -q condacolab"
      ]
    },
    {
      "cell_type": "code",
      "execution_count": null,
      "metadata": {
        "id": "foHdqgZ0YAri"
      },
      "outputs": [],
      "source": [
        "import condacolab\n",
        "condacolab.install()"
      ]
    },
    {
      "cell_type": "code",
      "execution_count": null,
      "metadata": {
        "id": "csfE5Ad8VFYH"
      },
      "outputs": [],
      "source": [
        "!conda install -y -c bioconda samtools"
      ]
    },
    {
      "cell_type": "code",
      "execution_count": null,
      "metadata": {
        "id": "z38Hi2o_u9dv"
      },
      "outputs": [],
      "source": [
        "! sudo apt install bedtools "
      ]
    },
    {
      "cell_type": "code",
      "execution_count": null,
      "metadata": {
        "id": "z70vJ1tRKLdc"
      },
      "outputs": [],
      "source": [
        "! conda install -c bioconda regtools "
      ]
    },
    {
      "cell_type": "markdown",
      "metadata": {
        "id": "ccNhjd1-tXxf"
      },
      "source": [
        "## import data"
      ]
    },
    {
      "cell_type": "code",
      "execution_count": null,
      "metadata": {
        "colab": {
          "base_uri": "https://localhost:8080/"
        },
        "id": "Div7-vp1sOY5",
        "outputId": "8a77fac7-d73a-4831-d802-8efc0d9e73cc"
      },
      "outputs": [
        {
          "output_type": "stream",
          "name": "stdout",
          "text": [
            "Mounted at /content/drive\n"
          ]
        }
      ],
      "source": [
        "from google.colab import drive\n",
        "drive.mount('/content/drive')"
      ]
    },
    {
      "cell_type": "code",
      "execution_count": null,
      "metadata": {
        "id": "CvuqoRkYsnRV",
        "colab": {
          "base_uri": "https://localhost:8080/"
        },
        "outputId": "35fb2f91-9da0-419c-9eb1-4d458d7112ff"
      },
      "outputs": [
        {
          "output_type": "stream",
          "name": "stdout",
          "text": [
            "mkdir: cannot create directory ‘reads’: File exists\n"
          ]
        }
      ],
      "source": [
        "! mkdir reads"
      ]
    },
    {
      "cell_type": "code",
      "execution_count": null,
      "metadata": {
        "colab": {
          "base_uri": "https://localhost:8080/"
        },
        "id": "ZPuLceXetB5v",
        "outputId": "3609e2b4-f2da-44ec-9531-ea9394b25b4f"
      },
      "outputs": [
        {
          "output_type": "stream",
          "name": "stdout",
          "text": [
            "mv: cannot stat '**/*.fq.gz': No such file or directory\n"
          ]
        }
      ],
      "source": [
        "! mv **/*.fq.gz /content/drive/MyDrive/rna.seq.data reads"
      ]
    },
    {
      "cell_type": "code",
      "execution_count": null,
      "metadata": {
        "colab": {
          "base_uri": "https://localhost:8080/"
        },
        "id": "9dcYoW9VtLWz",
        "outputId": "06177340-a045-4206-b0af-f291cd08c7c4"
      },
      "outputs": [
        {
          "name": "stdout",
          "output_type": "stream",
          "text": [
            "B14.5.fq.gz  B17.5.fq.gz  B34.fq.gz    C15.5.fq.gz  C20.fq.gz\n",
            "B15.5.fq.gz  B20.fq.gz\t  C14.5.fq.gz  C17.5.fq.gz  C34.fq.gz\n"
          ]
        }
      ],
      "source": [
        "! ls reads/rna.seq.data"
      ]
    },
    {
      "cell_type": "markdown",
      "metadata": {
        "id": "WzyYJX0WQlsB"
      },
      "source": [
        "## 2) install hisat2"
      ]
    },
    {
      "cell_type": "code",
      "execution_count": null,
      "metadata": {
        "id": "2dYmpRYoO6B1"
      },
      "outputs": [],
      "source": [
        "! sudo apt-get update"
      ]
    },
    {
      "cell_type": "code",
      "execution_count": null,
      "metadata": {
        "id": "cFbv9DtiPSLq"
      },
      "outputs": [],
      "source": [
        "! sudo apt-get -y install hisat2"
      ]
    },
    {
      "cell_type": "markdown",
      "metadata": {
        "id": "HrC42ccTQrG5"
      },
      "source": [
        "## 3) download chr19 sequence and its annotation"
      ]
    },
    {
      "cell_type": "code",
      "execution_count": null,
      "metadata": {
        "id": "gRZTjyBVPXrA"
      },
      "outputs": [],
      "source": [
        "! wget http://ftp.ensembl.org/pub/release-107/fasta/mus_musculus/dna/Mus_musculus.GRCm39.dna.chromosome.19.fa.gz #chr19 sequence\n",
        "! wget http://ftp.ensembl.org/pub/release-107/gtf/mus_musculus/Mus_musculus.GRCm39.107.gtf.gz # annotation\n",
        "! gzip -d Mus_musculus.GRCm39.dna.chromosome.19.fa.gz\n",
        "! gzip -d Mus_musculus.GRCm39.107.gtf.gz"
      ]
    },
    {
      "cell_type": "markdown",
      "metadata": {
        "id": "l7_Zga7pQz0t"
      },
      "source": [
        "## 4) select chr 19 from the annotation"
      ]
    },
    {
      "cell_type": "code",
      "execution_count": null,
      "metadata": {
        "id": "CuK3tizzPnqq"
      },
      "outputs": [],
      "source": [
        "! touch chr19-annotation \n",
        "! grep -P '^19\\t' /content/Mus_musculus.GRCm39.107.gtf > chr19-annotation "
      ]
    },
    {
      "cell_type": "code",
      "execution_count": null,
      "metadata": {
        "colab": {
          "base_uri": "https://localhost:8080/"
        },
        "id": "Qgoc-yuUQcOB",
        "outputId": "f66bb2c8-2d04-4d96-dbc9-451129cb0b25"
      },
      "outputs": [
        {
          "output_type": "stream",
          "name": "stdout",
          "text": [
            "total 918M\n",
            "-rw-r--r-- 1 root root  27M Oct  4 08:14 chr19-annotation\n",
            "-rw-r--r-- 1 root root  16K Oct  4 08:11 condacolab_install.log\n",
            "drwx------ 5 root root 4.0K Oct  4 08:13 drive\n",
            "-rw-r--r-- 1 root root 831M Jun  4 09:40 Mus_musculus.GRCm39.107.gtf\n",
            "-rw-r--r-- 1 root root  60M Jun  4 08:49 Mus_musculus.GRCm39.dna.chromosome.19.fa\n",
            "drwxr-xr-x 3 root root 4.0K Oct  4 08:13 reads\n",
            "drwxr-xr-x 1 root root 4.0K Sep 26 13:45 sample_data\n"
          ]
        }
      ],
      "source": [
        "!ls -lh"
      ]
    },
    {
      "cell_type": "code",
      "execution_count": null,
      "metadata": {
        "colab": {
          "base_uri": "https://localhost:8080/"
        },
        "id": "sM4k-8n8Hg1O",
        "outputId": "68c66ab0-24ed-4dcb-aadb-b88b646a25b1"
      },
      "outputs": [
        {
          "output_type": "stream",
          "name": "stdout",
          "text": [
            "19\tensembl\tgene\t56265950\t56266077\t.\t-\t.\tgene_id \"ENSMUSG00000077223\"; gene_version \"3\"; gene_name \"Gm22271\"; gene_source \"ensembl\"; gene_biotype \"snoRNA\";\n",
            "19\tensembl\ttranscript\t56265950\t56266077\t.\t-\t.\tgene_id \"ENSMUSG00000077223\"; gene_version \"3\"; transcript_id \"ENSMUST00000104035\"; transcript_version \"3\"; gene_name \"Gm22271\"; gene_source \"ensembl\"; gene_biotype \"snoRNA\"; transcript_name \"Gm22271-201\"; transcript_source \"ensembl\"; transcript_biotype \"snoRNA\"; tag \"basic\"; transcript_support_level \"NA (assigned to previous version 1)\";\n"
          ]
        }
      ],
      "source": [
        "! head -n2 chr19-annotation "
      ]
    },
    {
      "cell_type": "markdown",
      "metadata": {
        "id": "ITjsgH-eQ7A2"
      },
      "source": [
        "## 5) build index for chr 19"
      ]
    },
    {
      "cell_type": "markdown",
      "metadata": {
        "id": "suz9rKdBRIDf"
      },
      "source": [
        "## map all reads on chr19 sequence (no trimming, known splice sites)\n",
        "use --known-splicesite-infile:\n",
        "With this mode, you can provide a list of known splice sites, which HISAT makes use of to align reads with small anchors.\n",
        "You can create such a list using python extract_splice_sites.py genes.gtf > splicesites.txt, where extract_splice_sites.py is included in the HISAT package, genes.gtf is a gene annotation file, and splicesites.txt is a list of splice sites with which you provide HISAT in this mode"
      ]
    },
    {
      "cell_type": "markdown",
      "metadata": {
        "id": "cqcvvAeBGyuQ"
      },
      "source": [
        "## install extract_splice_sites.py and extract_exons.py"
      ]
    },
    {
      "cell_type": "code",
      "execution_count": null,
      "metadata": {
        "id": "00ohDOeZagG7"
      },
      "outputs": [],
      "source": [
        "! wget https://raw.githubusercontent.com/dekoning-lab/ezmap/master/tools/HISAT2/hisat2-2.0.5-Linux/extract_splice_sites.py\n",
        "! chmod a+x extract_splice_sites.py\n",
        "! ./extract_splice_sites.py"
      ]
    },
    {
      "cell_type": "code",
      "execution_count": null,
      "metadata": {
        "id": "RgobT7veGhQG"
      },
      "outputs": [],
      "source": [
        "! wget https://raw.githubusercontent.com/dekoning-lab/ezmap/master/tools/HISAT2/hisat2-2.0.5-Linux/extract_exons.py\n",
        "! chmod a+x extract_exons.py\n",
        "! ./extract_exons.py"
      ]
    },
    {
      "cell_type": "markdown",
      "metadata": {
        "id": "qRcoy_CLG-40"
      },
      "source": [
        "## extract splice sites and exon's locations  from the annotation"
      ]
    },
    {
      "cell_type": "code",
      "execution_count": null,
      "metadata": {
        "id": "7wPnL2fEtV1g"
      },
      "outputs": [],
      "source": [
        "! ./extract_splice_sites.py chr19-annotation > chr19.ss # extract sites from the annotation\n",
        "! ! ./extract_exons.py chr19-annotation > chr19.exons "
      ]
    },
    {
      "cell_type": "code",
      "execution_count": null,
      "metadata": {
        "colab": {
          "base_uri": "https://localhost:8080/"
        },
        "id": "Ao7YNNwRRe3P",
        "outputId": "0bfc196f-877c-4ee6-98ba-3165b875048e"
      },
      "outputs": [
        {
          "output_type": "stream",
          "name": "stdout",
          "text": [
            "19\t3103277\t3109879\t-\n",
            "19\t3109990\t3119366\t-\n"
          ]
        }
      ],
      "source": [
        "! head -n2 chr19.ss "
      ]
    },
    {
      "cell_type": "code",
      "execution_count": null,
      "metadata": {
        "colab": {
          "base_uri": "https://localhost:8080/"
        },
        "id": "50L0PvJjSAQF",
        "outputId": "4405096a-4304-4438-e79c-0c9868e8e185"
      },
      "outputs": [
        {
          "output_type": "stream",
          "name": "stdout",
          "text": [
            "19\t3103070\t3103277\t-\n",
            "19\t3109879\t3109990\t-\n"
          ]
        }
      ],
      "source": [
        "! head -n2 chr19.exons"
      ]
    },
    {
      "cell_type": "markdown",
      "metadata": {
        "id": "SVBZom9RI2iN"
      },
      "source": [
        "## map reads on chr19 with no trimming, with known splice sites\n",
        "\n",
        "---\n",
        "\n"
      ]
    },
    {
      "cell_type": "markdown",
      "metadata": {
        "id": "m8gZUHx2n9eC"
      },
      "source": [
        "## map b14.5 on chr19"
      ]
    },
    {
      "cell_type": "code",
      "execution_count": null,
      "metadata": {
        "id": "WSPc_K0LPshj"
      },
      "outputs": [],
      "source": [
        "! hisat2-build --ss chr19.ss --exon chr19.exons Mus_musculus.GRCm39.dna.chromosome.19.fa base-index"
      ]
    },
    {
      "cell_type": "markdown",
      "metadata": {
        "id": "aHMGUXtPhtUz"
      },
      "source": [
        "\n",
        "\n",
        "1. --summary-file\n",
        "\n",
        "3. --no-softclip Disallow soft-clipping.\n",
        "\n",
        "4. --no-unal Suppress SAM records for reads that failed to align.\n",
        "\n",
        "\n",
        "5. -x The basename of the index for the reference genome. The basename is the name of any of the index files up to but not including the final\n",
        "\n",
        "7.  -U Comma-separated list of files containing unpaired reads to be aligned, e.g. lane1.fq,lane2.fq,lane3.fq,lane4.fq. Reads may be a mix of different lengths. If - is specified, hisat2 gets the reads from the “standard in” or “stdin” filehandle.\n",
        "\n",
        "\n",
        "8.  $fq/$i\\.fq.gz # в папке fq с ридами взять файл i в формате fq.gz?\n",
        "9. samtools view -Sb  (-Output in the BAM format)\n",
        "11. $i\\.bam записываем в файл {read_filename}.bam\n",
        "\n"
      ]
    },
    {
      "cell_type": "code",
      "execution_count": 83,
      "metadata": {
        "id": "ws-9XpEsckNO"
      },
      "outputs": [],
      "source": [
        "i='B14.5'\n",
        "index='base-index'\n",
        "fq='/content/reads/rna.seq.data'"
      ]
    },
    {
      "cell_type": "code",
      "execution_count": 84,
      "metadata": {
        "id": "OwYm6eH6WepY",
        "colab": {
          "base_uri": "https://localhost:8080/"
        },
        "outputId": "644d60ca-d652-4ab0-8199-39a723582669"
      },
      "outputs": [
        {
          "output_type": "stream",
          "name": "stdout",
          "text": [
            "599672 reads; of these:\n",
            "  599672 (100.00%) were unpaired; of these:\n",
            "    47202 (7.87%) aligned 0 times\n",
            "    540491 (90.13%) aligned exactly 1 time\n",
            "    11979 (2.00%) aligned >1 times\n",
            "92.13% overall alignment rate\n"
          ]
        }
      ],
      "source": [
        "# redirect stdout of hisat2 (sam alignment file) to samtools view so that we only save compressed file \n",
        "! hisat2 --summary-file $i\\.log --no-softclip --no-unal -x $index -U $fq/$i\\.fq.gz | samtools view -Sb - > $i\\.bam"
      ]
    },
    {
      "cell_type": "markdown",
      "metadata": {
        "id": "f8tpoo0WoDeV"
      },
      "source": [
        "## 6) Прокартируйте все fq файлы (начните с одного) на 19ую хромосому при помощи hisat2 не допуская обрезания ридов и сообщив hisat2 координаты сайтов сплайсинга "
      ]
    },
    {
      "cell_type": "code",
      "execution_count": null,
      "metadata": {
        "id": "P30FrgEwnvC7"
      },
      "outputs": [],
      "source": [
        "%%shell \n",
        "reads_list='C14.5 B34 B14.5 C15.5 C17.5 B17.5 C34 B20 B15.5 C20' \n",
        "index='base-index'\n",
        "fq='/content/reads/rna.seq.data'\n",
        "\n",
        "for i in ${reads_list}\n",
        "do hisat2 --summary-file ${i}.log --no-softclip --no-unal -x ${index} -U ${fq}/${i}.fq.gz | samtools view -Sb - > ${i}.bam \n",
        "done"
      ]
    },
    {
      "cell_type": "markdown",
      "metadata": {
        "id": "0RJgHsM2oK1-"
      },
      "source": [
        "## 7) Выберите случайно один образец"
      ]
    },
    {
      "cell_type": "markdown",
      "metadata": {
        "id": "MlrG3ykroQoC"
      },
      "source": [
        "## 8)Сколько ридов картируется в регион 19:12485000-12490000 в этом образце? \n",
        "599672 reads;"
      ]
    },
    {
      "cell_type": "markdown",
      "metadata": {
        "id": "XUQgrpt1oe7n"
      },
      "source": [
        "## 9)Сколько из них картируются только в одно место генома?\n",
        "\n",
        "540491 (90.13%) aligned exactly 1 time # из отчета\n"
      ]
    },
    {
      "cell_type": "code",
      "execution_count": null,
      "metadata": {
        "id": "OiTHayyKWOfK"
      },
      "outputs": [],
      "source": [
        "! samtools sort -o B14.5.s.bam B14.5.bam #coordinate sorting\n",
        "# ! mv B14.5.s.bam B14.5.bam # replace unsorted file with sorted \n",
        "! samtools index B14.5.s.bam # Generate BAI-format index for BAM files"
      ]
    },
    {
      "cell_type": "code",
      "execution_count": null,
      "metadata": {
        "id": "a6nb1oqhfbG7"
      },
      "outputs": [],
      "source": [
        "! samtools view B14.5.s.bam 19:12485000-12490000 | cut -f6 | grep N"
      ]
    },
    {
      "cell_type": "code",
      "execution_count": null,
      "metadata": {
        "colab": {
          "base_uri": "https://localhost:8080/"
        },
        "id": "m7KB9T34TwBt",
        "outputId": "4564846b-9475-41d8-cd3d-21cacb038f7d"
      },
      "outputs": [
        {
          "output_type": "stream",
          "name": "stdout",
          "text": [
            "540491\n"
          ]
        }
      ],
      "source": [
        "! samtools view B14.5.s.bam -d NH:1 -c  # тоже самое - риды, которые картировлаись на одно место в геноме"
      ]
    },
    {
      "cell_type": "code",
      "execution_count": null,
      "metadata": {
        "colab": {
          "base_uri": "https://localhost:8080/"
        },
        "id": "wW4Q8Cd4Ubmw",
        "outputId": "b1c1d7bf-2436-4a36-8f36-7ba7aa39d20a"
      },
      "outputs": [
        {
          "output_type": "stream",
          "name": "stdout",
          "text": [
            "1\n"
          ]
        }
      ],
      "source": [
        "! samtools view B14.5.s.bam 19:12485000-12490000 -d NH:1 -c  # for a given region"
      ]
    },
    {
      "cell_type": "markdown",
      "metadata": {
        "id": "3pcSm9HhYGjM"
      },
      "source": [
        "то же самое для образца В20"
      ]
    },
    {
      "cell_type": "code",
      "execution_count": null,
      "metadata": {
        "id": "juiMUGwnX13P"
      },
      "outputs": [],
      "source": [
        "! samtools sort -o B20.s.bam B20.bam \n",
        "! samtools index B20.s.bam"
      ]
    },
    {
      "cell_type": "code",
      "execution_count": null,
      "metadata": {
        "colab": {
          "base_uri": "https://localhost:8080/"
        },
        "id": "KVj8jrHiYQ1n",
        "outputId": "9d15d17d-5280-4ffe-bf76-9810d983ce42"
      },
      "outputs": [
        {
          "output_type": "stream",
          "name": "stdout",
          "text": [
            "538522\n"
          ]
        }
      ],
      "source": [
        "! samtools view B20.s.bam -d NH:1 -c  # тоже самое - риды, которые картировлаись на одно место в геноме"
      ]
    },
    {
      "cell_type": "markdown",
      "metadata": {
        "id": "sDY0DBz1ohJo"
      },
      "source": [
        "## 10) Сколько ридов картровалось без замен? Сколько с 1, 2 и т. д. заменами?\n",
        "\n",
        " Convert a BAM file to a CRAM with NM and MD tags stored verbatim rather than calculating on the fly during CRAM decode, so that mixed data sets with MD/NM only on some  records, or NM calculated using different definitions of mismatch, can be decoded without change.\n",
        "         The second command demonstrates how to decode such a file.  The request to not decode MD here is turning off auto-generation of both MD and NM; it will still emit the MD/NM tags\n",
        "         on records that had these stored verbatim.\n",
        "\n",
        "           samtools view -C --output-fmt-option store_md=1 --output-fmt-option store_nm=1 -o aln.cram aln.bam\n",
        "           samtools view --input-fmt-option decode_md=0 -o aln.new.bam aln.cram"
      ]
    },
    {
      "cell_type": "markdown",
      "metadata": {
        "id": "yYKXohsHTZSG"
      },
      "source": []
    },
    {
      "cell_type": "code",
      "execution_count": null,
      "metadata": {
        "colab": {
          "base_uri": "https://localhost:8080/"
        },
        "id": "hSEO4Q8U6j1p",
        "outputId": "5dedecd1-13c4-42cf-b111-316b041d1dd5"
      },
      "outputs": [
        {
          "output_type": "stream",
          "name": "stdout",
          "text": [
            "84502\n"
          ]
        }
      ],
      "source": [
        "! samtools view B14.5.s.bam -d NM:1 -c # с 1 заменой (наверное )"
      ]
    },
    {
      "cell_type": "code",
      "execution_count": null,
      "metadata": {
        "colab": {
          "base_uri": "https://localhost:8080/"
        },
        "id": "oWQkih7pWb89",
        "outputId": "887e0f63-7b70-4759-f35d-df3b35f2bcc6"
      },
      "outputs": [
        {
          "output_type": "stream",
          "name": "stdout",
          "text": [
            "20990\n"
          ]
        }
      ],
      "source": [
        "! samtools view B14.5.s.bam -d NM:2 -c # с 2 заменами (наверное )"
      ]
    },
    {
      "cell_type": "code",
      "execution_count": null,
      "metadata": {
        "colab": {
          "base_uri": "https://localhost:8080/"
        },
        "id": "W9sZu33yadtY",
        "outputId": "cecc2200-2e55-491f-ef44-4593ff5436a6"
      },
      "outputs": [
        {
          "output_type": "stream",
          "name": "stdout",
          "text": [
            "84502\n",
            "20990\n",
            "9620\n",
            "2759\n",
            "1451\n",
            "771\n",
            "344\n",
            "125\n",
            "52\n",
            "16\n",
            "0\n",
            "0\n"
          ]
        },
        {
          "output_type": "execute_result",
          "data": {
            "text/plain": []
          },
          "metadata": {},
          "execution_count": 36
        }
      ],
      "source": [
        "%%shell\n",
        "list_my_i='1 2 3 4 5 6 7 8 9 10 11 12'\n",
        "for i in ${list_my_i}\n",
        "do samtools view B14.5.s.bam  -d NM:${i} -c # с i заменами \n",
        "done"
      ]
    },
    {
      "cell_type": "markdown",
      "metadata": {
        "id": "6G_c8IKNohMS"
      },
      "source": [
        "## 11) Сколько ридов картировалось на экзон-экзонные границы? \n",
        "\n",
        "https://regtools.readthedocs.io/en/latest/commands/junctions-extract/ \n",
        "\n",
        "The junctions extract command can be used to extract exon-exon junctions from an RNAseq BAM file. The output is a BED file in the BED12 format"
      ]
    },
    {
      "cell_type": "code",
      "execution_count": null,
      "metadata": {
        "id": "aWxo3zTLOkRV"
      },
      "outputs": [],
      "source": [
        "#reindex\n",
        "#  rm B14.5.bam.bai\n",
        "! samtools sort -o B14.5.s.bam B14.5.bam #coordinate sorting\n",
        "# ! mv B14.5.s.bam B14.5.bam # replace unsorted file with sorted \n",
        "! samtools index B14.5.s.bam "
      ]
    },
    {
      "cell_type": "code",
      "execution_count": null,
      "metadata": {
        "colab": {
          "base_uri": "https://localhost:8080/"
        },
        "id": "LP-mwm3Hu7g0",
        "outputId": "cbba1e0c-7965-493e-8ce6-bd045c2d23bf"
      },
      "outputs": [
        {
          "output_type": "stream",
          "name": "stdout",
          "text": [
            "\n",
            "Program:\tregtools\n",
            "Version:\t0.5.2\n",
            "Minimum junction anchor length: 8\n",
            "Minimum intron length: 70\n",
            "Maximum intron length: 500000\n",
            "Alignment: B14.5.s.bam\n",
            "Output file: B14.5.bed\n",
            "\n"
          ]
        }
      ],
      "source": [
        "# /content/B14.5.bam.bai path to coordinate-sorted file\n",
        "! regtools junctions extract -o B14.5.bed -s XS B14.5.s.bam "
      ]
    },
    {
      "cell_type": "code",
      "execution_count": null,
      "metadata": {
        "colab": {
          "base_uri": "https://localhost:8080/"
        },
        "id": "8nR6jgzaRRl8",
        "outputId": "c5c18f67-6186-40e3-8a59-2feec93edc16"
      },
      "outputs": [
        {
          "output_type": "stream",
          "name": "stdout",
          "text": [
            "19\t3133277\t3137371\tJUNC00000001\t2\t+\t3133277\t3137371\t255,0,0\t2\t64,41\t0,4053\n",
            "19\t3311538\t3312066\tJUNC00000002\t8\t-\t3311538\t3312066\t255,0,0\t2\t97,92\t0,436\n",
            "19\t3312112\t3315585\tJUNC00000003\t1\t-\t3312112\t3315585\t255,0,0\t2\t32,69\t0,3404\n",
            "19\t3315576\t3316407\tJUNC00000004\t6\t-\t3315576\t3316407\t255,0,0\t2\t89,72\t0,759\n",
            "19\t3316371\t3317307\tJUNC00000005\t3\t-\t3316371\t3317307\t255,0,0\t2\t88,66\t0,870\n",
            "19\t3317264\t3318347\tJUNC00000006\t2\t-\t3317264\t3318347\t255,0,0\t2\t72,50\t0,1033\n",
            "19\t3318323\t3318700\tJUNC00000007\t4\t-\t3318323\t3318700\t255,0,0\t2\t93,41\t0,336\n",
            "19\t3318804\t3321620\tJUNC00000008\t3\t-\t3318804\t3321620\t255,0,0\t2\t38,95\t0,2721\n",
            "19\t3321625\t3322913\tJUNC00000009\t1\t-\t3321625\t3322913\t255,0,0\t2\t75,26\t0,1262\n",
            "19\t3322948\t3324441\tJUNC00000010\t13\t-\t3322948\t3324441\t255,0,0\t2\t87,86\t0,1407\n"
          ]
        }
      ],
      "source": [
        "! head B14.5.bed"
      ]
    },
    {
      "cell_type": "markdown",
      "metadata": {
        "id": "dIDzRaXHLkgX"
      },
      "source": [
        "regtools junctions annotate [options] junctions.bed ref.fa annotations.gtf\n",
        "\n"
      ]
    },
    {
      "cell_type": "code",
      "execution_count": null,
      "metadata": {
        "id": "nlwic3Ouu85t"
      },
      "outputs": [],
      "source": [
        "! regtools junctions annotate -o B14.5.exonexon.reads B14.5.bed Mus_musculus.GRCm39.dna.chromosome.19.fa chr19-annotation "
      ]
    },
    {
      "cell_type": "code",
      "execution_count": null,
      "metadata": {
        "colab": {
          "base_uri": "https://localhost:8080/"
        },
        "id": "isP6CmMzu7od",
        "outputId": "b84c2791-78a5-40c1-a079-ab6fe4f9ad3f"
      },
      "outputs": [
        {
          "output_type": "stream",
          "name": "stdout",
          "text": [
            "chrom\tstart\tend\tname\tscore\tstrand\tsplice_site\tacceptors_skipped\texons_skipped\tdonors_skipped\tanchor\tknown_donor\tknown_acceptor\tknown_junction\tgene_names\tgene_ids\ttranscripts\n",
            "19\t3133341\t3137331\tJUNC00000001\t2\t+\tGT-AG\t0\t0\t0\tN\t0\t0\t0\tNA\tNA\tNA\n",
            "19\t3311635\t3311975\tJUNC00000002\t8\t-\tGT-AG\t0\t0\t0\tDA\t1\t1\t1\tIghmbp2\tENSMUSG00000024831\tENSMUST00000025751,ENSMUST00000119292\n",
            "19\t3312144\t3315517\tJUNC00000003\t1\t-\tGT-AG\t0\t0\t3\tA\t0\t1\t0\tIghmbp2\tENSMUSG00000024831\tENSMUST00000025751,ENSMUST00000119292,ENSMUST00000154537\n",
            "19\t3315665\t3316336\tJUNC00000004\t6\t-\tGT-AG\t0\t0\t0\tDA\t1\t1\t1\tIghmbp2\tENSMUSG00000024831\tENSMUST00000025751,ENSMUST00000119292,ENSMUST00000143079,ENSMUST00000154537\n",
            "19\t3316459\t3317242\tJUNC00000005\t3\t-\tGT-AG\t0\t0\t0\tDA\t1\t1\t1\tIghmbp2\tENSMUSG00000024831\tENSMUST00000025751,ENSMUST00000119292,ENSMUST00000143079,ENSMUST00000154537\n",
            "19\t3317336\t3318298\tJUNC00000006\t2\t-\tGT-AG\t1\t0\t0\tDA\t1\t1\t1\tIghmbp2\tENSMUSG00000024831\tENSMUST00000025751,ENSMUST00000119292,ENSMUST00000154537\n",
            "19\t3318416\t3318660\tJUNC00000007\t4\t-\tGT-AG\t0\t0\t0\tDA\t1\t1\t1\tIghmbp2\tENSMUSG00000024831\tENSMUST00000025751,ENSMUST00000119292,ENSMUST00000154537\n",
            "19\t3318842\t3321526\tJUNC00000008\t3\t-\tGT-AG\t0\t0\t0\tDA\t1\t1\t1\tIghmbp2\tENSMUSG00000024831\tENSMUST00000025751,ENSMUST00000119292,ENSMUST00000154537\n",
            "19\t3321700\t3322888\tJUNC00000009\t1\t-\tGT-AG\t0\t0\t0\tDA\t1\t1\t1\tIghmbp2\tENSMUSG00000024831\tENSMUST00000025751,ENSMUST00000119292,ENSMUST00000154537\n"
          ]
        }
      ],
      "source": [
        "! head B14.5.exonexon.reads\n",
        "# score - The number of reads supporting the junction. [integer]"
      ]
    },
    {
      "cell_type": "code",
      "execution_count": null,
      "metadata": {
        "colab": {
          "base_uri": "https://localhost:8080/"
        },
        "id": "2BHECSJeTa5Z",
        "outputId": "929418e0-d4a0-4d12-9150-16062a0d5fcf"
      },
      "outputs": [
        {
          "output_type": "stream",
          "name": "stdout",
          "text": [
            "109117\n"
          ]
        }
      ],
      "source": [
        "! cat B14.5.exonexon.reads | awk '{SUM+=$score}END{print SUM}'\n",
        "# count sum of the coulumn values, $score represent value of column 'score'"
      ]
    },
    {
      "cell_type": "markdown",
      "metadata": {
        "id": "SyZUEYRWgc0P"
      },
      "source": [
        "109117 reads mapped over exon exon junctions"
      ]
    },
    {
      "cell_type": "markdown",
      "metadata": {
        "id": "8xS7BSRwohPD"
      },
      "source": [
        "## 12) Перечислите координаты всех интронов в данном интервале подтверждённых хотя бы одним ридом в формате: chr:from-to coverage"
      ]
    },
    {
      "cell_type": "markdown",
      "source": [
        "### let’s find all of the non-exonic (i.e., intronic or intergenic) regions of the genome. Note, to do this you need a “genome” file, which tells bedtools the length of each chromosome in your file. Consider why the tool would need this information…"
      ],
      "metadata": {
        "id": "kMHvHHSTUMCw"
      }
    },
    {
      "cell_type": "code",
      "source": [
        "# $ cat file.gtf | awk '{print $1,$4,$5,\"name\",$6,$7}' # gtf -> bed basically"
      ],
      "metadata": {
        "id": "PzcRrJRpUluS"
      },
      "execution_count": null,
      "outputs": []
    },
    {
      "cell_type": "code",
      "execution_count": null,
      "metadata": {
        "colab": {
          "background_save": true
        },
        "id": "ijvlZDlnheG9"
      },
      "outputs": [],
      "source": [
        "# ! awk -F\"\\t\" '$1 == \"chr19\" { print $1\"\\t\"$3 }' introns.bed \n",
        "# retrieve start and stop coordinates of the introns"
      ]
    },
    {
      "cell_type": "code",
      "execution_count": null,
      "metadata": {
        "colab": {
          "base_uri": "https://localhost:8080/"
        },
        "id": "HVv8DFbggpiX",
        "outputId": "aa8803b3-0756-4e44-f876-f4f0805fd040"
      },
      "outputs": [
        {
          "output_type": "stream",
          "name": "stdout",
          "text": [
            "42M56847N42M50311N17M\n",
            "42M56845N42M50311N17M\n",
            "42M56843N42M50311N17M\n",
            "42M56841N42M50311N17M\n"
          ]
        }
      ],
      "source": [
        "! samtools sort -o B20.s.bam B20.bam #coordinate sorting\n",
        "# ! mv B14.5.s.bam B14.5.bam # replace unsorted file with sorted \n",
        "! samtools index B20.s.bam # Generate BAI-format index for BAM files\n",
        "! samtools view B20.s.bam  19:12485000-12490000 | cut -f6 | grep N"
      ]
    },
    {
      "cell_type": "code",
      "source": [
        "! samtools view B20.s.bam -b 19:12485000-12490000 > targetB20.s.bam # choose target region"
      ],
      "metadata": {
        "id": "ZlMa6t4KYY-T"
      },
      "execution_count": null,
      "outputs": []
    },
    {
      "cell_type": "code",
      "source": [
        "! bedtools bamtobed -i targetB20.s.bam > targetB20.s.bed "
      ],
      "metadata": {
        "id": "BWIAqOVRYokU"
      },
      "execution_count": null,
      "outputs": []
    },
    {
      "cell_type": "code",
      "source": [
        "! head targetB20.s.bed # reads in target region ?"
      ],
      "metadata": {
        "colab": {
          "base_uri": "https://localhost:8080/"
        },
        "id": "0ZQZY4_OY0LX",
        "outputId": "b55a0442-f634-4d08-fd86-f6bb3deb3f0e"
      },
      "execution_count": null,
      "outputs": [
        {
          "output_type": "stream",
          "name": "stdout",
          "text": [
            "19\t12479311\t12586570\tHISEQ:129:C2LRCACXX:1:2110:5448:97880\t0\t-\n",
            "19\t12479313\t12586570\tHISEQ:129:C2LRCACXX:1:2110:5448:97880\t0\t-\n",
            "19\t12479315\t12586570\tHISEQ:129:C2LRCACXX:1:2110:5448:97880\t0\t-\n",
            "19\t12479317\t12586570\tHISEQ:129:C2LRCACXX:1:2110:5448:97880\t0\t-\n",
            "19\t12486734\t12486835\tHISEQ:129:C2LRCACXX:1:2108:20530:65021\t60\t-\n",
            "19\t12487195\t12487296\tHISEQ:129:C2LRCACXX:1:1204:10203:87648\t60\t-\n",
            "19\t12487195\t12487296\tHISEQ:129:C2LRCACXX:1:2104:14666:2583\t60\t-\n"
          ]
        }
      ]
    },
    {
      "cell_type": "markdown",
      "source": [
        "### bedtools complement -i exons.bed -g genome.txt > non-exonic.bed -- to get intron coordinates "
      ],
      "metadata": {
        "id": "dG-9MZCtZwDM"
      }
    },
    {
      "cell_type": "code",
      "source": [
        "! head /content/chr19.exons"
      ],
      "metadata": {
        "colab": {
          "base_uri": "https://localhost:8080/"
        },
        "id": "TX1ps0mfZQek",
        "outputId": "607836e5-c0b8-4b38-d33e-479c62951406"
      },
      "execution_count": null,
      "outputs": [
        {
          "output_type": "stream",
          "name": "stdout",
          "text": [
            "19\t3103070\t3103277\t-\n",
            "19\t3109879\t3109990\t-\n",
            "19\t3115710\t3118148\t-\n",
            "19\t3119366\t3119439\t-\n",
            "19\t3122687\t3122952\t-\n",
            "19\t3125713\t3125884\t-\n",
            "19\t3184644\t3184958\t+\n",
            "19\t3186983\t3187089\t-\n",
            "19\t3192759\t3193064\t+\n",
            "19\t3195867\t3196264\t-\n"
          ]
        }
      ]
    },
    {
      "cell_type": "markdown",
      "source": [
        "Если вычести из всех ридов те, что попадают на экзоны, мы получим покрытие интронов:"
      ],
      "metadata": {
        "id": "leF48hH5f8qL"
      }
    },
    {
      "cell_type": "code",
      "source": [
        "! bedtools subtract -a targetB20.s.bed -b chr19.exons "
      ],
      "metadata": {
        "id": "bZEBhBsFbtwv"
      },
      "execution_count": null,
      "outputs": []
    },
    {
      "cell_type": "markdown",
      "source": [
        "Координаты интронных ридов:"
      ],
      "metadata": {
        "id": "vVr2e4VXgGIg"
      }
    },
    {
      "cell_type": "code",
      "source": [
        "! bedtools subtract -a targetB20.s.bed -b chr19.exons  > introns.bed \n",
        "! awk -F\"\\t\" '$5 > 0 { print $2\"\\t\"$3 }' introns.bed \n",
        "# retrieve introns in the region, covered by at least one read \n",
        "# $5 > 0 stands for coverage score"
      ],
      "metadata": {
        "colab": {
          "base_uri": "https://localhost:8080/"
        },
        "id": "LSjkMCE-dIvW",
        "outputId": "b3e00fde-d65b-442e-ac23-d7c6406c4698"
      },
      "execution_count": null,
      "outputs": [
        {
          "output_type": "stream",
          "name": "stdout",
          "text": [
            "12486734\t12486835\n",
            "12487195\t12487296\n",
            "12487195\t12487296\n"
          ]
        }
      ]
    },
    {
      "cell_type": "code",
      "source": [],
      "metadata": {
        "id": "k12Cc2h1eNw-"
      },
      "execution_count": null,
      "outputs": []
    }
  ],
  "metadata": {
    "colab": {
      "provenance": [],
      "authorship_tag": "ABX9TyOWY/RDpN6RNCAc9gdHsINy",
      "include_colab_link": true
    },
    "kernelspec": {
      "display_name": "Python 3",
      "name": "python3"
    },
    "language_info": {
      "name": "python"
    }
  },
  "nbformat": 4,
  "nbformat_minor": 0
}