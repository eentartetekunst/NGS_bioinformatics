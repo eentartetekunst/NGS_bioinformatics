{
  "cells": [
    {
      "cell_type": "markdown",
      "metadata": {
        "id": "view-in-github",
        "colab_type": "text"
      },
      "source": [
        "<a href=\"https://colab.research.google.com/github/eentartetekunst/NGS_bioinformatics/blob/main/HW1_Hisat2_Mapping.ipynb\" target=\"_parent\"><img src=\"https://colab.research.google.com/assets/colab-badge.svg\" alt=\"Open In Colab\"/></a>"
      ]
    },
    {
      "cell_type": "code",
      "execution_count": 1,
      "metadata": {
        "id": "JDiaiDxJlNeD"
      },
      "outputs": [],
      "source": [
        "import os"
      ]
    },
    {
      "cell_type": "code",
      "execution_count": 2,
      "metadata": {
        "id": "2OHeXsfGXtTc"
      },
      "outputs": [],
      "source": [
        "! pip install -q condacolab"
      ]
    },
    {
      "cell_type": "code",
      "execution_count": null,
      "metadata": {
        "id": "foHdqgZ0YAri"
      },
      "outputs": [],
      "source": [
        "import condacolab\n",
        "condacolab.install()"
      ]
    },
    {
      "cell_type": "code",
      "execution_count": null,
      "metadata": {
        "id": "csfE5Ad8VFYH"
      },
      "outputs": [],
      "source": [
        "!conda install -y -c bioconda samtools"
      ]
    },
    {
      "cell_type": "code",
      "execution_count": null,
      "metadata": {
        "id": "z38Hi2o_u9dv"
      },
      "outputs": [],
      "source": [
        "! sudo apt install bedtools "
      ]
    },
    {
      "cell_type": "code",
      "execution_count": null,
      "metadata": {
        "id": "z70vJ1tRKLdc"
      },
      "outputs": [],
      "source": [
        "! conda install -c bioconda regtools "
      ]
    },
    {
      "cell_type": "markdown",
      "metadata": {
        "id": "ccNhjd1-tXxf"
      },
      "source": [
        "## import data"
      ]
    },
    {
      "cell_type": "code",
      "execution_count": null,
      "metadata": {
        "colab": {
          "base_uri": "https://localhost:8080/"
        },
        "id": "Div7-vp1sOY5",
        "outputId": "1bc5f581-6b42-43f5-8e5c-75d37890b9ce"
      },
      "outputs": [
        {
          "output_type": "stream",
          "name": "stdout",
          "text": [
            "Mounted at /content/drive\n"
          ]
        }
      ],
      "source": [
        "from google.colab import drive\n",
        "drive.mount('/content/drive')"
      ]
    },
    {
      "cell_type": "code",
      "execution_count": 4,
      "metadata": {
        "id": "CvuqoRkYsnRV"
      },
      "outputs": [],
      "source": [
        "! mkdir reads"
      ]
    },
    {
      "cell_type": "code",
      "execution_count": 11,
      "metadata": {
        "colab": {
          "base_uri": "https://localhost:8080/"
        },
        "id": "ZPuLceXetB5v",
        "outputId": "b5869950-cb24-4ebd-9936-5e9a53d80c7b"
      },
      "outputs": [
        {
          "output_type": "stream",
          "name": "stdout",
          "text": [
            "mv: cannot stat 'content': No such file or directory\n"
          ]
        }
      ],
      "source": [
        "! mv *.fq.gz content reads"
      ]
    },
    {
      "cell_type": "code",
      "execution_count": 12,
      "metadata": {
        "colab": {
          "base_uri": "https://localhost:8080/"
        },
        "id": "9dcYoW9VtLWz",
        "outputId": "b0e227bc-f966-4a46-f590-40865f37a23f"
      },
      "outputs": [
        {
          "output_type": "stream",
          "name": "stdout",
          "text": [
            "B14.5.fq.gz  B17.5.fq.gz  C15.5.fq.gz  C20.fq.gz\n",
            "B15.5.fq.gz  B20.fq.gz\t  C17.5.fq.gz  C34.fq.gz\n"
          ]
        }
      ],
      "source": [
        "! ls reads"
      ]
    },
    {
      "cell_type": "markdown",
      "metadata": {
        "id": "WzyYJX0WQlsB"
      },
      "source": [
        "## 2) install hisat2"
      ]
    },
    {
      "cell_type": "code",
      "execution_count": null,
      "metadata": {
        "id": "2dYmpRYoO6B1"
      },
      "outputs": [],
      "source": [
        "! sudo apt-get update"
      ]
    },
    {
      "cell_type": "code",
      "execution_count": null,
      "metadata": {
        "id": "cFbv9DtiPSLq"
      },
      "outputs": [],
      "source": [
        "! sudo apt-get -y install hisat2"
      ]
    },
    {
      "cell_type": "markdown",
      "metadata": {
        "id": "HrC42ccTQrG5"
      },
      "source": [
        "## 3) download chr19 sequence and its annotation"
      ]
    },
    {
      "cell_type": "code",
      "execution_count": null,
      "metadata": {
        "id": "gRZTjyBVPXrA"
      },
      "outputs": [],
      "source": [
        "! wget http://ftp.ensembl.org/pub/release-107/fasta/mus_musculus/dna/Mus_musculus.GRCm39.dna.chromosome.19.fa.gz #chr19 sequence\n",
        "! wget http://ftp.ensembl.org/pub/release-107/gtf/mus_musculus/Mus_musculus.GRCm39.107.gtf.gz # annotation\n",
        "! gzip -d Mus_musculus.GRCm39.dna.chromosome.19.fa.gz\n",
        "! gzip -d Mus_musculus.GRCm39.107.gtf.gz"
      ]
    },
    {
      "cell_type": "markdown",
      "metadata": {
        "id": "l7_Zga7pQz0t"
      },
      "source": [
        "## 4) select chr 19 from the annotation"
      ]
    },
    {
      "cell_type": "code",
      "execution_count": 16,
      "metadata": {
        "id": "CuK3tizzPnqq"
      },
      "outputs": [],
      "source": [
        "! touch chr19-annotation \n",
        "! grep -P '^19\\t' /content/Mus_musculus.GRCm39.107.gtf > chr19-annotation "
      ]
    },
    {
      "cell_type": "code",
      "execution_count": 17,
      "metadata": {
        "colab": {
          "base_uri": "https://localhost:8080/"
        },
        "id": "Qgoc-yuUQcOB",
        "outputId": "d3b2ffd2-6b77-4424-8c2e-6c4ab833d094"
      },
      "outputs": [
        {
          "output_type": "stream",
          "name": "stdout",
          "text": [
            "total 918M\n",
            "-rw-r--r-- 1 root root  27M Oct 16 11:03 chr19-annotation\n",
            "-rw-r--r-- 1 root root  16K Oct 16 10:52 condacolab_install.log\n",
            "-rw-r--r-- 1 root root 831M Jun  4 09:40 Mus_musculus.GRCm39.107.gtf\n",
            "-rw-r--r-- 1 root root  60M Jun  4 08:49 Mus_musculus.GRCm39.dna.chromosome.19.fa\n",
            "drwxr-xr-x 2 root root 4.0K Oct 16 11:01 reads\n",
            "drwxr-xr-x 1 root root 4.0K Oct  7 13:35 sample_data\n"
          ]
        }
      ],
      "source": [
        "!ls -lh"
      ]
    },
    {
      "cell_type": "code",
      "execution_count": 18,
      "metadata": {
        "colab": {
          "base_uri": "https://localhost:8080/"
        },
        "id": "sM4k-8n8Hg1O",
        "outputId": "a46d34aa-41a6-4653-9424-dadf9705d148"
      },
      "outputs": [
        {
          "output_type": "stream",
          "name": "stdout",
          "text": [
            "19\tensembl\tgene\t56265950\t56266077\t.\t-\t.\tgene_id \"ENSMUSG00000077223\"; gene_version \"3\"; gene_name \"Gm22271\"; gene_source \"ensembl\"; gene_biotype \"snoRNA\";\n",
            "19\tensembl\ttranscript\t56265950\t56266077\t.\t-\t.\tgene_id \"ENSMUSG00000077223\"; gene_version \"3\"; transcript_id \"ENSMUST00000104035\"; transcript_version \"3\"; gene_name \"Gm22271\"; gene_source \"ensembl\"; gene_biotype \"snoRNA\"; transcript_name \"Gm22271-201\"; transcript_source \"ensembl\"; transcript_biotype \"snoRNA\"; tag \"basic\"; transcript_support_level \"NA (assigned to previous version 1)\";\n"
          ]
        }
      ],
      "source": [
        "! head -n2 chr19-annotation "
      ]
    },
    {
      "cell_type": "markdown",
      "metadata": {
        "id": "ITjsgH-eQ7A2"
      },
      "source": [
        "## 5) build index for chr 19"
      ]
    },
    {
      "cell_type": "code",
      "source": [
        "! hisat2-build Mus_musculus.GRCm39.dna.chromosome.19.fa new-index\n",
        "# everything is good with this index, but no reads on exon junctions"
      ],
      "metadata": {
        "id": "lIoc2sKDo8Ma"
      },
      "execution_count": null,
      "outputs": []
    },
    {
      "cell_type": "code",
      "execution_count": null,
      "metadata": {
        "id": "WSPc_K0LPshj"
      },
      "outputs": [],
      "source": [
        "# run after running extract ss and exons \n",
        "! hisat2-build --ss chr19.ss --exon chr19.exons Mus_musculus.GRCm39.dna.chromosome.19.fa ss-index"
      ]
    },
    {
      "cell_type": "markdown",
      "metadata": {
        "id": "suz9rKdBRIDf"
      },
      "source": [
        "## map all reads on chr19 sequence (no trimming, known splice sites)\n",
        "use --known-splicesite-infile:\n",
        "With this mode, you can provide a list of known splice sites, which HISAT makes use of to align reads with small anchors.\n",
        "You can create such a list using python extract_splice_sites.py genes.gtf > splicesites.txt, where extract_splice_sites.py is included in the HISAT package, genes.gtf is a gene annotation file, and splicesites.txt is a list of splice sites with which you provide HISAT in this mode"
      ]
    },
    {
      "cell_type": "markdown",
      "metadata": {
        "id": "cqcvvAeBGyuQ"
      },
      "source": [
        "## install extract_splice_sites.py and extract_exons.py"
      ]
    },
    {
      "cell_type": "code",
      "execution_count": 22,
      "metadata": {
        "id": "00ohDOeZagG7",
        "colab": {
          "base_uri": "https://localhost:8080/"
        },
        "outputId": "177360d5-9131-40d5-f6ce-98893613d176"
      },
      "outputs": [
        {
          "output_type": "stream",
          "name": "stdout",
          "text": [
            "--2022-10-16 11:06:05--  https://raw.githubusercontent.com/dekoning-lab/ezmap/master/tools/HISAT2/hisat2-2.0.5-Linux/extract_splice_sites.py\n",
            "Resolving raw.githubusercontent.com (raw.githubusercontent.com)... 185.199.108.133, 185.199.109.133, 185.199.110.133, ...\n",
            "Connecting to raw.githubusercontent.com (raw.githubusercontent.com)|185.199.108.133|:443... connected.\n",
            "HTTP request sent, awaiting response... 200 OK\n",
            "Length: 5021 (4.9K) [text/plain]\n",
            "Saving to: ‘extract_splice_sites.py’\n",
            "\n",
            "\rextract_splice_site   0%[                    ]       0  --.-KB/s               \rextract_splice_site 100%[===================>]   4.90K  --.-KB/s    in 0s      \n",
            "\n",
            "2022-10-16 11:06:05 (57.6 MB/s) - ‘extract_splice_sites.py’ saved [5021/5021]\n",
            "\n",
            "usage: extract_splice_sites.py [-h] [-v] [gtf_file]\n",
            "\n",
            "Extract splice junctions from a GTF file\n",
            "\n",
            "positional arguments:\n",
            "  gtf_file       input GTF file (use \"-\" for stdin)\n",
            "\n",
            "optional arguments:\n",
            "  -h, --help     show this help message and exit\n",
            "  -v, --verbose  also print some statistics to stderr\n"
          ]
        }
      ],
      "source": [
        "! wget https://raw.githubusercontent.com/dekoning-lab/ezmap/master/tools/HISAT2/hisat2-2.0.5-Linux/extract_splice_sites.py\n",
        "! chmod a+x extract_splice_sites.py\n",
        "! ./extract_splice_sites.py"
      ]
    },
    {
      "cell_type": "code",
      "execution_count": 23,
      "metadata": {
        "id": "RgobT7veGhQG",
        "colab": {
          "base_uri": "https://localhost:8080/"
        },
        "outputId": "5d6a8bc1-5ccd-4d5a-b4fa-34a65f7c15a6"
      },
      "outputs": [
        {
          "output_type": "stream",
          "name": "stdout",
          "text": [
            "--2022-10-16 11:06:11--  https://raw.githubusercontent.com/dekoning-lab/ezmap/master/tools/HISAT2/hisat2-2.0.5-Linux/extract_exons.py\n",
            "Resolving raw.githubusercontent.com (raw.githubusercontent.com)... 185.199.108.133, 185.199.109.133, 185.199.110.133, ...\n",
            "Connecting to raw.githubusercontent.com (raw.githubusercontent.com)|185.199.108.133|:443... connected.\n",
            "HTTP request sent, awaiting response... 200 OK\n",
            "Length: 5597 (5.5K) [text/plain]\n",
            "Saving to: ‘extract_exons.py’\n",
            "\n",
            "\rextract_exons.py      0%[                    ]       0  --.-KB/s               \rextract_exons.py    100%[===================>]   5.47K  --.-KB/s    in 0s      \n",
            "\n",
            "2022-10-16 11:06:11 (62.8 MB/s) - ‘extract_exons.py’ saved [5597/5597]\n",
            "\n",
            "usage: extract_exons.py [-h] [-v] [gtf_file]\n",
            "\n",
            "Extract exons from a GTF file\n",
            "\n",
            "positional arguments:\n",
            "  gtf_file       input GTF file (use \"-\" for stdin)\n",
            "\n",
            "optional arguments:\n",
            "  -h, --help     show this help message and exit\n",
            "  -v, --verbose  also print some statistics to stderr\n"
          ]
        }
      ],
      "source": [
        "! wget https://raw.githubusercontent.com/dekoning-lab/ezmap/master/tools/HISAT2/hisat2-2.0.5-Linux/extract_exons.py\n",
        "! chmod a+x extract_exons.py\n",
        "! ./extract_exons.py"
      ]
    },
    {
      "cell_type": "markdown",
      "metadata": {
        "id": "qRcoy_CLG-40"
      },
      "source": [
        "## extract splice sites and exon's locations  from the annotation"
      ]
    },
    {
      "cell_type": "code",
      "execution_count": 83,
      "metadata": {
        "id": "7wPnL2fEtV1g"
      },
      "outputs": [],
      "source": [
        "! ./extract_splice_sites.py chr19-annotation > chr19.ss # extract sites from the annotation\n",
        "! ! ./extract_exons.py chr19-annotation > chr19.exons "
      ]
    },
    {
      "cell_type": "code",
      "execution_count": 25,
      "metadata": {
        "colab": {
          "base_uri": "https://localhost:8080/"
        },
        "id": "Ao7YNNwRRe3P",
        "outputId": "2cae9f71-5666-4277-c17d-4258713e097e"
      },
      "outputs": [
        {
          "output_type": "stream",
          "name": "stdout",
          "text": [
            "19\t3103277\t3109879\t-\n",
            "19\t3109990\t3119366\t-\n"
          ]
        }
      ],
      "source": [
        "! head -n2 chr19.ss "
      ]
    },
    {
      "cell_type": "code",
      "execution_count": 26,
      "metadata": {
        "colab": {
          "base_uri": "https://localhost:8080/"
        },
        "id": "50L0PvJjSAQF",
        "outputId": "27ec7d9b-9321-417c-90eb-ec6ec1b7878b"
      },
      "outputs": [
        {
          "output_type": "stream",
          "name": "stdout",
          "text": [
            "19\t3103070\t3103277\t-\n",
            "19\t3109879\t3109990\t-\n"
          ]
        }
      ],
      "source": [
        "! head -n2 chr19.exons"
      ]
    },
    {
      "cell_type": "markdown",
      "metadata": {
        "id": "SVBZom9RI2iN"
      },
      "source": [
        "## map reads on chr19 with no trimming, with known splice sites\n",
        "\n",
        "---\n",
        "\n"
      ]
    },
    {
      "cell_type": "markdown",
      "metadata": {
        "id": "f8tpoo0WoDeV"
      },
      "source": [
        "## 6) Прокартируйте все fq файлы (начните с одного) на 19ую хромосому при помощи hisat2 не допуская обрезания ридов и сообщив hisat2 координаты сайтов сплайсинга "
      ]
    },
    {
      "cell_type": "code",
      "execution_count": null,
      "metadata": {
        "id": "P30FrgEwnvC7"
      },
      "outputs": [],
      "source": [
        "%%shell \n",
        "# reads_list='B20'\n",
        "reads_list='C14.5 B34 B14.5 C15.5 C17.5 B17.5 C34 B20 B15.5 C20' \n",
        "index='ss-index' # with splicing sites and exon coordinates; new-index - without \n",
        "fq='/content/reads'\n",
        "\n",
        "for i in ${reads_list}\n",
        "do hisat2 --summary-file ${i}.log --no-softclip --no-unal -x ${index} -U ${fq}/${i}.fq.gz --known-splicesite-infile chr19.ss | samtools view -Sb - > ${i}.bam \n",
        "done"
      ]
    },
    {
      "cell_type": "markdown",
      "metadata": {
        "id": "0RJgHsM2oK1-"
      },
      "source": [
        "## 7) Выберите случайно один образец"
      ]
    },
    {
      "cell_type": "markdown",
      "metadata": {
        "id": "MlrG3ykroQoC"
      },
      "source": [
        "## 8)Сколько ридов картируется в регион 19:12485000-12490000 в этом образце? "
      ]
    },
    {
      "cell_type": "code",
      "execution_count": 129,
      "metadata": {
        "id": "OiTHayyKWOfK"
      },
      "outputs": [],
      "source": [
        "! samtools sort -o B20.s.bam B20.bam #coordinate sorting"
      ]
    },
    {
      "cell_type": "code",
      "source": [
        "! samtools index B20.s.bam # Generate BAI-format index for BAM files"
      ],
      "metadata": {
        "id": "JOOS38BBU3M-"
      },
      "execution_count": 130,
      "outputs": []
    },
    {
      "cell_type": "code",
      "source": [
        "! samtools view B20.s.bam 19:12485000-12490000 "
      ],
      "metadata": {
        "colab": {
          "base_uri": "https://localhost:8080/"
        },
        "id": "QZr9IAg7Ymwx",
        "outputId": "7169701b-61d1-420d-c961-bea67e0f674a"
      },
      "execution_count": 132,
      "outputs": [
        {
          "output_type": "stream",
          "name": "stdout",
          "text": [
            "HISEQ:129:C2LRCACXX:1:2110:5448:97880\t272\t19\t12479312\t0\t42M56847N42M50311N17M\t*\t0\t0\tTCTCTCTCTCTCTCTCTCTCTCTCTCTCTCTCTCTCTCTCTCGTGTGTGTGTGTGTGTGTGTGTGTGTGTGTGTGTGTGTGTGTGTGTGTGTTGTGGGGAG\t###DDDDDDDDDDBB@BBDDDDDBB@B??<?B@B<B@B@DD@=<BBDDCCDFEFHHHJJJIGJJJIJIHDGGIJJJIJJIIJIIJIG=GHGHFFFFFFCC@\tAS:i:-16\tZS:i:-16\tXN:i:0\tXM:i:0\tXO:i:0\tXG:i:0\tNM:i:0\tMD:Z:101\tYT:Z:UU\tXS:A:+\tNH:i:4\n",
            "HISEQ:129:C2LRCACXX:1:2110:5448:97880\t272\t19\t12479314\t0\t42M56845N42M50311N17M\t*\t0\t0\tTCTCTCTCTCTCTCTCTCTCTCTCTCTCTCTCTCTCTCTCTCGTGTGTGTGTGTGTGTGTGTGTGTGTGTGTGTGTGTGTGTGTGTGTGTGTTGTGGGGAG\t###DDDDDDDDDDBB@BBDDDDDBB@B??<?B@B<B@B@DD@=<BBDDCCDFEFHHHJJJIGJJJIJIHDGGIJJJIJJIIJIIJIG=GHGHFFFFFFCC@\tAS:i:-16\tZS:i:-16\tXN:i:0\tXM:i:0\tXO:i:0\tXG:i:0\tNM:i:0\tMD:Z:101\tYT:Z:UU\tXS:A:+\tNH:i:4\n",
            "HISEQ:129:C2LRCACXX:1:2110:5448:97880\t272\t19\t12479316\t0\t42M56843N42M50311N17M\t*\t0\t0\tTCTCTCTCTCTCTCTCTCTCTCTCTCTCTCTCTCTCTCTCTCGTGTGTGTGTGTGTGTGTGTGTGTGTGTGTGTGTGTGTGTGTGTGTGTGTTGTGGGGAG\t###DDDDDDDDDDBB@BBDDDDDBB@B??<?B@B<B@B@DD@=<BBDDCCDFEFHHHJJJIGJJJIJIHDGGIJJJIJJIIJIIJIG=GHGHFFFFFFCC@\tAS:i:-16\tZS:i:-16\tXN:i:0\tXM:i:0\tXO:i:0\tXG:i:0\tNM:i:0\tMD:Z:101\tYT:Z:UU\tXS:A:+\tNH:i:4\n",
            "HISEQ:129:C2LRCACXX:1:2110:5448:97880\t16\t19\t12479318\t0\t42M56841N42M50311N17M\t*\t0\t0\tTCTCTCTCTCTCTCTCTCTCTCTCTCTCTCTCTCTCTCTCTCGTGTGTGTGTGTGTGTGTGTGTGTGTGTGTGTGTGTGTGTGTGTGTGTGTTGTGGGGAG\t###DDDDDDDDDDBB@BBDDDDDBB@B??<?B@B<B@B@DD@=<BBDDCCDFEFHHHJJJIGJJJIJIHDGGIJJJIJJIIJIIJIG=GHGHFFFFFFCC@\tAS:i:-16\tZS:i:-16\tXN:i:0\tXM:i:0\tXO:i:0\tXG:i:0\tNM:i:0\tMD:Z:101\tYT:Z:UU\tXS:A:+\tNH:i:4\n",
            "HISEQ:129:C2LRCACXX:1:2108:20530:65021\t16\t19\t12486735\t60\t101M\t*\t0\t0\tTTTAAAATCACCCAATAGACTGACTTGCCAGCGTGCCTGTAAGGAGTTATCTAGAATCAGTTAACTAAGGTAGGAATACCCACCCTAACCTTGGGCAGCAC\t:CCDEEDB@@DCDEECDCCDEDCBC@DDFFHHHIIIIIIIIIIIIIIIIIFIIIIIIIIIIIIIIIIIIIIIIIHE<?IGF?IIIIGGHHHHHFFFFFCCC\tAS:i:0\tXN:i:0\tXM:i:0\tXO:i:0\tXG:i:0\tNM:i:0\tMD:Z:101\tYT:Z:UU\tNH:i:1\n",
            "HISEQ:129:C2LRCACXX:1:1204:10203:87648\t16\t19\t12487196\t60\t101M\t*\t0\t0\tTGTATTGACATCTTAAACTATTTCAAATATACCCCAACCTCAGCTAATCTGGGTTACAAACCCCCTAAAATTCAAATAACATCTCATTTGAATGTCCAGAC\t@C:EEEDEDDDCDEEFCDDDDDDEFFFDDBBDDFFECHHHIJJJJJJJJJJJJIIJJIHFIJJJJIJJJJIIJJJJIIJJIHHIJJJJHHHHHFFFFFCCC\tAS:i:-5\tXN:i:0\tXM:i:1\tXO:i:0\tXG:i:0\tNM:i:1\tMD:Z:5C95\tYT:Z:UU\tNH:i:1\n",
            "HISEQ:129:C2LRCACXX:1:2104:14666:2583\t16\t19\t12487196\t60\t101M\t*\t0\t0\tTGTATTGACATCTTAAACTATTTCAAATATACCCCAACCTCAGCTAATCTGGGTTACAAACCCCCTAAAATTCAAATAACATCTCATTTGAATGTCCAGAC\tCDEEEEDEDDDDDEEDDDDDDDEEFFFEDBDDDFFEHHHHJJJJJJJIJJJJJJJJIHHFJJJJIJJJJIIHIJJJJJHIIHJIJJJJHHHHHFFFFFCCC\tAS:i:-5\tXN:i:0\tXM:i:1\tXO:i:0\tXG:i:0\tNM:i:1\tMD:Z:5C95\tYT:Z:UU\tNH:i:1\n"
          ]
        }
      ]
    },
    {
      "cell_type": "markdown",
      "source": [
        "Риды с кодом 272 не уникальные (non-primary), то есть всего уникальных рида 4 "
      ],
      "metadata": {
        "id": "j-TVr9odsWW-"
      }
    },
    {
      "cell_type": "markdown",
      "metadata": {
        "id": "XUQgrpt1oe7n"
      },
      "source": [
        "## 9) Сколько из них картируются только в одно место генома?\n"
      ]
    },
    {
      "cell_type": "code",
      "execution_count": 133,
      "metadata": {
        "colab": {
          "base_uri": "https://localhost:8080/"
        },
        "id": "m7KB9T34TwBt",
        "outputId": "52ba17c5-b6ed-4c44-8815-4477a151ca2c"
      },
      "outputs": [
        {
          "output_type": "stream",
          "name": "stdout",
          "text": [
            "3\n"
          ]
        }
      ],
      "source": [
        "! samtools view B20.s.bam 19:12485000-12490000 -d NH:1 -c  \n",
        "#  риды, которые картировлаись на одно место в данном участке \n",
        "# -c Instead of printing the alignments, only print the total number. "
      ]
    },
    {
      "cell_type": "code",
      "source": [
        "! samtools view B20.s.bam 19:12485000-12490000  -d NH:1 "
      ],
      "metadata": {
        "colab": {
          "base_uri": "https://localhost:8080/"
        },
        "id": "uUYs-3a_d6GK",
        "outputId": "4b60922f-0019-4b2b-d994-497a8e5bed44"
      },
      "execution_count": 134,
      "outputs": [
        {
          "output_type": "stream",
          "name": "stdout",
          "text": [
            "HISEQ:129:C2LRCACXX:1:2108:20530:65021\t16\t19\t12486735\t60\t101M\t*\t0\t0\tTTTAAAATCACCCAATAGACTGACTTGCCAGCGTGCCTGTAAGGAGTTATCTAGAATCAGTTAACTAAGGTAGGAATACCCACCCTAACCTTGGGCAGCAC\t:CCDEEDB@@DCDEECDCCDEDCBC@DDFFHHHIIIIIIIIIIIIIIIIIFIIIIIIIIIIIIIIIIIIIIIIIHE<?IGF?IIIIGGHHHHHFFFFFCCC\tAS:i:0\tXN:i:0\tXM:i:0\tXO:i:0\tXG:i:0\tNM:i:0\tMD:Z:101\tYT:Z:UU\tNH:i:1\n",
            "HISEQ:129:C2LRCACXX:1:1204:10203:87648\t16\t19\t12487196\t60\t101M\t*\t0\t0\tTGTATTGACATCTTAAACTATTTCAAATATACCCCAACCTCAGCTAATCTGGGTTACAAACCCCCTAAAATTCAAATAACATCTCATTTGAATGTCCAGAC\t@C:EEEDEDDDCDEEFCDDDDDDEFFFDDBBDDFFECHHHIJJJJJJJJJJJJIIJJIHFIJJJJIJJJJIIJJJJIIJJIHHIJJJJHHHHHFFFFFCCC\tAS:i:-5\tXN:i:0\tXM:i:1\tXO:i:0\tXG:i:0\tNM:i:1\tMD:Z:5C95\tYT:Z:UU\tNH:i:1\n",
            "HISEQ:129:C2LRCACXX:1:2104:14666:2583\t16\t19\t12487196\t60\t101M\t*\t0\t0\tTGTATTGACATCTTAAACTATTTCAAATATACCCCAACCTCAGCTAATCTGGGTTACAAACCCCCTAAAATTCAAATAACATCTCATTTGAATGTCCAGAC\tCDEEEEDEDDDDDEEDDDDDDDEEFFFEDBDDDFFEHHHHJJJJJJJIJJJJJJJJIHHFJJJJIJJJJIIHIJJJJJHIIHJIJJJJHHHHHFFFFFCCC\tAS:i:-5\tXN:i:0\tXM:i:1\tXO:i:0\tXG:i:0\tNM:i:1\tMD:Z:5C95\tYT:Z:UU\tNH:i:1\n"
          ]
        }
      ]
    },
    {
      "cell_type": "markdown",
      "source": [
        "три рида"
      ],
      "metadata": {
        "id": "I22amTuBsZTk"
      }
    },
    {
      "cell_type": "markdown",
      "metadata": {
        "id": "sDY0DBz1ohJo"
      },
      "source": [
        "## 10) Сколько ридов картровалось без замен? Сколько с 1, 2 и т. д. заменами?"
      ]
    },
    {
      "cell_type": "code",
      "execution_count": 135,
      "metadata": {
        "colab": {
          "base_uri": "https://localhost:8080/"
        },
        "id": "hSEO4Q8U6j1p",
        "outputId": "03a17af9-511d-459b-f53a-e79d0f3e7bd2"
      },
      "outputs": [
        {
          "output_type": "stream",
          "name": "stdout",
          "text": [
            "2\n"
          ]
        }
      ],
      "source": [
        "! samtools view B20.s.bam 19:12485000-12490000 -d NM:1 -c # с 1 заменой "
      ]
    },
    {
      "cell_type": "code",
      "execution_count": 136,
      "metadata": {
        "colab": {
          "base_uri": "https://localhost:8080/"
        },
        "id": "oWQkih7pWb89",
        "outputId": "1d21c542-2a6f-4107-b4ba-10b3229c9c88"
      },
      "outputs": [
        {
          "output_type": "stream",
          "name": "stdout",
          "text": [
            "0\n"
          ]
        }
      ],
      "source": [
        "! samtools view B20.s.bam 19:12485000-12490000  -d NM:2 -c # с 2 заменами"
      ]
    },
    {
      "cell_type": "markdown",
      "source": [
        "Риды, картировавшиеся на всю хромосому с i заменами:"
      ],
      "metadata": {
        "id": "FqhBtv6reyxV"
      }
    },
    {
      "cell_type": "code",
      "execution_count": 119,
      "metadata": {
        "colab": {
          "base_uri": "https://localhost:8080/"
        },
        "id": "W9sZu33yadtY",
        "outputId": "f7a9215f-aeec-493c-fe40-2ba4498719f1"
      },
      "outputs": [
        {
          "output_type": "stream",
          "name": "stdout",
          "text": [
            "105303\n",
            "26239\n",
            "11657\n",
            "4075\n",
            "2136\n",
            "1253\n",
            "561\n",
            "251\n",
            "58\n",
            "28\n",
            "0\n",
            "0\n"
          ]
        },
        {
          "output_type": "execute_result",
          "data": {
            "text/plain": []
          },
          "metadata": {},
          "execution_count": 119
        }
      ],
      "source": [
        "%%shell\n",
        "list_my_i='1 2 3 4 5 6 7 8 9 10 11 12'\n",
        "for i in ${list_my_i}\n",
        "do samtools view B20.s.bam  -d NM:${i} -c # с i заменами -- картирование на всю хромосому\n",
        "done"
      ]
    },
    {
      "cell_type": "markdown",
      "metadata": {
        "id": "6G_c8IKNohMS"
      },
      "source": [
        "## 11) Сколько ридов картировалось на экзон-экзонные границы? \n",
        "\n",
        "https://regtools.readthedocs.io/en/latest/commands/junctions-extract/ \n",
        "\n",
        "The junctions extract command can be used to extract exon-exon junctions from an RNAseq BAM file. The output is a BED file in the BED12 format"
      ]
    },
    {
      "cell_type": "code",
      "source": [
        "! samtools index B20.s.bam "
      ],
      "metadata": {
        "id": "IEjyhtjsqi7h"
      },
      "execution_count": 137,
      "outputs": []
    },
    {
      "cell_type": "code",
      "execution_count": 138,
      "metadata": {
        "colab": {
          "base_uri": "https://localhost:8080/"
        },
        "id": "LP-mwm3Hu7g0",
        "outputId": "4500a6fc-64e7-49bb-e4b9-425743c9a1fa"
      },
      "outputs": [
        {
          "output_type": "stream",
          "name": "stdout",
          "text": [
            "\n",
            "Program:\tregtools\n",
            "Version:\t0.5.2\n",
            "Minimum junction anchor length: 8\n",
            "Minimum intron length: 70\n",
            "Maximum intron length: 500000\n",
            "Alignment: B20.s.bam\n",
            "Output file: B20.bed\n",
            "\n"
          ]
        }
      ],
      "source": [
        "# /content/B14.5.bam.bai path to coordinate-sorted file\n",
        "! regtools junctions extract -o B20.bed -s XS B20.s.bam "
      ]
    },
    {
      "cell_type": "code",
      "execution_count": 139,
      "metadata": {
        "id": "8nR6jgzaRRl8",
        "colab": {
          "base_uri": "https://localhost:8080/"
        },
        "outputId": "84196ebd-b280-4459-a55a-8e89a08a4ade"
      },
      "outputs": [
        {
          "output_type": "stream",
          "name": "stdout",
          "text": [
            "19\t3133283\t3137373\tJUNC00000001\t1\t+\t3133283\t3137373\t255,0,0\t2\t58,43\t0,4047\n",
            "19\t3277734\t3277911\tJUNC00000002\t1\t+\t3277734\t3277911\t255,0,0\t2\t84,17\t0,160\n",
            "19\t3311559\t3312030\tJUNC00000003\t2\t-\t3311559\t3312030\t255,0,0\t2\t76,56\t0,415\n",
            "19\t3312071\t3314887\tJUNC00000004\t2\t-\t3312071\t3314887\t255,0,0\t2\t73,77\t0,2739\n",
            "19\t3315609\t3316434\tJUNC00000005\t4\t-\t3315609\t3316434\t255,0,0\t2\t56,99\t0,726\n",
            "19\t3316371\t3317302\tJUNC00000006\t3\t-\t3316371\t3317302\t255,0,0\t2\t88,61\t0,870\n",
            "19\t3317262\t3318324\tJUNC00000007\t1\t-\t3317262\t3318324\t255,0,0\t2\t74,27\t0,1035\n",
            "19\t3318371\t3318756\tJUNC00000008\t5\t-\t3318371\t3318756\t255,0,0\t2\t45,97\t0,288\n",
            "19\t3318772\t3321588\tJUNC00000009\t2\t-\t3318772\t3321588\t255,0,0\t2\t70,63\t0,2753\n",
            "19\t3321609\t3322913\tJUNC00000010\t2\t-\t3321609\t3322913\t255,0,0\t2\t91,26\t0,1278\n"
          ]
        }
      ],
      "source": [
        "! head B20.bed"
      ]
    },
    {
      "cell_type": "code",
      "execution_count": null,
      "metadata": {
        "id": "nlwic3Ouu85t"
      },
      "outputs": [],
      "source": [
        "! regtools junctions annotate -o B20.exonexon.reads B20.bed Mus_musculus.GRCm39.dna.chromosome.19.fa chr19-annotation "
      ]
    },
    {
      "cell_type": "code",
      "execution_count": 141,
      "metadata": {
        "colab": {
          "base_uri": "https://localhost:8080/"
        },
        "id": "isP6CmMzu7od",
        "outputId": "9cf10042-27c6-45e2-9572-fab623b72f60"
      },
      "outputs": [
        {
          "output_type": "stream",
          "name": "stdout",
          "text": [
            "chrom\tstart\tend\tname\tscore\tstrand\tsplice_site\tacceptors_skipped\texons_skipped\tdonors_skipped\tanchor\tknown_donor\tknown_acceptor\tknown_junction\tgene_names\tgene_ids\ttranscripts\n",
            "19\t3133341\t3137331\tJUNC00000001\t1\t+\tGT-AG\t0\t0\t0\tN\t0\t0\t0\tNA\tNA\tNA\n",
            "19\t3277818\t3277895\tJUNC00000002\t1\t+\tGT-AG\t0\t0\t0\tN\t0\t0\t0\tNA\tNA\tNA\n",
            "19\t3311635\t3311975\tJUNC00000003\t2\t-\tGT-AG\t0\t0\t0\tDA\t1\t1\t1\tIghmbp2\tENSMUSG00000024831\tENSMUST00000025751,ENSMUST00000119292\n",
            "19\t3312144\t3314811\tJUNC00000004\t2\t-\tGT-AG\t0\t0\t0\tDA\t1\t1\t1\tIghmbp2\tENSMUSG00000024831\tENSMUST00000025751,ENSMUST00000119292\n",
            "19\t3315665\t3316336\tJUNC00000005\t4\t-\tGT-AG\t0\t0\t0\tDA\t1\t1\t1\tIghmbp2\tENSMUSG00000024831\tENSMUST00000025751,ENSMUST00000119292,ENSMUST00000143079,ENSMUST00000154537\n",
            "19\t3316459\t3317242\tJUNC00000006\t3\t-\tGT-AG\t0\t0\t0\tDA\t1\t1\t1\tIghmbp2\tENSMUSG00000024831\tENSMUST00000025751,ENSMUST00000119292,ENSMUST00000143079,ENSMUST00000154537\n",
            "19\t3317336\t3318298\tJUNC00000007\t1\t-\tGT-AG\t1\t0\t0\tDA\t1\t1\t1\tIghmbp2\tENSMUSG00000024831\tENSMUST00000025751,ENSMUST00000119292,ENSMUST00000154537\n",
            "19\t3318416\t3318660\tJUNC00000008\t5\t-\tGT-AG\t0\t0\t0\tDA\t1\t1\t1\tIghmbp2\tENSMUSG00000024831\tENSMUST00000025751,ENSMUST00000119292,ENSMUST00000154537\n",
            "19\t3318842\t3321526\tJUNC00000009\t2\t-\tGT-AG\t0\t0\t0\tDA\t1\t1\t1\tIghmbp2\tENSMUSG00000024831\tENSMUST00000025751,ENSMUST00000119292,ENSMUST00000154537\n"
          ]
        }
      ],
      "source": [
        "! head B20.exonexon.reads \n",
        "# score - The number of reads supporting the junction. [integer]"
      ]
    },
    {
      "cell_type": "code",
      "source": [
        "! cat B20.exonexon.reads | awk '($2 <= 12490000 && $3 >= 12485000)' \n",
        "# риды из данного интервала, в которых есть экзон-экзонная граница\n",
        "# таких ридов нет, если индекс строить без координат сплайсинга и экзонов однако, если  подавать сайтты сплайсинга при построении индекса, их 4:"
      ],
      "metadata": {
        "colab": {
          "base_uri": "https://localhost:8080/"
        },
        "id": "gAnnCZ_CC1PE",
        "outputId": "79c89563-22c4-413f-f120-7d69f06e9709"
      },
      "execution_count": 142,
      "outputs": [
        {
          "output_type": "stream",
          "name": "stdout",
          "text": [
            "19\t12479353\t12536201\tJUNC00002608\t1\t+\tTC-GT\t1\t0\t2\tN\t0\t0\t0\tNA\tNA\tNA\n",
            "19\t12479355\t12536201\tJUNC00002610\t1\t+\tTC-GT\t1\t0\t2\tN\t0\t0\t0\tNA\tNA\tNA\n",
            "19\t12479357\t12536201\tJUNC00002611\t1\t+\tTC-GT\t1\t0\t2\tN\t0\t0\t0\tNA\tNA\tNA\n",
            "19\t12479359\t12536201\tJUNC00002612\t1\t+\tTG-GT\t1\t0\t2\tN\t0\t0\t0\tNA\tNA\tNA\n"
          ]
        }
      ]
    },
    {
      "cell_type": "markdown",
      "metadata": {
        "id": "8xS7BSRwohPD"
      },
      "source": [
        "## 12) Перечислите координаты всех интронов в данном интервале подтверждённых хотя бы одним ридом в формате: chr:from-to coverage"
      ]
    },
    {
      "cell_type": "code",
      "source": [
        "! samtools view B20.s.bam -b 19:12485000-12490000 > targetB20.s.bam # choose target region"
      ],
      "metadata": {
        "id": "ZlMa6t4KYY-T"
      },
      "execution_count": 143,
      "outputs": []
    },
    {
      "cell_type": "code",
      "source": [
        "! bedtools bamtobed -i targetB20.s.bam > targetB20.s.bed "
      ],
      "metadata": {
        "id": "BWIAqOVRYokU"
      },
      "execution_count": 144,
      "outputs": []
    },
    {
      "cell_type": "code",
      "source": [
        "! head targetB20.s.bed # reads in target region "
      ],
      "metadata": {
        "colab": {
          "base_uri": "https://localhost:8080/"
        },
        "id": "0ZQZY4_OY0LX",
        "outputId": "485bdefc-47a3-41fb-d78e-0df2d65158ab"
      },
      "execution_count": 145,
      "outputs": [
        {
          "output_type": "stream",
          "name": "stdout",
          "text": [
            "19\t12479311\t12586570\tHISEQ:129:C2LRCACXX:1:2110:5448:97880\t0\t-\n",
            "19\t12479313\t12586570\tHISEQ:129:C2LRCACXX:1:2110:5448:97880\t0\t-\n",
            "19\t12479315\t12586570\tHISEQ:129:C2LRCACXX:1:2110:5448:97880\t0\t-\n",
            "19\t12479317\t12586570\tHISEQ:129:C2LRCACXX:1:2110:5448:97880\t0\t-\n",
            "19\t12486734\t12486835\tHISEQ:129:C2LRCACXX:1:2108:20530:65021\t60\t-\n",
            "19\t12487195\t12487296\tHISEQ:129:C2LRCACXX:1:1204:10203:87648\t60\t-\n",
            "19\t12487195\t12487296\tHISEQ:129:C2LRCACXX:1:2104:14666:2583\t60\t-\n"
          ]
        }
      ]
    },
    {
      "cell_type": "markdown",
      "source": [
        "### bedtools complement -i exons.bed -g genome.txt > non-exonic.bed -- to get intron coordinates "
      ],
      "metadata": {
        "id": "dG-9MZCtZwDM"
      }
    },
    {
      "cell_type": "code",
      "source": [
        "! head /content/chr19.exons"
      ],
      "metadata": {
        "colab": {
          "base_uri": "https://localhost:8080/"
        },
        "id": "TX1ps0mfZQek",
        "outputId": "8f36237d-7ddf-4dac-d7c4-fd261dcf3737"
      },
      "execution_count": 146,
      "outputs": [
        {
          "output_type": "stream",
          "name": "stdout",
          "text": [
            "19\t3103070\t3103277\t-\n",
            "19\t3109879\t3109990\t-\n",
            "19\t3115710\t3118148\t-\n",
            "19\t3119366\t3119439\t-\n",
            "19\t3122687\t3122952\t-\n",
            "19\t3125713\t3125884\t-\n",
            "19\t3184644\t3184958\t+\n",
            "19\t3186983\t3187089\t-\n",
            "19\t3192759\t3193064\t+\n",
            "19\t3195867\t3196264\t-\n"
          ]
        }
      ]
    },
    {
      "cell_type": "markdown",
      "source": [
        "Если вычести из всех ридов те, что попадают на экзоны, мы получим покрытие интронов:"
      ],
      "metadata": {
        "id": "leF48hH5f8qL"
      }
    },
    {
      "cell_type": "code",
      "source": [
        "! bedtools subtract -a targetB20.s.bed -b chr19.exons "
      ],
      "metadata": {
        "id": "bZEBhBsFbtwv"
      },
      "execution_count": null,
      "outputs": []
    },
    {
      "cell_type": "markdown",
      "source": [
        "Координаты интронных ридов:"
      ],
      "metadata": {
        "id": "vVr2e4VXgGIg"
      }
    },
    {
      "cell_type": "code",
      "source": [
        "! bedtools subtract -a targetB20.s.bed -b chr19.exons  > introns.bed \n",
        "! awk -F\"\\t\" '$5 > 0 { print $2\"\\t\"$3 }' introns.bed \n",
        "# retrieve introns in the region, covered by at least one read \n",
        "# $5 > 0 stands for coverage score"
      ],
      "metadata": {
        "colab": {
          "base_uri": "https://localhost:8080/"
        },
        "id": "LSjkMCE-dIvW",
        "outputId": "b8faf3e1-56ad-4d58-8ee9-0b1f727c8cd7"
      },
      "execution_count": 148,
      "outputs": [
        {
          "output_type": "stream",
          "name": "stdout",
          "text": [
            "12486734\t12486835\n",
            "12487195\t12487296\n",
            "12487195\t12487296\n"
          ]
        }
      ]
    },
    {
      "cell_type": "code",
      "source": [],
      "metadata": {
        "id": "NjsCSvEuna44"
      },
      "execution_count": 148,
      "outputs": []
    }
  ],
  "metadata": {
    "colab": {
      "provenance": [],
      "authorship_tag": "ABX9TyNtC7S1RnP9kZkEatcBFfTw",
      "include_colab_link": true
    },
    "kernelspec": {
      "display_name": "Python 3",
      "name": "python3"
    },
    "language_info": {
      "name": "python"
    }
  },
  "nbformat": 4,
  "nbformat_minor": 0
}