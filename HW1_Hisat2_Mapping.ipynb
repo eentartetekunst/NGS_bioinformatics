{
  "cells": [
    {
      "cell_type": "markdown",
      "metadata": {
        "id": "view-in-github",
        "colab_type": "text"
      },
      "source": [
        "<a href=\"https://colab.research.google.com/github/eentartetekunst/NGS_bioinformatics/blob/main/HW1_Hisat2_Mapping.ipynb\" target=\"_parent\"><img src=\"https://colab.research.google.com/assets/colab-badge.svg\" alt=\"Open In Colab\"/></a>"
      ]
    },
    {
      "cell_type": "code",
      "execution_count": null,
      "metadata": {
        "id": "JDiaiDxJlNeD"
      },
      "outputs": [],
      "source": [
        "import os"
      ]
    },
    {
      "cell_type": "code",
      "execution_count": null,
      "metadata": {
        "id": "2OHeXsfGXtTc",
        "colab": {
          "base_uri": "https://localhost:8080/"
        },
        "outputId": "6be42e08-757a-4f63-bfcb-cf168b95cd14"
      },
      "outputs": [
        {
          "output_type": "stream",
          "name": "stdout",
          "text": [
            "\u001b[33mWARNING: Running pip as the 'root' user can result in broken permissions and conflicting behaviour with the system package manager. It is recommended to use a virtual environment instead: https://pip.pypa.io/warnings/venv\u001b[0m\u001b[33m\n",
            "\u001b[0m"
          ]
        }
      ],
      "source": [
        "! pip install -q condacolab"
      ]
    },
    {
      "cell_type": "code",
      "execution_count": null,
      "metadata": {
        "id": "foHdqgZ0YAri",
        "colab": {
          "base_uri": "https://localhost:8080/"
        },
        "outputId": "b44e66c3-f3c2-4065-bf78-e5c50970dd5b"
      },
      "outputs": [
        {
          "output_type": "stream",
          "name": "stdout",
          "text": [
            "✨🍰✨ Everything looks OK!\n"
          ]
        }
      ],
      "source": [
        "import condacolab\n",
        "condacolab.install()"
      ]
    },
    {
      "cell_type": "code",
      "execution_count": null,
      "metadata": {
        "id": "csfE5Ad8VFYH",
        "colab": {
          "base_uri": "https://localhost:8080/"
        },
        "outputId": "6b0175fd-6530-47dc-c502-17b13c8831c7"
      },
      "outputs": [
        {
          "output_type": "stream",
          "name": "stdout",
          "text": [
            "Collecting package metadata (current_repodata.json): - \b\b\\ \b\b| \b\b/ \b\b- \b\b\\ \b\b| \b\b/ \b\b- \b\b\\ \b\b| \b\b/ \b\b- \b\b\\ \b\b| \b\b/ \b\b- \b\b\\ \b\b| \b\b/ \b\b- \b\b\\ \b\b| \b\b/ \b\b- \b\b\\ \b\b| \b\b/ \b\b- \b\b\\ \b\b| \b\b/ \b\b- \b\b\\ \b\b| \b\b/ \b\b- \b\b\\ \b\b| \b\b/ \b\b- \b\b\\ \b\b| \b\b/ \b\b- \b\b\\ \b\b| \b\b/ \b\b- \b\b\\ \b\b| \b\b/ \b\b- \b\b\\ \b\b| \b\b/ \b\b- \b\b\\ \b\b| \b\b/ \b\b- \b\b\\ \b\b| \b\b/ \b\b- \b\b\\ \b\b| \b\b/ \b\b- \b\b\\ \b\b| \b\b/ \b\b- \b\b\\ \b\b| \b\b/ \b\b- \b\b\\ \b\b| \b\b/ \b\b- \b\b\\ \b\b| \b\b/ \b\b- \b\b\\ \b\b| \b\b/ \b\b- \b\b\\ \b\b| \b\b/ \b\b- \b\b\\ \b\b| \b\b/ \b\b- \b\b\\ \b\b| \b\b/ \b\b- \b\b\\ \b\b| \b\b/ \b\b- \b\b\\ \b\b| \b\b/ \b\b- \b\b\\ \b\b| \b\b/ \b\b- \b\b\\ \b\b| \b\b/ \b\b- \b\b\\ \b\b| \b\b/ \b\b- \b\b\\ \b\b| \b\b/ \b\b- \b\b\\ \b\b| \b\b/ \b\b- \b\b\\ \b\b| \b\b/ \b\b- \b\b\\ \b\b| \b\b/ \b\b- \b\b\\ \b\b| \b\b/ \b\b- \b\b\\ \b\b| \b\b/ \b\b- \b\b\\ \b\b| \b\b/ \b\b- \b\b\\ \b\b| \b\b/ \b\b- \b\b\\ \b\b| \b\b/ \b\b- \b\b\\ \b\b| \b\b/ \b\b- \b\b\\ \b\b| \b\b/ \b\b- \b\b\\ \b\b| \b\b/ \b\b- \b\b\\ \b\b| \b\b/ \b\b- \b\b\\ \b\b| \b\b/ \b\b- \b\b\\ \b\b| \b\b/ \b\b- \b\b\\ \b\b| \b\b/ \b\b- \b\b\\ \b\b| \b\b/ \b\bdone\n",
            "Solving environment: \\ \b\b| \b\b/ \b\b- \b\b\\ \b\b| \b\b/ \b\b- \b\b\\ \b\b| \b\b/ \b\b- \b\b\\ \b\b| \b\b/ \b\b- \b\b\\ \b\b| \b\b/ \b\b- \b\b\\ \b\b| \b\bdone\n",
            "\n",
            "# All requested packages already installed.\n",
            "\n",
            "Retrieving notices: ...working... done\n"
          ]
        }
      ],
      "source": [
        "!conda install -y -c bioconda samtools"
      ]
    },
    {
      "cell_type": "code",
      "execution_count": null,
      "metadata": {
        "id": "z38Hi2o_u9dv",
        "colab": {
          "base_uri": "https://localhost:8080/"
        },
        "outputId": "1b1861c1-4cba-467f-9939-5fc541732b1a"
      },
      "outputs": [
        {
          "output_type": "stream",
          "name": "stdout",
          "text": [
            "Reading package lists... Done\n",
            "Building dependency tree       \n",
            "Reading state information... Done\n",
            "bedtools is already the newest version (2.26.0+dfsg-5).\n",
            "The following package was automatically installed and is no longer required:\n",
            "  libnvidia-common-460\n",
            "Use 'sudo apt autoremove' to remove it.\n",
            "0 upgraded, 0 newly installed, 0 to remove and 22 not upgraded.\n"
          ]
        }
      ],
      "source": [
        "! sudo apt install bedtools "
      ]
    },
    {
      "cell_type": "code",
      "execution_count": null,
      "metadata": {
        "id": "z70vJ1tRKLdc",
        "colab": {
          "base_uri": "https://localhost:8080/"
        },
        "outputId": "28bf00cd-6039-4cc3-bdb0-a833af5b8a40"
      },
      "outputs": [
        {
          "output_type": "stream",
          "name": "stdout",
          "text": [
            "Collecting package metadata (current_repodata.json): - \b\b\\ \b\b| \b\b/ \b\b- \b\b\\ \b\b| \b\b/ \b\b- \b\b\\ \b\b| \b\b/ \b\b- \b\b\\ \b\b| \b\b/ \b\b- \b\b\\ \b\b| \b\b/ \b\b- \b\b\\ \b\b| \b\b/ \b\b- \b\b\\ \b\b| \b\b/ \b\bdone\n",
            "Solving environment: \\ \b\b| \b\b/ \b\b- \b\b\\ \b\b| \b\b/ \b\b- \b\b\\ \b\b| \b\b/ \b\b- \b\b\\ \b\b| \b\bdone\n",
            "\n",
            "# All requested packages already installed.\n",
            "\n",
            "Retrieving notices: ...working... done\n"
          ]
        }
      ],
      "source": [
        "! conda install -c bioconda regtools "
      ]
    },
    {
      "cell_type": "markdown",
      "metadata": {
        "id": "ccNhjd1-tXxf"
      },
      "source": [
        "## import data"
      ]
    },
    {
      "cell_type": "code",
      "execution_count": null,
      "metadata": {
        "colab": {
          "base_uri": "https://localhost:8080/"
        },
        "id": "Div7-vp1sOY5",
        "outputId": "1bc5f581-6b42-43f5-8e5c-75d37890b9ce"
      },
      "outputs": [
        {
          "output_type": "stream",
          "name": "stdout",
          "text": [
            "Mounted at /content/drive\n"
          ]
        }
      ],
      "source": [
        "from google.colab import drive\n",
        "drive.mount('/content/drive')"
      ]
    },
    {
      "cell_type": "code",
      "execution_count": null,
      "metadata": {
        "id": "CvuqoRkYsnRV"
      },
      "outputs": [],
      "source": [
        "! mkdir reads"
      ]
    },
    {
      "cell_type": "code",
      "execution_count": null,
      "metadata": {
        "colab": {
          "base_uri": "https://localhost:8080/"
        },
        "id": "ZPuLceXetB5v",
        "outputId": "420dd060-0e72-450a-f3af-fedc0a0aacf6"
      },
      "outputs": [
        {
          "output_type": "stream",
          "name": "stdout",
          "text": [
            "mv: cannot stat '**/*.fq.gz': No such file or directory\n"
          ]
        }
      ],
      "source": [
        "! mv **/*.fq.gz /content/drive/MyDrive/rna.seq.data reads"
      ]
    },
    {
      "cell_type": "code",
      "execution_count": null,
      "metadata": {
        "colab": {
          "base_uri": "https://localhost:8080/"
        },
        "id": "9dcYoW9VtLWz",
        "outputId": "d5bd21dc-0be6-4372-8d68-0863ed50f64c"
      },
      "outputs": [
        {
          "output_type": "stream",
          "name": "stdout",
          "text": [
            "B14.5.fq.gz  B17.5.fq.gz  B34.fq.gz    C15.5.fq.gz  C20.fq.gz\n",
            "B15.5.fq.gz  B20.fq.gz\t  C14.5.fq.gz  C17.5.fq.gz  C34.fq.gz\n"
          ]
        }
      ],
      "source": [
        "! ls reads/rna.seq.data"
      ]
    },
    {
      "cell_type": "markdown",
      "metadata": {
        "id": "WzyYJX0WQlsB"
      },
      "source": [
        "## 2) install hisat2"
      ]
    },
    {
      "cell_type": "code",
      "execution_count": null,
      "metadata": {
        "id": "2dYmpRYoO6B1",
        "colab": {
          "base_uri": "https://localhost:8080/"
        },
        "outputId": "9e86767f-6650-42f1-b588-6033ae286c0f"
      },
      "outputs": [
        {
          "output_type": "stream",
          "name": "stdout",
          "text": [
            "\r0% [Working]\r            \rGet:1 http://security.ubuntu.com/ubuntu bionic-security InRelease [88.7 kB]\n",
            "\r0% [Connecting to archive.ubuntu.com (91.189.91.38)] [1 InRelease 12.3 kB/88.7 \r                                                                               \rGet:2 http://ppa.launchpad.net/c2d4u.team/c2d4u4.0+/ubuntu bionic InRelease [15.9 kB]\n",
            "\r0% [Connecting to archive.ubuntu.com (91.189.91.38)] [1 InRelease 31.5 kB/88.7 \r0% [Connecting to archive.ubuntu.com (91.189.91.38)] [1 InRelease 88.7 kB/88.7 \r                                                                               \rHit:3 http://ppa.launchpad.net/cran/libgit2/ubuntu bionic InRelease\n",
            "\r0% [Connecting to archive.ubuntu.com (91.189.91.38)] [Connected to cloud.r-proj\r0% [2 InRelease gpgv 15.9 kB] [Connecting to archive.ubuntu.com (91.189.91.38)]\r                                                                               \rHit:4 http://ppa.launchpad.net/deadsnakes/ppa/ubuntu bionic InRelease\n",
            "Get:5 https://cloud.r-project.org/bin/linux/ubuntu bionic-cran40/ InRelease [3,626 B]\n",
            "Hit:6 http://ppa.launchpad.net/graphics-drivers/ppa/ubuntu bionic InRelease\n",
            "Hit:7 http://archive.ubuntu.com/ubuntu bionic InRelease\n",
            "Get:8 http://archive.ubuntu.com/ubuntu bionic-updates InRelease [88.7 kB]\n",
            "Get:9 http://ppa.launchpad.net/c2d4u.team/c2d4u4.0+/ubuntu bionic/main Sources [2,164 kB]\n",
            "Ign:10 https://developer.download.nvidia.com/compute/machine-learning/repos/ubuntu1804/x86_64  InRelease\n",
            "Hit:11 https://developer.download.nvidia.com/compute/cuda/repos/ubuntu1804/x86_64  InRelease\n",
            "Hit:12 https://developer.download.nvidia.com/compute/machine-learning/repos/ubuntu1804/x86_64  Release\n",
            "Get:13 http://security.ubuntu.com/ubuntu bionic-security/restricted amd64 Packages [1,183 kB]\n",
            "Get:14 http://archive.ubuntu.com/ubuntu bionic-backports InRelease [83.3 kB]\n",
            "Get:15 http://security.ubuntu.com/ubuntu bionic-security/main amd64 Packages [3,005 kB]\n",
            "Get:16 http://ppa.launchpad.net/c2d4u.team/c2d4u4.0+/ubuntu bionic/main amd64 Packages [1,109 kB]\n",
            "Get:17 http://security.ubuntu.com/ubuntu bionic-security/universe amd64 Packages [1,550 kB]\n",
            "Get:19 http://archive.ubuntu.com/ubuntu bionic-updates/main amd64 Packages [3,436 kB]\n",
            "Get:20 http://archive.ubuntu.com/ubuntu bionic-updates/restricted amd64 Packages [1,223 kB]\n",
            "Get:21 http://archive.ubuntu.com/ubuntu bionic-updates/universe amd64 Packages [2,328 kB]\n",
            "Fetched 16.3 MB in 4s (3,940 kB/s)\n",
            "Reading package lists... Done\n"
          ]
        }
      ],
      "source": [
        "! sudo apt-get update"
      ]
    },
    {
      "cell_type": "code",
      "execution_count": null,
      "metadata": {
        "id": "cFbv9DtiPSLq",
        "colab": {
          "base_uri": "https://localhost:8080/"
        },
        "outputId": "85a9db34-06ce-49b8-fae6-59489fa35e3d"
      },
      "outputs": [
        {
          "output_type": "stream",
          "name": "stdout",
          "text": [
            "Reading package lists... Done\n",
            "Building dependency tree       \n",
            "Reading state information... Done\n",
            "The following package was automatically installed and is no longer required:\n",
            "  libnvidia-common-460\n",
            "Use 'sudo apt autoremove' to remove it.\n",
            "The following NEW packages will be installed:\n",
            "  hisat2\n",
            "0 upgraded, 1 newly installed, 0 to remove and 22 not upgraded.\n",
            "Need to get 1,278 kB of archives.\n",
            "After this operation, 5,144 kB of additional disk space will be used.\n",
            "Get:1 http://archive.ubuntu.com/ubuntu bionic/universe amd64 hisat2 amd64 2.1.0-1 [1,278 kB]\n",
            "Fetched 1,278 kB in 1s (1,716 kB/s)\n",
            "debconf: unable to initialize frontend: Dialog\n",
            "debconf: (No usable dialog-like program is installed, so the dialog based frontend cannot be used. at /usr/share/perl5/Debconf/FrontEnd/Dialog.pm line 76, <> line 1.)\n",
            "debconf: falling back to frontend: Readline\n",
            "debconf: unable to initialize frontend: Readline\n",
            "debconf: (This frontend requires a controlling tty.)\n",
            "debconf: falling back to frontend: Teletype\n",
            "dpkg-preconfigure: unable to re-open stdin: \n",
            "Selecting previously unselected package hisat2.\n",
            "(Reading database ... 123985 files and directories currently installed.)\n",
            "Preparing to unpack .../hisat2_2.1.0-1_amd64.deb ...\n",
            "Unpacking hisat2 (2.1.0-1) ...\n",
            "Setting up hisat2 (2.1.0-1) ...\n",
            "Processing triggers for man-db (2.8.3-2ubuntu0.1) ...\n"
          ]
        }
      ],
      "source": [
        "! sudo apt-get -y install hisat2"
      ]
    },
    {
      "cell_type": "markdown",
      "metadata": {
        "id": "HrC42ccTQrG5"
      },
      "source": [
        "## 3) download chr19 sequence and its annotation"
      ]
    },
    {
      "cell_type": "code",
      "execution_count": null,
      "metadata": {
        "id": "gRZTjyBVPXrA",
        "colab": {
          "base_uri": "https://localhost:8080/"
        },
        "outputId": "843b4de0-d7d0-4162-df6f-2e443e1a268b"
      },
      "outputs": [
        {
          "output_type": "stream",
          "name": "stdout",
          "text": [
            "--2022-10-11 13:26:45--  http://ftp.ensembl.org/pub/release-107/fasta/mus_musculus/dna/Mus_musculus.GRCm39.dna.chromosome.19.fa.gz\n",
            "Resolving ftp.ensembl.org (ftp.ensembl.org)... 193.62.193.139\n",
            "Connecting to ftp.ensembl.org (ftp.ensembl.org)|193.62.193.139|:80... connected.\n",
            "HTTP request sent, awaiting response... 200 OK\n",
            "Length: 17732438 (17M) [application/x-gzip]\n",
            "Saving to: ‘Mus_musculus.GRCm39.dna.chromosome.19.fa.gz’\n",
            "\n",
            "Mus_musculus.GRCm39 100%[===================>]  16.91M  4.68MB/s    in 3.6s    \n",
            "\n",
            "2022-10-11 13:26:49 (4.66 MB/s) - ‘Mus_musculus.GRCm39.dna.chromosome.19.fa.gz’ saved [17732438/17732438]\n",
            "\n",
            "--2022-10-11 13:26:49--  http://ftp.ensembl.org/pub/release-107/gtf/mus_musculus/Mus_musculus.GRCm39.107.gtf.gz\n",
            "Resolving ftp.ensembl.org (ftp.ensembl.org)... 193.62.193.139\n",
            "Connecting to ftp.ensembl.org (ftp.ensembl.org)|193.62.193.139|:80... connected.\n",
            "HTTP request sent, awaiting response... 200 OK\n",
            "Length: 31861821 (30M) [application/x-gzip]\n",
            "Saving to: ‘Mus_musculus.GRCm39.107.gtf.gz’\n",
            "\n",
            "Mus_musculus.GRCm39 100%[===================>]  30.39M  4.63MB/s    in 6.6s    \n",
            "\n",
            "2022-10-11 13:26:56 (4.60 MB/s) - ‘Mus_musculus.GRCm39.107.gtf.gz’ saved [31861821/31861821]\n",
            "\n"
          ]
        }
      ],
      "source": [
        "! wget http://ftp.ensembl.org/pub/release-107/fasta/mus_musculus/dna/Mus_musculus.GRCm39.dna.chromosome.19.fa.gz #chr19 sequence\n",
        "! wget http://ftp.ensembl.org/pub/release-107/gtf/mus_musculus/Mus_musculus.GRCm39.107.gtf.gz # annotation\n",
        "! gzip -d Mus_musculus.GRCm39.dna.chromosome.19.fa.gz\n",
        "! gzip -d Mus_musculus.GRCm39.107.gtf.gz"
      ]
    },
    {
      "cell_type": "markdown",
      "metadata": {
        "id": "l7_Zga7pQz0t"
      },
      "source": [
        "## 4) select chr 19 from the annotation"
      ]
    },
    {
      "cell_type": "code",
      "execution_count": null,
      "metadata": {
        "id": "CuK3tizzPnqq"
      },
      "outputs": [],
      "source": [
        "! touch chr19-annotation \n",
        "! grep -P '^19\\t' /content/Mus_musculus.GRCm39.107.gtf > chr19-annotation "
      ]
    },
    {
      "cell_type": "code",
      "execution_count": null,
      "metadata": {
        "colab": {
          "base_uri": "https://localhost:8080/"
        },
        "id": "Qgoc-yuUQcOB",
        "outputId": "0c6e9cc9-49fc-46cf-a7fb-c304a1f2ea0c"
      },
      "outputs": [
        {
          "output_type": "stream",
          "name": "stdout",
          "text": [
            "total 918M\n",
            "-rw-r--r-- 1 root root  27M Oct 11 13:27 chr19-annotation\n",
            "-rw-r--r-- 1 root root  16K Oct 11 13:09 condacolab_install.log\n",
            "drwx------ 5 root root 4.0K Oct 11 13:26 drive\n",
            "-rw-r--r-- 1 root root 831M Jun  4 09:40 Mus_musculus.GRCm39.107.gtf\n",
            "-rw-r--r-- 1 root root  60M Jun  4 08:49 Mus_musculus.GRCm39.dna.chromosome.19.fa\n",
            "drwxr-xr-x 3 root root 4.0K Oct 11 13:26 reads\n",
            "drwxr-xr-x 1 root root 4.0K Oct  7 13:35 sample_data\n"
          ]
        }
      ],
      "source": [
        "!ls -lh"
      ]
    },
    {
      "cell_type": "code",
      "execution_count": null,
      "metadata": {
        "colab": {
          "base_uri": "https://localhost:8080/"
        },
        "id": "sM4k-8n8Hg1O",
        "outputId": "88ccc964-0588-48d3-dc11-a0c7bcf2cac1"
      },
      "outputs": [
        {
          "output_type": "stream",
          "name": "stdout",
          "text": [
            "19\tensembl\tgene\t56265950\t56266077\t.\t-\t.\tgene_id \"ENSMUSG00000077223\"; gene_version \"3\"; gene_name \"Gm22271\"; gene_source \"ensembl\"; gene_biotype \"snoRNA\";\n",
            "19\tensembl\ttranscript\t56265950\t56266077\t.\t-\t.\tgene_id \"ENSMUSG00000077223\"; gene_version \"3\"; transcript_id \"ENSMUST00000104035\"; transcript_version \"3\"; gene_name \"Gm22271\"; gene_source \"ensembl\"; gene_biotype \"snoRNA\"; transcript_name \"Gm22271-201\"; transcript_source \"ensembl\"; transcript_biotype \"snoRNA\"; tag \"basic\"; transcript_support_level \"NA (assigned to previous version 1)\";\n"
          ]
        }
      ],
      "source": [
        "! head -n2 chr19-annotation "
      ]
    },
    {
      "cell_type": "markdown",
      "metadata": {
        "id": "ITjsgH-eQ7A2"
      },
      "source": [
        "## 5) build index for chr 19"
      ]
    },
    {
      "cell_type": "markdown",
      "metadata": {
        "id": "suz9rKdBRIDf"
      },
      "source": [
        "## map all reads on chr19 sequence (no trimming, known splice sites)\n",
        "use --known-splicesite-infile:\n",
        "With this mode, you can provide a list of known splice sites, which HISAT makes use of to align reads with small anchors.\n",
        "You can create such a list using python extract_splice_sites.py genes.gtf > splicesites.txt, where extract_splice_sites.py is included in the HISAT package, genes.gtf is a gene annotation file, and splicesites.txt is a list of splice sites with which you provide HISAT in this mode"
      ]
    },
    {
      "cell_type": "markdown",
      "metadata": {
        "id": "cqcvvAeBGyuQ"
      },
      "source": [
        "## install extract_splice_sites.py and extract_exons.py"
      ]
    },
    {
      "cell_type": "code",
      "execution_count": null,
      "metadata": {
        "id": "00ohDOeZagG7",
        "colab": {
          "base_uri": "https://localhost:8080/"
        },
        "outputId": "ae0a4346-033b-490a-cb3c-c2b9a4a2e4e9"
      },
      "outputs": [
        {
          "output_type": "stream",
          "name": "stdout",
          "text": [
            "--2022-10-11 13:27:04--  https://raw.githubusercontent.com/dekoning-lab/ezmap/master/tools/HISAT2/hisat2-2.0.5-Linux/extract_splice_sites.py\n",
            "Resolving raw.githubusercontent.com (raw.githubusercontent.com)... 185.199.108.133, 185.199.109.133, 185.199.110.133, ...\n",
            "Connecting to raw.githubusercontent.com (raw.githubusercontent.com)|185.199.108.133|:443... connected.\n",
            "HTTP request sent, awaiting response... 200 OK\n",
            "Length: 5021 (4.9K) [text/plain]\n",
            "Saving to: ‘extract_splice_sites.py’\n",
            "\n",
            "extract_splice_site 100%[===================>]   4.90K  --.-KB/s    in 0s      \n",
            "\n",
            "2022-10-11 13:27:04 (35.9 MB/s) - ‘extract_splice_sites.py’ saved [5021/5021]\n",
            "\n",
            "usage: extract_splice_sites.py [-h] [-v] [gtf_file]\n",
            "\n",
            "Extract splice junctions from a GTF file\n",
            "\n",
            "positional arguments:\n",
            "  gtf_file       input GTF file (use \"-\" for stdin)\n",
            "\n",
            "optional arguments:\n",
            "  -h, --help     show this help message and exit\n",
            "  -v, --verbose  also print some statistics to stderr\n"
          ]
        }
      ],
      "source": [
        "! wget https://raw.githubusercontent.com/dekoning-lab/ezmap/master/tools/HISAT2/hisat2-2.0.5-Linux/extract_splice_sites.py\n",
        "! chmod a+x extract_splice_sites.py\n",
        "! ./extract_splice_sites.py"
      ]
    },
    {
      "cell_type": "code",
      "execution_count": null,
      "metadata": {
        "id": "RgobT7veGhQG",
        "colab": {
          "base_uri": "https://localhost:8080/"
        },
        "outputId": "f1617546-035f-4408-f220-ffba13313263"
      },
      "outputs": [
        {
          "output_type": "stream",
          "name": "stdout",
          "text": [
            "--2022-10-11 13:27:05--  https://raw.githubusercontent.com/dekoning-lab/ezmap/master/tools/HISAT2/hisat2-2.0.5-Linux/extract_exons.py\n",
            "Resolving raw.githubusercontent.com (raw.githubusercontent.com)... 185.199.111.133, 185.199.110.133, 185.199.108.133, ...\n",
            "Connecting to raw.githubusercontent.com (raw.githubusercontent.com)|185.199.111.133|:443... connected.\n",
            "HTTP request sent, awaiting response... 200 OK\n",
            "Length: 5597 (5.5K) [text/plain]\n",
            "Saving to: ‘extract_exons.py’\n",
            "\n",
            "extract_exons.py    100%[===================>]   5.47K  --.-KB/s    in 0s      \n",
            "\n",
            "2022-10-11 13:27:05 (58.3 MB/s) - ‘extract_exons.py’ saved [5597/5597]\n",
            "\n",
            "usage: extract_exons.py [-h] [-v] [gtf_file]\n",
            "\n",
            "Extract exons from a GTF file\n",
            "\n",
            "positional arguments:\n",
            "  gtf_file       input GTF file (use \"-\" for stdin)\n",
            "\n",
            "optional arguments:\n",
            "  -h, --help     show this help message and exit\n",
            "  -v, --verbose  also print some statistics to stderr\n"
          ]
        }
      ],
      "source": [
        "! wget https://raw.githubusercontent.com/dekoning-lab/ezmap/master/tools/HISAT2/hisat2-2.0.5-Linux/extract_exons.py\n",
        "! chmod a+x extract_exons.py\n",
        "! ./extract_exons.py"
      ]
    },
    {
      "cell_type": "markdown",
      "metadata": {
        "id": "qRcoy_CLG-40"
      },
      "source": [
        "## extract splice sites and exon's locations  from the annotation"
      ]
    },
    {
      "cell_type": "code",
      "execution_count": null,
      "metadata": {
        "id": "7wPnL2fEtV1g"
      },
      "outputs": [],
      "source": [
        "! ./extract_splice_sites.py chr19-annotation > chr19.ss # extract sites from the annotation\n",
        "! ! ./extract_exons.py chr19-annotation > chr19.exons "
      ]
    },
    {
      "cell_type": "code",
      "execution_count": null,
      "metadata": {
        "colab": {
          "base_uri": "https://localhost:8080/"
        },
        "id": "Ao7YNNwRRe3P",
        "outputId": "03038e0a-c0a9-4918-ae69-af6576d22d90"
      },
      "outputs": [
        {
          "output_type": "stream",
          "name": "stdout",
          "text": [
            "19\t3103277\t3109879\t-\n",
            "19\t3109990\t3119366\t-\n"
          ]
        }
      ],
      "source": [
        "! head -n2 chr19.ss "
      ]
    },
    {
      "cell_type": "code",
      "execution_count": null,
      "metadata": {
        "colab": {
          "base_uri": "https://localhost:8080/"
        },
        "id": "50L0PvJjSAQF",
        "outputId": "0800d114-511b-4ff1-f36b-75b3eb260ffc"
      },
      "outputs": [
        {
          "output_type": "stream",
          "name": "stdout",
          "text": [
            "19\t3103070\t3103277\t-\n",
            "19\t3109879\t3109990\t-\n"
          ]
        }
      ],
      "source": [
        "! head -n2 chr19.exons"
      ]
    },
    {
      "cell_type": "markdown",
      "metadata": {
        "id": "SVBZom9RI2iN"
      },
      "source": [
        "## map reads on chr19 with no trimming, with known splice sites\n",
        "\n",
        "---\n",
        "\n"
      ]
    },
    {
      "cell_type": "markdown",
      "metadata": {
        "id": "m8gZUHx2n9eC"
      },
      "source": [
        "## map b14.5 on chr19"
      ]
    },
    {
      "cell_type": "code",
      "execution_count": null,
      "metadata": {
        "id": "WSPc_K0LPshj",
        "colab": {
          "base_uri": "https://localhost:8080/"
        },
        "outputId": "19c10a31-041e-4d67-ee2c-d81578aca6d4"
      },
      "outputs": [
        {
          "output_type": "stream",
          "name": "stdout",
          "text": [
            "Settings:\n",
            "  Output files: \"base-index.*.ht2\"\n",
            "  Line rate: 7 (line is 128 bytes)\n",
            "  Lines per side: 1 (side is 128 bytes)\n",
            "  Offset rate: 4 (one in 16)\n",
            "  FTable chars: 10\n",
            "  Strings: unpacked\n",
            "  Local offset rate: 3 (one in 8)\n",
            "  Local fTable chars: 6\n",
            "  Local sequence length: 57344\n",
            "  Local sequence overlap between two consecutive indexes: 1024\n",
            "  Endianness: little\n",
            "  Actual local endianness: little\n",
            "  Sanity checking: disabled\n",
            "  Assertions: disabled\n",
            "  Random seed: 0\n",
            "  Sizeofs: void*:8, int:4, long:8, size_t:8\n",
            "Input files DNA, FASTA:\n",
            "  Mus_musculus.GRCm39.dna.chromosome.19.fa\n",
            "Reading reference sizes\n",
            "  Time reading reference sizes: 00:00:00\n",
            "Calculating joined length\n",
            "Writing header\n",
            "Reserving space for joined string\n",
            "Joining reference sequences\n",
            "  Time to join reference sequences: 00:00:01\n",
            "  Time to read SNPs and splice sites: 00:00:00\n",
            "Generation 0 (58229592 -> 58229592 nodes, 0 ranks)\n",
            "COUNTED NEW NODES: 0\n",
            "COUNTED TEMP NODES: 0\n",
            "RESIZED NODES: 0\n",
            "RESIZED NODES: 0\n",
            "MADE NEW NODES: 0\n",
            "Generation 1 (58238835 -> 58238835 nodes, 0 ranks)\n",
            "COUNTED NEW NODES: 0\n",
            "COUNTED TEMP NODES: 0\n",
            "RESIZED NODES: 0\n",
            "RESIZED NODES: 0\n",
            "MADE NEW NODES: 0\n",
            "Generation 2 (58257324 -> 58257324 nodes, 0 ranks)\n",
            "COUNTED NEW NODES: 0\n",
            "COUNTED TEMP NODES: 0\n",
            "RESIZED NODES: 1\n",
            "RESIZED NODES: 0\n",
            "MADE NEW NODES: 0\n",
            "Generation 3 (58294309 -> 58294309 nodes, 0 ranks)\n",
            "BUILT FROM_INDEX: 0\n",
            "COUNTED NEW NODES: 0\n",
            "COUNTED TEMP NODES: 0\n",
            "RESIZED NODES: 0\n",
            "RESIZED NODES: 0\n",
            "MADE NEW NODES: 1\n",
            "RESIZE NODES: 1\n",
            "SORT NODES: 6\n",
            "MERGE, UPDATE RANK: 1\n",
            "Generation 4 (58368331 -> 58313410 nodes, 49110827 ranks)\n",
            "tcmalloc: large alloc 1077936128 bytes == 0x5600bfbf8000 @  0x7fa3a3817887 0x560038c0a742 0x560038c50d9f 0x560038c58a48 0x560038c6be24 0x560038c6f0ff 0x560038c76a70 0x560038c0e2c2 0x560038c07ed3 0x7fa3a2e55c87 0x560038c08a2a\n",
            "ALLOCATE FROM_TABLE: 0\n",
            "BUILD TABLE: 4\n",
            "BUILD INDEX: 0\n",
            "COUNTED NEW NODES: 1\n",
            "COUNTED TEMP NODES: 0\n",
            "RESIZED NODES: 0\n",
            "RESIZED NODES: 0\n",
            "MADE NEW NODES: 1\n",
            "MERGEUPDATERANK: 1\n",
            "TOTAL TIME: 7\n",
            "Generation 5 (58319557 -> 58313558 nodes, 54635276 ranks)\n",
            "ALLOCATE FROM_TABLE: 0\n",
            "BUILD TABLE: 4\n",
            "BUILD INDEX: 0\n",
            "COUNTED NEW NODES: 0\n",
            "COUNTED TEMP NODES: 0\n",
            "RESIZED NODES: 0\n",
            "RESIZED NODES: 0\n",
            "MADE NEW NODES: 1\n",
            "MERGEUPDATERANK: 0\n",
            "TOTAL TIME: 5\n",
            "Generation 6 (58316195 -> 58315009 nodes, 56680017 ranks)\n",
            "ALLOCATE FROM_TABLE: 0\n",
            "BUILD TABLE: 4\n",
            "BUILD INDEX: 1\n",
            "COUNTED NEW NODES: 0\n",
            "COUNTED TEMP NODES: 0\n",
            "RESIZED NODES: 0\n",
            "RESIZED NODES: 0\n",
            "MADE NEW NODES: 0\n",
            "MERGEUPDATERANK: 0\n",
            "TOTAL TIME: 5\n",
            "Generation 7 (58317175 -> 58316148 nodes, 57551520 ranks)\n",
            "ALLOCATE FROM_TABLE: 0\n",
            "BUILD TABLE: 4\n",
            "BUILD INDEX: 1\n",
            "COUNTED NEW NODES: 0\n",
            "COUNTED TEMP NODES: 0\n",
            "RESIZED NODES: 0\n",
            "RESIZED NODES: 0\n",
            "MADE NEW NODES: 0\n",
            "MERGEUPDATERANK: 0\n",
            "TOTAL TIME: 5\n",
            "Generation 8 (58317318 -> 58316480 nodes, 57947051 ranks)\n",
            "ALLOCATE FROM_TABLE: 0\n",
            "BUILD TABLE: 4\n",
            "BUILD INDEX: 0\n",
            "COUNTED NEW NODES: 1\n",
            "COUNTED TEMP NODES: 0\n",
            "RESIZED NODES: 0\n",
            "RESIZED NODES: 0\n",
            "MADE NEW NODES: 0\n",
            "MERGEUPDATERANK: 0\n",
            "TOTAL TIME: 5\n",
            "Generation 9 (58317031 -> 58316482 nodes, 58154142 ranks)\n",
            "ALLOCATE FROM_TABLE: 0\n",
            "BUILD TABLE: 4\n",
            "BUILD INDEX: 0\n",
            "COUNTED NEW NODES: 0\n",
            "COUNTED TEMP NODES: 0\n",
            "RESIZED NODES: 0\n",
            "RESIZED NODES: 0\n",
            "MADE NEW NODES: 1\n",
            "MERGEUPDATERANK: 0\n",
            "TOTAL TIME: 5\n",
            "Generation 10 (58316994 -> 58316994 nodes, 58262196 ranks)\n",
            "ALLOCATE FROM_TABLE: 0\n",
            "BUILD TABLE: 4\n",
            "BUILD INDEX: 0\n",
            "COUNTED NEW NODES: 0\n",
            "COUNTED TEMP NODES: 0\n",
            "RESIZED NODES: 0\n",
            "RESIZED NODES: 0\n",
            "MADE NEW NODES: 0\n",
            "MERGEUPDATERANK: 0\n",
            "TOTAL TIME: 4\n",
            "Generation 11 (58318018 -> 58318018 nodes, 58310720 ranks)\n",
            "ALLOCATE FROM_TABLE: 0\n",
            "BUILD TABLE: 4\n",
            "BUILD INDEX: 1\n",
            "COUNTED NEW NODES: 0\n",
            "COUNTED TEMP NODES: 0\n",
            "RESIZED NODES: 0\n",
            "RESIZED NODES: 0\n",
            "MADE NEW NODES: 0\n",
            "MERGEUPDATERANK: 0\n",
            "TOTAL TIME: 5\n",
            "Generation 12 (58318140 -> 58318140 nodes, 58317867 ranks)\n",
            "ALLOCATE FROM_TABLE: 0\n",
            "BUILD TABLE: 4\n",
            "BUILD INDEX: 0\n",
            "COUNTED NEW NODES: 0\n",
            "COUNTED TEMP NODES: 0\n",
            "RESIZED NODES: 0\n",
            "RESIZED NODES: 0\n",
            "MADE NEW NODES: 1\n",
            "MERGEUPDATERANK: 0\n",
            "TOTAL TIME: 5\n",
            "Generation 13 (58318140 -> 58318140 nodes, 58318140 ranks)\n",
            "Generating edges... \n",
            "NODE.TO -> GENOME POS: 0\n",
            "BUILD FROM_INDEX 1\n",
            "COUNTED NEW EDGES: 0\n",
            "MADE NEW EDGES: 1\n",
            "SORTED NEW EDGES: 4\n",
            "RE-SORTED NODES: 4\n",
            "PROCESS EDGES: 0\n",
            "REMOVE Y: 1\n",
            "SORT, Make index: 3\n",
            "TOTAL: 14\n",
            "Allocating ftab, absorbFtab\n",
            "Entering GFM loop\n",
            "Exited GFM loop\n",
            "fchr[A]: 0\n",
            "fchr[C]: 16764343\n",
            "fchr[G]: 29243014\n",
            "fchr[T]: 41693472\n",
            "fchr[$]: 58327392\n",
            "Exiting GFM::buildToDisk()\n",
            "Returning from initFromVector\n",
            "Wrote 40088609 bytes to primary GFM file: base-index.1.ht2\n",
            "Wrote 14579540 bytes to secondary GFM file: base-index.2.ht2\n",
            "Re-opening _in1 and _in2 as input streams\n",
            "Returning from GFM constructor\n",
            "Returning from initFromVector\n",
            "Wrote 35947245 bytes to primary GFM file: base-index.5.ht2\n",
            "Wrote 14831960 bytes to secondary GFM file: base-index.6.ht2\n",
            "Re-opening _in5 and _in5 as input streams\n",
            "Returning from HierEbwt constructor\n",
            "Headers:\n",
            "    len: 58220004\n",
            "    gbwtLen: 58327393\n",
            "    nodes: 58318139\n",
            "    sz: 29110002\n",
            "    gbwtSz: 29163697\n",
            "    lineRate: 7\n",
            "    offRate: 4\n",
            "    offMask: 0xfffffff0\n",
            "    ftabChars: 10\n",
            "    eftabLen: 0\n",
            "    eftabSz: 0\n",
            "    ftabLen: 1048577\n",
            "    ftabSz: 4194308\n",
            "    offsLen: 3644884\n",
            "    offsSz: 14579536\n",
            "    lineSz: 128\n",
            "    sideSz: 128\n",
            "    sideGbwtSz: 104\n",
            "    sideGbwtLen: 208\n",
            "    numSides: 280421\n",
            "    numLines: 280421\n",
            "    gbwtTotLen: 35893888\n",
            "    gbwtTotSz: 35893888\n",
            "    reverse: 0\n",
            "    linearFM: No\n",
            "Total time for call to driver() for forward index: 00:03:51\n"
          ]
        }
      ],
      "source": [
        "! hisat2-build --ss chr19.ss --exon chr19.exons Mus_musculus.GRCm39.dna.chromosome.19.fa base-index"
      ]
    },
    {
      "cell_type": "code",
      "execution_count": null,
      "metadata": {
        "id": "ws-9XpEsckNO"
      },
      "outputs": [],
      "source": [
        "i='B20'\n",
        "index='base-index'\n",
        "fq='/content/reads/rna.seq.data'"
      ]
    },
    {
      "cell_type": "code",
      "execution_count": null,
      "metadata": {
        "id": "OwYm6eH6WepY",
        "colab": {
          "base_uri": "https://localhost:8080/"
        },
        "outputId": "d2e80944-ff09-45c4-8566-84bccefed4b8"
      },
      "outputs": [
        {
          "output_type": "stream",
          "name": "stdout",
          "text": [
            "599777 reads; of these:\n",
            "  599777 (100.00%) were unpaired; of these:\n",
            "    51160 (8.53%) aligned 0 times\n",
            "    538522 (89.79%) aligned exactly 1 time\n",
            "    10095 (1.68%) aligned >1 times\n",
            "91.47% overall alignment rate\n"
          ]
        }
      ],
      "source": [
        "# redirect stdout of hisat2 (sam alignment file) to samtools view so that we only save compressed file \n",
        "! hisat2 --summary-file $i\\.log --no-softclip --no-unal -x $index -U $fq/$i\\.fq.gz | samtools view -Sb - > $i\\.bam"
      ]
    },
    {
      "cell_type": "markdown",
      "metadata": {
        "id": "f8tpoo0WoDeV"
      },
      "source": [
        "## 6) Прокартируйте все fq файлы (начните с одного) на 19ую хромосому при помощи hisat2 не допуская обрезания ридов и сообщив hisat2 координаты сайтов сплайсинга "
      ]
    },
    {
      "cell_type": "code",
      "execution_count": null,
      "metadata": {
        "id": "P30FrgEwnvC7",
        "colab": {
          "base_uri": "https://localhost:8080/"
        },
        "outputId": "2629fb0c-1e14-4279-aa9f-0c7f1e2fb91f"
      },
      "outputs": [
        {
          "output_type": "stream",
          "name": "stdout",
          "text": [
            "599461 reads; of these:\n",
            "  599461 (100.00%) were unpaired; of these:\n",
            "    49649 (8.28%) aligned 0 times\n",
            "    538759 (89.87%) aligned exactly 1 time\n",
            "    11053 (1.84%) aligned >1 times\n",
            "91.72% overall alignment rate\n",
            "599683 reads; of these:\n",
            "  599683 (100.00%) were unpaired; of these:\n",
            "    51939 (8.66%) aligned 0 times\n",
            "    539715 (90.00%) aligned exactly 1 time\n",
            "    8029 (1.34%) aligned >1 times\n",
            "91.34% overall alignment rate\n",
            "599672 reads; of these:\n",
            "  599672 (100.00%) were unpaired; of these:\n",
            "    47202 (7.87%) aligned 0 times\n",
            "    540491 (90.13%) aligned exactly 1 time\n",
            "    11979 (2.00%) aligned >1 times\n",
            "92.13% overall alignment rate\n",
            "600324 reads; of these:\n",
            "  600324 (100.00%) were unpaired; of these:\n",
            "    75959 (12.65%) aligned 0 times\n",
            "    514263 (85.66%) aligned exactly 1 time\n",
            "    10102 (1.68%) aligned >1 times\n",
            "87.35% overall alignment rate\n",
            "600268 reads; of these:\n",
            "  600268 (100.00%) were unpaired; of these:\n",
            "    59115 (9.85%) aligned 0 times\n",
            "    531032 (88.47%) aligned exactly 1 time\n",
            "    10121 (1.69%) aligned >1 times\n",
            "90.15% overall alignment rate\n",
            "600006 reads; of these:\n",
            "  600006 (100.00%) were unpaired; of these:\n",
            "    75155 (12.53%) aligned 0 times\n",
            "    515492 (85.91%) aligned exactly 1 time\n",
            "    9359 (1.56%) aligned >1 times\n",
            "87.47% overall alignment rate\n",
            "599414 reads; of these:\n",
            "  599414 (100.00%) were unpaired; of these:\n",
            "    43161 (7.20%) aligned 0 times\n",
            "    547234 (91.29%) aligned exactly 1 time\n",
            "    9019 (1.50%) aligned >1 times\n",
            "92.80% overall alignment rate\n",
            "599777 reads; of these:\n",
            "  599777 (100.00%) were unpaired; of these:\n",
            "    51160 (8.53%) aligned 0 times\n",
            "    538522 (89.79%) aligned exactly 1 time\n",
            "    10095 (1.68%) aligned >1 times\n",
            "91.47% overall alignment rate\n",
            "599345 reads; of these:\n",
            "  599345 (100.00%) were unpaired; of these:\n",
            "    70716 (11.80%) aligned 0 times\n",
            "    517383 (86.32%) aligned exactly 1 time\n",
            "    11246 (1.88%) aligned >1 times\n",
            "88.20% overall alignment rate\n",
            "600133 reads; of these:\n",
            "  600133 (100.00%) were unpaired; of these:\n",
            "    44816 (7.47%) aligned 0 times\n",
            "    545904 (90.96%) aligned exactly 1 time\n",
            "    9413 (1.57%) aligned >1 times\n",
            "92.53% overall alignment rate\n"
          ]
        },
        {
          "output_type": "execute_result",
          "data": {
            "text/plain": []
          },
          "metadata": {},
          "execution_count": 23
        }
      ],
      "source": [
        "%%shell \n",
        "reads_list='C14.5 B34 B14.5 C15.5 C17.5 B17.5 C34 B20 B15.5 C20' \n",
        "index='base-index'\n",
        "fq='/content/reads/rna.seq.data'\n",
        "\n",
        "for i in ${reads_list}\n",
        "do hisat2 --summary-file ${i}.log --no-softclip --no-unal -x ${index} -U ${fq}/${i}.fq.gz | samtools view -Sb - > ${i}.bam \n",
        "done"
      ]
    },
    {
      "cell_type": "markdown",
      "metadata": {
        "id": "0RJgHsM2oK1-"
      },
      "source": [
        "## 7) Выберите случайно один образец"
      ]
    },
    {
      "cell_type": "markdown",
      "metadata": {
        "id": "MlrG3ykroQoC"
      },
      "source": [
        "## 8)Сколько ридов картируется в регион 19:12485000-12490000 в этом образце? "
      ]
    },
    {
      "cell_type": "code",
      "execution_count": null,
      "metadata": {
        "id": "OiTHayyKWOfK"
      },
      "outputs": [],
      "source": [
        "! samtools sort -o B20.s.bam B20.bam #coordinate sorting"
      ]
    },
    {
      "cell_type": "code",
      "source": [
        "! samtools index B20.s.bam # Generate BAI-format index for BAM files"
      ],
      "metadata": {
        "id": "JOOS38BBU3M-"
      },
      "execution_count": null,
      "outputs": []
    },
    {
      "cell_type": "code",
      "source": [
        "! samtools view B20.s.bam 19:12485000-12490000 "
      ],
      "metadata": {
        "colab": {
          "base_uri": "https://localhost:8080/"
        },
        "id": "QZr9IAg7Ymwx",
        "outputId": "df3f6231-0ab2-4f87-c667-62ee4e1a6f04"
      },
      "execution_count": null,
      "outputs": [
        {
          "output_type": "stream",
          "name": "stdout",
          "text": [
            "HISEQ:129:C2LRCACXX:1:2110:5448:97880\t272\t19\t12479312\t0\t42M56847N42M50311N17M\t*\t0\t0\tTCTCTCTCTCTCTCTCTCTCTCTCTCTCTCTCTCTCTCTCTCGTGTGTGTGTGTGTGTGTGTGTGTGTGTGTGTGTGTGTGTGTGTGTGTGTTGTGGGGAG\t###DDDDDDDDDDBB@BBDDDDDBB@B??<?B@B<B@B@DD@=<BBDDCCDFEFHHHJJJIGJJJIJIHDGGIJJJIJJIIJIIJIG=GHGHFFFFFFCC@\tAS:i:-16\tZS:i:-16\tXN:i:0\tXM:i:0\tXO:i:0\tXG:i:0\tNM:i:0\tMD:Z:101\tYT:Z:UU\tXS:A:+\tNH:i:4\n",
            "HISEQ:129:C2LRCACXX:1:2110:5448:97880\t272\t19\t12479314\t0\t42M56845N42M50311N17M\t*\t0\t0\tTCTCTCTCTCTCTCTCTCTCTCTCTCTCTCTCTCTCTCTCTCGTGTGTGTGTGTGTGTGTGTGTGTGTGTGTGTGTGTGTGTGTGTGTGTGTTGTGGGGAG\t###DDDDDDDDDDBB@BBDDDDDBB@B??<?B@B<B@B@DD@=<BBDDCCDFEFHHHJJJIGJJJIJIHDGGIJJJIJJIIJIIJIG=GHGHFFFFFFCC@\tAS:i:-16\tZS:i:-16\tXN:i:0\tXM:i:0\tXO:i:0\tXG:i:0\tNM:i:0\tMD:Z:101\tYT:Z:UU\tXS:A:+\tNH:i:4\n",
            "HISEQ:129:C2LRCACXX:1:2110:5448:97880\t272\t19\t12479316\t0\t42M56843N42M50311N17M\t*\t0\t0\tTCTCTCTCTCTCTCTCTCTCTCTCTCTCTCTCTCTCTCTCTCGTGTGTGTGTGTGTGTGTGTGTGTGTGTGTGTGTGTGTGTGTGTGTGTGTTGTGGGGAG\t###DDDDDDDDDDBB@BBDDDDDBB@B??<?B@B<B@B@DD@=<BBDDCCDFEFHHHJJJIGJJJIJIHDGGIJJJIJJIIJIIJIG=GHGHFFFFFFCC@\tAS:i:-16\tZS:i:-16\tXN:i:0\tXM:i:0\tXO:i:0\tXG:i:0\tNM:i:0\tMD:Z:101\tYT:Z:UU\tXS:A:+\tNH:i:4\n",
            "HISEQ:129:C2LRCACXX:1:2110:5448:97880\t16\t19\t12479318\t0\t42M56841N42M50311N17M\t*\t0\t0\tTCTCTCTCTCTCTCTCTCTCTCTCTCTCTCTCTCTCTCTCTCGTGTGTGTGTGTGTGTGTGTGTGTGTGTGTGTGTGTGTGTGTGTGTGTGTTGTGGGGAG\t###DDDDDDDDDDBB@BBDDDDDBB@B??<?B@B<B@B@DD@=<BBDDCCDFEFHHHJJJIGJJJIJIHDGGIJJJIJJIIJIIJIG=GHGHFFFFFFCC@\tAS:i:-16\tZS:i:-16\tXN:i:0\tXM:i:0\tXO:i:0\tXG:i:0\tNM:i:0\tMD:Z:101\tYT:Z:UU\tXS:A:+\tNH:i:4\n",
            "HISEQ:129:C2LRCACXX:1:2108:20530:65021\t16\t19\t12486735\t60\t101M\t*\t0\t0\tTTTAAAATCACCCAATAGACTGACTTGCCAGCGTGCCTGTAAGGAGTTATCTAGAATCAGTTAACTAAGGTAGGAATACCCACCCTAACCTTGGGCAGCAC\t:CCDEEDB@@DCDEECDCCDEDCBC@DDFFHHHIIIIIIIIIIIIIIIIIFIIIIIIIIIIIIIIIIIIIIIIIHE<?IGF?IIIIGGHHHHHFFFFFCCC\tAS:i:0\tXN:i:0\tXM:i:0\tXO:i:0\tXG:i:0\tNM:i:0\tMD:Z:101\tYT:Z:UU\tNH:i:1\n",
            "HISEQ:129:C2LRCACXX:1:1204:10203:87648\t16\t19\t12487196\t60\t101M\t*\t0\t0\tTGTATTGACATCTTAAACTATTTCAAATATACCCCAACCTCAGCTAATCTGGGTTACAAACCCCCTAAAATTCAAATAACATCTCATTTGAATGTCCAGAC\t@C:EEEDEDDDCDEEFCDDDDDDEFFFDDBBDDFFECHHHIJJJJJJJJJJJJIIJJIHFIJJJJIJJJJIIJJJJIIJJIHHIJJJJHHHHHFFFFFCCC\tAS:i:-5\tXN:i:0\tXM:i:1\tXO:i:0\tXG:i:0\tNM:i:1\tMD:Z:5C95\tYT:Z:UU\tNH:i:1\n",
            "HISEQ:129:C2LRCACXX:1:2104:14666:2583\t16\t19\t12487196\t60\t101M\t*\t0\t0\tTGTATTGACATCTTAAACTATTTCAAATATACCCCAACCTCAGCTAATCTGGGTTACAAACCCCCTAAAATTCAAATAACATCTCATTTGAATGTCCAGAC\tCDEEEEDEDDDDDEEDDDDDDDEEFFFEDBDDDFFEHHHHJJJJJJJIJJJJJJJJIHHFJJJJIJJJJIIHIJJJJJHIIHJIJJJJHHHHHFFFFFCCC\tAS:i:-5\tXN:i:0\tXM:i:1\tXO:i:0\tXG:i:0\tNM:i:1\tMD:Z:5C95\tYT:Z:UU\tNH:i:1\n"
          ]
        }
      ]
    },
    {
      "cell_type": "code",
      "execution_count": 168,
      "metadata": {
        "id": "a6nb1oqhfbG7",
        "colab": {
          "base_uri": "https://localhost:8080/"
        },
        "outputId": "95086c35-66dc-485a-f292-39906ce2ff71"
      },
      "outputs": [
        {
          "output_type": "stream",
          "name": "stdout",
          "text": [
            "HISEQ:129:C2LRCACXX:1:2110:5448:97880\t272\t19\t12479312\t0\t42M56847N42M50311N17M\t*\t0\t0\tTCTCTCTCTCTCTCTCTCTCTCTCTCTCTCTCTCTCTCTCTCGTGTGTGTGTGTGTGTGTGTGTGTGTGTGTGTGTGTGTGTGTGTGTGTGTTGTGGGGAG\t###DDDDDDDDDDBB@BBDDDDDBB@B??<?B@B<B@B@DD@=<BBDDCCDFEFHHHJJJIGJJJIJIHDGGIJJJIJJIIJIIJIG=GHGHFFFFFFCC@\tAS:i:-16\tZS:i:-16\tXN:i:0\tXM:i:0\tXO:i:0\tXG:i:0\tNM:i:0\tMD:Z:101\tYT:Z:UU\tXS:A:+\tNH:i:4\n",
            "HISEQ:129:C2LRCACXX:1:2110:5448:97880\t272\t19\t12479314\t0\t42M56845N42M50311N17M\t*\t0\t0\tTCTCTCTCTCTCTCTCTCTCTCTCTCTCTCTCTCTCTCTCTCGTGTGTGTGTGTGTGTGTGTGTGTGTGTGTGTGTGTGTGTGTGTGTGTGTTGTGGGGAG\t###DDDDDDDDDDBB@BBDDDDDBB@B??<?B@B<B@B@DD@=<BBDDCCDFEFHHHJJJIGJJJIJIHDGGIJJJIJJIIJIIJIG=GHGHFFFFFFCC@\tAS:i:-16\tZS:i:-16\tXN:i:0\tXM:i:0\tXO:i:0\tXG:i:0\tNM:i:0\tMD:Z:101\tYT:Z:UU\tXS:A:+\tNH:i:4\n",
            "HISEQ:129:C2LRCACXX:1:2110:5448:97880\t272\t19\t12479316\t0\t42M56843N42M50311N17M\t*\t0\t0\tTCTCTCTCTCTCTCTCTCTCTCTCTCTCTCTCTCTCTCTCTCGTGTGTGTGTGTGTGTGTGTGTGTGTGTGTGTGTGTGTGTGTGTGTGTGTTGTGGGGAG\t###DDDDDDDDDDBB@BBDDDDDBB@B??<?B@B<B@B@DD@=<BBDDCCDFEFHHHJJJIGJJJIJIHDGGIJJJIJJIIJIIJIG=GHGHFFFFFFCC@\tAS:i:-16\tZS:i:-16\tXN:i:0\tXM:i:0\tXO:i:0\tXG:i:0\tNM:i:0\tMD:Z:101\tYT:Z:UU\tXS:A:+\tNH:i:4\n",
            "HISEQ:129:C2LRCACXX:1:2110:5448:97880\t16\t19\t12479318\t0\t42M56841N42M50311N17M\t*\t0\t0\tTCTCTCTCTCTCTCTCTCTCTCTCTCTCTCTCTCTCTCTCTCGTGTGTGTGTGTGTGTGTGTGTGTGTGTGTGTGTGTGTGTGTGTGTGTGTTGTGGGGAG\t###DDDDDDDDDDBB@BBDDDDDBB@B??<?B@B<B@B@DD@=<BBDDCCDFEFHHHJJJIGJJJIJIHDGGIJJJIJJIIJIIJIG=GHGHFFFFFFCC@\tAS:i:-16\tZS:i:-16\tXN:i:0\tXM:i:0\tXO:i:0\tXG:i:0\tNM:i:0\tMD:Z:101\tYT:Z:UU\tXS:A:+\tNH:i:4\n",
            "HISEQ:129:C2LRCACXX:1:2108:20530:65021\t16\t19\t12486735\t60\t101M\t*\t0\t0\tTTTAAAATCACCCAATAGACTGACTTGCCAGCGTGCCTGTAAGGAGTTATCTAGAATCAGTTAACTAAGGTAGGAATACCCACCCTAACCTTGGGCAGCAC\t:CCDEEDB@@DCDEECDCCDEDCBC@DDFFHHHIIIIIIIIIIIIIIIIIFIIIIIIIIIIIIIIIIIIIIIIIHE<?IGF?IIIIGGHHHHHFFFFFCCC\tAS:i:0\tXN:i:0\tXM:i:0\tXO:i:0\tXG:i:0\tNM:i:0\tMD:Z:101\tYT:Z:UU\tNH:i:1\n",
            "HISEQ:129:C2LRCACXX:1:1204:10203:87648\t16\t19\t12487196\t60\t101M\t*\t0\t0\tTGTATTGACATCTTAAACTATTTCAAATATACCCCAACCTCAGCTAATCTGGGTTACAAACCCCCTAAAATTCAAATAACATCTCATTTGAATGTCCAGAC\t@C:EEEDEDDDCDEEFCDDDDDDEFFFDDBBDDFFECHHHIJJJJJJJJJJJJIIJJIHFIJJJJIJJJJIIJJJJIIJJIHHIJJJJHHHHHFFFFFCCC\tAS:i:-5\tXN:i:0\tXM:i:1\tXO:i:0\tXG:i:0\tNM:i:1\tMD:Z:5C95\tYT:Z:UU\tNH:i:1\n",
            "HISEQ:129:C2LRCACXX:1:2104:14666:2583\t16\t19\t12487196\t60\t101M\t*\t0\t0\tTGTATTGACATCTTAAACTATTTCAAATATACCCCAACCTCAGCTAATCTGGGTTACAAACCCCCTAAAATTCAAATAACATCTCATTTGAATGTCCAGAC\tCDEEEEDEDDDDDEEDDDDDDDEEFFFEDBDDDFFEHHHHJJJJJJJIJJJJJJJJIHHFJJJJIJJJJIIHIJJJJJHIIHJIJJJJHHHHHFFFFFCCC\tAS:i:-5\tXN:i:0\tXM:i:1\tXO:i:0\tXG:i:0\tNM:i:1\tMD:Z:5C95\tYT:Z:UU\tNH:i:1\n"
          ]
        }
      ],
      "source": [
        "! samtools view B20.s.bam 19:12485000-12490000 \n",
        "# эти 7  ридов картируются на данный участок "
      ]
    },
    {
      "cell_type": "markdown",
      "metadata": {
        "id": "XUQgrpt1oe7n"
      },
      "source": [
        "## 9) Сколько из них картируются только в одно место генома?\n"
      ]
    },
    {
      "cell_type": "code",
      "execution_count": null,
      "metadata": {
        "colab": {
          "base_uri": "https://localhost:8080/"
        },
        "id": "m7KB9T34TwBt",
        "outputId": "c0c94158-7457-4d72-d00d-d443837ad246"
      },
      "outputs": [
        {
          "output_type": "stream",
          "name": "stdout",
          "text": [
            "3\n"
          ]
        }
      ],
      "source": [
        "! samtools view B20.s.bam 19:12485000-12490000 -d NH:1 -c  \n",
        "#  риды, которые картировлаись на одно место в данном участке \n",
        "# -c Instead of printing the alignments, only print the total number. "
      ]
    },
    {
      "cell_type": "code",
      "source": [
        "! samtools view B20.s.bam 19:12485000-12490000  -d NH:1 "
      ],
      "metadata": {
        "colab": {
          "base_uri": "https://localhost:8080/"
        },
        "id": "uUYs-3a_d6GK",
        "outputId": "8442b6ea-ebf5-4e6b-d894-dac984d95583"
      },
      "execution_count": 171,
      "outputs": [
        {
          "output_type": "stream",
          "name": "stdout",
          "text": [
            "HISEQ:129:C2LRCACXX:1:2108:20530:65021\t16\t19\t12486735\t60\t101M\t*\t0\t0\tTTTAAAATCACCCAATAGACTGACTTGCCAGCGTGCCTGTAAGGAGTTATCTAGAATCAGTTAACTAAGGTAGGAATACCCACCCTAACCTTGGGCAGCAC\t:CCDEEDB@@DCDEECDCCDEDCBC@DDFFHHHIIIIIIIIIIIIIIIIIFIIIIIIIIIIIIIIIIIIIIIIIHE<?IGF?IIIIGGHHHHHFFFFFCCC\tAS:i:0\tXN:i:0\tXM:i:0\tXO:i:0\tXG:i:0\tNM:i:0\tMD:Z:101\tYT:Z:UU\tNH:i:1\n",
            "HISEQ:129:C2LRCACXX:1:1204:10203:87648\t16\t19\t12487196\t60\t101M\t*\t0\t0\tTGTATTGACATCTTAAACTATTTCAAATATACCCCAACCTCAGCTAATCTGGGTTACAAACCCCCTAAAATTCAAATAACATCTCATTTGAATGTCCAGAC\t@C:EEEDEDDDCDEEFCDDDDDDEFFFDDBBDDFFECHHHIJJJJJJJJJJJJIIJJIHFIJJJJIJJJJIIJJJJIIJJIHHIJJJJHHHHHFFFFFCCC\tAS:i:-5\tXN:i:0\tXM:i:1\tXO:i:0\tXG:i:0\tNM:i:1\tMD:Z:5C95\tYT:Z:UU\tNH:i:1\n",
            "HISEQ:129:C2LRCACXX:1:2104:14666:2583\t16\t19\t12487196\t60\t101M\t*\t0\t0\tTGTATTGACATCTTAAACTATTTCAAATATACCCCAACCTCAGCTAATCTGGGTTACAAACCCCCTAAAATTCAAATAACATCTCATTTGAATGTCCAGAC\tCDEEEEDEDDDDDEEDDDDDDDEEFFFEDBDDDFFEHHHHJJJJJJJIJJJJJJJJIHHFJJJJIJJJJIIHIJJJJJHIIHJIJJJJHHHHHFFFFFCCC\tAS:i:-5\tXN:i:0\tXM:i:1\tXO:i:0\tXG:i:0\tNM:i:1\tMD:Z:5C95\tYT:Z:UU\tNH:i:1\n"
          ]
        }
      ]
    },
    {
      "cell_type": "markdown",
      "metadata": {
        "id": "sDY0DBz1ohJo"
      },
      "source": [
        "## 10) Сколько ридов картровалось без замен? Сколько с 1, 2 и т. д. заменами?"
      ]
    },
    {
      "cell_type": "code",
      "execution_count": 174,
      "metadata": {
        "colab": {
          "base_uri": "https://localhost:8080/"
        },
        "id": "hSEO4Q8U6j1p",
        "outputId": "0a233486-f582-4c63-b22a-225e020974cb"
      },
      "outputs": [
        {
          "output_type": "stream",
          "name": "stdout",
          "text": [
            "2\n"
          ]
        }
      ],
      "source": [
        "! samtools view B20.s.bam 19:12485000-12490000 -d NM:1 -c # с 1 заменой "
      ]
    },
    {
      "cell_type": "code",
      "execution_count": null,
      "metadata": {
        "colab": {
          "base_uri": "https://localhost:8080/"
        },
        "id": "oWQkih7pWb89",
        "outputId": "b1cbbee0-ca3f-4b3d-a5b2-01fcda2cb634"
      },
      "outputs": [
        {
          "output_type": "stream",
          "name": "stdout",
          "text": [
            "0\n"
          ]
        }
      ],
      "source": [
        "! samtools view B20.s.bam 19:12485000-12490000  -d NM:2 -c # с 2 заменами"
      ]
    },
    {
      "cell_type": "markdown",
      "source": [
        "Риды, картировавшиеся на всю хромосому с i заменами:"
      ],
      "metadata": {
        "id": "FqhBtv6reyxV"
      }
    },
    {
      "cell_type": "code",
      "execution_count": null,
      "metadata": {
        "colab": {
          "base_uri": "https://localhost:8080/"
        },
        "id": "W9sZu33yadtY",
        "outputId": "cecc2200-2e55-491f-ef44-4593ff5436a6"
      },
      "outputs": [
        {
          "output_type": "stream",
          "name": "stdout",
          "text": [
            "84502\n",
            "20990\n",
            "9620\n",
            "2759\n",
            "1451\n",
            "771\n",
            "344\n",
            "125\n",
            "52\n",
            "16\n",
            "0\n",
            "0\n"
          ]
        },
        {
          "output_type": "execute_result",
          "data": {
            "text/plain": []
          },
          "metadata": {},
          "execution_count": 36
        }
      ],
      "source": [
        "%%shell\n",
        "list_my_i='1 2 3 4 5 6 7 8 9 10 11 12'\n",
        "for i in ${list_my_i}\n",
        "do samtools view B14.5.s.bam  -d NM:${i} -c # с i заменами -- картирование на всю хромасому\n",
        "done"
      ]
    },
    {
      "cell_type": "markdown",
      "metadata": {
        "id": "6G_c8IKNohMS"
      },
      "source": [
        "## 11) Сколько ридов картировалось на экзон-экзонные границы? \n",
        "\n",
        "https://regtools.readthedocs.io/en/latest/commands/junctions-extract/ \n",
        "\n",
        "The junctions extract command can be used to extract exon-exon junctions from an RNAseq BAM file. The output is a BED file in the BED12 format"
      ]
    },
    {
      "cell_type": "code",
      "source": [
        "! touch B20.s.cut.bam"
      ],
      "metadata": {
        "id": "6gfYYonap202"
      },
      "execution_count": null,
      "outputs": []
    },
    {
      "cell_type": "code",
      "source": [
        "! cat B20.s.bam 19:12485000-12490000  > B20.s.cut.bam "
      ],
      "metadata": {
        "id": "88KRhAXvqS0e"
      },
      "execution_count": null,
      "outputs": []
    },
    {
      "cell_type": "code",
      "source": [
        "! samtools index B20.s.cut.bam "
      ],
      "metadata": {
        "colab": {
          "base_uri": "https://localhost:8080/"
        },
        "id": "IEjyhtjsqi7h",
        "outputId": "ce4bd76d-acb2-450b-b76a-9adbc93aeb72"
      },
      "execution_count": null,
      "outputs": [
        {
          "output_type": "stream",
          "name": "stdout",
          "text": [
            "[W::bam_hdr_read] EOF marker is absent. The input is probably truncated\n",
            "[E::bgzf_read_block] Invalid BGZF header at offset 35331189\n",
            "[E::bgzf_read] Read block operation failed with error 2 after 0 of 4 bytes\n",
            "samtools index: failed to create index for \"B20.s.cut.bam\": Invalid argument\n"
          ]
        }
      ]
    },
    {
      "cell_type": "code",
      "execution_count": null,
      "metadata": {
        "colab": {
          "base_uri": "https://localhost:8080/"
        },
        "id": "LP-mwm3Hu7g0",
        "outputId": "fa4c75cc-1704-46ba-8006-28527ea20865"
      },
      "outputs": [
        {
          "output_type": "stream",
          "name": "stdout",
          "text": [
            "\n",
            "Program:\tregtools\n",
            "Version:\t0.5.2\n",
            "Minimum junction anchor length: 8\n",
            "Minimum intron length: 70\n",
            "Maximum intron length: 500000\n",
            "Alignment: B20.s.bam\n",
            "Output file: B20.bed\n",
            "\n"
          ]
        }
      ],
      "source": [
        "# /content/B14.5.bam.bai path to coordinate-sorted file\n",
        "! regtools junctions extract -o B20.bed -s XS B20.s.bam "
      ]
    },
    {
      "cell_type": "code",
      "execution_count": null,
      "metadata": {
        "id": "8nR6jgzaRRl8"
      },
      "outputs": [],
      "source": [
        "! head B20.bed"
      ]
    },
    {
      "cell_type": "code",
      "execution_count": null,
      "metadata": {
        "id": "nlwic3Ouu85t"
      },
      "outputs": [],
      "source": [
        "! regtools junctions annotate -o B20.exonexon.reads B20.bed Mus_musculus.GRCm39.dna.chromosome.19.fa chr19-annotation "
      ]
    },
    {
      "cell_type": "code",
      "execution_count": null,
      "metadata": {
        "colab": {
          "base_uri": "https://localhost:8080/"
        },
        "id": "isP6CmMzu7od",
        "outputId": "890d3267-74ea-4e6e-c653-eec29a08b85b"
      },
      "outputs": [
        {
          "output_type": "stream",
          "name": "stdout",
          "text": [
            "chrom\tstart\tend\tname\tscore\tstrand\tsplice_site\tacceptors_skipped\texons_skipped\tdonors_skipped\tanchor\tknown_donor\tknown_acceptor\tknown_junction\tgene_names\tgene_ids\ttranscripts\n",
            "19\t3133341\t3137331\tJUNC00000001\t1\t+\tGT-AG\t0\t0\t0\tN\t0\t0\t0\tNA\tNA\tNA\n",
            "19\t3277818\t3277895\tJUNC00000002\t1\t+\tGT-AG\t0\t0\t0\tN\t0\t0\t0\tNA\tNA\tNA\n",
            "19\t3311635\t3311975\tJUNC00000003\t2\t-\tGT-AG\t0\t0\t0\tDA\t1\t1\t1\tIghmbp2\tENSMUSG00000024831\tENSMUST00000025751,ENSMUST00000119292\n",
            "19\t3312144\t3314811\tJUNC00000004\t2\t-\tGT-AG\t0\t0\t0\tDA\t1\t1\t1\tIghmbp2\tENSMUSG00000024831\tENSMUST00000025751,ENSMUST00000119292\n",
            "19\t3315665\t3316336\tJUNC00000005\t4\t-\tGT-AG\t0\t0\t0\tDA\t1\t1\t1\tIghmbp2\tENSMUSG00000024831\tENSMUST00000025751,ENSMUST00000119292,ENSMUST00000143079,ENSMUST00000154537\n",
            "19\t3316459\t3317242\tJUNC00000006\t3\t-\tGT-AG\t0\t0\t0\tDA\t1\t1\t1\tIghmbp2\tENSMUSG00000024831\tENSMUST00000025751,ENSMUST00000119292,ENSMUST00000143079,ENSMUST00000154537\n",
            "19\t3317336\t3318298\tJUNC00000007\t1\t-\tGT-AG\t1\t0\t0\tDA\t1\t1\t1\tIghmbp2\tENSMUSG00000024831\tENSMUST00000025751,ENSMUST00000119292,ENSMUST00000154537\n",
            "19\t3318416\t3318660\tJUNC00000008\t5\t-\tGT-AG\t0\t0\t0\tDA\t1\t1\t1\tIghmbp2\tENSMUSG00000024831\tENSMUST00000025751,ENSMUST00000119292,ENSMUST00000154537\n",
            "19\t3318842\t3321526\tJUNC00000009\t2\t-\tGT-AG\t0\t0\t0\tDA\t1\t1\t1\tIghmbp2\tENSMUSG00000024831\tENSMUST00000025751,ENSMUST00000119292,ENSMUST00000154537\n"
          ]
        }
      ],
      "source": [
        "! head B20.exonexon.reads \n",
        "# score - The number of reads supporting the junction. [integer]"
      ]
    },
    {
      "cell_type": "code",
      "source": [
        "! cat B20.exonexon.reads | awk '($2 <= 12490000 && $3 >= 12485000)' \n",
        "# риды из данного интервала, в которых есть экзон-экзонная граница"
      ],
      "metadata": {
        "colab": {
          "base_uri": "https://localhost:8080/"
        },
        "id": "gAnnCZ_CC1PE",
        "outputId": "120df3cd-106b-4ef2-c70f-a045c34981c0"
      },
      "execution_count": null,
      "outputs": [
        {
          "output_type": "stream",
          "name": "stdout",
          "text": [
            "19\t12479353\t12536201\tJUNC00002608\t1\t+\tTC-GT\t1\t0\t2\tN\t0\t0\t0\tNA\tNA\tNA\n",
            "19\t12479355\t12536201\tJUNC00002610\t1\t+\tTC-GT\t1\t0\t2\tN\t0\t0\t0\tNA\tNA\tNA\n",
            "19\t12479357\t12536201\tJUNC00002611\t1\t+\tTC-GT\t1\t0\t2\tN\t0\t0\t0\tNA\tNA\tNA\n",
            "19\t12479359\t12536201\tJUNC00002612\t1\t+\tTG-GT\t1\t0\t2\tN\t0\t0\t0\tNA\tNA\tNA\n"
          ]
        }
      ]
    },
    {
      "cell_type": "markdown",
      "metadata": {
        "id": "SyZUEYRWgc0P"
      },
      "source": [
        "109117 reads mapped over exon exon junctions"
      ]
    },
    {
      "cell_type": "markdown",
      "metadata": {
        "id": "8xS7BSRwohPD"
      },
      "source": [
        "## 12) Перечислите координаты всех интронов в данном интервале подтверждённых хотя бы одним ридом в формате: chr:from-to coverage"
      ]
    },
    {
      "cell_type": "code",
      "source": [
        "! samtools view B20.s.bam -b 19:12485000-12490000 > targetB20.s.bam # choose target region"
      ],
      "metadata": {
        "id": "ZlMa6t4KYY-T"
      },
      "execution_count": null,
      "outputs": []
    },
    {
      "cell_type": "code",
      "source": [
        "! bedtools bamtobed -i targetB20.s.bam > targetB20.s.bed "
      ],
      "metadata": {
        "id": "BWIAqOVRYokU"
      },
      "execution_count": null,
      "outputs": []
    },
    {
      "cell_type": "code",
      "source": [
        "! head targetB20.s.bed # reads in target region "
      ],
      "metadata": {
        "colab": {
          "base_uri": "https://localhost:8080/"
        },
        "id": "0ZQZY4_OY0LX",
        "outputId": "24b339b6-e3d7-483c-a1fd-41a154474204"
      },
      "execution_count": null,
      "outputs": [
        {
          "output_type": "stream",
          "name": "stdout",
          "text": [
            "19\t12479311\t12586570\tHISEQ:129:C2LRCACXX:1:2110:5448:97880\t0\t-\n",
            "19\t12479313\t12586570\tHISEQ:129:C2LRCACXX:1:2110:5448:97880\t0\t-\n",
            "19\t12479315\t12586570\tHISEQ:129:C2LRCACXX:1:2110:5448:97880\t0\t-\n",
            "19\t12479317\t12586570\tHISEQ:129:C2LRCACXX:1:2110:5448:97880\t0\t-\n",
            "19\t12486734\t12486835\tHISEQ:129:C2LRCACXX:1:2108:20530:65021\t60\t-\n",
            "19\t12487195\t12487296\tHISEQ:129:C2LRCACXX:1:1204:10203:87648\t60\t-\n",
            "19\t12487195\t12487296\tHISEQ:129:C2LRCACXX:1:2104:14666:2583\t60\t-\n"
          ]
        }
      ]
    },
    {
      "cell_type": "markdown",
      "source": [
        "### bedtools complement -i exons.bed -g genome.txt > non-exonic.bed -- to get intron coordinates "
      ],
      "metadata": {
        "id": "dG-9MZCtZwDM"
      }
    },
    {
      "cell_type": "code",
      "source": [
        "! head /content/chr19.exons"
      ],
      "metadata": {
        "colab": {
          "base_uri": "https://localhost:8080/"
        },
        "id": "TX1ps0mfZQek",
        "outputId": "607836e5-c0b8-4b38-d33e-479c62951406"
      },
      "execution_count": null,
      "outputs": [
        {
          "output_type": "stream",
          "name": "stdout",
          "text": [
            "19\t3103070\t3103277\t-\n",
            "19\t3109879\t3109990\t-\n",
            "19\t3115710\t3118148\t-\n",
            "19\t3119366\t3119439\t-\n",
            "19\t3122687\t3122952\t-\n",
            "19\t3125713\t3125884\t-\n",
            "19\t3184644\t3184958\t+\n",
            "19\t3186983\t3187089\t-\n",
            "19\t3192759\t3193064\t+\n",
            "19\t3195867\t3196264\t-\n"
          ]
        }
      ]
    },
    {
      "cell_type": "markdown",
      "source": [
        "Если вычести из всех ридов те, что попадают на экзоны, мы получим покрытие интронов:"
      ],
      "metadata": {
        "id": "leF48hH5f8qL"
      }
    },
    {
      "cell_type": "code",
      "source": [
        "! bedtools subtract -a targetB20.s.bed -b chr19.exons "
      ],
      "metadata": {
        "id": "bZEBhBsFbtwv"
      },
      "execution_count": null,
      "outputs": []
    },
    {
      "cell_type": "markdown",
      "source": [
        "Координаты интронных ридов:"
      ],
      "metadata": {
        "id": "vVr2e4VXgGIg"
      }
    },
    {
      "cell_type": "code",
      "source": [
        "! bedtools subtract -a targetB20.s.bed -b chr19.exons  > introns.bed \n",
        "! awk -F\"\\t\" '$5 > 0 { print $2\"\\t\"$3 }' introns.bed \n",
        "# retrieve introns in the region, covered by at least one read \n",
        "# $5 > 0 stands for coverage score"
      ],
      "metadata": {
        "colab": {
          "base_uri": "https://localhost:8080/"
        },
        "id": "LSjkMCE-dIvW",
        "outputId": "b3e00fde-d65b-442e-ac23-d7c6406c4698"
      },
      "execution_count": null,
      "outputs": [
        {
          "output_type": "stream",
          "name": "stdout",
          "text": [
            "12486734\t12486835\n",
            "12487195\t12487296\n",
            "12487195\t12487296\n"
          ]
        }
      ]
    }
  ],
  "metadata": {
    "colab": {
      "provenance": [],
      "authorship_tag": "ABX9TyNe663bHwWq+tLWOVpEnKd2",
      "include_colab_link": true
    },
    "kernelspec": {
      "display_name": "Python 3",
      "name": "python3"
    },
    "language_info": {
      "name": "python"
    }
  },
  "nbformat": 4,
  "nbformat_minor": 0
}