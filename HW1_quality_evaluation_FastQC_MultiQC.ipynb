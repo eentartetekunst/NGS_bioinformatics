{
  "cells": [
    {
      "cell_type": "markdown",
      "metadata": {
        "id": "view-in-github",
        "colab_type": "text"
      },
      "source": [
        "<a href=\"https://colab.research.google.com/github/eentartetekunst/NGS_bioinformatics/blob/main/HW1_quality_evaluation_FastQC_MultiQC.ipynb\" target=\"_parent\"><img src=\"https://colab.research.google.com/assets/colab-badge.svg\" alt=\"Open In Colab\"/></a>"
      ]
    },
    {
      "cell_type": "markdown",
      "metadata": {
        "id": "yXvzjEmxmmFa"
      },
      "source": [
        "\n",
        "Сегодня мы будем работать с данными РНК-сек полученными из коры (B) и мозжечка (C), мышей разного возраста (от 15.5 до 34 дней от зачатия). Данные лежат тут: shorturl.at/fgEJV. Для сокращения объема расчетов вы получите данные только для 19ой хромосомы.\n",
        "Ответом на данный практикум будет файлы содержащий необходимый код\n",
        "(.sh, .r, .ipynb), включая скачивание и распаковывание программ, картирование и подсчет количества ридов — пункты 7-11)\n"
      ]
    },
    {
      "cell_type": "markdown",
      "metadata": {
        "id": "AECJXb6AsLBX"
      },
      "source": [
        "## Install multiQC for evaluation of read quality"
      ]
    },
    {
      "cell_type": "code",
      "execution_count": null,
      "metadata": {
        "colab": {
          "base_uri": "https://localhost:8080/"
        },
        "id": "30_PY9cvn4IO",
        "outputId": "dea94efe-f46e-402d-ff33-394cd05a1137"
      },
      "outputs": [
        {
          "name": "stdout",
          "output_type": "stream",
          "text": [
            "Cloning into 'MultiQC'...\n",
            "remote: Enumerating objects: 37484, done.\u001b[K\n",
            "remote: Counting objects: 100% (903/903), done.\u001b[K\n",
            "remote: Compressing objects: 100% (546/546), done.\u001b[K\n",
            "remote: Total 37484 (delta 254), reused 884 (delta 244), pack-reused 36581\u001b[K\n",
            "Receiving objects: 100% (37484/37484), 25.53 MiB | 22.17 MiB/s, done.\n",
            "Resolving deltas: 100% (25125/25125), done.\n"
          ]
        }
      ],
      "source": [
        "! git clone https://github.com/ewels/MultiQC # install multiqc for read quality estimation (merges fastqc results)"
      ]
    },
    {
      "cell_type": "code",
      "execution_count": null,
      "metadata": {
        "colab": {
          "base_uri": "https://localhost:8080/"
        },
        "id": "BnTId5OkpIKT",
        "outputId": "1ce401d1-a021-4716-94cb-1b7dc6b6e8c6"
      },
      "outputs": [
        {
          "name": "stdout",
          "output_type": "stream",
          "text": [
            "CHANGELOG.md  Dockerfile  flake.nix    multiqc\t       setup.py\n",
            "CITATION.cff  docs\t  LICENSE      pyproject.toml  test\n",
            "CSP.txt       flake.lock  MANIFEST.in  README.md\n"
          ]
        }
      ],
      "source": [
        "! ls MultiQC"
      ]
    },
    {
      "cell_type": "code",
      "execution_count": null,
      "metadata": {
        "id": "b3H6Wb2JrUgU"
      },
      "outputs": [],
      "source": [
        "%%shell \n",
        "cd MultiQC\n",
        "python setup.py install"
      ]
    },
    {
      "cell_type": "markdown",
      "metadata": {
        "id": "vdBOeUJspPIt"
      },
      "source": [
        "## check read quality "
      ]
    },
    {
      "cell_type": "code",
      "execution_count": null,
      "metadata": {
        "id": "NCRtg3Jdl5XY"
      },
      "outputs": [],
      "source": [
        "! wget https://www.bioinformatics.babraham.ac.uk/projects/fastqc/fastqc_v0.11.9.zip \n",
        "! unzip fastqc_v0.11.9.zip"
      ]
    },
    {
      "cell_type": "code",
      "execution_count": null,
      "metadata": {
        "id": "tnIX5eernNKa"
      },
      "outputs": [],
      "source": [
        "!chmod a+x FastQC/fastqc"
      ]
    },
    {
      "cell_type": "markdown",
      "metadata": {
        "id": "vhkxAG0YYhhb"
      },
      "source": [
        "## check quality using fastqc and merge results into one html file using multifastqc"
      ]
    },
    {
      "cell_type": "code",
      "execution_count": null,
      "metadata": {
        "id": "LkDQAaDdwC2W"
      },
      "outputs": [],
      "source": [
        "#! cd /content\n",
        "#! mkdir reads\n",
        "#! mv -v *.gz /content/reads\n",
        "# reads is a directory containing all read files"
      ]
    },
    {
      "cell_type": "code",
      "execution_count": null,
      "metadata": {
        "id": "7QsfiSv_Qbqb"
      },
      "outputs": [],
      "source": [
        "! cd /content\n",
        "! mkdir -p /content/results/fastqc # dir for fastqc output"
      ]
    },
    {
      "cell_type": "code",
      "execution_count": null,
      "metadata": {
        "colab": {
          "base_uri": "https://localhost:8080/"
        },
        "id": "z91hqId8ZpUo",
        "outputId": "e202ac3a-6cc7-49f3-ad1d-72f95a8a8325"
      },
      "outputs": [
        {
          "name": "stdout",
          "output_type": "stream",
          "text": [
            "B14.5.fq.gz  B20.fq.gz\t  C15.5.fq.gz  C34.fq.gz\t   MultiQC\n",
            "B15.5.fq.gz  B34.fq.gz\t  C17.5.fq.gz  FastQC\t\t   results\n",
            "B17.5.fq.gz  C14.5.fq.gz  C20.fq.gz    fastqc_v0.11.9.zip  sample_data\n"
          ]
        }
      ],
      "source": [
        "! cd /content\n",
        "! ls"
      ]
    },
    {
      "cell_type": "markdown",
      "metadata": {
        "id": "oWe__k8KRJqR"
      },
      "source": [
        "-o ( --outdir) will create all output files in the specified output directory\n",
        "-t, specifies the number of files which can be processed simultaneously"
      ]
    },
    {
      "cell_type": "code",
      "execution_count": null,
      "metadata": {
        "id": "YlXx3M6fWPO-"
      },
      "outputs": [],
      "source": [
        "! FastQC/fastqc -o /content/results/fastqc/ -t 10 *.fq.gz  # procecces 10 files simultaneously\n",
        "# ! fastqc -o dir_name path_to_file/*"
      ]
    },
    {
      "cell_type": "code",
      "execution_count": null,
      "metadata": {
        "colab": {
          "base_uri": "https://localhost:8080/"
        },
        "id": "K-z8z_rTaqT1",
        "outputId": "5c15a950-70f3-4741-f1f6-9b908f3cba8a"
      },
      "outputs": [
        {
          "name": "stdout",
          "output_type": "stream",
          "text": [
            "\n",
            "  \u001b[34m/\u001b[0m\u001b[32m/\u001b[0m\u001b[31m/\u001b[0m \u001b]8;id=667967;https://multiqc.info\u001b\\\u001b[1mMultiQC\u001b[0m\u001b]8;;\u001b\\ 🔍 \u001b[2m| v1.14.dev0\u001b[0m\n",
            "\n"
          ]
        }
      ],
      "source": [
        "! multiqc -q /content/results/fastqc -o /content/results\n",
        "# merge reports"
      ]
    }
  ],
  "metadata": {
    "colab": {
      "provenance": [],
      "authorship_tag": "ABX9TyMz7R/GcJwP6QiuTc8Aztj8",
      "include_colab_link": true
    },
    "kernelspec": {
      "display_name": "Python 3",
      "name": "python3"
    },
    "language_info": {
      "name": "python"
    }
  },
  "nbformat": 4,
  "nbformat_minor": 0
}