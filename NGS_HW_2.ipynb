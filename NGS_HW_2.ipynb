{
  "cells": [
    {
      "cell_type": "markdown",
      "metadata": {
        "id": "view-in-github",
        "colab_type": "text"
      },
      "source": [
        "<a href=\"https://colab.research.google.com/github/eentartetekunst/NGS_bioinformatics/blob/main/NGS_HW_2.ipynb\" target=\"_parent\"><img src=\"https://colab.research.google.com/assets/colab-badge.svg\" alt=\"Open In Colab\"/></a>"
      ]
    },
    {
      "cell_type": "code",
      "execution_count": 1,
      "metadata": {
        "id": "RTRuP0hw0-aj"
      },
      "outputs": [],
      "source": [
        "import os"
      ]
    },
    {
      "cell_type": "code",
      "execution_count": 2,
      "metadata": {
        "id": "WH-6IhSw9XUu",
        "colab": {
          "base_uri": "https://localhost:8080/"
        },
        "outputId": "f0ed5ee5-e23c-487b-8cad-b81e21756fe5"
      },
      "outputs": [
        {
          "output_type": "stream",
          "name": "stdout",
          "text": [
            "\u001b[33mWARNING: Running pip as the 'root' user can result in broken permissions and conflicting behaviour with the system package manager. It is recommended to use a virtual environment instead: https://pip.pypa.io/warnings/venv\u001b[0m\u001b[33m\n",
            "\u001b[0m"
          ]
        }
      ],
      "source": [
        "! pip install -q condacolab"
      ]
    },
    {
      "cell_type": "code",
      "execution_count": 3,
      "metadata": {
        "id": "QJZgQLwg9Y5e",
        "colab": {
          "base_uri": "https://localhost:8080/"
        },
        "outputId": "93c80e60-bd9f-4e8d-cc0f-378f1cc4b62d"
      },
      "outputs": [
        {
          "output_type": "stream",
          "name": "stdout",
          "text": [
            "✨🍰✨ Everything looks OK!\n"
          ]
        }
      ],
      "source": [
        "import condacolab\n",
        "condacolab.install()"
      ]
    },
    {
      "cell_type": "code",
      "execution_count": 4,
      "metadata": {
        "id": "Im-EjAz69Y8O",
        "colab": {
          "base_uri": "https://localhost:8080/"
        },
        "outputId": "dfbcf90a-72aa-4ffa-e1d6-aea7e14fd50e"
      },
      "outputs": [
        {
          "output_type": "stream",
          "name": "stdout",
          "text": [
            "Collecting package metadata (current_repodata.json): - \b\b\\ \b\b| \b\b/ \b\b- \b\b\\ \b\b| \b\b/ \b\b- \b\b\\ \b\b| \b\b/ \b\b- \b\b\\ \b\b| \b\b/ \b\b- \b\b\\ \b\b| \b\b/ \b\b- \b\b\\ \b\bdone\n",
            "Solving environment: / \b\b- \b\b\\ \b\b| \b\b/ \b\b- \b\b\\ \b\b| \b\b/ \b\b- \b\b\\ \b\b| \b\b/ \b\b- \b\b\\ \b\b| \b\b/ \b\b- \b\b\\ \b\b| \b\b/ \b\b- \b\b\\ \b\b| \b\b/ \b\bdone\n",
            "\n",
            "# All requested packages already installed.\n",
            "\n",
            "Retrieving notices: ...working... done\n"
          ]
        }
      ],
      "source": [
        "!conda install -y -c bioconda samtools"
      ]
    },
    {
      "cell_type": "code",
      "source": [
        "! conda install -c bioconda subread "
      ],
      "metadata": {
        "colab": {
          "base_uri": "https://localhost:8080/"
        },
        "id": "GjRRCASGUkRY",
        "outputId": "f95bc67b-f9d1-45ad-befd-025ee3aa4907"
      },
      "execution_count": 5,
      "outputs": [
        {
          "output_type": "stream",
          "name": "stdout",
          "text": [
            "Collecting package metadata (current_repodata.json): - \b\b\\ \b\b| \b\b/ \b\b- \b\b\\ \b\b| \b\b/ \b\b- \b\b\\ \b\b| \b\b/ \b\b- \b\b\\ \b\b| \b\b/ \b\b- \b\b\\ \b\b| \b\b/ \b\b- \b\b\\ \b\bdone\n",
            "Solving environment: / \b\b- \b\b\\ \b\b| \b\b/ \b\b- \b\b\\ \b\b| \b\b/ \b\b- \b\b\\ \b\b| \b\b/ \b\b- \b\b\\ \b\b| \b\b/ \b\bdone\n",
            "\n",
            "## Package Plan ##\n",
            "\n",
            "  environment location: /usr/local\n",
            "\n",
            "  added / updated specs:\n",
            "    - subread\n",
            "\n",
            "\n",
            "The following packages will be downloaded:\n",
            "\n",
            "    package                    |            build\n",
            "    ---------------------------|-----------------\n",
            "    subread-2.0.1              |       h7132678_2        22.9 MB  bioconda\n",
            "    ------------------------------------------------------------\n",
            "                                           Total:        22.9 MB\n",
            "\n",
            "The following NEW packages will be INSTALLED:\n",
            "\n",
            "  subread            bioconda/linux-64::subread-2.0.1-h7132678_2 None\n",
            "\n",
            "\n",
            "\n",
            "Downloading and Extracting Packages\n",
            "subread-2.0.1        | 22.9 MB   | : 100% 1.0/1 [00:04<00:00,  4.41s/it]               \n",
            "Preparing transaction: \\ \b\bdone\n",
            "Verifying transaction: / \b\b- \b\b\\ \b\b| \b\bdone\n",
            "Executing transaction: - \b\bdone\n",
            "Retrieving notices: ...working... done\n"
          ]
        }
      ]
    },
    {
      "cell_type": "code",
      "execution_count": 6,
      "metadata": {
        "id": "LNFe1b_H9Y-Z",
        "colab": {
          "base_uri": "https://localhost:8080/"
        },
        "outputId": "6baadf75-5c5a-4eea-f188-911d6d57961e"
      },
      "outputs": [
        {
          "output_type": "stream",
          "name": "stdout",
          "text": [
            "Reading package lists... Done\n",
            "Building dependency tree       \n",
            "Reading state information... Done\n",
            "The following package was automatically installed and is no longer required:\n",
            "  libnvidia-common-460\n",
            "Use 'sudo apt autoremove' to remove it.\n",
            "The following NEW packages will be installed:\n",
            "  bedtools\n",
            "0 upgraded, 1 newly installed, 0 to remove and 12 not upgraded.\n",
            "Need to get 577 kB of archives.\n",
            "After this operation, 2,040 kB of additional disk space will be used.\n",
            "Get:1 http://archive.ubuntu.com/ubuntu bionic/universe amd64 bedtools amd64 2.26.0+dfsg-5 [577 kB]\n",
            "Fetched 577 kB in 1s (565 kB/s)\n",
            "debconf: unable to initialize frontend: Dialog\n",
            "debconf: (No usable dialog-like program is installed, so the dialog based frontend cannot be used. at /usr/share/perl5/Debconf/FrontEnd/Dialog.pm line 76, <> line 1.)\n",
            "debconf: falling back to frontend: Readline\n",
            "debconf: unable to initialize frontend: Readline\n",
            "debconf: (This frontend requires a controlling tty.)\n",
            "debconf: falling back to frontend: Teletype\n",
            "dpkg-preconfigure: unable to re-open stdin: \n",
            "Selecting previously unselected package bedtools.\n",
            "(Reading database ... 123934 files and directories currently installed.)\n",
            "Preparing to unpack .../bedtools_2.26.0+dfsg-5_amd64.deb ...\n",
            "Unpacking bedtools (2.26.0+dfsg-5) ...\n",
            "Setting up bedtools (2.26.0+dfsg-5) ...\n"
          ]
        }
      ],
      "source": [
        "! sudo apt install bedtools"
      ]
    },
    {
      "cell_type": "code",
      "execution_count": 7,
      "metadata": {
        "id": "KN8Dn0zV9ZBB",
        "colab": {
          "base_uri": "https://localhost:8080/"
        },
        "outputId": "607f36e3-ee93-424a-ee6d-494e68f01ba7"
      },
      "outputs": [
        {
          "output_type": "stream",
          "name": "stdout",
          "text": [
            "Collecting package metadata (current_repodata.json): - \b\b\\ \b\b| \b\b/ \b\b- \b\b\\ \b\b| \b\b/ \b\b- \b\b\\ \b\b| \b\b/ \b\b- \b\b\\ \b\b| \b\b/ \b\b- \b\b\\ \b\b| \b\b/ \b\b- \b\b\\ \b\b| \b\bdone\n",
            "Solving environment: - \b\b\\ \b\b| \b\b/ \b\b- \b\b\\ \b\b| \b\b/ \b\b- \b\b\\ \b\b| \b\b/ \b\b- \b\b\\ \b\b| \b\bdone\n",
            "\n",
            "## Package Plan ##\n",
            "\n",
            "  environment location: /usr/local\n",
            "\n",
            "  added / updated specs:\n",
            "    - regtools\n",
            "\n",
            "\n",
            "The following packages will be downloaded:\n",
            "\n",
            "    package                    |            build\n",
            "    ---------------------------|-----------------\n",
            "    regtools-0.6.1             |       hd03093a_0         5.0 MB  bioconda\n",
            "    ------------------------------------------------------------\n",
            "                                           Total:         5.0 MB\n",
            "\n",
            "The following NEW packages will be INSTALLED:\n",
            "\n",
            "  regtools           bioconda/linux-64::regtools-0.6.1-hd03093a_0 None\n",
            "\n",
            "\n",
            "\n",
            "Downloading and Extracting Packages\n",
            "regtools-0.6.1       | 5.0 MB    | : 100% 1.0/1 [00:01<00:00,  1.68s/it]               \n",
            "Preparing transaction: - \b\bdone\n",
            "Verifying transaction: | \b\bdone\n",
            "Executing transaction: - \b\bdone\n",
            "Retrieving notices: ...working... done\n"
          ]
        }
      ],
      "source": [
        "! conda install -c bioconda regtools"
      ]
    },
    {
      "cell_type": "code",
      "execution_count": 8,
      "metadata": {
        "id": "KcM3_4r89ZD4",
        "colab": {
          "base_uri": "https://localhost:8080/"
        },
        "outputId": "fe1503d7-6a03-4454-9f1d-a57e2294363a"
      },
      "outputs": [
        {
          "output_type": "stream",
          "name": "stdout",
          "text": [
            "\r0% [Working]\r            \rGet:1 https://cloud.r-project.org/bin/linux/ubuntu bionic-cran40/ InRelease [3,626 B]\n",
            "\r0% [Connecting to archive.ubuntu.com (185.125.190.39)] [Connecting to security.\r0% [Connecting to archive.ubuntu.com (185.125.190.39)] [Connecting to security.\r0% [1 InRelease gpgv 3,626 B] [Connecting to archive.ubuntu.com (185.125.190.39\r                                                                               \rIgn:2 https://developer.download.nvidia.com/compute/machine-learning/repos/ubuntu1804/x86_64  InRelease\n",
            "\r0% [1 InRelease gpgv 3,626 B] [Waiting for headers] [Waiting for headers] [Wait\r                                                                               \rHit:3 https://developer.download.nvidia.com/compute/cuda/repos/ubuntu1804/x86_64  InRelease\n",
            "Hit:4 https://developer.download.nvidia.com/compute/machine-learning/repos/ubuntu1804/x86_64  Release\n",
            "Hit:5 http://archive.ubuntu.com/ubuntu bionic InRelease\n",
            "Get:6 http://security.ubuntu.com/ubuntu bionic-security InRelease [88.7 kB]\n",
            "Get:7 http://ppa.launchpad.net/c2d4u.team/c2d4u4.0+/ubuntu bionic InRelease [15.9 kB]\n",
            "Get:8 http://archive.ubuntu.com/ubuntu bionic-updates InRelease [88.7 kB]\n",
            "Hit:10 http://ppa.launchpad.net/cran/libgit2/ubuntu bionic InRelease\n",
            "Get:11 http://archive.ubuntu.com/ubuntu bionic-backports InRelease [83.3 kB]\n",
            "Hit:12 http://ppa.launchpad.net/deadsnakes/ppa/ubuntu bionic InRelease\n",
            "Hit:13 http://ppa.launchpad.net/graphics-drivers/ppa/ubuntu bionic InRelease\n",
            "Get:14 http://security.ubuntu.com/ubuntu bionic-security/restricted amd64 Packages [1,183 kB]\n",
            "Get:15 http://ppa.launchpad.net/c2d4u.team/c2d4u4.0+/ubuntu bionic/main Sources [2,164 kB]\n",
            "Get:16 http://archive.ubuntu.com/ubuntu bionic-updates/main amd64 Packages [3,436 kB]\n",
            "Get:17 http://security.ubuntu.com/ubuntu bionic-security/universe amd64 Packages [1,550 kB]\n",
            "Get:18 http://security.ubuntu.com/ubuntu bionic-security/main amd64 Packages [3,005 kB]\n",
            "Get:19 http://archive.ubuntu.com/ubuntu bionic-updates/restricted amd64 Packages [1,223 kB]\n",
            "Get:20 http://archive.ubuntu.com/ubuntu bionic-updates/universe amd64 Packages [2,328 kB]\n",
            "Get:21 http://ppa.launchpad.net/c2d4u.team/c2d4u4.0+/ubuntu bionic/main amd64 Packages [1,109 kB]\n",
            "Fetched 16.3 MB in 3s (5,299 kB/s)\n",
            "Reading package lists... Done\n",
            "Reading package lists... Done\n",
            "Building dependency tree       \n",
            "Reading state information... Done\n",
            "The following package was automatically installed and is no longer required:\n",
            "  libnvidia-common-460\n",
            "Use 'sudo apt autoremove' to remove it.\n",
            "The following NEW packages will be installed:\n",
            "  hisat2\n",
            "0 upgraded, 1 newly installed, 0 to remove and 22 not upgraded.\n",
            "Need to get 1,278 kB of archives.\n",
            "After this operation, 5,144 kB of additional disk space will be used.\n",
            "Get:1 http://archive.ubuntu.com/ubuntu bionic/universe amd64 hisat2 amd64 2.1.0-1 [1,278 kB]\n",
            "Fetched 1,278 kB in 1s (1,324 kB/s)\n",
            "debconf: unable to initialize frontend: Dialog\n",
            "debconf: (No usable dialog-like program is installed, so the dialog based frontend cannot be used. at /usr/share/perl5/Debconf/FrontEnd/Dialog.pm line 76, <> line 1.)\n",
            "debconf: falling back to frontend: Readline\n",
            "debconf: unable to initialize frontend: Readline\n",
            "debconf: (This frontend requires a controlling tty.)\n",
            "debconf: falling back to frontend: Teletype\n",
            "dpkg-preconfigure: unable to re-open stdin: \n",
            "Selecting previously unselected package hisat2.\n",
            "(Reading database ... 123985 files and directories currently installed.)\n",
            "Preparing to unpack .../hisat2_2.1.0-1_amd64.deb ...\n",
            "Unpacking hisat2 (2.1.0-1) ...\n",
            "Setting up hisat2 (2.1.0-1) ...\n",
            "Processing triggers for man-db (2.8.3-2ubuntu0.1) ...\n"
          ]
        }
      ],
      "source": [
        "! sudo apt-get update\n",
        "! sudo apt-get -y install hisat2"
      ]
    },
    {
      "cell_type": "code",
      "execution_count": 9,
      "metadata": {
        "id": "uzgMZQnqO5LW",
        "colab": {
          "base_uri": "https://localhost:8080/"
        },
        "outputId": "455fd88e-4f11-4a6c-be87-c3c4b288b29e"
      },
      "outputs": [
        {
          "output_type": "stream",
          "name": "stdout",
          "text": [
            "Collecting package metadata (current_repodata.json): - \b\b\\ \b\b| \b\b/ \b\b- \b\b\\ \b\b| \b\b/ \b\b- \b\b\\ \b\b| \b\b/ \b\b- \b\b\\ \b\b| \b\b/ \b\b- \b\b\\ \b\b| \b\b/ \b\b- \b\b\\ \b\b| \b\bdone\n",
            "Solving environment: - \b\b\\ \b\b| \b\b/ \b\b- \b\b\\ \b\b| \b\b/ \b\b- \b\b\\ \b\b| \b\b/ \b\b- \b\b\\ \b\b| \b\b/ \b\b- \b\b\\ \b\bdone\n",
            "\n",
            "## Package Plan ##\n",
            "\n",
            "  environment location: /usr/local\n",
            "\n",
            "  added / updated specs:\n",
            "    - stringtie\n",
            "\n",
            "\n",
            "The following packages will be downloaded:\n",
            "\n",
            "    package                    |            build\n",
            "    ---------------------------|-----------------\n",
            "    stringtie-2.2.1            |       ha04fe3b_3         355 KB  bioconda\n",
            "    ------------------------------------------------------------\n",
            "                                           Total:         355 KB\n",
            "\n",
            "The following NEW packages will be INSTALLED:\n",
            "\n",
            "  stringtie          bioconda/linux-64::stringtie-2.2.1-ha04fe3b_3 None\n",
            "\n",
            "\n",
            "\n",
            "Downloading and Extracting Packages\n",
            "stringtie-2.2.1      | 355 KB    | : 100% 1.0/1 [00:00<00:00,  3.54it/s]                 \n",
            "Preparing transaction: / \b\bdone\n",
            "Verifying transaction: \\ \b\bdone\n",
            "Executing transaction: / \b\bdone\n",
            "Retrieving notices: ...working... done\n"
          ]
        }
      ],
      "source": [
        "! conda install -c bioconda stringtie "
      ]
    },
    {
      "cell_type": "markdown",
      "metadata": {
        "id": "HXmZA3-D-XiW"
      },
      "source": [
        "## download genome and its annotation"
      ]
    },
    {
      "cell_type": "code",
      "execution_count": 10,
      "metadata": {
        "id": "qzheMExj2B82",
        "colab": {
          "base_uri": "https://localhost:8080/"
        },
        "outputId": "da101e1c-68d5-47cc-d945-c9d8723fa1c8"
      },
      "outputs": [
        {
          "output_type": "stream",
          "name": "stdout",
          "text": [
            "--2022-10-11 18:34:59--  http://ftp.ensembl.org/pub/release-107/fasta/mus_musculus/dna/Mus_musculus.GRCm39.dna.chromosome.19.fa.gz\n",
            "Resolving ftp.ensembl.org (ftp.ensembl.org)... 193.62.193.139\n",
            "Connecting to ftp.ensembl.org (ftp.ensembl.org)|193.62.193.139|:80... connected.\n",
            "HTTP request sent, awaiting response... 200 OK\n",
            "Length: 17732438 (17M) [application/x-gzip]\n",
            "Saving to: ‘Mus_musculus.GRCm39.dna.chromosome.19.fa.gz’\n",
            "\n",
            "Mus_musculus.GRCm39 100%[===================>]  16.91M   649KB/s    in 27s     \n",
            "\n",
            "2022-10-11 18:35:27 (637 KB/s) - ‘Mus_musculus.GRCm39.dna.chromosome.19.fa.gz’ saved [17732438/17732438]\n",
            "\n",
            "--2022-10-11 18:35:27--  http://ftp.ensembl.org/pub/release-107/gtf/mus_musculus/Mus_musculus.GRCm39.107.gtf.gz\n",
            "Resolving ftp.ensembl.org (ftp.ensembl.org)... 193.62.193.139\n",
            "Connecting to ftp.ensembl.org (ftp.ensembl.org)|193.62.193.139|:80... connected.\n",
            "HTTP request sent, awaiting response... 200 OK\n",
            "Length: 31861821 (30M) [application/x-gzip]\n",
            "Saving to: ‘Mus_musculus.GRCm39.107.gtf.gz’\n",
            "\n",
            "Mus_musculus.GRCm39 100%[===================>]  30.39M   649KB/s    in 49s     \n",
            "\n",
            "2022-10-11 18:36:16 (638 KB/s) - ‘Mus_musculus.GRCm39.107.gtf.gz’ saved [31861821/31861821]\n",
            "\n"
          ]
        }
      ],
      "source": [
        "! wget http://ftp.ensembl.org/pub/release-107/fasta/mus_musculus/dna/Mus_musculus.GRCm39.dna.chromosome.19.fa.gz #chr19 sequence\n",
        "! wget http://ftp.ensembl.org/pub/release-107/gtf/mus_musculus/Mus_musculus.GRCm39.107.gtf.gz # annotation\n",
        "! gzip -d Mus_musculus.GRCm39.dna.chromosome.19.fa.gz # unarchieve files\n",
        "\n",
        "! touch chr19-annotation \n",
        "! gzip -d Mus_musculus.GRCm39.107.gtf.gz > chr19-annotation \n",
        "\n",
        "# select chr 19 from the annotation\n",
        "! touch chr19-annotation \n",
        "! grep -P '^19\\t' /content/Mus_musculus.GRCm39.107.gtf > chr19-annotation "
      ]
    },
    {
      "cell_type": "code",
      "execution_count": 11,
      "metadata": {
        "id": "JmxBIeu__kGR",
        "colab": {
          "base_uri": "https://localhost:8080/"
        },
        "outputId": "fe608fc4-f8f4-4131-acb4-f96563207e01"
      },
      "outputs": [
        {
          "output_type": "stream",
          "name": "stdout",
          "text": [
            "19\tensembl\tgene\t56265950\t56266077\t.\t-\t.\tgene_id \"ENSMUSG00000077223\"; gene_version \"3\"; gene_name \"Gm22271\"; gene_source \"ensembl\"; gene_biotype \"snoRNA\";\n",
            "19\tensembl\ttranscript\t56265950\t56266077\t.\t-\t.\tgene_id \"ENSMUSG00000077223\"; gene_version \"3\"; transcript_id \"ENSMUST00000104035\"; transcript_version \"3\"; gene_name \"Gm22271\"; gene_source \"ensembl\"; gene_biotype \"snoRNA\"; transcript_name \"Gm22271-201\"; transcript_source \"ensembl\"; transcript_biotype \"snoRNA\"; tag \"basic\"; transcript_support_level \"NA (assigned to previous version 1)\";\n"
          ]
        }
      ],
      "source": [
        "! head -n2 chr19-annotation"
      ]
    },
    {
      "cell_type": "markdown",
      "metadata": {
        "id": "ncWcqns_VPAS"
      },
      "source": [
        "## extract coordinates of exons and splicing sites from the annotation"
      ]
    },
    {
      "cell_type": "code",
      "execution_count": 12,
      "metadata": {
        "id": "itsliym02NQA",
        "colab": {
          "base_uri": "https://localhost:8080/"
        },
        "outputId": "b6c557d8-3a68-45c4-97f1-9bc3ab774bdd"
      },
      "outputs": [
        {
          "output_type": "stream",
          "name": "stdout",
          "text": [
            "--2022-10-11 18:37:06--  https://raw.githubusercontent.com/dekoning-lab/ezmap/master/tools/HISAT2/hisat2-2.0.5-Linux/extract_splice_sites.py\n",
            "Resolving raw.githubusercontent.com (raw.githubusercontent.com)... 185.199.109.133, 185.199.110.133, 185.199.108.133, ...\n",
            "Connecting to raw.githubusercontent.com (raw.githubusercontent.com)|185.199.109.133|:443... connected.\n",
            "HTTP request sent, awaiting response... 200 OK\n",
            "Length: 5021 (4.9K) [text/plain]\n",
            "Saving to: ‘extract_splice_sites.py’\n",
            "\n",
            "\rextract_splice_site   0%[                    ]       0  --.-KB/s               \rextract_splice_site 100%[===================>]   4.90K  --.-KB/s    in 0s      \n",
            "\n",
            "2022-10-11 18:37:06 (43.2 MB/s) - ‘extract_splice_sites.py’ saved [5021/5021]\n",
            "\n",
            "usage: extract_splice_sites.py [-h] [-v] [gtf_file]\n",
            "\n",
            "Extract splice junctions from a GTF file\n",
            "\n",
            "positional arguments:\n",
            "  gtf_file       input GTF file (use \"-\" for stdin)\n",
            "\n",
            "optional arguments:\n",
            "  -h, --help     show this help message and exit\n",
            "  -v, --verbose  also print some statistics to stderr\n"
          ]
        }
      ],
      "source": [
        "! wget https://raw.githubusercontent.com/dekoning-lab/ezmap/master/tools/HISAT2/hisat2-2.0.5-Linux/extract_splice_sites.py\n",
        "! chmod a+x extract_splice_sites.py\n",
        "! ./extract_splice_sites.py "
      ]
    },
    {
      "cell_type": "code",
      "execution_count": 13,
      "metadata": {
        "id": "0_8jG3-62POD",
        "colab": {
          "base_uri": "https://localhost:8080/"
        },
        "outputId": "1bcb6bf3-8f3f-427b-b62f-414a72b6a6e9"
      },
      "outputs": [
        {
          "output_type": "stream",
          "name": "stdout",
          "text": [
            "--2022-10-11 18:37:07--  https://raw.githubusercontent.com/dekoning-lab/ezmap/master/tools/HISAT2/hisat2-2.0.5-Linux/extract_exons.py\n",
            "Resolving raw.githubusercontent.com (raw.githubusercontent.com)... 185.199.108.133, 185.199.109.133, 185.199.110.133, ...\n",
            "Connecting to raw.githubusercontent.com (raw.githubusercontent.com)|185.199.108.133|:443... connected.\n",
            "HTTP request sent, awaiting response... 200 OK\n",
            "Length: 5597 (5.5K) [text/plain]\n",
            "Saving to: ‘extract_exons.py’\n",
            "\n",
            "extract_exons.py    100%[===================>]   5.47K  --.-KB/s    in 0s      \n",
            "\n",
            "2022-10-11 18:37:07 (40.6 MB/s) - ‘extract_exons.py’ saved [5597/5597]\n",
            "\n",
            "usage: extract_exons.py [-h] [-v] [gtf_file]\n",
            "\n",
            "Extract exons from a GTF file\n",
            "\n",
            "positional arguments:\n",
            "  gtf_file       input GTF file (use \"-\" for stdin)\n",
            "\n",
            "optional arguments:\n",
            "  -h, --help     show this help message and exit\n",
            "  -v, --verbose  also print some statistics to stderr\n"
          ]
        }
      ],
      "source": [
        "! wget https://raw.githubusercontent.com/dekoning-lab/ezmap/master/tools/HISAT2/hisat2-2.0.5-Linux/extract_exons.py\n",
        "! chmod a+x extract_exons.py\n",
        "! ./extract_exons.py"
      ]
    },
    {
      "cell_type": "code",
      "execution_count": 14,
      "metadata": {
        "id": "u8TaDqSu2SUP"
      },
      "outputs": [],
      "source": [
        " # extract splicinge sites and exons from the annotation\n",
        "! ./extract_splice_sites.py chr19-annotation > chr19.ss\n",
        "! ! ./extract_exons.py chr19-annotation > chr19.exons "
      ]
    },
    {
      "cell_type": "markdown",
      "metadata": {
        "id": "Cankcxel1Axs"
      },
      "source": [
        "# 1. Прокартируйте все образцы при помощи hisat2"
      ]
    },
    {
      "cell_type": "code",
      "execution_count": 15,
      "metadata": {
        "id": "TrXAnLzi2Y3y",
        "colab": {
          "base_uri": "https://localhost:8080/"
        },
        "outputId": "c861c799-d812-48e0-ac8c-9b92539e5d66"
      },
      "outputs": [
        {
          "output_type": "stream",
          "name": "stdout",
          "text": [
            "Settings:\n",
            "  Output files: \"base-index.*.ht2\"\n",
            "  Line rate: 7 (line is 128 bytes)\n",
            "  Lines per side: 1 (side is 128 bytes)\n",
            "  Offset rate: 4 (one in 16)\n",
            "  FTable chars: 10\n",
            "  Strings: unpacked\n",
            "  Local offset rate: 3 (one in 8)\n",
            "  Local fTable chars: 6\n",
            "  Local sequence length: 57344\n",
            "  Local sequence overlap between two consecutive indexes: 1024\n",
            "  Endianness: little\n",
            "  Actual local endianness: little\n",
            "  Sanity checking: disabled\n",
            "  Assertions: disabled\n",
            "  Random seed: 0\n",
            "  Sizeofs: void*:8, int:4, long:8, size_t:8\n",
            "Input files DNA, FASTA:\n",
            "  Mus_musculus.GRCm39.dna.chromosome.19.fa\n",
            "Reading reference sizes\n",
            "  Time reading reference sizes: 00:00:01\n",
            "Calculating joined length\n",
            "Writing header\n",
            "Reserving space for joined string\n",
            "Joining reference sequences\n",
            "  Time to join reference sequences: 00:00:00\n",
            "  Time to read SNPs and splice sites: 00:00:00\n",
            "Generation 0 (58229592 -> 58229592 nodes, 0 ranks)\n",
            "COUNTED NEW NODES: 0\n",
            "COUNTED TEMP NODES: 0\n",
            "RESIZED NODES: 0\n",
            "RESIZED NODES: 0\n",
            "MADE NEW NODES: 1\n",
            "Generation 1 (58238835 -> 58238835 nodes, 0 ranks)\n",
            "COUNTED NEW NODES: 0\n",
            "COUNTED TEMP NODES: 0\n",
            "RESIZED NODES: 0\n",
            "RESIZED NODES: 0\n",
            "MADE NEW NODES: 1\n",
            "Generation 2 (58257324 -> 58257324 nodes, 0 ranks)\n",
            "COUNTED NEW NODES: 0\n",
            "COUNTED TEMP NODES: 0\n",
            "RESIZED NODES: 0\n",
            "RESIZED NODES: 0\n",
            "MADE NEW NODES: 0\n",
            "Generation 3 (58294309 -> 58294309 nodes, 0 ranks)\n",
            "BUILT FROM_INDEX: 1\n",
            "COUNTED NEW NODES: 0\n",
            "COUNTED TEMP NODES: 0\n",
            "RESIZED NODES: 0\n",
            "RESIZED NODES: 0\n",
            "MADE NEW NODES: 0\n",
            "RESIZE NODES: 1\n",
            "SORT NODES: 7\n",
            "MERGE, UPDATE RANK: 1\n",
            "Generation 4 (58368331 -> 58313410 nodes, 49110827 ranks)\n",
            "tcmalloc: large alloc 1077936128 bytes == 0x55735c762000 @  0x7f5204ac7887 0x5572d560a742 0x5572d5650d9f 0x5572d5658a48 0x5572d566be24 0x5572d566f0ff 0x5572d5676a70 0x5572d560e2c2 0x5572d5607ed3 0x7f5204105c87 0x5572d5608a2a\n",
            "ALLOCATE FROM_TABLE: 0\n",
            "BUILD TABLE: 5\n",
            "BUILD INDEX: 0\n",
            "COUNTED NEW NODES: 0\n",
            "COUNTED TEMP NODES: 0\n",
            "RESIZED NODES: 0\n",
            "RESIZED NODES: 0\n",
            "MADE NEW NODES: 2\n",
            "MERGEUPDATERANK: 0\n",
            "TOTAL TIME: 7\n",
            "Generation 5 (58319557 -> 58313558 nodes, 54635276 ranks)\n",
            "ALLOCATE FROM_TABLE: 0\n",
            "BUILD TABLE: 5\n",
            "BUILD INDEX: 1\n",
            "COUNTED NEW NODES: 0\n",
            "COUNTED TEMP NODES: 0\n",
            "RESIZED NODES: 0\n",
            "RESIZED NODES: 0\n",
            "MADE NEW NODES: 1\n",
            "MERGEUPDATERANK: 0\n",
            "TOTAL TIME: 7\n",
            "Generation 6 (58316195 -> 58315009 nodes, 56680017 ranks)\n",
            "ALLOCATE FROM_TABLE: 0\n",
            "BUILD TABLE: 5\n",
            "BUILD INDEX: 0\n",
            "COUNTED NEW NODES: 0\n",
            "COUNTED TEMP NODES: 0\n",
            "RESIZED NODES: 0\n",
            "RESIZED NODES: 0\n",
            "MADE NEW NODES: 0\n",
            "MERGEUPDATERANK: 1\n",
            "TOTAL TIME: 6\n",
            "Generation 7 (58317175 -> 58316148 nodes, 57551520 ranks)\n",
            "ALLOCATE FROM_TABLE: 0\n",
            "BUILD TABLE: 5\n",
            "BUILD INDEX: 0\n",
            "COUNTED NEW NODES: 1\n",
            "COUNTED TEMP NODES: 0\n",
            "RESIZED NODES: 0\n",
            "RESIZED NODES: 0\n",
            "MADE NEW NODES: 0\n",
            "MERGEUPDATERANK: 1\n",
            "TOTAL TIME: 7\n",
            "Generation 8 (58317318 -> 58316480 nodes, 57947051 ranks)\n",
            "ALLOCATE FROM_TABLE: 0\n",
            "BUILD TABLE: 5\n",
            "BUILD INDEX: 0\n",
            "COUNTED NEW NODES: 0\n",
            "COUNTED TEMP NODES: 0\n",
            "RESIZED NODES: 0\n",
            "RESIZED NODES: 0\n",
            "MADE NEW NODES: 1\n",
            "MERGEUPDATERANK: 0\n",
            "TOTAL TIME: 6\n",
            "Generation 9 (58317031 -> 58316482 nodes, 58154142 ranks)\n",
            "ALLOCATE FROM_TABLE: 0\n",
            "BUILD TABLE: 4\n",
            "BUILD INDEX: 0\n",
            "COUNTED NEW NODES: 0\n",
            "COUNTED TEMP NODES: 0\n",
            "RESIZED NODES: 0\n",
            "RESIZED NODES: 0\n",
            "MADE NEW NODES: 1\n",
            "MERGEUPDATERANK: 0\n",
            "TOTAL TIME: 5\n",
            "Generation 10 (58316994 -> 58316994 nodes, 58262196 ranks)\n",
            "ALLOCATE FROM_TABLE: 0\n",
            "BUILD TABLE: 5\n",
            "BUILD INDEX: 0\n",
            "COUNTED NEW NODES: 0\n",
            "COUNTED TEMP NODES: 0\n",
            "RESIZED NODES: 0\n",
            "RESIZED NODES: 0\n",
            "MADE NEW NODES: 0\n",
            "MERGEUPDATERANK: 0\n",
            "TOTAL TIME: 5\n",
            "Generation 11 (58318018 -> 58318018 nodes, 58310720 ranks)\n",
            "ALLOCATE FROM_TABLE: 0\n",
            "BUILD TABLE: 5\n",
            "BUILD INDEX: 0\n",
            "COUNTED NEW NODES: 0\n",
            "COUNTED TEMP NODES: 0\n",
            "RESIZED NODES: 0\n",
            "RESIZED NODES: 0\n",
            "MADE NEW NODES: 0\n",
            "MERGEUPDATERANK: 1\n",
            "TOTAL TIME: 6\n",
            "Generation 12 (58318140 -> 58318140 nodes, 58317867 ranks)\n",
            "ALLOCATE FROM_TABLE: 0\n",
            "BUILD TABLE: 5\n",
            "BUILD INDEX: 0\n",
            "COUNTED NEW NODES: 0\n",
            "COUNTED TEMP NODES: 0\n",
            "RESIZED NODES: 0\n",
            "RESIZED NODES: 0\n",
            "MADE NEW NODES: 0\n",
            "MERGEUPDATERANK: 0\n",
            "TOTAL TIME: 5\n",
            "Generation 13 (58318140 -> 58318140 nodes, 58318140 ranks)\n",
            "Generating edges... \n",
            "NODE.TO -> GENOME POS: 0\n",
            "BUILD FROM_INDEX 0\n",
            "COUNTED NEW EDGES: 1\n",
            "MADE NEW EDGES: 1\n",
            "SORTED NEW EDGES: 5\n",
            "RE-SORTED NODES: 6\n",
            "PROCESS EDGES: 0\n",
            "REMOVE Y: 0\n",
            "SORT, Make index: 3\n",
            "TOTAL: 16\n",
            "Allocating ftab, absorbFtab\n",
            "Entering GFM loop\n",
            "Exited GFM loop\n",
            "fchr[A]: 0\n",
            "fchr[C]: 16764343\n",
            "fchr[G]: 29243014\n",
            "fchr[T]: 41693472\n",
            "fchr[$]: 58327392\n",
            "Exiting GFM::buildToDisk()\n",
            "Returning from initFromVector\n",
            "Wrote 40088609 bytes to primary GFM file: base-index.1.ht2\n",
            "Wrote 14579540 bytes to secondary GFM file: base-index.2.ht2\n",
            "Re-opening _in1 and _in2 as input streams\n",
            "Returning from GFM constructor\n",
            "Returning from initFromVector\n",
            "Wrote 35947245 bytes to primary GFM file: base-index.5.ht2\n",
            "Wrote 14831960 bytes to secondary GFM file: base-index.6.ht2\n",
            "Re-opening _in5 and _in5 as input streams\n",
            "Returning from HierEbwt constructor\n",
            "Headers:\n",
            "    len: 58220004\n",
            "    gbwtLen: 58327393\n",
            "    nodes: 58318139\n",
            "    sz: 29110002\n",
            "    gbwtSz: 29163697\n",
            "    lineRate: 7\n",
            "    offRate: 4\n",
            "    offMask: 0xfffffff0\n",
            "    ftabChars: 10\n",
            "    eftabLen: 0\n",
            "    eftabSz: 0\n",
            "    ftabLen: 1048577\n",
            "    ftabSz: 4194308\n",
            "    offsLen: 3644884\n",
            "    offsSz: 14579536\n",
            "    lineSz: 128\n",
            "    sideSz: 128\n",
            "    sideGbwtSz: 104\n",
            "    sideGbwtLen: 208\n",
            "    numSides: 280421\n",
            "    numLines: 280421\n",
            "    gbwtTotLen: 35893888\n",
            "    gbwtTotSz: 35893888\n",
            "    reverse: 0\n",
            "    linearFM: No\n",
            "Total time for call to driver() for forward index: 00:04:13\n"
          ]
        }
      ],
      "source": [
        "! hisat2-build --ss chr19.ss --exon chr19.exons Mus_musculus.GRCm39.dna.chromosome.19.fa base-index "
      ]
    },
    {
      "cell_type": "code",
      "execution_count": 16,
      "metadata": {
        "id": "-vzH53hq2b_O",
        "colab": {
          "base_uri": "https://localhost:8080/"
        },
        "outputId": "ce991201-c10a-4773-8c70-dbbefdd7e540"
      },
      "outputs": [
        {
          "output_type": "stream",
          "name": "stdout",
          "text": [
            "599461 reads; of these:\n",
            "  599461 (100.00%) were unpaired; of these:\n",
            "    49649 (8.28%) aligned 0 times\n",
            "    538759 (89.87%) aligned exactly 1 time\n",
            "    11053 (1.84%) aligned >1 times\n",
            "91.72% overall alignment rate\n",
            "599683 reads; of these:\n",
            "  599683 (100.00%) were unpaired; of these:\n",
            "    51939 (8.66%) aligned 0 times\n",
            "    539715 (90.00%) aligned exactly 1 time\n",
            "    8029 (1.34%) aligned >1 times\n",
            "91.34% overall alignment rate\n",
            "599672 reads; of these:\n",
            "  599672 (100.00%) were unpaired; of these:\n",
            "    47202 (7.87%) aligned 0 times\n",
            "    540491 (90.13%) aligned exactly 1 time\n",
            "    11979 (2.00%) aligned >1 times\n",
            "92.13% overall alignment rate\n",
            "600324 reads; of these:\n",
            "  600324 (100.00%) were unpaired; of these:\n",
            "    75959 (12.65%) aligned 0 times\n",
            "    514263 (85.66%) aligned exactly 1 time\n",
            "    10102 (1.68%) aligned >1 times\n",
            "87.35% overall alignment rate\n",
            "600268 reads; of these:\n",
            "  600268 (100.00%) were unpaired; of these:\n",
            "    59115 (9.85%) aligned 0 times\n",
            "    531032 (88.47%) aligned exactly 1 time\n",
            "    10121 (1.69%) aligned >1 times\n",
            "90.15% overall alignment rate\n",
            "600006 reads; of these:\n",
            "  600006 (100.00%) were unpaired; of these:\n",
            "    75155 (12.53%) aligned 0 times\n",
            "    515492 (85.91%) aligned exactly 1 time\n",
            "    9359 (1.56%) aligned >1 times\n",
            "87.47% overall alignment rate\n",
            "599414 reads; of these:\n",
            "  599414 (100.00%) were unpaired; of these:\n",
            "    43161 (7.20%) aligned 0 times\n",
            "    547234 (91.29%) aligned exactly 1 time\n",
            "    9019 (1.50%) aligned >1 times\n",
            "92.80% overall alignment rate\n",
            "599777 reads; of these:\n",
            "  599777 (100.00%) were unpaired; of these:\n",
            "    51160 (8.53%) aligned 0 times\n",
            "    538522 (89.79%) aligned exactly 1 time\n",
            "    10095 (1.68%) aligned >1 times\n",
            "91.47% overall alignment rate\n",
            "599345 reads; of these:\n",
            "  599345 (100.00%) were unpaired; of these:\n",
            "    70716 (11.80%) aligned 0 times\n",
            "    517383 (86.32%) aligned exactly 1 time\n",
            "    11246 (1.88%) aligned >1 times\n",
            "88.20% overall alignment rate\n",
            "600133 reads; of these:\n",
            "  600133 (100.00%) were unpaired; of these:\n",
            "    44816 (7.47%) aligned 0 times\n",
            "    545904 (90.96%) aligned exactly 1 time\n",
            "    9413 (1.57%) aligned >1 times\n",
            "92.53% overall alignment rate\n"
          ]
        },
        {
          "output_type": "execute_result",
          "data": {
            "text/plain": []
          },
          "metadata": {},
          "execution_count": 16
        }
      ],
      "source": [
        "%%shell \n",
        "reads_list='C14.5 B34 B14.5 C15.5 C17.5 B17.5 C34 B20 B15.5 C20' \n",
        "index='base-index'\n",
        "fq='/content'\n",
        "\n",
        "for i in ${reads_list}\n",
        "do hisat2 --summary-file ${i}.log --no-softclip --no-unal -x ${index} -U ${fq}/${i}.fq.gz | samtools view -Sb - > ${i}.bam \n",
        "done"
      ]
    },
    {
      "cell_type": "markdown",
      "metadata": {
        "id": "7NvBFuxz1GUL"
      },
      "source": [
        "# 2. Соберите транскрипты при помощи stringtie для каждого образца используя аннотацию из ensembl (-G)"
      ]
    },
    {
      "cell_type": "markdown",
      "metadata": {
        "id": "-43UHsINPqW_"
      },
      "source": [
        "## for all of the samples"
      ]
    },
    {
      "cell_type": "code",
      "execution_count": 17,
      "metadata": {
        "id": "wxkd0-uXPpBM",
        "colab": {
          "base_uri": "https://localhost:8080/"
        },
        "outputId": "60a902f2-0f98-465e-f73d-6d5f309d7cbd"
      },
      "outputs": [
        {
          "output_type": "execute_result",
          "data": {
            "text/plain": []
          },
          "metadata": {},
          "execution_count": 17
        }
      ],
      "source": [
        "%%shell \n",
        "reads_list='C14.5 B34 B14.5 C15.5 C17.5 B17.5 C34 B20 B15.5 C20' \n",
        "# sort reads by their genomic location using samtools\n",
        "for i in ${reads_list}\n",
        "do samtools sort -o  ${i}.s.bam  ${i}.bam \n",
        "done"
      ]
    },
    {
      "cell_type": "code",
      "execution_count": 18,
      "metadata": {
        "id": "FXOOpOKiQjTM",
        "colab": {
          "base_uri": "https://localhost:8080/"
        },
        "outputId": "2ec58f2e-4154-4e12-e46e-8a49b93d027d"
      },
      "outputs": [
        {
          "output_type": "execute_result",
          "data": {
            "text/plain": []
          },
          "metadata": {},
          "execution_count": 18
        }
      ],
      "source": [
        "# -G <ref.gtf> a reference annotation file used to guide the assembly process\n",
        "# build gtf annotation of reads\n",
        "\n",
        "%%shell \n",
        "for i in ${reads_list}\n",
        "do stringtie -o ${i}.annotation.gtf -G Mus_musculus.GRCm39.107.gtf ${i}.s.bam\n",
        "done"
      ]
    },
    {
      "cell_type": "code",
      "execution_count": 19,
      "metadata": {
        "id": "Zeh2Wbo6iWtu",
        "colab": {
          "base_uri": "https://localhost:8080/"
        },
        "outputId": "284e43bc-23f3-437a-a69c-e015a265b774"
      },
      "outputs": [
        {
          "output_type": "stream",
          "name": "stdout",
          "text": [
            "# stringtie -o B14.5.annotation.gtf -G Mus_musculus.GRCm39.107.gtf B14.5.s.bam\n",
            "# StringTie version 2.2.1\n",
            "19\tStringTie\ttranscript\t3133097\t3137398\t1000\t+\t.\tgene_id \"STRG.1\"; transcript_id \"STRG.1.1\"; cov \"2.314697\"; FPKM \"41.482002\"; TPM \"81.817490\";\n",
            "19\tStringTie\texon\t3133097\t3133341\t1000\t+\t.\tgene_id \"STRG.1\"; transcript_id \"STRG.1.1\"; exon_number \"1\"; cov \"2.361224\";\n",
            "19\tStringTie\texon\t3137331\t3137398\t1000\t+\t.\tgene_id \"STRG.1\"; transcript_id \"STRG.1.1\"; exon_number \"2\"; cov \"2.147059\";\n",
            "19\tStringTie\ttranscript\t3310774\t3312089\t1000\t-\t.\tgene_id \"STRG.2\"; transcript_id \"STRG.2.1\"; cov \"5.256909\"; FPKM \"94.209785\"; TPM \"185.815735\";\n",
            "19\tStringTie\texon\t3310774\t3311635\t1000\t-\t.\tgene_id \"STRG.2\"; transcript_id \"STRG.2.1\"; exon_number \"1\"; cov \"4.919954\";\n",
            "19\tStringTie\texon\t3311975\t3312089\t1000\t-\t.\tgene_id \"STRG.2\"; transcript_id \"STRG.2.1\"; exon_number \"2\"; cov \"7.782609\";\n",
            "19\tStringTie\ttranscript\t3314818\t3332915\t1000\t-\t.\tgene_id \"STRG.3\"; transcript_id \"STRG.3.1\"; cov \"5.645762\"; FPKM \"101.178474\"; TPM \"199.560501\";\n",
            "19\tStringTie\texon\t3314818\t3315665\t1000\t-\t.\tgene_id \"STRG.3\"; transcript_id \"STRG.3.1\"; exon_number \"1\"; cov \"7.154141\";\n"
          ]
        }
      ],
      "source": [
        "! head B14.5.annotation.gtf"
      ]
    },
    {
      "cell_type": "markdown",
      "metadata": {
        "id": "9vtagY471Ibk"
      },
      "source": [
        "# 3. Перекартируйте риды используя новую аннотацию"
      ]
    },
    {
      "cell_type": "markdown",
      "metadata": {
        "id": "oGvI6dWDHR2t"
      },
      "source": [
        "Объединяем аннотации всех ридов"
      ]
    },
    {
      "cell_type": "code",
      "execution_count": 20,
      "metadata": {
        "id": "hAYZn7nRawsu",
        "colab": {
          "base_uri": "https://localhost:8080/"
        },
        "outputId": "3d4044fd-b12e-439c-f153-b1b528495c82"
      },
      "outputs": [
        {
          "output_type": "stream",
          "name": "stdout",
          "text": [
            "B14.5.annotation.gtf\n",
            "B15.5.annotation.gtf\n",
            "B17.5.annotation.gtf\n",
            "B20.annotation.gtf\n",
            "B34.annotation.gtf\n",
            "C14.5.annotation.gtf\n",
            "C15.5.annotation.gtf\n",
            "C17.5.annotation.gtf\n",
            "C20.annotation.gtf\n",
            "C34.annotation.gtf\n"
          ]
        }
      ],
      "source": [
        "! touch mergelist.txt\n",
        "! ls *.annotation.gtf > mergelist.txt\n",
        "! cat mergelist.txt"
      ]
    },
    {
      "cell_type": "code",
      "execution_count": 21,
      "metadata": {
        "id": "SWwamztVZoln"
      },
      "outputs": [],
      "source": [
        "! stringtie --merge -G Mus_musculus.GRCm39.107.gtf -o stringtie_merged.gtf mergelist.txt # merge stringtie annotations for all of the samples"
      ]
    },
    {
      "cell_type": "markdown",
      "metadata": {
        "id": "nsRRd-M4HGAX"
      },
      "source": [
        "### Извлекаем координаты экзонов и сайтов сплайсинга из новой аннотации"
      ]
    },
    {
      "cell_type": "code",
      "source": [
        " # ! cat stringtie.exon | awk ' $3 == \"exon\" {print $1 \"\\t\" $4 \"\\t\" $5 \"\\t\" $7}' > stringtie_coords.exon"
      ],
      "metadata": {
        "id": "1vt-4SdxNNYD"
      },
      "execution_count": 25,
      "outputs": []
    },
    {
      "cell_type": "code",
      "source": [
        "! ./extract_splice_sites.py  stringtie_merged.gtf  >  stringtie_merged.ss\n",
        "! ./extract_exons.py  stringtie_merged.gtf  >  stringtie_merged.exons "
      ],
      "metadata": {
        "id": "DkpVqDXjQUL7"
      },
      "execution_count": 26,
      "outputs": []
    },
    {
      "cell_type": "markdown",
      "source": [
        " отбираем координаты для 19 хромосомы"
      ],
      "metadata": {
        "id": "ZXe2Uqs8SSGU"
      }
    },
    {
      "cell_type": "code",
      "source": [
        "! awk ' $1 == 19' stringtie_merged.ss > chr19_stringtie_merged.ss"
      ],
      "metadata": {
        "id": "Cq9zIykdSL3Z"
      },
      "execution_count": 29,
      "outputs": []
    },
    {
      "cell_type": "code",
      "source": [
        "! awk ' $1 == 19' stringtie_merged.exons > chr19_stringtie_merged.exons"
      ],
      "metadata": {
        "id": "NUuLXKqESVq5"
      },
      "execution_count": 30,
      "outputs": []
    },
    {
      "cell_type": "code",
      "source": [
        "! head chr19_stringtie_merged.exons "
      ],
      "metadata": {
        "id": "THV1C4wfRLn5"
      },
      "execution_count": null,
      "outputs": []
    },
    {
      "cell_type": "markdown",
      "source": [
        "### Мы получили координаты экзонов из новой аннотации, теперь надо сделать картирование с ними:"
      ],
      "metadata": {
        "id": "1c7MK2DjHsV2"
      }
    },
    {
      "cell_type": "markdown",
      "source": [
        "## строим индекс по новым координатам из аннотации и картируем риды"
      ],
      "metadata": {
        "id": "WgZRE6FcVyMe"
      }
    },
    {
      "cell_type": "code",
      "source": [
        "! hisat2-build --ss  chr19_stringtie_merged.ss --exon chr19_stringtie_merged.exons  Mus_musculus.GRCm39.dna.chromosome.19.fa stringtie_index\n",
        "\n",
        "# chr19_stringtie_merged.ss -- splice sites coordinates\n",
        "# chr19_stringtie_merged.exons -- exon coordinates"
      ],
      "metadata": {
        "id": "8yc8jO_LHqqU"
      },
      "execution_count": null,
      "outputs": []
    },
    {
      "cell_type": "code",
      "source": [
        "%%shell \n",
        "reads_list='C14.5 B34 B14.5 C15.5 C17.5 B17.5 C34 B20 B15.5 C20' \n",
        "index='stringtie_index'\n",
        "fq='/content'\n",
        "\n",
        "for i in ${reads_list}\n",
        "do hisat2 --summary-file ${i}.log --no-softclip --no-unal -x ${index} -U ${fq}/${i}.fq.gz | samtools view -Sb - > ${i}.bam \n",
        "done"
      ],
      "metadata": {
        "id": "LvpakcVqVHXQ"
      },
      "execution_count": null,
      "outputs": []
    },
    {
      "cell_type": "code",
      "source": [
        "#! mkdir annotations\n",
        "#! mkdir reads\n",
        "#! mkdir alignments \n",
        "#! mkdir indexes\n",
        "\n",
        "#! mv *.ht2 /content/indexes\n",
        "#! mv *.log *.gz  /content/reads \n",
        "#! mv *.gtf *.exons *.exon *.ss /content/annotations\n",
        "#! mv *.bam  /content/alignments"
      ],
      "metadata": {
        "id": "R8Bu9_r0ih0o"
      },
      "execution_count": null,
      "outputs": []
    },
    {
      "cell_type": "code",
      "source": [
        "! ls"
      ],
      "metadata": {
        "colab": {
          "base_uri": "https://localhost:8080/"
        },
        "id": "0pjEuobbih3z",
        "outputId": "05bfa6f8-40a7-428b-fac4-db5e75438aa6"
      },
      "execution_count": null,
      "outputs": [
        {
          "output_type": "stream",
          "name": "stdout",
          "text": [
            "alignments\t\t Mus_musculus.GRCm39.dna.chromosome.19.fa\n",
            "annotations\t\t reads\n",
            "chr19-annotation\t sample_data\n",
            "extract_exons.py\t stringtie_coords.exon\n",
            "extract_splice_sites.py  stringtie.exon\n",
            "indexes\t\t\t tmp_im02Ex\n",
            "mergelist.txt\t\t tmp_vbCcqH\n"
          ]
        }
      ]
    },
    {
      "cell_type": "markdown",
      "source": [
        "#  4. Оцените экспрессию генов в каждом образце при помощи Rsubread"
      ],
      "metadata": {
        "id": "_gdHqs93UtpG"
      }
    },
    {
      "cell_type": "code",
      "source": [
        "! featureCounts -a chr19-annotation -o /content/chr19_fc.txt  /content/*.s.bam\n",
        "! head chr19_fc.txt"
      ],
      "metadata": {
        "colab": {
          "base_uri": "https://localhost:8080/"
        },
        "id": "POkjhkcbVMbq",
        "outputId": "15bc01be-63c5-4ed1-c4ea-6f3b71eac4bf"
      },
      "execution_count": 33,
      "outputs": [
        {
          "output_type": "stream",
          "name": "stdout",
          "text": [
            "\n",
            "       \u001b[44;37m ========== \u001b[0m\u001b[36m    _____ _    _ ____  _____  ______          _____  \n",
            "       \u001b[44;37m =====      \u001b[0m\u001b[36m   / ____| |  | |  _ \\|  __ \\|  ____|   /\\   |  __ \\ \n",
            "       \u001b[44;37m   =====    \u001b[0m\u001b[36m  | (___ | |  | | |_) | |__) | |__     /  \\  | |  | |\n",
            "       \u001b[44;37m     ====   \u001b[0m\u001b[36m   \\___ \\| |  | |  _ <|  _  /|  __|   / /\\ \\ | |  | |\n",
            "       \u001b[44;37m       ==== \u001b[0m\u001b[36m   ____) | |__| | |_) | | \\ \\| |____ / ____ \\| |__| |\n",
            "       \u001b[44;37m ========== \u001b[0m\u001b[36m  |_____/ \\____/|____/|_|  \\_\\______/_/    \\_\\_____/\u001b[0m\n",
            "\t  v2.0.1\n",
            "\n",
            "//==========================\u001b[36m featureCounts setting \u001b[0m===========================\\\\\n",
            "||  \u001b[0m                                                                          ||\n",
            "||             Input files : \u001b[36m10 BAM files  \u001b[0m \u001b[0m                                  ||\n",
            "||                           \u001b[32mo\u001b[36m B14.5.s.bam\u001b[0m \u001b[0m                                   ||\n",
            "||                           \u001b[32mo\u001b[36m B15.5.s.bam\u001b[0m \u001b[0m                                   ||\n",
            "||                           \u001b[32mo\u001b[36m B17.5.s.bam\u001b[0m \u001b[0m                                   ||\n",
            "||                           \u001b[32mo\u001b[36m B20.s.bam\u001b[0m \u001b[0m                                     ||\n",
            "||                           \u001b[32mo\u001b[36m B34.s.bam\u001b[0m \u001b[0m                                     ||\n",
            "||                           \u001b[32mo\u001b[36m C14.5.s.bam\u001b[0m \u001b[0m                                   ||\n",
            "||                           \u001b[32mo\u001b[36m C15.5.s.bam\u001b[0m \u001b[0m                                   ||\n",
            "||                           \u001b[32mo\u001b[36m C17.5.s.bam\u001b[0m \u001b[0m                                   ||\n",
            "||                           \u001b[32mo\u001b[36m C20.s.bam\u001b[0m \u001b[0m                                     ||\n",
            "||                           \u001b[32mo\u001b[36m C34.s.bam\u001b[0m \u001b[0m                                     ||\n",
            "||  \u001b[0m                                                                          ||\n",
            "||             Output file : \u001b[36mchr19_fc.txt\u001b[0m \u001b[0m                                    ||\n",
            "||                 Summary : \u001b[36mchr19_fc.txt.summary\u001b[0m \u001b[0m                            ||\n",
            "||              Annotation : \u001b[36mchr19-annotation (GTF)\u001b[0m \u001b[0m                          ||\n",
            "||      Dir for temp files : \u001b[36m/content\u001b[0m \u001b[0m                                        ||\n",
            "||  \u001b[0m                                                                          ||\n",
            "||                 Threads : \u001b[36m1\u001b[0m \u001b[0m                                               ||\n",
            "||                   Level : \u001b[36mmeta-feature level\u001b[0m \u001b[0m                              ||\n",
            "||              Paired-end : \u001b[36mno\u001b[0m \u001b[0m                                              ||\n",
            "||      Multimapping reads : \u001b[36mnot counted\u001b[0m \u001b[0m                                     ||\n",
            "|| Multi-overlapping reads : \u001b[36mnot counted\u001b[0m \u001b[0m                                     ||\n",
            "||   Min overlapping bases : \u001b[36m1\u001b[0m \u001b[0m                                               ||\n",
            "||  \u001b[0m                                                                          ||\n",
            "\\\\============================================================================//\n",
            "\n",
            "//=================================\u001b[36m Running \u001b[0m==================================\\\\\n",
            "||  \u001b[0m                                                                          ||\n",
            "|| Load annotation file chr19-annotation \u001b[0m... \u001b[0m                                 ||\n",
            "||    Features : \u001b[36m28807\u001b[0m \u001b[0m                                                       ||\n",
            "||    Meta-features : \u001b[36m1452\u001b[0m \u001b[0m                                                   ||\n",
            "||    Chromosomes/contigs : \u001b[36m1\u001b[0m \u001b[0m                                                ||\n",
            "||  \u001b[0m                                                                          ||\n",
            "|| Process BAM file B14.5.s.bam... \u001b[0m                                           ||\n",
            "||    Single-end reads are included. \u001b[0m                                         ||\n",
            "||    Total alignments : \u001b[36m566910\u001b[0m \u001b[0m                                              ||\n",
            "||    Successfully assigned alignments : \u001b[36m434169 (76.6%)\u001b[0m \u001b[0m                      ||\n",
            "||    Running time : \u001b[36m0.02 minutes\u001b[0m \u001b[0m                                            ||\n",
            "||  \u001b[0m                                                                          ||\n",
            "|| Process BAM file B15.5.s.bam... \u001b[0m                                           ||\n",
            "||    Single-end reads are included. \u001b[0m                                         ||\n",
            "||    Total alignments : \u001b[36m542220\u001b[0m \u001b[0m                                              ||\n",
            "||    Successfully assigned alignments : \u001b[36m416631 (76.8%)\u001b[0m \u001b[0m                      ||\n",
            "||    Running time : \u001b[36m0.02 minutes\u001b[0m \u001b[0m                                            ||\n",
            "||  \u001b[0m                                                                          ||\n",
            "|| Process BAM file B17.5.s.bam... \u001b[0m                                           ||\n",
            "||    Single-end reads are included. \u001b[0m                                         ||\n",
            "||    Total alignments : \u001b[36m536790\u001b[0m \u001b[0m                                              ||\n",
            "||    Successfully assigned alignments : \u001b[36m414857 (77.3%)\u001b[0m \u001b[0m                      ||\n",
            "||    Running time : \u001b[36m0.02 minutes\u001b[0m \u001b[0m                                            ||\n",
            "||  \u001b[0m                                                                          ||\n",
            "|| Process BAM file B20.s.bam... \u001b[0m                                             ||\n",
            "||    Single-end reads are included. \u001b[0m                                         ||\n",
            "||    Total alignments : \u001b[36m560991\u001b[0m \u001b[0m                                              ||\n",
            "||    Successfully assigned alignments : \u001b[36m432382 (77.1%)\u001b[0m \u001b[0m                      ||\n",
            "||    Running time : \u001b[36m0.02 minutes\u001b[0m \u001b[0m                                            ||\n",
            "||  \u001b[0m                                                                          ||\n",
            "|| Process BAM file B34.s.bam... \u001b[0m                                             ||\n",
            "||    Single-end reads are included. \u001b[0m                                         ||\n",
            "||    Total alignments : \u001b[36m557932\u001b[0m \u001b[0m                                              ||\n",
            "||    Successfully assigned alignments : \u001b[36m451515 (80.9%)\u001b[0m \u001b[0m                      ||\n",
            "||    Running time : \u001b[36m0.02 minutes\u001b[0m \u001b[0m                                            ||\n",
            "||  \u001b[0m                                                                          ||\n",
            "|| Process BAM file C14.5.s.bam... \u001b[0m                                           ||\n",
            "||    Single-end reads are included. \u001b[0m                                         ||\n",
            "||    Total alignments : \u001b[36m563401\u001b[0m \u001b[0m                                              ||\n",
            "||    Successfully assigned alignments : \u001b[36m427763 (75.9%)\u001b[0m \u001b[0m                      ||\n",
            "||    Running time : \u001b[36m0.02 minutes\u001b[0m \u001b[0m                                            ||\n",
            "||  \u001b[0m                                                                          ||\n",
            "|| Process BAM file C15.5.s.bam... \u001b[0m                                           ||\n",
            "||    Single-end reads are included. \u001b[0m                                         ||\n",
            "||    Total alignments : \u001b[36m536800\u001b[0m \u001b[0m                                              ||\n",
            "||    Successfully assigned alignments : \u001b[36m413218 (77.0%)\u001b[0m \u001b[0m                      ||\n",
            "||    Running time : \u001b[36m0.02 minutes\u001b[0m \u001b[0m                                            ||\n",
            "||  \u001b[0m                                                                          ||\n",
            "|| Process BAM file C17.5.s.bam... \u001b[0m                                           ||\n",
            "||    Single-end reads are included. \u001b[0m                                         ||\n",
            "||    Total alignments : \u001b[36m553369\u001b[0m \u001b[0m                                              ||\n",
            "||    Successfully assigned alignments : \u001b[36m445362 (80.5%)\u001b[0m \u001b[0m                      ||\n",
            "||    Running time : \u001b[36m0.02 minutes\u001b[0m \u001b[0m                                            ||\n",
            "||  \u001b[0m                                                                          ||\n",
            "|| Process BAM file C20.s.bam... \u001b[0m                                             ||\n",
            "||    Single-end reads are included. \u001b[0m                                         ||\n",
            "||    Total alignments : \u001b[36m566861\u001b[0m \u001b[0m                                              ||\n",
            "||    Successfully assigned alignments : \u001b[36m446143 (78.7%)\u001b[0m \u001b[0m                      ||\n",
            "||    Running time : \u001b[36m0.02 minutes\u001b[0m \u001b[0m                                            ||\n",
            "||  \u001b[0m                                                                          ||\n",
            "|| Process BAM file C34.s.bam... \u001b[0m                                             ||\n",
            "||    Single-end reads are included. \u001b[0m                                         ||\n",
            "||    Total alignments : \u001b[36m567427\u001b[0m \u001b[0m                                              ||\n",
            "||    Successfully assigned alignments : \u001b[36m441688 (77.8%)\u001b[0m \u001b[0m                      ||\n",
            "||    Running time : \u001b[36m0.02 minutes\u001b[0m \u001b[0m                                            ||\n",
            "||  \u001b[0m                                                                          ||\n",
            "|| Write the final count table. \u001b[0m                                              ||\n",
            "|| Write the read assignment summary. \u001b[0m                                        ||\n",
            "||  \u001b[0m                                                                          ||\n",
            "|| Summary of counting results can be found in file \"/content/chr19_fc.txt.s \u001b[0m ||\n",
            "|| ummary\" \u001b[0m                                                                   ||\n",
            "||  \u001b[0m                                                                          ||\n",
            "\\\\============================================================================//\n",
            "\n",
            "# Program:featureCounts v2.0.1; Command:\"featureCounts\" \"-a\" \"chr19-annotation\" \"-o\" \"/content/chr19_fc.txt\" \"/content/B14.5.s.bam\" \"/content/B15.5.s.bam\" \"/content/B17.5.s.bam\" \"/content/B20.s.bam\" \"/content/B34.s.bam\" \"/content/C14.5.s.bam\" \"/content/C15.5.s.bam\" \"/content/C17.5.s.bam\" \"/content/C20.s.bam\" \"/content/C34.s.bam\" \n",
            "Geneid\tChr\tStart\tEnd\tStrand\tLength\t/content/B14.5.s.bam\t/content/B15.5.s.bam\t/content/B17.5.s.bam\t/content/B20.s.bam\t/content/B34.s.bam\t/content/C14.5.s.bam\t/content/C15.5.s.bam\t/content/C17.5.s.bam\t/content/C20.s.bam\t/content/C34.s.bam\n",
            "ENSMUSG00000077223\t19\t56265950\t56266077\t-\t128\t0\t0\t0\t0\t0\t0\t0\t0\t0\t0\n",
            "ENSMUSG00000044387\t19;19\t23112264;23112723\t23112318;23113081\t+;+\t414\t0\t0\t0\t0\t3\t0\t0\t0\t0\t0\n",
            "ENSMUSG00000033863\t19;19;19;19\t23118590;23121008;23142047;23142047\t23119623;23121336;23145498;23142835\t+;+;+;+\t4815\t46\t60\t188\t449\t4375\t54\t88\t85\t189\t2934\n",
            "ENSMUSG00000080626\t19\t23126795\t23126915\t+\t121\t0\t0\t0\t0\t3\t0\t0\t0\t0\t1\n",
            "ENSMUSG00000006456\t19;19;19;19;19;19;19\t4850597;4850950;4851805;4852579;4861200;4861200;4861200\t4851833;4854043;4851833;4854043;4861613;4861662;4861540\t-;-;-;-;-;-;-\t3910\t740\t826\t651\t474\t298\t468\t673\t507\t520\t310\n",
            "ENSMUSG00000095913\t19;19;19;19\t4851540;4854588;4854862;4855619\t4851888;4854659;4854909;4855812\t+;+;+;+\t663\t15\t10\t8\t12\t5\t16\t7\t9\t5\t8\n",
            "ENSMUSG00000025075\t19;19;19;19;19;19;19;19;19;19;19;19;19;19;19;19;19;19;19;19;19;19;19;19;19;19;19;19;19;19;19;19;19;19;19;19;19;19;19;19;19;19;19;19;19;19;19;19;19;19;19;19;19;19;19;19;19;19;19;19;19;19;19;19;19;19\t56275569;56276344;56276354;56276368;56276428;56276428;56286447;56286447;56286447;56286447;56286447;56295205;56295205;56295205;56295205;56297269;56297269;56297269;56297269;56297269;56298453;56298453;56298453;56298453;56298453;56299534;56299534;56299534;56299534;56299534;56300103;56300103;56300103;56300103;56300210;56300246;56301301;56301301;56301301;56301301;56301301;56301380;56302407;56302407;56302407;56302407;56302422;56303659;56303659;56303659;56303659;56303659;56304715;56304715;56304715;56304715;56304715;56304715;56306159;56306159;56306159;56306159;56307903;56307903;56307903;56307903\t56275679;56276484;56276484;56276484;56276484;56276484;56286483;56286483;56286483;56286483;56286483;56295315;56295315;56295315;56295315;56297376;56297376;56297376;56297376;56297376;56298569;56298569;56298569;56298569;56298569;56299653;56299653;56299653;56299653;56299653;56300274;56300274;56300274;56300274;56300420;56300274;56301398;56301398;56301398;56301398;56301398;56301398;56302662;56302662;56302662;56302662;56302662;56303801;56303801;56303801;56303801;56303801;56304849;56304849;56304849;56304727;56304849;56304849;56306304;56306304;56306304;56306304;56308061;56308067;56309254;56308521\t+;+;+;+;+;+;+;+;+;+;+;+;+;+;+;+;+;+;+;+;+;+;+;+;+;+;+;+;+;+;+;+;+;+;+;+;+;+;+;+;+;+;+;+;+;+;+;+;+;+;+;+;+;+;+;+;+;+;+;+;+;+;+;+;+;+\t3193\t1\t5\t9\t1\t0\t1\t0\t5\t4\t0\n",
            "ENSMUSG00000034108\t19;19;19;19;19;19;19;19;19;19;19;19;19;19;19;19;19;19;19;19;19;19;19;19;19;19;19;19;19;19;19;19;19;19;19;19;19;19;19;19;19;19;19;19;19;19;19;19;19;19;19;19;19\t4875394;4875394;4875394;4875394;4875438;4875445;4875575;4875623;4875798;4875798;4875798;4875798;4875798;4875798;4875798;4875798;4875972;4875972;4875972;4875972;4875972;4875972;4875972;4882861;4882861;4882861;4882861;4882861;4882861;4883369;4883369;4883369;4883369;4883369;4884201;4884201;4884222;4884268;4884268;4888502;4888859;4888859;4888859;4888859;4888859;4888859;4889225;4889225;4889225;4889225;4889225;4889225;4889225\t4875692;4875692;4875692;4875692;4875692;4875692;4875692;4875692;4875901;4875901;4875901;4875901;4875901;4875901;4875901;4876037;4876337;4876049;4876049;4876049;4876049;4876049;4876049;4882921;4882921;4882921;4882921;4882921;4882921;4883546;4883546;4883546;4883475;4883546;4884338;4884338;4884338;4884338;4884338;4888931;4888931;4888931;4888931;4888931;4888931;4888931;4889314;4889247;4889282;4889315;4889360;4889301;4889298\t-;-;-;-;-;-;-;-;-;-;-;-;-;-;-;-;-;-;-;-;-;-;-;-;-;-;-;-;-;-;-;-;-;-;-;-;-;-;-;-;-;-;-;-;-;-;-;-;-;-;-;-;-\t1782\t194\t167\t180\t162\t144\t191\t191\t226\t176\t203\n"
          ]
        }
      ]
    },
    {
      "cell_type": "code",
      "source": [
        "! head chr19_fc.txt"
      ],
      "metadata": {
        "colab": {
          "base_uri": "https://localhost:8080/"
        },
        "id": "CO6bCHVvg_aI",
        "outputId": "80a9e214-1f8a-490c-f078-13aa82a3075d"
      },
      "execution_count": 34,
      "outputs": [
        {
          "output_type": "stream",
          "name": "stdout",
          "text": [
            "# Program:featureCounts v2.0.1; Command:\"featureCounts\" \"-a\" \"chr19-annotation\" \"-o\" \"/content/chr19_fc.txt\" \"/content/B14.5.s.bam\" \"/content/B15.5.s.bam\" \"/content/B17.5.s.bam\" \"/content/B20.s.bam\" \"/content/B34.s.bam\" \"/content/C14.5.s.bam\" \"/content/C15.5.s.bam\" \"/content/C17.5.s.bam\" \"/content/C20.s.bam\" \"/content/C34.s.bam\" \n",
            "Geneid\tChr\tStart\tEnd\tStrand\tLength\t/content/B14.5.s.bam\t/content/B15.5.s.bam\t/content/B17.5.s.bam\t/content/B20.s.bam\t/content/B34.s.bam\t/content/C14.5.s.bam\t/content/C15.5.s.bam\t/content/C17.5.s.bam\t/content/C20.s.bam\t/content/C34.s.bam\n",
            "ENSMUSG00000077223\t19\t56265950\t56266077\t-\t128\t0\t0\t0\t0\t0\t0\t0\t0\t0\t0\n",
            "ENSMUSG00000044387\t19;19\t23112264;23112723\t23112318;23113081\t+;+\t414\t0\t0\t0\t0\t3\t0\t0\t0\t0\t0\n",
            "ENSMUSG00000033863\t19;19;19;19\t23118590;23121008;23142047;23142047\t23119623;23121336;23145498;23142835\t+;+;+;+\t4815\t46\t60\t188\t449\t4375\t54\t88\t85\t189\t2934\n",
            "ENSMUSG00000080626\t19\t23126795\t23126915\t+\t121\t0\t0\t0\t0\t3\t0\t0\t0\t0\t1\n",
            "ENSMUSG00000006456\t19;19;19;19;19;19;19\t4850597;4850950;4851805;4852579;4861200;4861200;4861200\t4851833;4854043;4851833;4854043;4861613;4861662;4861540\t-;-;-;-;-;-;-\t3910\t740\t826\t651\t474\t298\t468\t673\t507\t520\t310\n",
            "ENSMUSG00000095913\t19;19;19;19\t4851540;4854588;4854862;4855619\t4851888;4854659;4854909;4855812\t+;+;+;+\t663\t15\t10\t8\t12\t5\t16\t7\t9\t5\t8\n",
            "ENSMUSG00000025075\t19;19;19;19;19;19;19;19;19;19;19;19;19;19;19;19;19;19;19;19;19;19;19;19;19;19;19;19;19;19;19;19;19;19;19;19;19;19;19;19;19;19;19;19;19;19;19;19;19;19;19;19;19;19;19;19;19;19;19;19;19;19;19;19;19;19\t56275569;56276344;56276354;56276368;56276428;56276428;56286447;56286447;56286447;56286447;56286447;56295205;56295205;56295205;56295205;56297269;56297269;56297269;56297269;56297269;56298453;56298453;56298453;56298453;56298453;56299534;56299534;56299534;56299534;56299534;56300103;56300103;56300103;56300103;56300210;56300246;56301301;56301301;56301301;56301301;56301301;56301380;56302407;56302407;56302407;56302407;56302422;56303659;56303659;56303659;56303659;56303659;56304715;56304715;56304715;56304715;56304715;56304715;56306159;56306159;56306159;56306159;56307903;56307903;56307903;56307903\t56275679;56276484;56276484;56276484;56276484;56276484;56286483;56286483;56286483;56286483;56286483;56295315;56295315;56295315;56295315;56297376;56297376;56297376;56297376;56297376;56298569;56298569;56298569;56298569;56298569;56299653;56299653;56299653;56299653;56299653;56300274;56300274;56300274;56300274;56300420;56300274;56301398;56301398;56301398;56301398;56301398;56301398;56302662;56302662;56302662;56302662;56302662;56303801;56303801;56303801;56303801;56303801;56304849;56304849;56304849;56304727;56304849;56304849;56306304;56306304;56306304;56306304;56308061;56308067;56309254;56308521\t+;+;+;+;+;+;+;+;+;+;+;+;+;+;+;+;+;+;+;+;+;+;+;+;+;+;+;+;+;+;+;+;+;+;+;+;+;+;+;+;+;+;+;+;+;+;+;+;+;+;+;+;+;+;+;+;+;+;+;+;+;+;+;+;+;+\t3193\t1\t5\t9\t1\t0\t1\t0\t5\t4\t0\n",
            "ENSMUSG00000034108\t19;19;19;19;19;19;19;19;19;19;19;19;19;19;19;19;19;19;19;19;19;19;19;19;19;19;19;19;19;19;19;19;19;19;19;19;19;19;19;19;19;19;19;19;19;19;19;19;19;19;19;19;19\t4875394;4875394;4875394;4875394;4875438;4875445;4875575;4875623;4875798;4875798;4875798;4875798;4875798;4875798;4875798;4875798;4875972;4875972;4875972;4875972;4875972;4875972;4875972;4882861;4882861;4882861;4882861;4882861;4882861;4883369;4883369;4883369;4883369;4883369;4884201;4884201;4884222;4884268;4884268;4888502;4888859;4888859;4888859;4888859;4888859;4888859;4889225;4889225;4889225;4889225;4889225;4889225;4889225\t4875692;4875692;4875692;4875692;4875692;4875692;4875692;4875692;4875901;4875901;4875901;4875901;4875901;4875901;4875901;4876037;4876337;4876049;4876049;4876049;4876049;4876049;4876049;4882921;4882921;4882921;4882921;4882921;4882921;4883546;4883546;4883546;4883475;4883546;4884338;4884338;4884338;4884338;4884338;4888931;4888931;4888931;4888931;4888931;4888931;4888931;4889314;4889247;4889282;4889315;4889360;4889301;4889298\t-;-;-;-;-;-;-;-;-;-;-;-;-;-;-;-;-;-;-;-;-;-;-;-;-;-;-;-;-;-;-;-;-;-;-;-;-;-;-;-;-;-;-;-;-;-;-;-;-;-;-;-;-\t1782\t194\t167\t180\t162\t144\t191\t191\t226\t176\t203\n"
          ]
        }
      ]
    },
    {
      "cell_type": "markdown",
      "source": [
        "убираю информацию, которая не нужна для дальнейших шагов:"
      ],
      "metadata": {
        "id": "YNBPHfIzVQ1B"
      }
    },
    {
      "cell_type": "code",
      "source": [
        "! touch chr19_fc.matrix.txt"
      ],
      "metadata": {
        "id": "D-5uOC98Ut51"
      },
      "execution_count": 40,
      "outputs": []
    },
    {
      "cell_type": "code",
      "source": [
        "! cut -f1,7,8,9,10,11,12,13,14,15,16 chr19_fc.txt > chr19_fc.matrix.txt"
      ],
      "metadata": {
        "id": "h5rIsMb1hJVz"
      },
      "execution_count": 41,
      "outputs": []
    },
    {
      "cell_type": "code",
      "source": [
        "! tail -n +2 chr19_fc.matrix.txt > chr19_fc.matrix_trimmed.txt # удалить header line\n",
        "! head chr19_fc.matrix_trimmed.txt"
      ],
      "metadata": {
        "colab": {
          "base_uri": "https://localhost:8080/"
        },
        "id": "svmy-F_qhCIF",
        "outputId": "d3168294-34a6-4fdb-c2db-bb6daf9139f9"
      },
      "execution_count": 45,
      "outputs": [
        {
          "output_type": "stream",
          "name": "stdout",
          "text": [
            "Geneid\t/content/B14.5.s.bam\t/content/B15.5.s.bam\t/content/B17.5.s.bam\t/content/B20.s.bam\t/content/B34.s.bam\t/content/C14.5.s.bam\t/content/C15.5.s.bam\t/content/C17.5.s.bam\t/content/C20.s.bam\t/content/C34.s.bam\n",
            "ENSMUSG00000077223\t0\t0\t0\t0\t0\t0\t0\t0\t0\t0\n",
            "ENSMUSG00000044387\t0\t0\t0\t0\t3\t0\t0\t0\t0\t0\n",
            "ENSMUSG00000033863\t46\t60\t188\t449\t4375\t54\t88\t85\t189\t2934\n",
            "ENSMUSG00000080626\t0\t0\t0\t0\t3\t0\t0\t0\t0\t1\n",
            "ENSMUSG00000006456\t740\t826\t651\t474\t298\t468\t673\t507\t520\t310\n",
            "ENSMUSG00000095913\t15\t10\t8\t12\t5\t16\t7\t9\t5\t8\n",
            "ENSMUSG00000025075\t1\t5\t9\t1\t0\t1\t0\t5\t4\t0\n",
            "ENSMUSG00000034108\t194\t167\t180\t162\t144\t191\t191\t226\t176\t203\n",
            "ENSMUSG00000067872\t9\t10\t16\t27\t43\t12\t12\t19\t30\t4\n"
          ]
        }
      ]
    },
    {
      "cell_type": "code",
      "source": [
        "import numpy as np\n",
        "import pandas as pd\n",
        "import seaborn as sns \n",
        "import matplotlib.pyplot as plt"
      ],
      "metadata": {
        "id": "U5FOfMm0hIl5"
      },
      "execution_count": 46,
      "outputs": []
    },
    {
      "cell_type": "code",
      "source": [
        "colnames = [ 'B14_5', 'B15_5', 'B17_5', 'B20', 'B34','C14_5', 'C15_5', 'C17_5', 'C20', 'C34']\n",
        "\n",
        "df = pd.read_csv('chr19_fc.matrix_trimmed.txt', sep=\"\\t\", names=colnames)"
      ],
      "metadata": {
        "id": "VsoVjkyihhrf"
      },
      "execution_count": 47,
      "outputs": []
    },
    {
      "cell_type": "code",
      "source": [
        "df.head()"
      ],
      "metadata": {
        "colab": {
          "base_uri": "https://localhost:8080/",
          "height": 268
        },
        "id": "7VJHJQZ2hjes",
        "outputId": "6fb67384-f51c-4d1d-b5e0-f8aab7cdb2d4"
      },
      "execution_count": 48,
      "outputs": [
        {
          "output_type": "execute_result",
          "data": {
            "text/plain": [
              "                                   B14_5                 B15_5  \\\n",
              "Geneid              /content/B14.5.s.bam  /content/B15.5.s.bam   \n",
              "ENSMUSG00000077223                     0                     0   \n",
              "ENSMUSG00000044387                     0                     0   \n",
              "ENSMUSG00000033863                    46                    60   \n",
              "ENSMUSG00000080626                     0                     0   \n",
              "\n",
              "                                   B17_5                 B20  \\\n",
              "Geneid              /content/B17.5.s.bam  /content/B20.s.bam   \n",
              "ENSMUSG00000077223                     0                   0   \n",
              "ENSMUSG00000044387                     0                   0   \n",
              "ENSMUSG00000033863                   188                 449   \n",
              "ENSMUSG00000080626                     0                   0   \n",
              "\n",
              "                                   B34                 C14_5  \\\n",
              "Geneid              /content/B34.s.bam  /content/C14.5.s.bam   \n",
              "ENSMUSG00000077223                   0                     0   \n",
              "ENSMUSG00000044387                   3                     0   \n",
              "ENSMUSG00000033863                4375                    54   \n",
              "ENSMUSG00000080626                   3                     0   \n",
              "\n",
              "                                   C15_5                 C17_5  \\\n",
              "Geneid              /content/C15.5.s.bam  /content/C17.5.s.bam   \n",
              "ENSMUSG00000077223                     0                     0   \n",
              "ENSMUSG00000044387                     0                     0   \n",
              "ENSMUSG00000033863                    88                    85   \n",
              "ENSMUSG00000080626                     0                     0   \n",
              "\n",
              "                                   C20                 C34  \n",
              "Geneid              /content/C20.s.bam  /content/C34.s.bam  \n",
              "ENSMUSG00000077223                   0                   0  \n",
              "ENSMUSG00000044387                   0                   0  \n",
              "ENSMUSG00000033863                 189                2934  \n",
              "ENSMUSG00000080626                   0                   1  "
            ],
            "text/html": [
              "\n",
              "  <div id=\"df-19182026-39ce-4a09-8ff7-da9dcfac2d8d\">\n",
              "    <div class=\"colab-df-container\">\n",
              "      <div>\n",
              "<style scoped>\n",
              "    .dataframe tbody tr th:only-of-type {\n",
              "        vertical-align: middle;\n",
              "    }\n",
              "\n",
              "    .dataframe tbody tr th {\n",
              "        vertical-align: top;\n",
              "    }\n",
              "\n",
              "    .dataframe thead th {\n",
              "        text-align: right;\n",
              "    }\n",
              "</style>\n",
              "<table border=\"1\" class=\"dataframe\">\n",
              "  <thead>\n",
              "    <tr style=\"text-align: right;\">\n",
              "      <th></th>\n",
              "      <th>B14_5</th>\n",
              "      <th>B15_5</th>\n",
              "      <th>B17_5</th>\n",
              "      <th>B20</th>\n",
              "      <th>B34</th>\n",
              "      <th>C14_5</th>\n",
              "      <th>C15_5</th>\n",
              "      <th>C17_5</th>\n",
              "      <th>C20</th>\n",
              "      <th>C34</th>\n",
              "    </tr>\n",
              "  </thead>\n",
              "  <tbody>\n",
              "    <tr>\n",
              "      <th>Geneid</th>\n",
              "      <td>/content/B14.5.s.bam</td>\n",
              "      <td>/content/B15.5.s.bam</td>\n",
              "      <td>/content/B17.5.s.bam</td>\n",
              "      <td>/content/B20.s.bam</td>\n",
              "      <td>/content/B34.s.bam</td>\n",
              "      <td>/content/C14.5.s.bam</td>\n",
              "      <td>/content/C15.5.s.bam</td>\n",
              "      <td>/content/C17.5.s.bam</td>\n",
              "      <td>/content/C20.s.bam</td>\n",
              "      <td>/content/C34.s.bam</td>\n",
              "    </tr>\n",
              "    <tr>\n",
              "      <th>ENSMUSG00000077223</th>\n",
              "      <td>0</td>\n",
              "      <td>0</td>\n",
              "      <td>0</td>\n",
              "      <td>0</td>\n",
              "      <td>0</td>\n",
              "      <td>0</td>\n",
              "      <td>0</td>\n",
              "      <td>0</td>\n",
              "      <td>0</td>\n",
              "      <td>0</td>\n",
              "    </tr>\n",
              "    <tr>\n",
              "      <th>ENSMUSG00000044387</th>\n",
              "      <td>0</td>\n",
              "      <td>0</td>\n",
              "      <td>0</td>\n",
              "      <td>0</td>\n",
              "      <td>3</td>\n",
              "      <td>0</td>\n",
              "      <td>0</td>\n",
              "      <td>0</td>\n",
              "      <td>0</td>\n",
              "      <td>0</td>\n",
              "    </tr>\n",
              "    <tr>\n",
              "      <th>ENSMUSG00000033863</th>\n",
              "      <td>46</td>\n",
              "      <td>60</td>\n",
              "      <td>188</td>\n",
              "      <td>449</td>\n",
              "      <td>4375</td>\n",
              "      <td>54</td>\n",
              "      <td>88</td>\n",
              "      <td>85</td>\n",
              "      <td>189</td>\n",
              "      <td>2934</td>\n",
              "    </tr>\n",
              "    <tr>\n",
              "      <th>ENSMUSG00000080626</th>\n",
              "      <td>0</td>\n",
              "      <td>0</td>\n",
              "      <td>0</td>\n",
              "      <td>0</td>\n",
              "      <td>3</td>\n",
              "      <td>0</td>\n",
              "      <td>0</td>\n",
              "      <td>0</td>\n",
              "      <td>0</td>\n",
              "      <td>1</td>\n",
              "    </tr>\n",
              "  </tbody>\n",
              "</table>\n",
              "</div>\n",
              "      <button class=\"colab-df-convert\" onclick=\"convertToInteractive('df-19182026-39ce-4a09-8ff7-da9dcfac2d8d')\"\n",
              "              title=\"Convert this dataframe to an interactive table.\"\n",
              "              style=\"display:none;\">\n",
              "        \n",
              "  <svg xmlns=\"http://www.w3.org/2000/svg\" height=\"24px\"viewBox=\"0 0 24 24\"\n",
              "       width=\"24px\">\n",
              "    <path d=\"M0 0h24v24H0V0z\" fill=\"none\"/>\n",
              "    <path d=\"M18.56 5.44l.94 2.06.94-2.06 2.06-.94-2.06-.94-.94-2.06-.94 2.06-2.06.94zm-11 1L8.5 8.5l.94-2.06 2.06-.94-2.06-.94L8.5 2.5l-.94 2.06-2.06.94zm10 10l.94 2.06.94-2.06 2.06-.94-2.06-.94-.94-2.06-.94 2.06-2.06.94z\"/><path d=\"M17.41 7.96l-1.37-1.37c-.4-.4-.92-.59-1.43-.59-.52 0-1.04.2-1.43.59L10.3 9.45l-7.72 7.72c-.78.78-.78 2.05 0 2.83L4 21.41c.39.39.9.59 1.41.59.51 0 1.02-.2 1.41-.59l7.78-7.78 2.81-2.81c.8-.78.8-2.07 0-2.86zM5.41 20L4 18.59l7.72-7.72 1.47 1.35L5.41 20z\"/>\n",
              "  </svg>\n",
              "      </button>\n",
              "      \n",
              "  <style>\n",
              "    .colab-df-container {\n",
              "      display:flex;\n",
              "      flex-wrap:wrap;\n",
              "      gap: 12px;\n",
              "    }\n",
              "\n",
              "    .colab-df-convert {\n",
              "      background-color: #E8F0FE;\n",
              "      border: none;\n",
              "      border-radius: 50%;\n",
              "      cursor: pointer;\n",
              "      display: none;\n",
              "      fill: #1967D2;\n",
              "      height: 32px;\n",
              "      padding: 0 0 0 0;\n",
              "      width: 32px;\n",
              "    }\n",
              "\n",
              "    .colab-df-convert:hover {\n",
              "      background-color: #E2EBFA;\n",
              "      box-shadow: 0px 1px 2px rgba(60, 64, 67, 0.3), 0px 1px 3px 1px rgba(60, 64, 67, 0.15);\n",
              "      fill: #174EA6;\n",
              "    }\n",
              "\n",
              "    [theme=dark] .colab-df-convert {\n",
              "      background-color: #3B4455;\n",
              "      fill: #D2E3FC;\n",
              "    }\n",
              "\n",
              "    [theme=dark] .colab-df-convert:hover {\n",
              "      background-color: #434B5C;\n",
              "      box-shadow: 0px 1px 3px 1px rgba(0, 0, 0, 0.15);\n",
              "      filter: drop-shadow(0px 1px 2px rgba(0, 0, 0, 0.3));\n",
              "      fill: #FFFFFF;\n",
              "    }\n",
              "  </style>\n",
              "\n",
              "      <script>\n",
              "        const buttonEl =\n",
              "          document.querySelector('#df-19182026-39ce-4a09-8ff7-da9dcfac2d8d button.colab-df-convert');\n",
              "        buttonEl.style.display =\n",
              "          google.colab.kernel.accessAllowed ? 'block' : 'none';\n",
              "\n",
              "        async function convertToInteractive(key) {\n",
              "          const element = document.querySelector('#df-19182026-39ce-4a09-8ff7-da9dcfac2d8d');\n",
              "          const dataTable =\n",
              "            await google.colab.kernel.invokeFunction('convertToInteractive',\n",
              "                                                     [key], {});\n",
              "          if (!dataTable) return;\n",
              "\n",
              "          const docLinkHtml = 'Like what you see? Visit the ' +\n",
              "            '<a target=\"_blank\" href=https://colab.research.google.com/notebooks/data_table.ipynb>data table notebook</a>'\n",
              "            + ' to learn more about interactive tables.';\n",
              "          element.innerHTML = '';\n",
              "          dataTable['output_type'] = 'display_data';\n",
              "          await google.colab.output.renderOutput(dataTable, element);\n",
              "          const docLink = document.createElement('div');\n",
              "          docLink.innerHTML = docLinkHtml;\n",
              "          element.appendChild(docLink);\n",
              "        }\n",
              "      </script>\n",
              "    </div>\n",
              "  </div>\n",
              "  "
            ]
          },
          "metadata": {},
          "execution_count": 48
        }
      ]
    },
    {
      "cell_type": "code",
      "source": [
        "df = df.drop(index='Geneid')\n",
        "df"
      ],
      "metadata": {
        "colab": {
          "base_uri": "https://localhost:8080/",
          "height": 419
        },
        "id": "a0mOiG-ohni0",
        "outputId": "c3ed2b05-e011-4a77-a035-15d2619186ca"
      },
      "execution_count": 49,
      "outputs": [
        {
          "output_type": "execute_result",
          "data": {
            "text/plain": [
              "                   B14_5 B15_5 B17_5  B20   B34 C14_5 C15_5 C17_5  C20   C34\n",
              "ENSMUSG00000077223     0     0     0    0     0     0     0     0    0     0\n",
              "ENSMUSG00000044387     0     0     0    0     3     0     0     0    0     0\n",
              "ENSMUSG00000033863    46    60   188  449  4375    54    88    85  189  2934\n",
              "ENSMUSG00000080626     0     0     0    0     3     0     0     0    0     1\n",
              "ENSMUSG00000006456   740   826   651  474   298   468   673   507  520   310\n",
              "...                  ...   ...   ...  ...   ...   ...   ...   ...  ...   ...\n",
              "ENSMUSG00000121027     6     3     4    6     0     3     3     2    4     2\n",
              "ENSMUSG00000087579     2     4     3    4    10     3     0     0    3     3\n",
              "ENSMUSG00000108414   524   368   227  255    85   359   272   204  245   199\n",
              "ENSMUSG00000097787    29    21    22   42    25    40    40    24   45    21\n",
              "ENSMUSG00000121055     0     0     0    0     0     0     0     0    0     0\n",
              "\n",
              "[1452 rows x 10 columns]"
            ],
            "text/html": [
              "\n",
              "  <div id=\"df-69e8c3e1-9498-485c-bb99-5b440ac1d389\">\n",
              "    <div class=\"colab-df-container\">\n",
              "      <div>\n",
              "<style scoped>\n",
              "    .dataframe tbody tr th:only-of-type {\n",
              "        vertical-align: middle;\n",
              "    }\n",
              "\n",
              "    .dataframe tbody tr th {\n",
              "        vertical-align: top;\n",
              "    }\n",
              "\n",
              "    .dataframe thead th {\n",
              "        text-align: right;\n",
              "    }\n",
              "</style>\n",
              "<table border=\"1\" class=\"dataframe\">\n",
              "  <thead>\n",
              "    <tr style=\"text-align: right;\">\n",
              "      <th></th>\n",
              "      <th>B14_5</th>\n",
              "      <th>B15_5</th>\n",
              "      <th>B17_5</th>\n",
              "      <th>B20</th>\n",
              "      <th>B34</th>\n",
              "      <th>C14_5</th>\n",
              "      <th>C15_5</th>\n",
              "      <th>C17_5</th>\n",
              "      <th>C20</th>\n",
              "      <th>C34</th>\n",
              "    </tr>\n",
              "  </thead>\n",
              "  <tbody>\n",
              "    <tr>\n",
              "      <th>ENSMUSG00000077223</th>\n",
              "      <td>0</td>\n",
              "      <td>0</td>\n",
              "      <td>0</td>\n",
              "      <td>0</td>\n",
              "      <td>0</td>\n",
              "      <td>0</td>\n",
              "      <td>0</td>\n",
              "      <td>0</td>\n",
              "      <td>0</td>\n",
              "      <td>0</td>\n",
              "    </tr>\n",
              "    <tr>\n",
              "      <th>ENSMUSG00000044387</th>\n",
              "      <td>0</td>\n",
              "      <td>0</td>\n",
              "      <td>0</td>\n",
              "      <td>0</td>\n",
              "      <td>3</td>\n",
              "      <td>0</td>\n",
              "      <td>0</td>\n",
              "      <td>0</td>\n",
              "      <td>0</td>\n",
              "      <td>0</td>\n",
              "    </tr>\n",
              "    <tr>\n",
              "      <th>ENSMUSG00000033863</th>\n",
              "      <td>46</td>\n",
              "      <td>60</td>\n",
              "      <td>188</td>\n",
              "      <td>449</td>\n",
              "      <td>4375</td>\n",
              "      <td>54</td>\n",
              "      <td>88</td>\n",
              "      <td>85</td>\n",
              "      <td>189</td>\n",
              "      <td>2934</td>\n",
              "    </tr>\n",
              "    <tr>\n",
              "      <th>ENSMUSG00000080626</th>\n",
              "      <td>0</td>\n",
              "      <td>0</td>\n",
              "      <td>0</td>\n",
              "      <td>0</td>\n",
              "      <td>3</td>\n",
              "      <td>0</td>\n",
              "      <td>0</td>\n",
              "      <td>0</td>\n",
              "      <td>0</td>\n",
              "      <td>1</td>\n",
              "    </tr>\n",
              "    <tr>\n",
              "      <th>ENSMUSG00000006456</th>\n",
              "      <td>740</td>\n",
              "      <td>826</td>\n",
              "      <td>651</td>\n",
              "      <td>474</td>\n",
              "      <td>298</td>\n",
              "      <td>468</td>\n",
              "      <td>673</td>\n",
              "      <td>507</td>\n",
              "      <td>520</td>\n",
              "      <td>310</td>\n",
              "    </tr>\n",
              "    <tr>\n",
              "      <th>...</th>\n",
              "      <td>...</td>\n",
              "      <td>...</td>\n",
              "      <td>...</td>\n",
              "      <td>...</td>\n",
              "      <td>...</td>\n",
              "      <td>...</td>\n",
              "      <td>...</td>\n",
              "      <td>...</td>\n",
              "      <td>...</td>\n",
              "      <td>...</td>\n",
              "    </tr>\n",
              "    <tr>\n",
              "      <th>ENSMUSG00000121027</th>\n",
              "      <td>6</td>\n",
              "      <td>3</td>\n",
              "      <td>4</td>\n",
              "      <td>6</td>\n",
              "      <td>0</td>\n",
              "      <td>3</td>\n",
              "      <td>3</td>\n",
              "      <td>2</td>\n",
              "      <td>4</td>\n",
              "      <td>2</td>\n",
              "    </tr>\n",
              "    <tr>\n",
              "      <th>ENSMUSG00000087579</th>\n",
              "      <td>2</td>\n",
              "      <td>4</td>\n",
              "      <td>3</td>\n",
              "      <td>4</td>\n",
              "      <td>10</td>\n",
              "      <td>3</td>\n",
              "      <td>0</td>\n",
              "      <td>0</td>\n",
              "      <td>3</td>\n",
              "      <td>3</td>\n",
              "    </tr>\n",
              "    <tr>\n",
              "      <th>ENSMUSG00000108414</th>\n",
              "      <td>524</td>\n",
              "      <td>368</td>\n",
              "      <td>227</td>\n",
              "      <td>255</td>\n",
              "      <td>85</td>\n",
              "      <td>359</td>\n",
              "      <td>272</td>\n",
              "      <td>204</td>\n",
              "      <td>245</td>\n",
              "      <td>199</td>\n",
              "    </tr>\n",
              "    <tr>\n",
              "      <th>ENSMUSG00000097787</th>\n",
              "      <td>29</td>\n",
              "      <td>21</td>\n",
              "      <td>22</td>\n",
              "      <td>42</td>\n",
              "      <td>25</td>\n",
              "      <td>40</td>\n",
              "      <td>40</td>\n",
              "      <td>24</td>\n",
              "      <td>45</td>\n",
              "      <td>21</td>\n",
              "    </tr>\n",
              "    <tr>\n",
              "      <th>ENSMUSG00000121055</th>\n",
              "      <td>0</td>\n",
              "      <td>0</td>\n",
              "      <td>0</td>\n",
              "      <td>0</td>\n",
              "      <td>0</td>\n",
              "      <td>0</td>\n",
              "      <td>0</td>\n",
              "      <td>0</td>\n",
              "      <td>0</td>\n",
              "      <td>0</td>\n",
              "    </tr>\n",
              "  </tbody>\n",
              "</table>\n",
              "<p>1452 rows × 10 columns</p>\n",
              "</div>\n",
              "      <button class=\"colab-df-convert\" onclick=\"convertToInteractive('df-69e8c3e1-9498-485c-bb99-5b440ac1d389')\"\n",
              "              title=\"Convert this dataframe to an interactive table.\"\n",
              "              style=\"display:none;\">\n",
              "        \n",
              "  <svg xmlns=\"http://www.w3.org/2000/svg\" height=\"24px\"viewBox=\"0 0 24 24\"\n",
              "       width=\"24px\">\n",
              "    <path d=\"M0 0h24v24H0V0z\" fill=\"none\"/>\n",
              "    <path d=\"M18.56 5.44l.94 2.06.94-2.06 2.06-.94-2.06-.94-.94-2.06-.94 2.06-2.06.94zm-11 1L8.5 8.5l.94-2.06 2.06-.94-2.06-.94L8.5 2.5l-.94 2.06-2.06.94zm10 10l.94 2.06.94-2.06 2.06-.94-2.06-.94-.94-2.06-.94 2.06-2.06.94z\"/><path d=\"M17.41 7.96l-1.37-1.37c-.4-.4-.92-.59-1.43-.59-.52 0-1.04.2-1.43.59L10.3 9.45l-7.72 7.72c-.78.78-.78 2.05 0 2.83L4 21.41c.39.39.9.59 1.41.59.51 0 1.02-.2 1.41-.59l7.78-7.78 2.81-2.81c.8-.78.8-2.07 0-2.86zM5.41 20L4 18.59l7.72-7.72 1.47 1.35L5.41 20z\"/>\n",
              "  </svg>\n",
              "      </button>\n",
              "      \n",
              "  <style>\n",
              "    .colab-df-container {\n",
              "      display:flex;\n",
              "      flex-wrap:wrap;\n",
              "      gap: 12px;\n",
              "    }\n",
              "\n",
              "    .colab-df-convert {\n",
              "      background-color: #E8F0FE;\n",
              "      border: none;\n",
              "      border-radius: 50%;\n",
              "      cursor: pointer;\n",
              "      display: none;\n",
              "      fill: #1967D2;\n",
              "      height: 32px;\n",
              "      padding: 0 0 0 0;\n",
              "      width: 32px;\n",
              "    }\n",
              "\n",
              "    .colab-df-convert:hover {\n",
              "      background-color: #E2EBFA;\n",
              "      box-shadow: 0px 1px 2px rgba(60, 64, 67, 0.3), 0px 1px 3px 1px rgba(60, 64, 67, 0.15);\n",
              "      fill: #174EA6;\n",
              "    }\n",
              "\n",
              "    [theme=dark] .colab-df-convert {\n",
              "      background-color: #3B4455;\n",
              "      fill: #D2E3FC;\n",
              "    }\n",
              "\n",
              "    [theme=dark] .colab-df-convert:hover {\n",
              "      background-color: #434B5C;\n",
              "      box-shadow: 0px 1px 3px 1px rgba(0, 0, 0, 0.15);\n",
              "      filter: drop-shadow(0px 1px 2px rgba(0, 0, 0, 0.3));\n",
              "      fill: #FFFFFF;\n",
              "    }\n",
              "  </style>\n",
              "\n",
              "      <script>\n",
              "        const buttonEl =\n",
              "          document.querySelector('#df-69e8c3e1-9498-485c-bb99-5b440ac1d389 button.colab-df-convert');\n",
              "        buttonEl.style.display =\n",
              "          google.colab.kernel.accessAllowed ? 'block' : 'none';\n",
              "\n",
              "        async function convertToInteractive(key) {\n",
              "          const element = document.querySelector('#df-69e8c3e1-9498-485c-bb99-5b440ac1d389');\n",
              "          const dataTable =\n",
              "            await google.colab.kernel.invokeFunction('convertToInteractive',\n",
              "                                                     [key], {});\n",
              "          if (!dataTable) return;\n",
              "\n",
              "          const docLinkHtml = 'Like what you see? Visit the ' +\n",
              "            '<a target=\"_blank\" href=https://colab.research.google.com/notebooks/data_table.ipynb>data table notebook</a>'\n",
              "            + ' to learn more about interactive tables.';\n",
              "          element.innerHTML = '';\n",
              "          dataTable['output_type'] = 'display_data';\n",
              "          await google.colab.output.renderOutput(dataTable, element);\n",
              "          const docLink = document.createElement('div');\n",
              "          docLink.innerHTML = docLinkHtml;\n",
              "          element.appendChild(docLink);\n",
              "        }\n",
              "      </script>\n",
              "    </div>\n",
              "  </div>\n",
              "  "
            ]
          },
          "metadata": {},
          "execution_count": 49
        }
      ]
    },
    {
      "cell_type": "code",
      "source": [
        "for i in colnames:\n",
        "  df[i] = df[i].astype(int) # convert dtype object to int"
      ],
      "metadata": {
        "id": "sqOhzTTihq3f"
      },
      "execution_count": 50,
      "outputs": []
    },
    {
      "cell_type": "code",
      "source": [
        "df = df.loc[~(df==0).all(axis=1)] # remove gene with zero read count in each of the samples"
      ],
      "metadata": {
        "id": "shVn5cbWhz54"
      },
      "execution_count": 51,
      "outputs": []
    },
    {
      "cell_type": "code",
      "source": [],
      "metadata": {
        "id": "5nDehb9Oh07f"
      },
      "execution_count": 52,
      "outputs": []
    },
    {
      "cell_type": "code",
      "source": [
        "ax = sns.heatmap(df.corr(method='spearman'))\n",
        "\n",
        "ax.set_xticklabels(\n",
        "    ax.get_xticklabels(),\n",
        "    rotation=45,\n",
        "    horizontalalignment='right')"
      ],
      "metadata": {
        "colab": {
          "base_uri": "https://localhost:8080/",
          "height": 459
        },
        "id": "g45D0WyXh2Cj",
        "outputId": "8b5d1fe0-0266-460f-e990-e1888f0921f0"
      },
      "execution_count": 61,
      "outputs": [
        {
          "output_type": "execute_result",
          "data": {
            "text/plain": [
              "[Text(0.5, 0, 'B14_5'),\n",
              " Text(1.5, 0, 'B15_5'),\n",
              " Text(2.5, 0, 'B17_5'),\n",
              " Text(3.5, 0, 'B20'),\n",
              " Text(4.5, 0, 'B34'),\n",
              " Text(5.5, 0, 'C14_5'),\n",
              " Text(6.5, 0, 'C15_5'),\n",
              " Text(7.5, 0, 'C17_5'),\n",
              " Text(8.5, 0, 'C20'),\n",
              " Text(9.5, 0, 'C34')]"
            ]
          },
          "metadata": {},
          "execution_count": 61
        },
        {
          "output_type": "display_data",
          "data": {
            "text/plain": [
              "<Figure size 432x288 with 2 Axes>"
            ],
            "image/png": "[encoded data removed]"
          },
          "metadata": {
            "needs_background": "light"
          }
        }
      ]
    },
    {
      "cell_type": "code",
      "source": [
        "import plotly.express as px\n",
        "from sklearn.decomposition import PCA\n",
        "\n",
        "features = df.columns\n",
        "\n",
        "\n",
        "pca = PCA()\n",
        "components = pca.fit_transform(df[features])\n",
        "\n",
        "labels = {\n",
        "    str(i): f\"PC {i+1} ({var:.1f}%)\"\n",
        "    for i, var in enumerate(pca.explained_variance_ratio_ * 100)\n",
        "}\n",
        "\n",
        "fig = px.scatter_matrix(\n",
        "    components,\n",
        "    labels=labels,\n",
        "    dimensions=range(3))\n",
        "\n",
        "\n",
        "fig.update_traces(diagonal_visible=False)\n",
        "fig.show()"
      ],
      "metadata": {
        "colab": {
          "base_uri": "https://localhost:8080/",
          "height": 542
        },
        "id": "_nOwr9eYh5rq",
        "outputId": "33b43e18-ede8-499a-9ea9-00ed01db9f0c"
      },
      "execution_count": 58,
      "outputs": [
        {
          "output_type": "display_data",
          "data": {
            "text/html": [
              "<html>\n",
              "<head><meta charset=\"utf-8\" /></head>\n",
              "<body>\n",
              "    <div>            <script src=\"https://cdnjs.cloudflare.com/ajax/libs/mathjax/2.7.5/MathJax.js?config=TeX-AMS-MML_SVG\"></script><script type=\"text/javascript\">if (window.MathJax) {MathJax.Hub.Config({SVG: {font: \"STIX-Web\"}});}</script>                <script type=\"text/javascript\">window.PlotlyConfig = {MathJaxConfig: 'local'};</script>\n",
              "        <script src=\"https://cdn.plot.ly/plotly-2.8.3.min.js\"></script>                <div id=\"52bb8c43-28ca-4bb2-b429-c6ed994a91b6\" class=\"plotly-graph-div\" style=\"height:525px; width:100%;\"></div>            <script type=\"text/javascript\">                                    window.PLOTLYENV=window.PLOTLYENV || {};                                    if (document.getElementById(\"52bb8c43-28ca-4bb2-b429-c6ed994a91b6\")) {                    Plotly.newPlot(                        \"52bb8c43-28ca-4bb2-b429-c6ed994a91b6\",                        [{\"dimensions\":[{\"axis\":{\"matches\":true},\"label\":\"PC 1 (88.9%)\",\"values\":[-1294.8828114028145,1671.3431664664552,-1294.5312684959717,392.7720984469012,-1266.458806854496,-1287.9775483724654,-718.3120263801665,-1237.166970096466,509.8983081954193,-1236.7736756632225,2311.435152924787,-1294.8828114027806,-374.0348059256856,-1064.8968879625677,-1295.2897228834133,-1295.6617399917102,-1260.1076612144902,-1295.6666317838028,3841.5644807228123,621.0169530411732,1332.3724977156237,1014.903915155095,-1295.0524728246723,8920.390917891998,-1293.9754525002404,-1245.8202759474486,-798.0642931540018,1200.1818077980804,470.3640472372293,-1295.6111613999267,-1295.6666317838028,-459.3844063825129,-940.6815821112332,1676.4185693905715,329.21983823516547,-620.2665206232676,-1114.4459643323914,-1294.0102915200434,-906.9127265587949,-1295.2427757041019,-734.0365038893841,-1073.5044333768337,-974.7776761076706,-1295.6666317838028,3621.7038471188725,-1288.0468868996406,-1243.9670524721462,-448.7332736534986,-1295.366288258495,-1275.149775699601,-863.7269745715666,-1291.5760483502222,-807.418713801048,-1285.6598327739346,-1174.8059193431293,-910.6430420005479,-503.04436520078445,1435.3908807641121,-1262.6487650757208,-454.9857169781473,99.3478502931482,-1292.3680496457243,-1233.3280462705084,-1241.7095686562968,-1280.3200889438026,-1295.2838393837615,-1295.6666317838028,-764.7909233427857,-1294.6663283443063,351.4983298818787,-1295.3184409573093,-1099.0245004874641,6188.996311452191,-1294.4290103417243,1561.154972127868,3157.243768998943,4307.345086593919,-1242.1364268345362,-1151.6730120404932,4118.284876755467,-1295.6438036850825,-1295.3877003357113,11745.239773130279,-1288.243298146971,-527.2834846529512,-1283.878628839905,-1295.6027400054231,-1249.6003757200745,-1295.3380741382994,-1205.8895430758078,1028.6309233586871,-366.31018546255814,-1258.2931341007175,2011.4665892666853,-1266.1938059527486,-1290.862653473775,3590.227471757292,50.2629775159008,170.65700548998055,-1288.6908143444036,-79.65458296282273,-222.4374051952205,598.0207943424771,-1222.044644296304,-600.1620300020137,-50.10500245160568,-1289.7449534596585,40158.688708833695,2120.2847139090854,-1191.947721378096,-1289.1144002877759,-1295.6438036850825,-1137.9403303224967,-740.3289304380256,6792.3169438095565,-1295.3386949280257,-1275.8788630198928,-1295.0139470398642,-1295.3458140570156,-1293.7283769714209,-1292.0405538891034,1015.6281027031106,65.4351529622445,3619.832900743074,-1284.9687377134787,-1294.7086862698065,-1295.3656674687686,1607.2724883720546,2170.663864546702,6420.373513245539,-1295.675202321228,-1295.6412657902313,-1294.047430988443,-1295.6699838641273,-1295.6666317838028,-1295.6027400054231,-1277.6946790551033,856.89961399904,-1293.071930684864,-906.2504511005899,-1295.3690195490929,-11.72305782527783,-1295.0296447259518,-1286.988128251991,625.212500388393,-77.43293155562019,-1295.6341466612412,-1295.3072882722076,-1294.4135581215642,-1295.6666317838028,673.2637485478452,-1199.9124316466807,3059.994936874922,-1293.4857359515677,-1209.7763236724156,-92.50872750141309,-1291.2357211327092,574.7482139476444,-1293.01940118261,-1294.9885810462924,-1285.7668010056414,3087.4424794865918,-1292.906161636148,3539.084709927197,1851.5117979082152,-1293.0434669345264,1475.9691050602487,-1259.7732341214546,-1294.296707019144,-1293.4859134736541,-680.9853693953489,-447.7392626386885,-1294.9942711501978,7061.529925260773,-1287.1414896986764,6605.427317896657,-1188.9726285307604,2424.010143627503,-1285.3829401350279,-1266.2221889645216,6917.624422442285,-1260.5566028283042,-1190.5253832533072,-1295.667252573529,-1294.700893684702,-1295.2427757041019,-238.17611362032153,353.3741009984276,-1235.5845803813486,-1286.231513054933,1903.3349049131352,9147.460736597663,-1295.6027400054231,-1293.8537297063053,-294.3415617448786,-1292.8707898037705,-1288.1892409748168,1777.1291076984267,-1290.8960101633736,-1292.7143351342295,-1294.7330000720747,-172.2262490863331,-1293.372209956104,-1277.3665074063283,238.5316482402839,-1295.667252573529,-980.8234666812483,1783.9011981403296,-1281.6878280832595,913.0234848770457,-1295.006323957174,179.9374639631092,14564.93752403961,-1294.9708222617512,690.1192777127427,-1295.675202321228,1023.3304333537195,26.955557143995012,2790.258382819467,-1295.3127081447276,712.481999543805,-884.9969129255385,404.09290825118126,-1014.244248764449,44.04183073561423,-1290.9107566426676,-1295.6341466612412,342.77301715639544,-1295.3797505880125,-128.2424977361654,-1204.0594328187783,2409.7166742983973,1931.6040867254892,136.86158115074997,-1292.562690252692,-1290.6241444911745,-1286.3246605612762,-359.5452711849823,-1290.4194980001193,-1295.3824818786109,-1288.826033293381,-1265.2266403046128,-793.9168161050372,2186.5256514372372,-1293.9180472919923,-1293.5745090731339,-1295.2897228834133,-902.0897001432575,-528.0802422250409,-1291.2982192622078,8098.1511342796075,62.67442400594883,-1276.8261400835042,-1099.874463860268,3716.4034017903186,6090.568732392866,-1295.310019562806,-1293.7377809976344,-1246.0434616295133,-1287.7538701968942,-1285.6888387775364,-927.9956568461198,-1295.667252573529,-1290.9575104262324,-1292.0874999525504,-1274.3451685077653,-1261.282758387496,-1295.6027400054231,-1295.3656674687686,-1295.28130148891,-1285.3997083914414,-799.3279472051587,-923.0790038292748,-1279.8873253982258,-1286.2578912493138,-1266.1112657844733,-187.73434163576505,-832.8370296823284,-1264.8996416589225,-1259.2691563643632,-1275.7929798819628,-1294.06705288579,-1279.9922564733915,-1288.3800818320894,-1291.5672434283122,-1120.889174747493,-1295.6111613999267,5102.779838722371,-109.58066393871756,1253.0367341794743,-1295.3772634215097,-1295.6111613999267,-1280.1520946869437,2342.352453594659,-405.5650103230639,-665.8663600184713,-1295.667252573529,-1295.3537638047148,-1295.2838393837615,-1292.975038174833,-818.1878062464777,-577.1465335696066,-1293.0129187170062,-1294.3194085575203,-1295.6666317838028,-1294.6037308117675,-1295.3223651685691,-1263.529795074392,-1274.0449616839117,2250.9207386801245,-795.7770673166275,-1295.6617399917102,-1292.9788718596744,-1287.651142852835,-652.6380423668487,-320.628585323599,-1295.6617399917102,264.4423611588709,-247.4846249988702,-565.2534396624324,-1276.4552242285483,-1207.6314195817456,7342.259747246976,-200.99523302556202,2009.661333867238,1315.5292508534594,4720.547306306357,-1294.6590520527225,-379.3134661238034,-1291.3230357233226,15.796888971740053,-1256.4885281392249,-1295.0101372825225,-1278.48744242799,9076.121367688898,-690.3494794548433,320.19106107198905,-1295.301775690389,-1292.9553318821436,-1254.3385314018042,1331.8702507870269,-1290.9123581824922,3808.052830691691,-1293.5288448560204,17072.60759396383,-936.2907429652182,-1249.767528827604,-1134.5569118156634,-1293.4578131094495,-1265.6441305903952,-905.76459953411,-1292.4683999592899,-1172.8378745430516,-1279.6801003456446,-683.6031608346862,976.6751537420924,-1292.504938235563,-1280.9933662909586,-1293.377463267893,-1295.6438036850825,-1100.2511478047654,133.2611816278685,-1224.1437884049687,-1295.0282076811948,25.29738899511185,-82.43790287287172,-253.75275246574228,-1286.9619623622523,-1294.4288408393104,-1294.106404139714,-1295.3791297982864,-1295.6027400054231,-1163.1080405251994,-1112.5039489691935,-401.8702418846103,2832.7291342235317,4374.322239526255,1501.9727154189009,-1295.2826037544235,-1231.0857230946629,2780.008982331027,-1161.2004131346525,-1295.3236594144103,2012.6560506095664,2742.9908976151555,-1239.2101611107435,2626.026065468453,-1290.3351603994254,253.43294964114295,-1221.0397427801354,1006.5588283398962,-1291.949701143673,-1234.1357713899706,7706.643244432646,-1280.6777024162564,-964.7537164974145,-1295.0252061592114,1302.051706224592,-1273.6613541373642,-1023.7788312270491,29526.92369137983,-271.2247082752184,742.4261374135564,1864.4068520074259,-784.1223992492355,-1280.9101287775807,-1290.1930854785085,-1295.6438036850825,-1273.8167006016922,-627.6453173028832,-205.05865063494826,-1291.8247407640274,796.8411483598961,-214.55942995872437,-1131.5872492563317,-1295.3877003357113,-897.7591506841738,-1233.48740540481,-1127.8254581992637,-1252.4309951141033,-1293.3360744673744,-1054.129865646353,-1295.0787862729783,-1134.161523475081,-1293.2440657475386,-1290.863109675204,-1151.4153295100066,6974.3914060102115,-1295.6341466612412,-1295.6341466612412,-1132.6435059938863,-1187.1656410686421,-1290.0298306356233,-1283.9920503469125,-1295.2511970986054,-1275.7042408534182,-1287.8752284664013,-111.05046113506134,-1284.1850438306471,-1293.954978298761,-1261.5670990069996,-1161.9139539226449,-217.9468814958697,-597.8368166080683,-1264.052567614896,-15.086422384198046,3356.440082197972,3332.6107363682413,-157.2189564070149,-729.6817747142712,-1268.8816350790544,-789.2356920706734,-885.3070622083674,264.90076023585283,-1295.6617399917102,8959.966696101614,-520.1515416723007,-353.0587237051436,1204.4431451649311,6997.6100440062655,237.4629654347176,-1036.3151843168794,-885.5693251088337,180.8142631692483,-1111.9303383693145,1010.6551634879967,9766.64642990791,5788.777206907499,543.8981687449713,-1233.4526787687128,2633.711365135462,-820.3834651123532,1307.1381456026663,-1083.7960199376519,-1271.0187203801847,-1295.6699838641273,-973.4329149959084,-1278.066847924811,-413.39105714810773,-1279.3344854180004,-1209.0604753911127,-1276.6340569413612,2290.9151619356912,1024.250279675358,-1142.9759231260357,-777.6704663176456,1240.3524474534936,2180.9798931425325,6321.485101366211,-1196.3631123841064,1635.5594213058303,1121.0912648243059,-1180.2671553548255,-567.2220014960659,-174.34265214010594,-1277.7289934191433,-1289.5829053820648,-1291.0212664375076,-690.8144231089706,4435.751217709334,-151.9267092615916,-1277.352686769628,13601.482304464333,193.833552176848,-1295.3072882722076,2371.4446809900583,-1290.0606678725362,-987.4952311856991,397.3651949869146,-1214.6670953302635,-1006.1166727930978,-1285.6883913983988,-937.5427404843813,-1294.9586541780745,-1295.667252573529,-1295.6438036850825,-1189.0481101163107,443.0032218997087,-1295.6438036850825,-1286.3089835914063,-1294.1024436953016,-1294.995101768907,-1294.6910794982666,17261.15218260952,-1268.6964223896562,-428.9883836647218,-1256.5402785178162,-1274.2779232246294,-1295.6699838641273,-1166.6002542550102,-1290.387785234225,-502.08184687449676,334.2864313603417,-1294.052353382786,2947.216124127458,-1284.6277222295232,-1246.1966115697198,-1293.750145418741,459.9420160248923,634.6434183129724,-829.3649677084012,12237.395940380384,38.67657134571129,8032.669263186826,-1285.6866768796665,-1272.6065390155418,-1193.4751347690549,-1273.7080416092215,163.40146912062676,-1277.2967547674716,-283.195943851005,-434.81611749946995,-1290.309434771663,-1292.4675942900908,-1295.6699838641273,-1273.8854341922736,1844.9843168917685,-1274.7088194923663,-1294.0756266871858,-128.84682415408486,1291.6520261902963,-351.64968420921616,-1295.0296447259518,9707.62781737352,-1186.0406717736455,-1184.4988321439062,183.285731858053,-1267.5644172142609,-1157.4016993487244,-1287.728142015299,-1294.7061483749553,-1172.118976183967,53635.5134731352,-1294.6897772327532,-1265.5191251926362,3129.565209573851,103.81029694115067,-1295.6699838641273,-1204.3731390192559,4904.124575166519,-1262.7820876415058,-909.2556453186485,865.7813619773914,-1009.2843216210739,-1236.3093609863595,1446.0682189674512,-1294.9467031811605,-1294.7009299178544,-1140.2589221251103,-1295.6666317838028,-1291.3370108724355,-1295.667252573529,-781.6661166324521,2266.1738538855807,-1289.736635999017,-510.2008586351306,7402.716120680388,-950.199146815691,-272.76612174329654,14279.660978870586,48.52780206140701,-1169.0502500368095,-1295.6027400054231,-1295.6617399917102,-39.74995875645242,-757.4509976952808,-1283.5638233961988,3402.6085426656823,-1263.8791423832151,-1291.0670698697477,-1247.91496281572,-1290.15870356927,-1235.2046711908142,-1295.6438036850825,5085.094218770815,-316.71946659309134,2085.0310985912793,2170.2802775514647,-908.8751961451702,-513.1881644880295,6582.439172410809,-1279.8162839437512,-882.0177375674432,-1290.3132186976318,-892.9782900358032,-1293.7303999551104,-1286.6645194163327,-1295.6412657902313,-1177.2634672241786,340.46499683342006,-731.8558832475071,-1294.59026848225,8879.322743479912,-1287.98121324768,-1258.6134864455696,-1287.561710233423,-1295.6438036850825,-524.951650474477,-1295.0296447259518,-1277.3194202979685,-1294.3507798029686,-1245.694781416108,-1295.3184409573093,-1295.6111613999267,-1256.804593057907,-1292.8782702190626,-1294.6688662391578,-1294.7578517101658,-536.2751373769977,-78.23826534246447,-0.24631907382899035,-1291.1485500998156,84.5597326105026,-1294.0096766804318,-1146.4842975291788,553.8800059585833,-1271.2566965186445,-1293.7832244960132,-1271.3828738655927,-1282.2432786766474,985.483327315012,-1295.3458140570156,1989.126053718716,-1295.6027400054231,-1295.667252573529,-1295.6617399917102,9391.352999809025,-1295.6027400054231,-1295.6699838641273,-1287.2124507927192,-1295.6617399917102,-1295.6027400054231,-1295.3745321309116,-726.6173886316794,4249.536941045641,-1288.995888926925,-1268.76437456553,-1293.075791630523,1016.6323388513821,-593.0667403814092,-1290.8894209412374,-1294.9887585683791,-1295.3485453476137,-1284.509663583239,2900.069713047199,2433.274998202821,-1293.48202250133,-1262.2751872518093,-1263.7817874917873,-595.9981678559883,-1262.723922391096,4344.492165610681,-1295.6699838641273,-1153.5644294759936,-1295.3711800505873,-1295.6027400054231,-1123.6682568549104,1898.9986093856764,-1280.4799274333789,-1292.0312126749118,3478.8680288448077,-91.8342352130489,-1294.7506943241654,8836.695981719637,11704.431672515027,2464.323795515526,2326.1735998211543,-1293.8266420729135,-1295.3791297982864,-1095.8994676067744,-1290.7994526753175,-1267.8953496575239,-1295.6666317838028,2613.4403712781796,-865.7250123156002,-1271.2607712385882,-1294.289419443917,9962.623588508082,545.6347778859235,-1227.883847895588,-1288.8679057914278,-1285.188314085514,741.5233814355604,162.31446174235157,-1295.6111613999267,1296.4679347677902,-1106.4177296370024,856.4905995221915,1479.0161350852154,-525.1537757403347,1311.965430941932,-1290.9765810843787,-572.8895923891783,-1280.0068713509197,-1291.5789339333353,-1295.6617399917102,-1294.799528159879,8911.847378996552,-491.01774952658826,-683.2954824723182,-802.6494359645523,-1276.9844906869166,-187.57642611943885,-855.7378556476398,-1158.7063580706345,-340.9467620381496,-204.99522026187734,-1181.6947908741533,-1227.750918594246,-257.3570265518502,2442.1599511941545,-1291.1658863587938,-1295.0751075276457,20658.99682609,775.4238185309666,-1295.3403014751968,-1295.6666317838028,-736.6311150620553,1918.3511626439788,889.9093433056066,-1255.3169724465395,-1295.0467668471067,-1292.2242767340872,-1152.2683830943677,-1286.5127765376862,651.1997171861084,-1294.9226394531022,-1295.3072882722076,-1189.5438270297448,149.2800199887998,-1295.6111613999267,-1209.2013533717932,-1289.7091597882322,-1295.6617399917102,1502.675542197815,-1295.3537638047148,-1286.4523449339897,4847.721818662072,-658.9778058059411,-1257.0583973746,839.5764033778005,-1290.7302623717953,-168.463822573962,-142.29665958723368,2252.188742016174,-1286.213130996839,-1295.2826037544235,2018.7465874393272,-1294.7622395485575,2598.665217772235,-1295.3380741382994,-1291.0358299320824,-1268.187003820138,2718.983533627663,-851.9557170067739,91.87694896716663,-1234.8479274887025,-1054.8999173090845,-1262.6806829174259,145.15016698630782,-1295.675202321228,-1291.1828253617193,-1295.6666317838028,-1290.3755191820346,703.8579085373829,-1289.3208626471653,-1285.6790972348808,-1295.6617399917102,-1292.904827063738,-1295.6111613999267,-1294.9983887572043,-1189.1500944235136,-1265.9401902081383,1652.9405244342513,-1295.004758792748,-1292.7712330332079,2143.5556329361225,-1285.4161855864813,894.5533041877746,-1272.8824627354245,20.09791859504147,-1294.997002440796,-960.98899119711,1470.5507893410004,-1279.2376059279427,4786.919890879952,-968.97591047346,-1295.6027400054231,-1289.7186997489862,975.5883036396575,4769.14293935552,1191.4628744700415,2263.0674598954324,-1295.6027400054231,-1295.6412657902313,-1287.6660487825006,598.6433773829867,-1295.3428393700485,-1295.0845429788924,-473.4721649013448,-1295.667252573529,2174.3300800081047,-1259.963000948386,-1284.6030539484989,-1271.9590477986173,-378.75163429793196,177.0684879992647,1155.8259928613618,7590.282223266858,-1292.1617536550798,-1295.0524728246723,-1295.3066674824818,-673.0458813511287,1752.357322181192,-696.8102622435331,461.6860451352951,-1212.168520308501,-1005.1022952987773,-1294.5782156752744,-1255.9255071467126,-1244.0778335315172,-1292.8125864316198,-1273.0923531941032,-886.8048946570352,-1143.2062229781661,2212.131177636506,-240.12293753606704,-1289.3620339966167,-1285.517858008716,-676.0556388951629,5346.257935890226,-92.5292161278472,-579.379154026396,-1228.989164355673,-1289.8311180831267,1079.0572278464624,521.0801003060016,-1043.5517537490914,-1282.556311156252,-1263.0489976093916,-1265.0599993250069,4490.351154451655,-1295.037401077904,-675.6099893970594,-1220.3938510663975,-1155.2148115673456,905.1272886094848,1110.0888513037282,-1221.7915416458557,5085.219121889952,4925.967154504919,-735.9031615410084,-1192.363315110243,-943.8309579573859,2612.378278985921,-534.700882309223,-386.0644900083328,-794.6667853531576,-1281.422578514521,-1295.6699838641273,-1257.8222059741115,1046.243461220376,394.8144796035895,-1294.4081652224122,4835.0814119346405,-1145.029852331657,502.3787979165124,109.1309234134441,-1293.5032963564538,-1289.0644179011208,-560.0874010876578,-1114.0846821607608,-1279.850328080005,-1210.089707213285,-840.1782339637494,-115.67558607349986,171.76237890684365,-1293.0222670684002,-1205.340690800215,-1216.023539073241,1956.793002242379,-454.561476622553,-170.14849197608248,-1267.9558761779408,-1093.5249568464856,718.5100214388162,-1014.5139690646968,69.5293597658243,3176.1260560771634,451.33712011261673,236.99223624272267,-906.6647719564486,-1071.1656953313832,-1041.775953972316,-1096.4998400032516,6493.082566771032,-1295.2596184931087,-1295.0729470261513,-41.40683720160215,-1295.6412657902313,-886.3819150538469,153.2891818791745,-1289.1239429173866,-1293.43792637515,1758.432365940674,1864.852698510633,10357.862920929007,-50.279681497638805,-1271.8145532468773,-900.4125299647538,-1291.6480314284422,-1193.0416983691143,19008.475002955336,1500.0346286147296,-1008.9866221622916,-1263.478858069783,-723.1507367694823,-1259.97597849449,-1291.8415043352888,-1294.6983557898502,-1291.013892000613,-1295.3510832424652,-1295.3236594144103,-1240.1230827410345,-1245.5363058295268,-1288.3726862628544,-1290.9084396765068,30.033735736667747,-961.4111671679799,-1294.8996541917877,-1187.0131614526283,-1236.646203143389,-1141.987419056421,-1251.0220286491203,-1283.5130509163457,-1295.6699838641273,-1295.6412657902313,-1197.342536746383,-1281.324666919015,-1295.6617399917102,-1292.7961001510685,-1291.8881124391291,-1295.315246039579,-1273.845411837556,-1115.389701760492,-1292.7819753563772,-1295.333182346207,-1275.191323574762,-1295.6666317838028,-1285.2921540996279,-1292.3879183329339,-1287.23905113201,-1293.9909661887182,-1290.8545005908352,-1270.5783278294118,-1289.4972024845163,-1294.5565326794733,-1253.395572384978,-1290.2487426667155,-1295.6111613999267,-1285.6493861451527,-1235.8626250401505,-1280.6013726981853,-1295.3772634215097,-1288.8144430579678,-1193.6851497105515,-1273.50363031493,-1051.8907686314508,-1294.997002440796,-1287.7265143304398,-1283.5685768763058,-1274.8694744578258,-1272.9610442055387,-1291.6238987314425,-1292.4155364702829,-1294.9885810462924,-1287.6727554971671,-1277.7025250861625,-1294.0739190171523,-1295.6111613999267,-1291.0182243555614,-1289.1042420191302,-1287.313527149442,-1163.702793839401,-1289.953868589936,-1279.818114863886,-1294.908075586291,-1291.1818754091423,-1281.350380795626,740.749418121443,-1294.993807523066,-1287.5669346517875,-1295.6699838641273,-1267.8291741132598,-1197.881047616574,-1292.3062191112224,21483.52689889401,-1228.236279860664,-1292.8607661145338,-1254.2191385363897,-1293.7879228923587,-1290.6388020132292,-1295.27418235992,-1293.3861787871144,-1293.5988200053223,-1295.675202321228,-1207.1934040758217,-1288.600511269555,-1276.3213621759814,-1289.7946564668052,-1285.7978928934208,-1285.5364926144666,-453.4645109697346,-1199.0586773733532]},{\"axis\":{\"matches\":true},\"label\":\"PC 2 (6.4%)\",\"values\":[66.74310198677202,4070.1922991149427,67.40301389469928,-466.1588173408232,57.32617588719017,61.12495108314457,8.896810082674099,71.72009122103675,675.8215828393668,59.33040383111841,-707.9796550074366,66.74310198675069,89.71078748757185,67.31144318586227,65.89638550191836,65.10704562032932,60.75283234424361,64.99213951539161,-1960.22598806006,-463.07883482867885,482.5931189532212,-5.512261598936187,64.79065309609818,1361.9170781507673,65.84494930712418,50.80113494240836,155.82441283898012,-437.0543506648286,168.56364786013975,65.90500616141034,64.99213951539161,167.8456932977317,-33.403211272961286,-1350.4176492589072,-301.8108303177493,160.78225209720594,31.921878225105264,65.704072572946,424.0211857998653,66.24376607565176,-25.966641350879108,28.10891593215501,-16.808326217578546,64.99213951539161,1329.3872752872478,61.265350010306285,46.21411063124175,-13.703251230312189,64.80486591007032,70.41031135922283,18.284421351083186,64.61831875746006,-78.91869545146318,64.55841876891002,109.35937885247182,301.0907642752343,-256.4804982746089,1952.9109799533312,63.03133002418615,555.310728212142,-423.1145216086108,62.58975053934337,13.585288461855235,65.85889960704986,68.48621673507004,65.71926679746355,64.99213951539161,72.35703475558518,65.45769139990932,-207.1772317143798,65.71214040160888,179.92239771225243,-1734.198198682523,65.19389953282216,-38.080928444372006,-371.84183722060345,1280.043901900785,56.77934244417206,25.113101296352717,-1004.7522386031252,65.21993088636458,64.76080704837872,-2642.1787080492977,68.12585804382677,81.91299733515751,66.0068532380056,65.74443016455285,88.62263429286364,64.78169811416718,38.5391295162842,-656.8303852342905,-118.17774010912818,45.3697192498713,-677.5845652234208,66.89704334279898,65.86075919666071,-1081.3177330243002,-9.994179308472015,-272.35322405919067,64.90026102976167,215.12942857886674,565.0558508105382,-387.3854537141673,40.804389311291104,-84.56575660612627,16.26592299149904,62.49611107941712,-8495.61212679119,100.97300666302577,63.69640661215572,63.66811086765566,65.21993088636458,58.840854934835576,20.95034839436713,577.0117160873652,64.73247314197046,62.44512308321309,65.2986096666891,64.93429388370292,65.34594771846425,67.4955020197322,-195.09978881043205,-177.00814501367518,1033.7150992847503,65.52482100134375,65.3847444537212,64.85409088226706,-454.29223100307286,-657.3794201540461,1492.1219932199979,65.0029506509163,65.2364735939619,65.68040346949401,65.05222849365241,64.99213951539161,65.74443016455285,65.25292249859842,-240.00168587194435,64.35989129072107,-28.12892415837234,64.91417986052784,-40.40449831396333,65.01844446707116,62.290198010690816,-375.6166743618431,-213.7735001604387,65.03465285222946,65.44225045429386,64.84751731724148,64.99213951539161,637.5797326046277,19.341283106838844,255.15862440511117,64.78272891106536,103.41404216317237,486.87085169372284,65.49965283929585,-85.28945798640362,66.62222526371374,65.5429437452594,64.47755258837084,907.2688471033008,63.16345350969192,-1212.9780071963887,-900.3832962832143,65.21961256673578,265.0659401539984,62.01048765213352,65.77174927687311,64.99812203459979,-23.624069743711114,32.363587306487936,65.59420579165938,-3210.6810809644867,62.43394800074861,1770.8550611949938,67.8928676079282,-936.3076306441981,61.99393988481602,57.09476948547736,-2338.5329009440043,55.461103069863334,0.2703679064372068,64.94291454319487,64.68214640779186,66.24376607565176,-228.8831259650836,-193.9971156623834,52.149423756648375,62.08141975456461,360.82425413696666,-4475.927331615458,65.74443016455285,64.2612250874959,-482.29885286236174,63.986883875414385,64.67896023258628,22.250964397994448,63.83139450719544,66.76961368179099,65.32640888200591,-152.59000466665938,66.04870770289014,61.21769518915954,-270.2488387050152,64.94291454319487,-25.233901904569233,28.16445235981551,64.20167991785101,-174.31228674713836,65.30420182116926,-200.85459268770438,-2781.283312790712,65.87122213482907,1217.367917873664,65.0029506509163,661.8565576606953,222.6392583374064,-492.84262226346164,65.02603219273749,65.7257934763947,177.5496647588007,355.7152137076943,399.14719896540186,133.48299057392234,65.26973623774361,65.03465285222946,165.99282345282643,64.7007709406573,-210.37251112110107,29.575996605914547,-986.8514087257386,-150.30020853605737,-297.4761346638584,63.24811668408832,69.70118149764792,59.951306378944594,-71.87599134206468,62.94691490018809,64.81008489111483,62.7203297875532,48.10357337561189,170.5419583564542,-262.6312527809922,63.807556817252944,63.351273089583934,65.89638550191836,473.3930765530865,341.29219148630233,64.47191672357802,-2778.388342749876,182.53014102522607,58.30112136601585,206.15166751448783,212.62048510590614,328.5829378466659,65.55156440475136,64.79114654988452,67.28310651666968,64.67876176032419,56.80039327944354,95.46569772838934,64.94291454319487,64.7964990059554,62.77399873257189,52.8240290682054,61.302629461369875,65.74443016455285,64.85409088226706,65.73580950506089,63.1153624261471,164.963387675879,145.68639295777865,68.72008252562198,69.14127865555626,76.72234816434734,45.60518955145964,21.77581493547936,93.21085472101132,67.7677899816826,92.79556709845136,64.8994080951398,60.78603925052831,70.34577678751471,64.33054291911039,35.35826804380881,65.90500616141034,538.6634380698372,44.93510318881457,-25.842500439884578,64.85936273385093,65.90500616141034,64.28055969233287,-852.6062627110315,344.22673190634066,-328.07026103199337,64.94291454319487,64.99432999142434,65.71926679746355,66.02916128595488,172.8735351531886,-104.8177926878438,66.28164308430495,65.95904814991069,64.99213951539161,66.66153438107065,65.21131022687261,82.39974313155578,60.507553701538555,-734.2603963988365,180.5628932989661,65.10704562032932,66.104946267274,66.45416503602145,-19.84608560149274,-72.27798971720738,65.10704562032932,-16.903712470871717,7.870855946732564,399.323435492912,60.28662174434133,60.89322565826049,-1453.5453111309728,-501.8155251858496,470.8433553951125,-357.8501803529112,-1052.087966584626,65.89843259638477,-249.72563264429508,64.22397704884233,1.916449926093437,60.287431094561,64.52203174074603,57.95662283621423,-2303.9978465168924,769.4418820751289,71.00865870210217,65.60638153142827,67.15912278934051,67.23084725956488,-9.462439172146262,65.04466885168867,-1238.663100613907,64.29965290840495,-615.305124477786,72.77533678216592,51.85891026461773,47.84009818880445,64.83246647429026,59.22359478124093,-208.8265559362395,64.78379313509625,86.9245303414261,60.0630067120151,-7.2313951905519,1510.9348039812567,65.26095540420685,75.37298971289455,66.23101541122992,65.21993088636458,72.5007668307816,-12.395217504186165,64.4118898124594,65.36068284861376,-181.11983097935254,-59.14152018976239,-524.9475838081994,64.14892060054906,64.48570933241265,64.31863629731953,64.74999591285403,65.74443016455285,113.66503412333189,51.42240593893967,47.10609445011959,-34.2363426494786,1585.677647066843,-568.4538118449232,65.69456476018591,148.9151080538421,724.685894458514,55.641451197768035,65.66286255887276,-2085.796600580184,59.10183515211891,55.13682388580527,-253.49562566166242,64.19379150784917,-416.8200056252687,48.418127960714514,-266.09973928377354,64.03058445171199,58.01212663865554,-4620.430126031413,57.58891580138267,452.4974757388394,64.78388859019991,-975.3066232275895,61.16082975477446,44.999137672632344,5229.317752116782,165.37296059764006,711.9587635031733,-829.1339696217298,16.79829338308606,61.9899603287817,62.38443154834252,65.21993088636458,57.90543053036369,-64.91953918663975,-362.5283673346892,64.88480211515756,138.48802917916646,-95.70347116249344,27.442254033539953,64.76080704837872,513.6344498628835,103.60524441014859,5.328121245572723,49.697405825361805,66.33066178413286,493.7812583358278,64.56272230753274,98.60932910777011,63.89244249931896,61.31748819476572,26.349635027390676,-54.02602749220582,65.03465285222946,65.03465285222946,21.73136623749387,60.30240796396687,60.397195677534135,60.95948440457961,66.40434207250931,60.79417950580996,59.8496918704066,-303.6338646479259,62.43702396066425,65.97437728075678,60.26375532865635,47.29801008520051,229.169560306731,-181.30934559768488,70.28164158325663,1128.5402974982433,-104.06982586856911,-1421.5835927294988,-179.45327320500112,-210.1570338708193,47.35617131583047,-27.927371563717777,-89.12845486225453,75.10948552715665,65.10704562032932,2488.149727593456,-122.45116265359283,-77.63094389798565,-216.10476222390943,-2081.466671686088,-349.0714167384743,28.908190301295367,-42.440525094509,31.93167021733817,18.199178132804246,-442.51870854059416,-1130.0649105552884,-611.5151615180655,65.76742642674792,59.55789383760503,-789.4868086755844,44.69693473430068,-352.49040591700384,23.79848018060082,55.56630407862838,65.05222849365241,86.467848012369,65.37750152531706,-146.87525816581135,61.681390391484435,55.492381965775046,59.587996183536454,-1013.8340555413807,289.1178183845775,192.31919605895644,-0.3826110674677661,-952.1092345448598,70.77346157135328,-1317.956967083936,90.66709544430108,172.87540885867767,1008.7284650750695,122.22014606482391,84.7239712171659,310.90118139122416,66.79869303276973,61.95617778735587,69.20742920436206,-8.506040239696313,-2040.1169871398672,-207.2280920084853,64.66873004021768,-5615.5953527908905,-177.3531743709388,65.44225045429386,2498.7316768197857,73.36155995131384,-33.402559951154466,-636.1297038956875,101.59754969599379,65.14085050853993,59.69354855782285,-14.310283252255273,66.42686943624224,64.94291454319487,65.21993088636458,35.86055674355008,-687.3371597123416,65.21993088636458,62.79438348786655,64.051047875793,65.45242115764835,65.13943031186466,6047.307896188253,71.72584350335235,-237.64546212462253,52.772305191263314,68.56389689101083,65.05222849365241,70.50027133818737,71.58533834189869,-130.15074681455624,1694.897286055248,65.33802567035892,3254.6475646291997,57.31588331351339,26.03092304084107,65.6680720768318,-94.36742894645054,-142.95721379822982,64.41617624818603,-1506.8014622600774,-24.100025056256122,-193.71120766493397,60.24299020996189,53.08341813976664,83.40524243402069,60.36685562040149,-266.01884337891295,65.00378134671743,-153.32672784186215,1231.9030301722346,63.9474288917427,65.84344327845758,65.05222849365241,59.68212909019113,964.0771176813649,69.62889076105249,65.25356939445207,-53.48618463088368,-247.19436568460935,-160.86091286489471,65.01844446707116,2172.0869233557664,65.7167038286982,122.3207964098567,-197.33350624620385,88.25788365713315,112.06420530390176,71.5677370581444,65.40128716131852,46.01858613300675,12588.939332031394,65.1806750567396,53.165531013648554,4614.626567976961,62.81687432940423,65.05222849365241,-1.8910565809788629,-1347.78708393554,61.96311350040921,-28.247446186723998,292.9538274932152,-8.897370463167638,52.130474139174304,-193.55053342166372,65.9908113375895,65.45056500405464,24.33177239428199,64.99213951539161,64.19536779953083,64.94291454319487,-16.452997371546104,-338.800507842536,64.54218598455792,-165.84224940156764,-2289.839655504406,68.85013186185657,-188.89713305184418,-3638.368345557231,-147.10187505244448,21.517056224698862,65.74443016455285,65.10704562032932,-23.97035500911232,-64.7786206330238,65.11840638769655,-426.23555020603624,85.53159016976042,63.26301648795608,64.29248271097701,69.97176789867292,55.410858018247815,65.21993088636458,-440.9867299031519,264.11684087904035,-122.75484240099064,-1194.4096322703513,19.889779344812837,115.91132641032083,-811.8646233833765,63.12576568336452,46.38605868698033,64.8983871692431,9.05557000571269,65.06895068382882,57.91351917185845,65.2364735939619,174.57973208897627,-503.85282707927695,-179.7220909846934,66.76562935048368,-1644.3444601273588,62.51433115187666,54.940751823792155,60.68276769800016,65.21993088636458,303.61454252263894,65.01844446707116,56.09960152895239,65.4926170110808,58.28350607179294,65.71214040160888,65.90500616141034,56.01348263033508,63.997484148475685,65.44114869231197,64.34668875182814,36.07502751986031,728.6223120664146,-104.13317583281784,66.45955174603499,-292.5673762939476,65.63014556347164,105.73376764803606,224.63252172882906,68.0647292357172,64.85195113984626,66.00538126513742,61.98758543806524,-569.8266381173936,64.93429388370292,-139.1435039282018,65.74443016455285,64.94291454319487,65.10704562032932,-4156.022013479123,65.74443016455285,65.05222849365241,63.830841053556846,65.10704562032932,65.74443016455285,64.75004878339341,109.87828784707905,-1541.0764885889091,68.50659313879213,82.7140954746525,65.47631100431825,-637.2243890174287,-313.12371707247837,65.23878935810889,65.7583368687938,65.04360783416044,62.69199655685732,372.9757165623448,-941.2804833587369,64.35921856309663,63.370183887229885,49.63594325388958,117.7256690194227,55.87442193264371,-494.6319019921376,65.05222849365241,24.774389245548008,64.68995980513263,65.74443016455285,54.69734967412124,-732.5302277731473,58.83690999169374,62.79195180437551,-946.1612020963067,-403.82686799082825,64.5759727771155,-993.1016576552278,-1220.0183030882295,-19.18181932687732,-621.7037828538931,64.22908846431766,64.74999591285403,68.86583446354821,62.8950846914629,60.747270542702594,64.99213951539161,-643.1836306804452,216.15251269130556,63.13291215185239,66.36193738643607,-2170.28732752291,720.2207075419469,47.61453601656371,61.023147188216,59.549551232905515,2333.1784316714507,-379.0678569136658,65.90500616141034,-303.0677676131515,301.7069991634629,202.95199198348612,-220.2533495595255,-195.20524906086487,-529.0650251786527,65.19551519833826,20.436199614289677,55.53320373946736,64.50889843980303,65.10704562032932,64.26576157831822,-3642.6628657946635,101.48982279806496,3.507107192898242,87.91259395025826,58.23249325258284,284.8008936233475,98.77456146851995,86.13784219564837,-83.03357453903575,-207.2237227584089,41.01299960818262,77.74155934765378,164.16156039783343,-332.62803115966426,61.69062088934957,64.43700506707037,-8021.460431671328,-410.4498176416837,65.09842496083735,64.99213951539161,-116.46516262137749,318.653722490109,-517.0536064484653,79.22121054457304,64.82892751517775,64.47877147843948,41.89714614444925,76.0784388821658,841.9029004245707,66.19390067128488,65.44225045429386,100.08457753380911,1667.6393199690801,65.90500616141034,65.44783210655184,64.12514637022183,65.10704562032932,-550.7818518921276,64.99432999142434,65.30424551017505,711.300320360802,-94.59584257189165,52.14189005830623,1909.8048558235378,68.16165611740958,-47.947213624005464,247.56347349044344,678.616973056158,63.46065377755585,65.69456476018591,-1407.3594248313427,64.43919554310307,1823.5079508856584,64.78169811416718,63.49733511670243,75.57290166019177,-536.1353635092339,-7.960926163718069,-250.80231597591805,65.95720790038546,-71.35329070580225,52.06879908437896,110.06371161127474,65.0029506509163,65.37663684764325,64.99213951539161,63.214071981745256,146.73153018362245,63.752310060219884,66.77136574087992,65.10704562032932,63.512651039915596,65.90500616141034,65.21923227497797,36.93987587023752,64.5113555510559,-426.86088541916297,65.63769919178344,66.24807097191915,1557.5784731609422,66.81257271029824,-27.34877878721108,88.4689558633796,-94.9631336982678,65.70351974211691,480.1769637450435,-909.480657348619,68.05187244104789,-1729.1613131733704,-70.05036017766406,65.74443016455285,67.60066008076701,-85.47412509135125,1725.3610296588383,-116.76329700016424,-573.0472936124495,65.74443016455285,65.2364735939619,66.58567811708376,-388.3988475829234,65.08188225324001,64.66649697404945,82.95345853029515,64.94291454319487,859.2601504427311,69.41523653423226,66.15161135935243,90.30192612423484,335.5928939646761,-137.57878124745363,213.6614111241298,-3307.9789444639555,64.58864208480706,64.79065309609818,65.49147542649057,-93.66601023940228,365.7327297101461,88.1176871572314,281.4082614436538,106.30890842071231,86.95190353854642,67.05563332097381,78.51459566338808,81.59164612687147,65.37264579791994,64.3061655519226,-98.46288071664371,14.21664693891016,475.36291937451483,249.61035228411328,69.91146738382139,82.38887822776721,43.97105882081018,2478.354770335072,166.09799381605973,11.087833598876372,78.34058123684655,62.88617472630872,-121.98166312394983,-94.96738810837911,215.27485807893228,77.09842849641775,96.61500566236433,65.87291016658988,-708.6540828692234,64.95262391673769,-61.26427732096385,45.27163128169631,58.42553045997273,222.20049973384872,117.73063345728731,71.95028651427333,826.1482362007615,-724.8760801299354,137.77800207404712,92.42209254474628,-81.04190694092343,-767.4851591649825,112.74030056687674,-329.4283775315435,220.07463995069378,75.19626724580553,65.05222849365241,51.948208584658744,-109.10456435011791,-43.343638701044014,64.98207772486548,-1908.1035207151745,74.58758236293228,-331.45238358139943,-149.9540735872723,63.5015055819519,63.209816923136984,-102.79252619063178,-68.23038221363566,54.292141229859304,20.089138173344544,-8.770092845944161,29.723162418650585,-34.18779393092122,66.60670779130827,57.96474069609093,81.60083683859973,968.3480678304086,-164.5597956369901,271.1669396698727,84.93279584098295,207.37552530717565,299.80510593657385,50.31665593629791,57.76711699482801,-2404.561154708321,409.60278512208816,54.043345161979424,80.42506816616188,90.71079811559363,55.661382021568166,40.084043677967124,-866.8096563523153,66.5649180693668,64.66122512246558,-369.7055719546068,65.2364735939619,213.67601256256455,705.7222756924626,68.00472066419215,65.49776128358641,-704.0154614602931,289.06916822933607,-4366.843244570506,-788.9225320369891,66.85345027581718,-34.353441620119206,64.51368336743776,48.638409547635185,7581.140015306407,-690.6664376286896,6.899097813623099,67.69606955770283,10.287853097990377,53.17473149626337,63.4287344342759,64.6986891153892,63.17841128749619,65.02706512656313,65.66286255887276,54.942747238565666,52.99990349696218,68.31691126135452,65.00159789507386,1732.2567494971318,74.44405165253106,67.06425398046578,126.02179082158395,58.46232351524464,111.67210908628992,60.256530548971156,62.82877670055558,65.05222849365241,65.2364735939619,51.44897731154204,61.31792413215851,65.10704562032932,64.41163654238078,64.05550591182603,65.00948948514015,66.83880095704929,-17.802612865005123,70.863149431347,64.89660421910487,68.15936786397225,64.99213951539161,65.42017240339814,63.009422163083464,69.1290679846635,65.4829634177632,65.46508870088817,71.2020425203233,71.07428443813974,67.88474188527972,59.43813144028973,64.5662232167099,65.90500616141034,62.461645495991476,63.420413070783624,70.42554447798506,64.85936273385093,67.08140596473547,71.16407049015741,61.44034964786342,-95.04187163117308,65.70351974211691,60.99475645963714,76.91948779746531,62.52678452894125,61.83561429818537,64.01171995434376,66.3383755864895,65.5429437452594,62.03901792176199,61.63780986176131,64.36114963415734,65.90500616141034,68.94295052622341,69.48646191047604,66.22190907561578,53.78958819765538,62.002730771834884,61.13909522536173,67.22482997732327,70.46322600935306,78.26195500051685,160.58810102271036,65.0008688256482,63.13738207819325,65.05222849365241,60.503501754618846,20.724344432092238,63.57829702101406,5302.598446203576,55.56016772912954,63.91941330496326,62.02959244922367,64.61118837685372,69.15252582360323,65.53398876332837,66.27673817368908,63.716765187962004,65.00295065091625,88.68625777061449,65.81497436414588,56.98876875085643,61.91617809120971,61.52940733115805,69.34572969725076,-234.50594091206622,50.37314027964751]},{\"axis\":{\"matches\":true},\"label\":\"PC 3 (2.0%)\",\"values\":[-19.162765187645224,-608.2983895809838,-18.60382838965336,167.56952441862535,-11.529432697011258,-18.760500588799964,18.774871302616294,-47.19154064101375,182.78900004719839,-31.60220578537552,620.2407974025383,-19.162765187654593,-33.650359775572205,-35.34068010219842,-17.388921955023594,-17.643253144932185,-19.050154176008256,-17.526680965424468,273.41646960612536,187.39906321705527,631.0087390629803,-196.9921821821785,-17.755230442697297,-3475.280772740679,-19.35548274787529,-14.67843270892584,-84.36395583662177,16.835110079632276,309.5296277255986,-17.14772163037089,-17.526680965424468,9.563677292602003,-11.637806392217104,679.7633833380796,-46.954680529950366,-225.0912156272244,-62.03956345407424,-18.735521014486572,190.81085283329216,-18.67739626789399,-80.86384639971872,-14.584293838691657,16.488575554199915,-17.526680965424468,267.4760601117048,-18.35790654464475,-27.241430168313723,-183.8892504996284,-17.264519904537796,-23.626582272111797,77.27961092993887,-16.400108756352758,-90.7243684883219,-12.567115685707627,-30.359739199862574,-271.2199508424468,-9.396945646739775,-1305.3088906084035,-24.874135721026366,-74.91749422832139,12.985282528569494,-14.623325733846958,31.543697950582708,-32.07961486014917,-14.316890886143439,-18.368906695969876,-17.526680965424468,55.252087912312106,-18.430129557674277,348.1542857683558,-17.13507078299101,-135.20685717641945,-2428.139549966215,-16.828831102018395,486.1800231634308,-159.64638787064618,-283.1483318682449,-21.80918468543951,-57.341728332197384,-1217.1419463495674,-17.883537776209273,-17.347800200189898,1255.4099220339,-15.118239715895752,-214.90365959496967,-16.712935988810816,-18.19202734813338,-32.23131638715936,-17.91441403317338,-40.18562119805468,-38.19061828228381,119.06910496375876,-21.186382472178863,264.11154769819433,-23.27645301728561,-18.010287828613844,-503.1566937021428,-110.97345464935442,47.10374929929973,-18.215173967401256,-166.01278211062692,178.5719372274348,19.50196862761817,-11.72250262146841,-5.946911776475963,229.69446487669808,-18.191697127689224,-3279.912322779031,-105.4465102415267,-8.688337862978154,-16.68817410357194,-17.883537776209273,-43.95397991690653,50.432178003093505,651.4491162067526,-17.715658255727288,-17.652285821114198,-17.9993990378052,-17.569125512631082,-18.95213056229132,-15.848407928669157,51.28206024578606,-3.636460984423808,580.9886441740714,-15.844627124175588,-16.965194401167633,-17.463275681983877,103.10355482388137,225.2864867723663,270.85272143250165,-17.52722931428134,-17.947858753025482,-17.4373641246915,-17.694007580992903,-17.526680965424468,-18.19202734813338,-16.104001727567354,183.13810736388734,-18.968729065585237,-65.70952628838252,-17.630602297552315,-109.80506946739395,-18.11208725348211,-18.27849162094126,8.14779758218514,-114.87979026826802,-18.094391496121684,-17.81329410773899,-17.588689675847863,-17.526680965424468,-573.3114886344613,-8.757850329207738,-300.12738903517175,-18.300369155621084,-25.752987818889476,-6.4899747816928395,-15.819448364737767,-264.70094183368514,-17.73125132753532,-18.42057682540621,-22.06201881865575,1180.2402130297896,-18.10386635317066,-273.6158611945327,386.70436170902224,-19.489659069231656,298.88195230822026,-19.863601447178347,-19.1263521973473,-17.205309001797875,-9.99802792220234,50.63239855103969,-17.010188714629194,1357.5946819267658,-14.149126017375103,-1106.5432888270884,-15.370503740845834,281.2268061307347,-16.160181833015255,-21.884761794503458,-985.8842794304445,-18.344898020777897,27.725160887893974,-17.327925187978376,-18.069416951400278,-18.67739626789399,121.99644167386914,324.1628141798551,-10.649872422490327,-19.03106346687567,-45.531099263480016,768.7071531005039,-18.19202734813338,-15.472686218056488,153.96066551443516,-18.361569025985613,-12.30720489400311,-193.70992122852493,-19.933464306493576,-17.77323888004698,-17.10976908823127,156.9787418449727,-19.273656761397252,-22.06821538333786,-258.23144981396376,-17.327925187978376,-42.92151785214308,333.15372812980155,-18.97537773228381,218.33642337712865,-17.749888824298388,-167.40732413159657,1284.32616354422,-17.56580130286009,200.21289544617105,-17.52722931428134,848.2864297950254,125.76304764803822,450.1720992127298,-18.33559182077439,324.027865534323,40.997791678369985,-73.81023617523933,53.695712317050415,193.19846442141642,-17.58249801199218,-18.094391496121684,422.6227077489536,-17.148496073886935,102.96113284089081,-13.98515205745077,642.043769434049,-202.22994145238354,-266.20535980400484,-18.46054215961734,-13.943578593721233,-13.473792662662985,194.36150171689115,-18.499741552405187,-17.51457846690146,-18.117528099358204,-19.208212656590867,22.246469061242575,314.41734235570186,-16.849480557745963,-16.753462355258886,-17.388921955023594,150.26800879353647,82.31550413403316,-17.53528944600287,1199.5417916480346,-119.21992509992336,-17.387809279583436,-14.959854230461955,373.0477804845075,-567.0821157073149,-18.17937650075351,-19.119986830083562,-17.894037977737828,-18.22105206735903,-12.153631259389256,27.34839484806974,-17.327925187978376,-15.86362032929104,-15.939655353691306,-8.037698610382606,-5.721683676425897,-18.19202734813338,-17.463275681983877,-18.43322767278608,-18.85743357263522,-124.58657752422158,5.527915014183002,-17.71471084217694,-17.316633049081265,-29.66927187671765,8.10241586271796,-63.002017294571594,9.123135042721703,-19.57971262064847,2.4319881040892466,-18.539719658239367,-19.89368786094553,-15.069906839924862,-17.78629472215475,-0.8789427132962849,-17.14772163037089,-1217.794901076118,-39.918461397306054,-160.2877067495059,-17.68135673361304,-17.14772163037089,-18.65570818454736,74.57864067683809,353.21806887858753,275.64009076807304,-17.327925187978376,-17.768429638934045,-18.368906695969876,-19.622766521431945,-200.24920528525882,86.21081194639183,-19.204491816839376,-18.791786025665516,-17.526680965424468,-17.93903035580066,-18.124738100861983,-35.14637912769358,-8.995589485592909,-10.433275140717058,162.6398956634438,-17.643253144932185,-17.577682190250922,-18.164165891096644,31.075008941475282,9.975962034409964,-17.643253144932185,-27.265447247872764,-46.877675254540776,-67.22965236991361,-22.836848319777776,-63.298822758438725,1172.0279478610087,-10.0388604916275,208.80667562475887,349.3205558088514,1006.2073678511163,-17.273135624234875,121.67577513529393,-16.68673057926897,-196.978829849294,-8.511311833652831,-18.103391323476192,-14.08975409172498,921.2868242542734,320.6933865986169,-301.7288791463531,-18.128622064692788,-19.49165786406744,-9.025916701681771,-1335.7429280135464,-16.97337690746367,889.118543333676,-17.208503366912264,-5737.817860163195,28.7859882225806,-19.695356349619054,27.444734801609105,-18.31283899866285,-29.462678921433017,194.65279711185383,-18.474301109913903,-49.355968981439815,-15.63499297829965,148.5356040587914,-357.90343100446444,-17.18550892039358,-11.084024409645231,-18.049954653941615,-17.883537776209273,20.53782916243921,429.17143522041977,-13.345922303251434,-16.589559275885044,141.81268759444197,40.92809077062528,438.0002190232565,-13.47969425447145,-18.18256386575784,-18.204186372150602,-17.347251851333027,-18.19202734813338,7.652231154805572,-20.906479177238953,-56.303315610482564,-203.3097322661489,-772.5067566825436,32.6470981875919,-17.53545469811979,34.545007091918635,-1054.3755634148392,5.677049552492941,-16.96829251627945,1116.1758337115664,312.01833584168344,-6.718122256617013,-421.9444855453989,-17.329779322764818,-17.34432498061861,-9.2901249152841,-53.42854100158523,-16.735602468896957,0.5614663695432835,1614.3209745876277,-16.143502509947318,165.21271183790077,-18.15616270668295,254.50653601990146,-14.66809059140954,-22.292883270810137,-4853.000946021059,-166.20448303920813,122.48833674680701,-539.6236117536872,-2.0698088919522832,-17.615304124503922,-16.373711321539197,-17.883537776209273,-20.814950464138704,-0.8793176964222482,239.86049003570645,-18.38768991661956,428.5265481611409,273.2131331315797,-26.638622513432527,-17.347800200189898,290.05228289863567,-56.32862948137602,23.412677186219433,-14.146887249146767,-17.584332543287307,223.42585763487736,-17.085090790446355,-3.521076423475329,-17.539639978737068,-15.796618429004722,16.825607464529245,706.5979033956658,-18.094391496121684,-18.094391496121684,17.43367172431715,-19.834574467703856,-13.19330383498188,-16.50061974056775,-17.633090550131488,-13.29532347772579,-15.23537625575645,363.6345385034076,-12.56847031193201,-19.66008835596859,-14.498206568835245,7.6692022341740875,-232.45431771178923,-28.99238241643126,-30.42891195357632,-1202.2989036310935,-307.75875712904985,-363.22627207820466,44.30238523982033,190.67695112146492,-9.677849593464789,-45.418210309390105,65.20822479967232,-226.17472102109596,-17.643253144932185,7.978107039130221,20.236402734959523,-1.269723320314425,267.03079952244667,1446.8287056586537,23.11004728751745,10.134791266725525,-4.84607151335502,99.88919334215348,-17.453174118280174,376.0638082614202,1103.1990205069533,-2243.274006522033,-165.9057186141955,-28.71590925085878,35.17430693091682,7.991387976992237,98.41944868514315,33.558276106854535,-13.39048809317029,-17.694007580992903,-15.57236652771726,-10.686843874303117,35.0835699314677,-18.60886441713675,-20.097898244739387,-21.92568495242136,-303.6449238400953,112.13314786340716,-45.850418551812474,-60.017766891331114,210.68565655839052,154.78569769852066,816.053596729849,-14.465135543819166,-108.16033079455073,-374.62714897434364,20.15621153863688,131.65869960883603,-521.4871187426158,-18.93573108048254,-13.492885984299146,-13.633843272847937,72.8816979344833,942.9961007339793,108.66683380707217,-19.454351905389586,1230.842848116418,315.08662634869205,-17.81329410773899,192.18897583940262,-15.206739254069817,3.0836219065512003,513.8203593025388,0.7886470274742603,-24.935702520158262,-13.79337708515689,-10.063413289101394,-16.52537954892841,-17.327925187978376,-17.883537776209273,10.384320742711822,428.7871746373215,-17.883537776209273,-17.046439147321237,-18.08764236098451,-17.35602558402835,-16.976743994777085,641.9534362141125,-32.35485122072224,81.04417277330579,-18.39671542216258,-23.726776521801433,-17.694007580992903,-4.931491487734565,-19.503102684674584,-52.00102161274674,201.22302289429848,-18.646609260822405,405.10960469354706,-11.598652798118655,14.011488336339264,-17.4910793696155,19.41947541434671,-632.6769166586092,8.468240692720595,-2396.3195897718124,-38.62213180310336,0.17515868719796465,-12.944100754149094,-10.69158840539386,-5.198808342703854,-8.181524842461998,-30.556590556129354,-28.71705711973061,101.93092537811359,348.83566144352386,-18.092601610992798,-17.578353217175387,-17.694007580992903,-21.962906524731153,-959.4890056634622,-18.951494676833498,-17.958583113814484,-52.80592630769853,563.602578123134,37.281691181965634,-18.11208725348211,-1674.8342241115631,-30.166534246637372,-103.24277792004294,-68.69958205646286,0.38478035449807296,9.875091115443556,-12.057282333231276,-17.029515377983845,-58.68895145238076,7197.863798305557,-17.874516969443377,-8.391301939127972,1814.8687558258198,97.31616537358471,-17.694007580992903,41.46055718785524,1000.3445327444496,-10.436806226336895,22.60300666108903,-144.82718458250838,-25.652646086925973,-14.546918908699727,351.3720773401713,-18.497418804945685,-17.19629364469541,-12.58451933465969,-17.526680965424468,-15.765080810042534,-17.327925187978376,-101.29556637356654,664.1201890484455,-16.17565348850823,-17.291438495072033,-452.6205327295105,12.360033791386115,151.65526701813812,2040.481748486863,170.20029669197413,-62.9911782082102,-18.19202734813338,-17.643253144932185,-50.00920240808898,-148.45570389162106,-19.2188366920493,-703.4996814581166,-9.010144738756663,-16.41666963162647,7.1233452050237265,-22.18565593028863,-16.48374272445374,-17.883537776209273,-733.1222424049678,63.06720927147618,80.52451467397795,388.2783085579874,28.26119965584922,-28.988381214295817,269.98312464756094,-29.36838893444038,-59.96107382647304,-17.431946904351854,-33.28614930845371,-18.944813863228248,-13.778540632308632,-17.947858753025482,-29.689661396987333,257.33654735421106,-7.4055407539739555,-18.05505418645151,867.942374512467,-17.10715915931364,-11.736120710066768,-15.633478446943489,-17.883537776209273,162.6066158208305,-18.11208725348211,-14.945819376961571,-18.77433552107921,-18.46444930716088,-17.13507078299101,-17.14772163037089,-13.74175208847115,-18.64921555257157,-18.365808580858065,-17.72233407170206,-40.24063926493598,-799.3758369766128,-34.01153233665253,-18.403784447196884,231.17914118131347,-17.7033132391904,-24.366570072054895,-67.60894782769073,-22.38562107010047,-18.040209512132495,-17.016695182916024,-16.704295873497333,285.4144560558363,-17.569125512631082,177.98706313342208,-18.19202734813338,-17.327925187978376,-17.643253144932185,1717.3069833839936,-18.19202734813338,-17.694007580992903,-18.579250105799925,-17.643253144932185,-18.19202734813338,-17.315274340598506,-70.22573183612236,-985.5420553402744,-20.399486294912858,-19.425310127350347,-18.200106755280594,-26.78140869095199,148.34575965728789,-18.05367011122318,-17.325516671583003,-17.93520790564561,-13.874725629821436,618.9103524846671,308.5742354515564,-18.90423924673183,-12.265857785073003,-31.737353219645804,76.96567034812793,-16.75884808400601,-83.09296487779056,-17.694007580992903,-27.833358327452178,-17.14794772503007,-18.19202734813338,-10.56088652180777,14.9682201218582,-12.952105640584387,-16.88747181285349,901.4698918097494,247.3329909284186,-17.460177566872066,-3367.0204264452873,-1244.1475687991904,39.90660196432767,-202.31411669069212,-17.67946873751687,-17.347251851333027,-22.844050121200237,-16.45644643521954,-14.910872712161815,-17.526680965424468,-131.50858452262682,-119.28006405118875,-18.796655119877826,-18.2923705472734,-325.5698793055838,195.26694823961532,-9.605551556006246,-18.47260867451603,-17.619145508368835,1090.6238279156746,145.80472029315118,-17.14772163037089,-159.92373681706582,152.66282526370156,223.4267804535203,-22.417098485750238,42.24680517017619,29.772881503872593,-15.389190369311612,-223.01563810999363,-11.746590206640937,-18.248246776366678,-17.643253144932185,-16.956416112415635,952.4157336916912,-72.90063863726628,-7.790580887098103,0.13855380888124286,-11.980623899654196,-55.62232633009629,-16.400493334579878,0.9968986672003837,151.0829005883687,199.51883026128453,-17.532685480937268,-16.51734731628003,-166.00717850080972,169.64611434975495,-16.3112491230899,-16.967970262081764,-316.7742271427415,233.55226683905124,-17.884453469584894,-17.526680965424468,100.08060174085787,-82.57653326777597,353.9873074277171,-30.94876702558059,-17.640155029820374,-18.936716219920083,-9.87053859347129,-25.892085653893197,-420.3021103388979,-18.020823617880396,-17.81329410773899,6.664821740495768,988.5084603894137,-17.14772163037089,-12.572801259301759,-18.00901015653219,-17.643253144932185,283.45891210152837,-17.768429638934045,-17.738916135216652,1135.8141814345595,9.971500974759692,-9.97143042046954,-1986.774003045554,-16.76039961492838,205.3652265121713,185.58038710472695,675.7611954222147,-18.22640087468816,-17.53545469811979,873.2179407917965,-17.209718935591326,215.02354668768274,-17.91441403317338,-17.8483879375938,-18.090384462836226,292.15053610387264,-5.099495010471858,-287.1321990075987,-8.894337407289518,53.29038754055549,-17.794070072987502,-326.49163294694176,-17.52722931428134,-18.994814621288565,-17.526680965424468,-18.11828528417072,-339.50807494920036,-19.555754414680308,-19.66068851318607,-17.643253144932185,-17.361986527168476,-17.14772163037089,-18.430259402330893,7.233492424529514,-23.558690905344843,-99.97783286874501,-17.145171864115948,-16.515143173483448,-59.93410943450794,-16.957207915060387,271.84959600145106,-14.035995538103592,157.53796956667873,-17.376271107643717,246.0279570926369,281.16203204984635,-17.565151398993937,1216.7931494072245,135.4253033006771,-18.19202734813338,-20.35230402680047,211.5702525694302,621.139187742165,86.14084283684574,-50.78063082414351,-18.19202734813338,-17.947858753025482,-17.136255846688606,18.364367879017177,-17.820132492768682,-17.66870588623316,-279.99013660885936,-17.327925187978376,-279.0222415066278,-21.186924595353076,-22.49688586852959,-41.94125615286105,-318.49087331142135,159.727144817961,-212.77106636793644,-2112.4674801075757,-17.770986161994347,-17.755230442697297,-18.012049885185075,-70.3380279681396,240.1646695031216,2.4204987211556968,-84.3925442796002,-8.483518832322094,-47.19367293382541,-17.315354076782302,-43.65547029953097,-11.79438974157621,-16.46474969427708,-18.85149946193156,16.94764444127377,-3.1895174519206284,345.5658717719572,36.43733738823394,-14.887928853185217,-3.210853554871281,22.991861878213825,-386.25538766692233,102.29546504275524,20.572823927146764,-0.4106226233975308,-16.000357883916678,103.18914325002494,60.827959758282454,72.17831967636661,-12.022996877855531,0.0864498260075414,-24.89166300666307,-126.38616507969503,-17.88098800995433,39.129346740212675,-20.750864433602832,-30.49385460707348,-209.45506932276447,-531.3683517746634,-18.57364041438361,-2.732856638902183,520.0251507513916,147.69247016153585,-30.335554648442045,0.1575379200979063,553.5507507241703,-78.94516774942092,218.69187371666786,-92.8247300941988,-12.812327387577236,-17.694007580992903,-9.34611735563829,-178.73210593268743,76.4037033930953,-17.798093494104165,197.2509875631195,-31.75915881898251,-264.96525957772957,-2.95349166716064,-17.279421444134975,-17.719798512532552,-70.97162881952721,86.33535697889698,-9.572849868075632,-0.26281408960556535,-71.52226859373131,-78.43064333180489,-40.635048743395075,-18.262513082833753,-35.96582233089679,-43.52206171911735,-129.3228958713481,12.456822964226715,145.52416076845788,-29.435655320333787,-127.5241965033348,-214.34956315123452,-26.21366179954894,212.0987346979756,450.84135631530586,-237.02286898562048,-247.0574907054352,21.702535073920735,44.6260638423078,-9.596528588228328,-12.209897214559941,839.576006900327,-16.588784832368997,-17.450624834604007,84.31610811566377,-17.947858753025482,-91.29274911396278,99.6960581575093,-16.338186199134576,-16.935467242866473,283.41296373561477,-58.62285795733521,1479.7705821557759,686.9723216165654,-17.635671902521267,-45.318317780642374,-16.33046594018843,-4.343738242669912,-4064.1473160695364,578.6323885738944,27.072425442665704,-32.36193224868497,-7.159853288495416,-22.237707911246186,-20.350626012328785,-18.133737928216487,-17.610128797481593,-17.870886928829407,-16.96829251627945,-5.647213579661694,-19.129299695123265,-22.028011491361184,-17.397649643291402,1194.018153302132,-113.61891237404214,-17.0741537521296,34.47950011552534,-16.34703796864936,42.58181796190937,-4.586940854937374,-15.416129810410366,-17.694007580992903,-17.947858753025482,-27.09635799478342,-20.407906721315538,-17.643253144932185,-19.05632762342614,-19.189128351176702,-18.271270843958177,-15.594031846116529,12.681633294176802,-14.764838681880768,-18.030986212681093,-22.260638392577064,-17.526680965424468,-24.52847184312514,-16.913183033428,-13.68010286981588,-19.480240737676898,-16.879274846063375,-15.832352215702569,-19.338433781886675,-15.470911236365218,-17.86489389419559,-18.46210543593253,-17.14772163037089,-18.024306315383015,-31.91270249140894,-20.914565225878757,-17.68135673361304,-17.26460670804506,-14.782633251784285,-14.082386343459635,125.44739182906385,-17.376271107643717,-17.68294257275583,-8.824496746222952,-22.162629833490623,-18.681803917344364,-15.477123275621047,-17.66438058446417,-18.42057682540621,-15.049706527677966,-11.203429076911053,-18.771896902847814,-17.14772163037089,-14.84343049069121,-13.999375495709144,-18.26949693040018,-9.007191980997051,-14.26478645404286,-13.225659430319821,-16.029848034367106,-17.198736355169718,-6.615468162111385,-231.62212942822927,-18.512471168610883,-19.580520582156232,-17.694007580992903,-12.599842270855865,3.146389267323021,-17.744850373339403,-1263.8636765579508,-24.30915444279866,-16.8543383735078,-14.770177704241089,-17.49323396279403,-15.142854344037318,-18.579760415882284,-16.85709924593691,-17.0765659927863,-17.527229314281335,-22.075596403451087,-16.8932594787055,-13.389109210478738,-18.391021342856735,-15.748135504108948,-20.109324420956003,215.90161811445637,-21.840425492648315]}],\"hovertemplate\":\"%{xaxis.title.text}=%{x}<br>%{yaxis.title.text}=%{y}<extra></extra>\",\"legendgroup\":\"\",\"marker\":{\"color\":\"#636efa\",\"symbol\":\"circle\"},\"name\":\"\",\"showlegend\":false,\"type\":\"splom\",\"diagonal\":{\"visible\":false}}],                        {\"template\":{\"data\":{\"bar\":[{\"error_x\":{\"color\":\"#2a3f5f\"},\"error_y\":{\"color\":\"#2a3f5f\"},\"marker\":{\"line\":{\"color\":\"#E5ECF6\",\"width\":0.5},\"pattern\":{\"fillmode\":\"overlay\",\"size\":10,\"solidity\":0.2}},\"type\":\"bar\"}],\"barpolar\":[{\"marker\":{\"line\":{\"color\":\"#E5ECF6\",\"width\":0.5},\"pattern\":{\"fillmode\":\"overlay\",\"size\":10,\"solidity\":0.2}},\"type\":\"barpolar\"}],\"carpet\":[{\"aaxis\":{\"endlinecolor\":\"#2a3f5f\",\"gridcolor\":\"white\",\"linecolor\":\"white\",\"minorgridcolor\":\"white\",\"startlinecolor\":\"#2a3f5f\"},\"baxis\":{\"endlinecolor\":\"#2a3f5f\",\"gridcolor\":\"white\",\"linecolor\":\"white\",\"minorgridcolor\":\"white\",\"startlinecolor\":\"#2a3f5f\"},\"type\":\"carpet\"}],\"choropleth\":[{\"colorbar\":{\"outlinewidth\":0,\"ticks\":\"\"},\"type\":\"choropleth\"}],\"contour\":[{\"colorbar\":{\"outlinewidth\":0,\"ticks\":\"\"},\"colorscale\":[[0.0,\"#0d0887\"],[0.1111111111111111,\"#46039f\"],[0.2222222222222222,\"#7201a8\"],[0.3333333333333333,\"#9c179e\"],[0.4444444444444444,\"#bd3786\"],[0.5555555555555556,\"#d8576b\"],[0.6666666666666666,\"#ed7953\"],[0.7777777777777778,\"#fb9f3a\"],[0.8888888888888888,\"#fdca26\"],[1.0,\"#f0f921\"]],\"type\":\"contour\"}],\"contourcarpet\":[{\"colorbar\":{\"outlinewidth\":0,\"ticks\":\"\"},\"type\":\"contourcarpet\"}],\"heatmap\":[{\"colorbar\":{\"outlinewidth\":0,\"ticks\":\"\"},\"colorscale\":[[0.0,\"#0d0887\"],[0.1111111111111111,\"#46039f\"],[0.2222222222222222,\"#7201a8\"],[0.3333333333333333,\"#9c179e\"],[0.4444444444444444,\"#bd3786\"],[0.5555555555555556,\"#d8576b\"],[0.6666666666666666,\"#ed7953\"],[0.7777777777777778,\"#fb9f3a\"],[0.8888888888888888,\"#fdca26\"],[1.0,\"#f0f921\"]],\"type\":\"heatmap\"}],\"heatmapgl\":[{\"colorbar\":{\"outlinewidth\":0,\"ticks\":\"\"},\"colorscale\":[[0.0,\"#0d0887\"],[0.1111111111111111,\"#46039f\"],[0.2222222222222222,\"#7201a8\"],[0.3333333333333333,\"#9c179e\"],[0.4444444444444444,\"#bd3786\"],[0.5555555555555556,\"#d8576b\"],[0.6666666666666666,\"#ed7953\"],[0.7777777777777778,\"#fb9f3a\"],[0.8888888888888888,\"#fdca26\"],[1.0,\"#f0f921\"]],\"type\":\"heatmapgl\"}],\"histogram\":[{\"marker\":{\"pattern\":{\"fillmode\":\"overlay\",\"size\":10,\"solidity\":0.2}},\"type\":\"histogram\"}],\"histogram2d\":[{\"colorbar\":{\"outlinewidth\":0,\"ticks\":\"\"},\"colorscale\":[[0.0,\"#0d0887\"],[0.1111111111111111,\"#46039f\"],[0.2222222222222222,\"#7201a8\"],[0.3333333333333333,\"#9c179e\"],[0.4444444444444444,\"#bd3786\"],[0.5555555555555556,\"#d8576b\"],[0.6666666666666666,\"#ed7953\"],[0.7777777777777778,\"#fb9f3a\"],[0.8888888888888888,\"#fdca26\"],[1.0,\"#f0f921\"]],\"type\":\"histogram2d\"}],\"histogram2dcontour\":[{\"colorbar\":{\"outlinewidth\":0,\"ticks\":\"\"},\"colorscale\":[[0.0,\"#0d0887\"],[0.1111111111111111,\"#46039f\"],[0.2222222222222222,\"#7201a8\"],[0.3333333333333333,\"#9c179e\"],[0.4444444444444444,\"#bd3786\"],[0.5555555555555556,\"#d8576b\"],[0.6666666666666666,\"#ed7953\"],[0.7777777777777778,\"#fb9f3a\"],[0.8888888888888888,\"#fdca26\"],[1.0,\"#f0f921\"]],\"type\":\"histogram2dcontour\"}],\"mesh3d\":[{\"colorbar\":{\"outlinewidth\":0,\"ticks\":\"\"},\"type\":\"mesh3d\"}],\"parcoords\":[{\"line\":{\"colorbar\":{\"outlinewidth\":0,\"ticks\":\"\"}},\"type\":\"parcoords\"}],\"pie\":[{\"automargin\":true,\"type\":\"pie\"}],\"scatter\":[{\"marker\":{\"colorbar\":{\"outlinewidth\":0,\"ticks\":\"\"}},\"type\":\"scatter\"}],\"scatter3d\":[{\"line\":{\"colorbar\":{\"outlinewidth\":0,\"ticks\":\"\"}},\"marker\":{\"colorbar\":{\"outlinewidth\":0,\"ticks\":\"\"}},\"type\":\"scatter3d\"}],\"scattercarpet\":[{\"marker\":{\"colorbar\":{\"outlinewidth\":0,\"ticks\":\"\"}},\"type\":\"scattercarpet\"}],\"scattergeo\":[{\"marker\":{\"colorbar\":{\"outlinewidth\":0,\"ticks\":\"\"}},\"type\":\"scattergeo\"}],\"scattergl\":[{\"marker\":{\"colorbar\":{\"outlinewidth\":0,\"ticks\":\"\"}},\"type\":\"scattergl\"}],\"scattermapbox\":[{\"marker\":{\"colorbar\":{\"outlinewidth\":0,\"ticks\":\"\"}},\"type\":\"scattermapbox\"}],\"scatterpolar\":[{\"marker\":{\"colorbar\":{\"outlinewidth\":0,\"ticks\":\"\"}},\"type\":\"scatterpolar\"}],\"scatterpolargl\":[{\"marker\":{\"colorbar\":{\"outlinewidth\":0,\"ticks\":\"\"}},\"type\":\"scatterpolargl\"}],\"scatterternary\":[{\"marker\":{\"colorbar\":{\"outlinewidth\":0,\"ticks\":\"\"}},\"type\":\"scatterternary\"}],\"surface\":[{\"colorbar\":{\"outlinewidth\":0,\"ticks\":\"\"},\"colorscale\":[[0.0,\"#0d0887\"],[0.1111111111111111,\"#46039f\"],[0.2222222222222222,\"#7201a8\"],[0.3333333333333333,\"#9c179e\"],[0.4444444444444444,\"#bd3786\"],[0.5555555555555556,\"#d8576b\"],[0.6666666666666666,\"#ed7953\"],[0.7777777777777778,\"#fb9f3a\"],[0.8888888888888888,\"#fdca26\"],[1.0,\"#f0f921\"]],\"type\":\"surface\"}],\"table\":[{\"cells\":{\"fill\":{\"color\":\"#EBF0F8\"},\"line\":{\"color\":\"white\"}},\"header\":{\"fill\":{\"color\":\"#C8D4E3\"},\"line\":{\"color\":\"white\"}},\"type\":\"table\"}]},\"layout\":{\"annotationdefaults\":{\"arrowcolor\":\"#2a3f5f\",\"arrowhead\":0,\"arrowwidth\":1},\"autotypenumbers\":\"strict\",\"coloraxis\":{\"colorbar\":{\"outlinewidth\":0,\"ticks\":\"\"}},\"colorscale\":{\"diverging\":[[0,\"#8e0152\"],[0.1,\"#c51b7d\"],[0.2,\"#de77ae\"],[0.3,\"#f1b6da\"],[0.4,\"#fde0ef\"],[0.5,\"#f7f7f7\"],[0.6,\"#e6f5d0\"],[0.7,\"#b8e186\"],[0.8,\"#7fbc41\"],[0.9,\"#4d9221\"],[1,\"#276419\"]],\"sequential\":[[0.0,\"#0d0887\"],[0.1111111111111111,\"#46039f\"],[0.2222222222222222,\"#7201a8\"],[0.3333333333333333,\"#9c179e\"],[0.4444444444444444,\"#bd3786\"],[0.5555555555555556,\"#d8576b\"],[0.6666666666666666,\"#ed7953\"],[0.7777777777777778,\"#fb9f3a\"],[0.8888888888888888,\"#fdca26\"],[1.0,\"#f0f921\"]],\"sequentialminus\":[[0.0,\"#0d0887\"],[0.1111111111111111,\"#46039f\"],[0.2222222222222222,\"#7201a8\"],[0.3333333333333333,\"#9c179e\"],[0.4444444444444444,\"#bd3786\"],[0.5555555555555556,\"#d8576b\"],[0.6666666666666666,\"#ed7953\"],[0.7777777777777778,\"#fb9f3a\"],[0.8888888888888888,\"#fdca26\"],[1.0,\"#f0f921\"]]},\"colorway\":[\"#636efa\",\"#EF553B\",\"#00cc96\",\"#ab63fa\",\"#FFA15A\",\"#19d3f3\",\"#FF6692\",\"#B6E880\",\"#FF97FF\",\"#FECB52\"],\"font\":{\"color\":\"#2a3f5f\"},\"geo\":{\"bgcolor\":\"white\",\"lakecolor\":\"white\",\"landcolor\":\"#E5ECF6\",\"showlakes\":true,\"showland\":true,\"subunitcolor\":\"white\"},\"hoverlabel\":{\"align\":\"left\"},\"hovermode\":\"closest\",\"mapbox\":{\"style\":\"light\"},\"paper_bgcolor\":\"white\",\"plot_bgcolor\":\"#E5ECF6\",\"polar\":{\"angularaxis\":{\"gridcolor\":\"white\",\"linecolor\":\"white\",\"ticks\":\"\"},\"bgcolor\":\"#E5ECF6\",\"radialaxis\":{\"gridcolor\":\"white\",\"linecolor\":\"white\",\"ticks\":\"\"}},\"scene\":{\"xaxis\":{\"backgroundcolor\":\"#E5ECF6\",\"gridcolor\":\"white\",\"gridwidth\":2,\"linecolor\":\"white\",\"showbackground\":true,\"ticks\":\"\",\"zerolinecolor\":\"white\"},\"yaxis\":{\"backgroundcolor\":\"#E5ECF6\",\"gridcolor\":\"white\",\"gridwidth\":2,\"linecolor\":\"white\",\"showbackground\":true,\"ticks\":\"\",\"zerolinecolor\":\"white\"},\"zaxis\":{\"backgroundcolor\":\"#E5ECF6\",\"gridcolor\":\"white\",\"gridwidth\":2,\"linecolor\":\"white\",\"showbackground\":true,\"ticks\":\"\",\"zerolinecolor\":\"white\"}},\"shapedefaults\":{\"line\":{\"color\":\"#2a3f5f\"}},\"ternary\":{\"aaxis\":{\"gridcolor\":\"white\",\"linecolor\":\"white\",\"ticks\":\"\"},\"baxis\":{\"gridcolor\":\"white\",\"linecolor\":\"white\",\"ticks\":\"\"},\"bgcolor\":\"#E5ECF6\",\"caxis\":{\"gridcolor\":\"white\",\"linecolor\":\"white\",\"ticks\":\"\"}},\"title\":{\"x\":0.05},\"xaxis\":{\"automargin\":true,\"gridcolor\":\"white\",\"linecolor\":\"white\",\"ticks\":\"\",\"title\":{\"standoff\":15},\"zerolinecolor\":\"white\",\"zerolinewidth\":2},\"yaxis\":{\"automargin\":true,\"gridcolor\":\"white\",\"linecolor\":\"white\",\"ticks\":\"\",\"title\":{\"standoff\":15},\"zerolinecolor\":\"white\",\"zerolinewidth\":2}}},\"legend\":{\"tracegroupgap\":0},\"margin\":{\"t\":60},\"dragmode\":\"select\"},                        {\"responsive\": true}                    ).then(function(){\n",
              "                            \n",
              "var gd = document.getElementById('52bb8c43-28ca-4bb2-b429-c6ed994a91b6');\n",
              "var x = new MutationObserver(function (mutations, observer) {{\n",
              "        var display = window.getComputedStyle(gd).display;\n",
              "        if (!display || display === 'none') {{\n",
              "            console.log([gd, 'removed!']);\n",
              "            Plotly.purge(gd);\n",
              "            observer.disconnect();\n",
              "        }}\n",
              "}});\n",
              "\n",
              "// Listen for the removal of the full notebook cells\n",
              "var notebookContainer = gd.closest('#notebook-container');\n",
              "if (notebookContainer) {{\n",
              "    x.observe(notebookContainer, {childList: true});\n",
              "}}\n",
              "\n",
              "// Listen for the clearing of the current output cell\n",
              "var outputEl = gd.closest('.output');\n",
              "if (outputEl) {{\n",
              "    x.observe(outputEl, {childList: true});\n",
              "}}\n",
              "\n",
              "                        })                };                            </script>        </div>\n",
              "</body>\n",
              "</html>"
            ]
          },
          "metadata": {}
        }
      ]
    },
    {
      "cell_type": "code",
      "source": [
        "df.to_csv(\"read_counts.csv\")"
      ],
      "metadata": {
        "id": "sJVlF_ixh_t0"
      },
      "execution_count": 59,
      "outputs": []
    },
    {
      "cell_type": "code",
      "source": [],
      "metadata": {
        "id": "E-FzhI9hiZlA"
      },
      "execution_count": null,
      "outputs": []
    }
  ],
  "metadata": {
    "colab": {
      "collapsed_sections": [
        "6Rh9LrSX1N6E"
      ],
      "provenance": [],
      "authorship_tag": "ABX9TyM3Mnx4+cbVMcq3OHUF/tC7",
      "include_colab_link": true
    },
    "kernelspec": {
      "display_name": "Python 3",
      "name": "python3"
    },
    "language_info": {
      "name": "python"
    }
  },
  "nbformat": 4,
  "nbformat_minor": 0
}