{
  "cells": [
    {
      "cell_type": "markdown",
      "metadata": {
        "id": "view-in-github",
        "colab_type": "text"
      },
      "source": [
        "<a href=\"https://colab.research.google.com/github/eentartetekunst/NGS_bioinformatics/blob/main/NGS_HW_2.ipynb\" target=\"_parent\"><img src=\"https://colab.research.google.com/assets/colab-badge.svg\" alt=\"Open In Colab\"/></a>"
      ]
    },
    {
      "cell_type": "code",
      "execution_count": null,
      "metadata": {
        "id": "RTRuP0hw0-aj"
      },
      "outputs": [],
      "source": [
        "import os"
      ]
    },
    {
      "cell_type": "code",
      "execution_count": null,
      "metadata": {
        "id": "WH-6IhSw9XUu"
      },
      "outputs": [],
      "source": [
        "! pip install -q condacolab"
      ]
    },
    {
      "cell_type": "code",
      "execution_count": null,
      "metadata": {
        "id": "QJZgQLwg9Y5e"
      },
      "outputs": [],
      "source": [
        "import condacolab\n",
        "condacolab.install()"
      ]
    },
    {
      "cell_type": "code",
      "execution_count": null,
      "metadata": {
        "id": "Im-EjAz69Y8O"
      },
      "outputs": [],
      "source": [
        "!conda install -y -c bioconda samtools"
      ]
    },
    {
      "cell_type": "code",
      "execution_count": null,
      "metadata": {
        "id": "LNFe1b_H9Y-Z"
      },
      "outputs": [],
      "source": [
        "! sudo apt install bedtools"
      ]
    },
    {
      "cell_type": "code",
      "execution_count": null,
      "metadata": {
        "id": "KN8Dn0zV9ZBB"
      },
      "outputs": [],
      "source": [
        "! conda install -c bioconda regtools"
      ]
    },
    {
      "cell_type": "code",
      "execution_count": null,
      "metadata": {
        "id": "KcM3_4r89ZD4"
      },
      "outputs": [],
      "source": [
        "! sudo apt-get update\n",
        "! sudo apt-get -y install hisat2"
      ]
    },
    {
      "cell_type": "code",
      "execution_count": null,
      "metadata": {
        "id": "uzgMZQnqO5LW"
      },
      "outputs": [],
      "source": [
        "! conda install -c bioconda stringtie "
      ]
    },
    {
      "cell_type": "markdown",
      "metadata": {
        "id": "HXmZA3-D-XiW"
      },
      "source": [
        "## download genome and its annotation"
      ]
    },
    {
      "cell_type": "code",
      "execution_count": null,
      "metadata": {
        "id": "qzheMExj2B82"
      },
      "outputs": [],
      "source": [
        "! wget http://ftp.ensembl.org/pub/release-107/fasta/mus_musculus/dna/Mus_musculus.GRCm39.dna.chromosome.19.fa.gz #chr19 sequence\n",
        "! wget http://ftp.ensembl.org/pub/release-107/gtf/mus_musculus/Mus_musculus.GRCm39.107.gtf.gz # annotation\n",
        "! gzip -d Mus_musculus.GRCm39.dna.chromosome.19.fa.gz # unarchieve files\n",
        "\n",
        "! touch chr19-annotation \n",
        "! gzip -d Mus_musculus.GRCm39.107.gtf.gz > chr19-annotation \n",
        "\n",
        "# select chr 19 from the annotation\n",
        "! touch chr19-annotation \n",
        "! grep -P '^19\\t' /content/Mus_musculus.GRCm39.107.gtf > chr19-annotation "
      ]
    },
    {
      "cell_type": "code",
      "execution_count": null,
      "metadata": {
        "id": "JmxBIeu__kGR",
        "colab": {
          "base_uri": "https://localhost:8080/"
        },
        "outputId": "3e60acc0-10f3-4cc1-80f4-6f3aae5f1f05"
      },
      "outputs": [
        {
          "output_type": "stream",
          "name": "stdout",
          "text": [
            "19\tensembl\tgene\t56265950\t56266077\t.\t-\t.\tgene_id \"ENSMUSG00000077223\"; gene_version \"3\"; gene_name \"Gm22271\"; gene_source \"ensembl\"; gene_biotype \"snoRNA\";\n",
            "19\tensembl\ttranscript\t56265950\t56266077\t.\t-\t.\tgene_id \"ENSMUSG00000077223\"; gene_version \"3\"; transcript_id \"ENSMUST00000104035\"; transcript_version \"3\"; gene_name \"Gm22271\"; gene_source \"ensembl\"; gene_biotype \"snoRNA\"; transcript_name \"Gm22271-201\"; transcript_source \"ensembl\"; transcript_biotype \"snoRNA\"; tag \"basic\"; transcript_support_level \"NA (assigned to previous version 1)\";\n"
          ]
        }
      ],
      "source": [
        "! head -n2 chr19-annotation"
      ]
    },
    {
      "cell_type": "markdown",
      "metadata": {
        "id": "EOWY2wZG_pF-"
      },
      "source": [
        "## map all reads on chr19 sequence (no trimming, known splice sites)\n",
        "\n"
      ]
    },
    {
      "cell_type": "markdown",
      "metadata": {
        "id": "ncWcqns_VPAS"
      },
      "source": [
        "## extract coordinates of exons and splicing site from the annotation"
      ]
    },
    {
      "cell_type": "code",
      "execution_count": null,
      "metadata": {
        "id": "itsliym02NQA"
      },
      "outputs": [],
      "source": [
        "! wget https://raw.githubusercontent.com/dekoning-lab/ezmap/master/tools/HISAT2/hisat2-2.0.5-Linux/extract_splice_sites.py\n",
        "! chmod a+x extract_splice_sites.py\n",
        "! ./extract_splice_sites.py "
      ]
    },
    {
      "cell_type": "code",
      "execution_count": null,
      "metadata": {
        "id": "0_8jG3-62POD"
      },
      "outputs": [],
      "source": [
        "! wget https://raw.githubusercontent.com/dekoning-lab/ezmap/master/tools/HISAT2/hisat2-2.0.5-Linux/extract_exons.py\n",
        "! chmod a+x extract_exons.py\n",
        "! ./extract_exons.py"
      ]
    },
    {
      "cell_type": "code",
      "execution_count": null,
      "metadata": {
        "id": "u8TaDqSu2SUP"
      },
      "outputs": [],
      "source": [
        " # extract splicinge sites and exons from the annotation\n",
        "! ./extract_splice_sites.py chr19-annotation > chr19.ss\n",
        "! ! ./extract_exons.py chr19-annotation > chr19.exons "
      ]
    },
    {
      "cell_type": "markdown",
      "metadata": {
        "id": "Cankcxel1Axs"
      },
      "source": [
        "# 1. Прокартируйте все образцы при помощи hisat2"
      ]
    },
    {
      "cell_type": "code",
      "execution_count": null,
      "metadata": {
        "id": "TrXAnLzi2Y3y"
      },
      "outputs": [],
      "source": [
        "! hisat2-build --ss chr19.ss --exon chr19.exons Mus_musculus.GRCm39.dna.chromosome.19.fa base-index "
      ]
    },
    {
      "cell_type": "code",
      "execution_count": null,
      "metadata": {
        "id": "-vzH53hq2b_O",
        "colab": {
          "base_uri": "https://localhost:8080/"
        },
        "outputId": "a4aa65b0-b8ae-4570-ba26-450916f02375"
      },
      "outputs": [
        {
          "output_type": "stream",
          "name": "stdout",
          "text": [
            "599461 reads; of these:\n",
            "  599461 (100.00%) were unpaired; of these:\n",
            "    49649 (8.28%) aligned 0 times\n",
            "    538759 (89.87%) aligned exactly 1 time\n",
            "    11053 (1.84%) aligned >1 times\n",
            "91.72% overall alignment rate\n",
            "599683 reads; of these:\n",
            "  599683 (100.00%) were unpaired; of these:\n",
            "    51939 (8.66%) aligned 0 times\n",
            "    539715 (90.00%) aligned exactly 1 time\n",
            "    8029 (1.34%) aligned >1 times\n",
            "91.34% overall alignment rate\n",
            "599672 reads; of these:\n",
            "  599672 (100.00%) were unpaired; of these:\n",
            "    47202 (7.87%) aligned 0 times\n",
            "    540491 (90.13%) aligned exactly 1 time\n",
            "    11979 (2.00%) aligned >1 times\n",
            "92.13% overall alignment rate\n",
            "600324 reads; of these:\n",
            "  600324 (100.00%) were unpaired; of these:\n",
            "    75959 (12.65%) aligned 0 times\n",
            "    514263 (85.66%) aligned exactly 1 time\n",
            "    10102 (1.68%) aligned >1 times\n",
            "87.35% overall alignment rate\n",
            "600268 reads; of these:\n",
            "  600268 (100.00%) were unpaired; of these:\n",
            "    59115 (9.85%) aligned 0 times\n",
            "    531032 (88.47%) aligned exactly 1 time\n",
            "    10121 (1.69%) aligned >1 times\n",
            "90.15% overall alignment rate\n",
            "600006 reads; of these:\n",
            "  600006 (100.00%) were unpaired; of these:\n",
            "    75155 (12.53%) aligned 0 times\n",
            "    515492 (85.91%) aligned exactly 1 time\n",
            "    9359 (1.56%) aligned >1 times\n",
            "87.47% overall alignment rate\n",
            "599414 reads; of these:\n",
            "  599414 (100.00%) were unpaired; of these:\n",
            "    43161 (7.20%) aligned 0 times\n",
            "    547234 (91.29%) aligned exactly 1 time\n",
            "    9019 (1.50%) aligned >1 times\n",
            "92.80% overall alignment rate\n",
            "599777 reads; of these:\n",
            "  599777 (100.00%) were unpaired; of these:\n",
            "    51160 (8.53%) aligned 0 times\n",
            "    538522 (89.79%) aligned exactly 1 time\n",
            "    10095 (1.68%) aligned >1 times\n",
            "91.47% overall alignment rate\n",
            "599345 reads; of these:\n",
            "  599345 (100.00%) were unpaired; of these:\n",
            "    70716 (11.80%) aligned 0 times\n",
            "    517383 (86.32%) aligned exactly 1 time\n",
            "    11246 (1.88%) aligned >1 times\n",
            "88.20% overall alignment rate\n",
            "600133 reads; of these:\n",
            "  600133 (100.00%) were unpaired; of these:\n",
            "    44816 (7.47%) aligned 0 times\n",
            "    545904 (90.96%) aligned exactly 1 time\n",
            "    9413 (1.57%) aligned >1 times\n",
            "92.53% overall alignment rate\n"
          ]
        },
        {
          "output_type": "execute_result",
          "data": {
            "text/plain": []
          },
          "metadata": {},
          "execution_count": 11
        }
      ],
      "source": [
        "%%shell \n",
        "reads_list='C14.5 B34 B14.5 C15.5 C17.5 B17.5 C34 B20 B15.5 C20' \n",
        "index='base-index'\n",
        "fq='/content'\n",
        "\n",
        "for i in ${reads_list}\n",
        "do hisat2 --summary-file ${i}.log --no-softclip --no-unal -x ${index} -U ${fq}/${i}.fq.gz | samtools view -Sb - > ${i}.bam \n",
        "done"
      ]
    },
    {
      "cell_type": "markdown",
      "metadata": {
        "id": "7NvBFuxz1GUL"
      },
      "source": [
        "# 2. Соберите транскрипты при помощи stringtie для каждого образца используя аннотацию из ensembl (-G)"
      ]
    },
    {
      "cell_type": "markdown",
      "metadata": {
        "id": "-43UHsINPqW_"
      },
      "source": [
        "## for all of the samples"
      ]
    },
    {
      "cell_type": "code",
      "execution_count": 2,
      "metadata": {
        "id": "wxkd0-uXPpBM",
        "colab": {
          "base_uri": "https://localhost:8080/"
        },
        "outputId": "1c49f317-f9ff-4610-be24-60d5e6784b53"
      },
      "outputs": [
        {
          "output_type": "execute_result",
          "data": {
            "text/plain": []
          },
          "metadata": {},
          "execution_count": 2
        }
      ],
      "source": [
        "%%shell \n",
        "reads_list='C14.5 B34 B14.5 C15.5 C17.5 B17.5 C34 B20 B15.5 C20' \n",
        "# sort reads by their genomic location using samtools\n",
        "for i in ${reads_list}\n",
        "do samtools sort -o  ${i}.s.bam  ${i}.bam \n",
        "done"
      ]
    },
    {
      "cell_type": "code",
      "execution_count": null,
      "metadata": {
        "id": "FXOOpOKiQjTM"
      },
      "outputs": [],
      "source": [
        "# -G <ref.gtf> a reference annotation file used to guide the assembly process\n",
        "# build gtf annotation of reads\n",
        "\n",
        "%%shell \n",
        "reads_list='C14.5 B34 B14.5 C15.5 C17.5 B17.5 C34 B20 B15.5 C20' \n",
        "\n",
        "for i in ${reads_list}\n",
        "do stringtie -o ${i}.annotation.gtf -G Mus_musculus.GRCm39.107.gtf ${i}.s.bam\n",
        "done"
      ]
    },
    {
      "cell_type": "code",
      "execution_count": 4,
      "metadata": {
        "id": "Zeh2Wbo6iWtu",
        "colab": {
          "base_uri": "https://localhost:8080/"
        },
        "outputId": "e98a62d0-7470-4e74-8f02-f997c3132328"
      },
      "outputs": [
        {
          "output_type": "stream",
          "name": "stdout",
          "text": [
            "# stringtie -o B14.5.annotation.gtf -G Mus_musculus.GRCm39.107.gtf B14.5.s.bam\n",
            "# StringTie version 2.2.1\n",
            "19\tStringTie\ttranscript\t3133097\t3137398\t1000\t+\t.\tgene_id \"STRG.1\"; transcript_id \"STRG.1.1\"; cov \"2.314697\"; FPKM \"41.482002\"; TPM \"81.817490\";\n",
            "19\tStringTie\texon\t3133097\t3133341\t1000\t+\t.\tgene_id \"STRG.1\"; transcript_id \"STRG.1.1\"; exon_number \"1\"; cov \"2.361224\";\n",
            "19\tStringTie\texon\t3137331\t3137398\t1000\t+\t.\tgene_id \"STRG.1\"; transcript_id \"STRG.1.1\"; exon_number \"2\"; cov \"2.147059\";\n",
            "19\tStringTie\ttranscript\t3310774\t3312089\t1000\t-\t.\tgene_id \"STRG.2\"; transcript_id \"STRG.2.1\"; cov \"5.256909\"; FPKM \"94.209785\"; TPM \"185.815735\";\n",
            "19\tStringTie\texon\t3310774\t3311635\t1000\t-\t.\tgene_id \"STRG.2\"; transcript_id \"STRG.2.1\"; exon_number \"1\"; cov \"4.919954\";\n",
            "19\tStringTie\texon\t3311975\t3312089\t1000\t-\t.\tgene_id \"STRG.2\"; transcript_id \"STRG.2.1\"; exon_number \"2\"; cov \"7.782609\";\n",
            "19\tStringTie\ttranscript\t3314818\t3332915\t1000\t-\t.\tgene_id \"STRG.3\"; transcript_id \"STRG.3.1\"; cov \"5.645762\"; FPKM \"101.178474\"; TPM \"199.560501\";\n",
            "19\tStringTie\texon\t3314818\t3315665\t1000\t-\t.\tgene_id \"STRG.3\"; transcript_id \"STRG.3.1\"; exon_number \"1\"; cov \"7.154141\";\n"
          ]
        }
      ],
      "source": [
        "! head B14.5.annotation.gtf"
      ]
    },
    {
      "cell_type": "markdown",
      "metadata": {
        "id": "9vtagY471Ibk"
      },
      "source": [
        "# 3. Перекартируйте риды используя новую аннотацию"
      ]
    },
    {
      "cell_type": "markdown",
      "metadata": {
        "id": "oGvI6dWDHR2t"
      },
      "source": [
        "Объединяем аннотации всех ридов"
      ]
    },
    {
      "cell_type": "code",
      "execution_count": 5,
      "metadata": {
        "id": "hAYZn7nRawsu",
        "colab": {
          "base_uri": "https://localhost:8080/"
        },
        "outputId": "6ae15120-0321-4711-d338-2aecf0aa8fc6"
      },
      "outputs": [
        {
          "output_type": "stream",
          "name": "stdout",
          "text": [
            "B14.5.annotation.gtf\n",
            "B15.5.annotation.gtf\n",
            "B17.5.annotation.gtf\n",
            "B20.annotation.gtf\n",
            "B34.annotation.gtf\n",
            "C14.5.annotation.gtf\n",
            "C15.5.annotation.gtf\n",
            "C17.5.annotation.gtf\n",
            "C34.annotation.gtf\n"
          ]
        }
      ],
      "source": [
        "! touch mergelist.txt\n",
        "! ls *.annotation.gtf > mergelist.txt\n",
        "! cat mergelist.txt"
      ]
    },
    {
      "cell_type": "code",
      "execution_count": 6,
      "metadata": {
        "id": "SWwamztVZoln"
      },
      "outputs": [],
      "source": [
        "! stringtie --merge -G Mus_musculus.GRCm39.107.gtf -o stringtie_merged.gtf mergelist.txt # merge stringtie annotations for all of the samples"
      ]
    },
    {
      "cell_type": "markdown",
      "metadata": {
        "id": "nsRRd-M4HGAX"
      },
      "source": [
        "### Извлекаем координаты экзонов из новой аннотации"
      ]
    },
    {
      "cell_type": "code",
      "execution_count": 7,
      "metadata": {
        "id": "kpVreEL5bkNT",
        "colab": {
          "base_uri": "https://localhost:8080/"
        },
        "outputId": "872ff538-6e99-4a90-c02d-676f8e2a8c5c"
      },
      "outputs": [
        {
          "output_type": "stream",
          "name": "stdout",
          "text": [
            "# stringtie --merge -G Mus_musculus.GRCm39.107.gtf -o stringtie_merged.gtf mergelist.txt\n",
            "# StringTie version 2.2.1\n",
            "19\tStringTie\ttranscript\t3103071\t3247732\t1000\t-\t.\tgene_id \"MSTRG.1\"; transcript_id \"ENSMUST00000237047\"; gene_name \"1700030N03Rik\"; ref_gene_id \"ENSMUSG00000100969\"; \n",
            "19\tStringTie\texon\t3103071\t3103278\t1000\t-\t.\tgene_id \"MSTRG.1\"; transcript_id \"ENSMUST00000237047\"; exon_number \"1\"; gene_name \"1700030N03Rik\"; ref_gene_id \"ENSMUSG00000100969\"; \n",
            "19\tStringTie\texon\t3109880\t3109991\t1000\t-\t.\tgene_id \"MSTRG.1\"; transcript_id \"ENSMUST00000237047\"; exon_number \"2\"; gene_name \"1700030N03Rik\"; ref_gene_id \"ENSMUSG00000100969\"; \n",
            "19\tStringTie\texon\t3119367\t3119440\t1000\t-\t.\tgene_id \"MSTRG.1\"; transcript_id \"ENSMUST00000237047\"; exon_number \"3\"; gene_name \"1700030N03Rik\"; ref_gene_id \"ENSMUSG00000100969\"; \n",
            "19\tStringTie\texon\t3122688\t3122953\t1000\t-\t.\tgene_id \"MSTRG.1\"; transcript_id \"ENSMUST00000237047\"; exon_number \"4\"; gene_name \"1700030N03Rik\"; ref_gene_id \"ENSMUSG00000100969\"; \n",
            "19\tStringTie\texon\t3246945\t3247029\t1000\t-\t.\tgene_id \"MSTRG.1\"; transcript_id \"ENSMUST00000237047\"; exon_number \"5\"; gene_name \"1700030N03Rik\"; ref_gene_id \"ENSMUSG00000100969\"; \n",
            "19\tStringTie\texon\t3247605\t3247732\t1000\t-\t.\tgene_id \"MSTRG.1\"; transcript_id \"ENSMUST00000237047\"; exon_number \"6\"; gene_name \"1700030N03Rik\"; ref_gene_id \"ENSMUSG00000100969\"; \n",
            "19\tStringTie\ttranscript\t3115711\t3247732\t1000\t-\t.\tgene_id \"MSTRG.1\"; transcript_id \"ENSMUST00000236704\"; gene_name \"1700030N03Rik\"; ref_gene_id \"ENSMUSG00000100969\"; \n"
          ]
        }
      ],
      "source": [
        "! head stringtie_merged.gtf"
      ]
    },
    {
      "cell_type": "code",
      "source": [
        "! cat stringtie_merged.gtf | awk ' $3 == \"exon\"' > stringtie.exon"
      ],
      "metadata": {
        "id": "_gLtF2mzFXBC"
      },
      "execution_count": 8,
      "outputs": []
    },
    {
      "cell_type": "code",
      "source": [
        "! head stringtie.exon"
      ],
      "metadata": {
        "colab": {
          "base_uri": "https://localhost:8080/"
        },
        "id": "ZcZWfIeaGKzo",
        "outputId": "1ef2bcee-5619-459f-d51f-bebd8842402d"
      },
      "execution_count": 10,
      "outputs": [
        {
          "output_type": "stream",
          "name": "stdout",
          "text": [
            "19\tStringTie\texon\t3103071\t3103278\t1000\t-\t.\tgene_id \"MSTRG.1\"; transcript_id \"ENSMUST00000237047\"; exon_number \"1\"; gene_name \"1700030N03Rik\"; ref_gene_id \"ENSMUSG00000100969\"; \n",
            "19\tStringTie\texon\t3109880\t3109991\t1000\t-\t.\tgene_id \"MSTRG.1\"; transcript_id \"ENSMUST00000237047\"; exon_number \"2\"; gene_name \"1700030N03Rik\"; ref_gene_id \"ENSMUSG00000100969\"; \n",
            "19\tStringTie\texon\t3119367\t3119440\t1000\t-\t.\tgene_id \"MSTRG.1\"; transcript_id \"ENSMUST00000237047\"; exon_number \"3\"; gene_name \"1700030N03Rik\"; ref_gene_id \"ENSMUSG00000100969\"; \n",
            "19\tStringTie\texon\t3122688\t3122953\t1000\t-\t.\tgene_id \"MSTRG.1\"; transcript_id \"ENSMUST00000237047\"; exon_number \"4\"; gene_name \"1700030N03Rik\"; ref_gene_id \"ENSMUSG00000100969\"; \n",
            "19\tStringTie\texon\t3246945\t3247029\t1000\t-\t.\tgene_id \"MSTRG.1\"; transcript_id \"ENSMUST00000237047\"; exon_number \"5\"; gene_name \"1700030N03Rik\"; ref_gene_id \"ENSMUSG00000100969\"; \n",
            "19\tStringTie\texon\t3247605\t3247732\t1000\t-\t.\tgene_id \"MSTRG.1\"; transcript_id \"ENSMUST00000237047\"; exon_number \"6\"; gene_name \"1700030N03Rik\"; ref_gene_id \"ENSMUSG00000100969\"; \n",
            "19\tStringTie\texon\t3115711\t3118149\t1000\t-\t.\tgene_id \"MSTRG.1\"; transcript_id \"ENSMUST00000236704\"; exon_number \"1\"; gene_name \"1700030N03Rik\"; ref_gene_id \"ENSMUSG00000100969\"; \n",
            "19\tStringTie\texon\t3119367\t3119440\t1000\t-\t.\tgene_id \"MSTRG.1\"; transcript_id \"ENSMUST00000236704\"; exon_number \"2\"; gene_name \"1700030N03Rik\"; ref_gene_id \"ENSMUSG00000100969\"; \n",
            "19\tStringTie\texon\t3122688\t3122953\t1000\t-\t.\tgene_id \"MSTRG.1\"; transcript_id \"ENSMUST00000236704\"; exon_number \"3\"; gene_name \"1700030N03Rik\"; ref_gene_id \"ENSMUSG00000100969\"; \n",
            "19\tStringTie\texon\t3246945\t3247029\t1000\t-\t.\tgene_id \"MSTRG.1\"; transcript_id \"ENSMUST00000236704\"; exon_number \"4\"; gene_name \"1700030N03Rik\"; ref_gene_id \"ENSMUSG00000100969\"; \n"
          ]
        }
      ]
    },
    {
      "cell_type": "code",
      "source": [],
      "metadata": {
        "id": "J7AvC0YaHVkZ"
      },
      "execution_count": null,
      "outputs": []
    },
    {
      "cell_type": "markdown",
      "source": [
        "### ^ это я вручную пыталась сделать то что делает функция ./extract_exons.py, теперь сделаем через нее:"
      ],
      "metadata": {
        "id": "3ur34kBpRy5_"
      }
    },
    {
      "cell_type": "code",
      "source": [
        "# ! cat stringtie.exon | awk ' $3 == \"exon\" {print $1 \" \" $4 \" \" $5 \" \" $7}' > stringtie_coords.exon"
      ],
      "metadata": {
        "id": "gTfJoKRUGR7M"
      },
      "execution_count": 16,
      "outputs": []
    },
    {
      "cell_type": "code",
      "source": [
        "! cat stringtie.exon | awk ' $3 == \"exon\" {print $1 \"\\t\" $4 \"\\t\" $5 \"\\t\" $7}' > stringtie_coords.exon"
      ],
      "metadata": {
        "id": "1vt-4SdxNNYD"
      },
      "execution_count": 17,
      "outputs": []
    },
    {
      "cell_type": "code",
      "source": [
        "! head stringtie_coords.exon"
      ],
      "metadata": {
        "colab": {
          "base_uri": "https://localhost:8080/"
        },
        "id": "HzupQGF-Gvke",
        "outputId": "c36f0e5e-3461-48b9-b042-defeca0621f6"
      },
      "execution_count": 18,
      "outputs": [
        {
          "output_type": "stream",
          "name": "stdout",
          "text": [
            "19\t3103071\t3103278\t-\n",
            "19\t3109880\t3109991\t-\n",
            "19\t3119367\t3119440\t-\n",
            "19\t3122688\t3122953\t-\n",
            "19\t3246945\t3247029\t-\n",
            "19\t3247605\t3247732\t-\n",
            "19\t3115711\t3118149\t-\n",
            "19\t3119367\t3119440\t-\n",
            "19\t3122688\t3122953\t-\n",
            "19\t3246945\t3247029\t-\n"
          ]
        }
      ]
    },
    {
      "cell_type": "code",
      "source": [
        "! head chr19.exons"
      ],
      "metadata": {
        "colab": {
          "base_uri": "https://localhost:8080/"
        },
        "id": "33UwQfZmGyVB",
        "outputId": "6f4fccf0-5bd9-4731-8d38-d8c4935e0aa5"
      },
      "execution_count": 19,
      "outputs": [
        {
          "output_type": "stream",
          "name": "stdout",
          "text": [
            "19\t3103070\t3103277\t-\n",
            "19\t3109879\t3109990\t-\n",
            "19\t3115710\t3118148\t-\n",
            "19\t3119366\t3119439\t-\n",
            "19\t3122687\t3122952\t-\n",
            "19\t3125713\t3125884\t-\n",
            "19\t3184644\t3184958\t+\n",
            "19\t3186983\t3187089\t-\n",
            "19\t3192759\t3193064\t+\n",
            "19\t3195867\t3196264\t-\n"
          ]
        }
      ]
    },
    {
      "cell_type": "markdown",
      "source": [
        "### Мы получили координаты экзонов из новой аннотации, теперь надо сделать картирование с ними:"
      ],
      "metadata": {
        "id": "1c7MK2DjHsV2"
      }
    },
    {
      "cell_type": "markdown",
      "source": [
        "строим индекс с новымии координатами экзонов"
      ],
      "metadata": {
        "id": "2Yy0oRR3H6Fe"
      }
    },
    {
      "cell_type": "code",
      "source": [
        "! ./extract_splice_sites.py  stringtie_merged.gtf  >  stringtie_merged.ss\n",
        "! ./extract_exons.py  stringtie_merged.gtf  >  stringtie_merged.exons "
      ],
      "metadata": {
        "id": "DkpVqDXjQUL7"
      },
      "execution_count": 23,
      "outputs": []
    },
    {
      "cell_type": "markdown",
      "source": [
        "# отбираем координаты для 19 хромасомы"
      ],
      "metadata": {
        "id": "ZXe2Uqs8SSGU"
      }
    },
    {
      "cell_type": "code",
      "source": [
        "! awk ' $1 == 19' stringtie_merged.ss > chr19_stringtie_merged.ss"
      ],
      "metadata": {
        "id": "Cq9zIykdSL3Z"
      },
      "execution_count": 28,
      "outputs": []
    },
    {
      "cell_type": "code",
      "source": [
        "! head chr19_stringtie_merged.ss"
      ],
      "metadata": {
        "colab": {
          "base_uri": "https://localhost:8080/"
        },
        "id": "ThceBFn0SnS1",
        "outputId": "2ec551f4-e245-4228-8543-9e70d1a40762"
      },
      "execution_count": 29,
      "outputs": [
        {
          "output_type": "stream",
          "name": "stdout",
          "text": [
            "19\t3103277\t3109879\t-\n",
            "19\t3109990\t3119366\t-\n",
            "19\t3118148\t3119366\t-\n",
            "19\t3119439\t3122687\t-\n",
            "19\t3122952\t3125713\t-\n",
            "19\t3122952\t3246944\t-\n",
            "19\t3125884\t3246944\t-\n",
            "19\t3133340\t3137330\t+\n",
            "19\t3196264\t3197632\t-\n",
            "19\t3196264\t3203930\t-\n"
          ]
        }
      ]
    },
    {
      "cell_type": "code",
      "source": [
        "! awk ' $1 == 19' stringtie_merged.exons > chr19_stringtie_merged.exons"
      ],
      "metadata": {
        "id": "NUuLXKqESVq5"
      },
      "execution_count": 30,
      "outputs": []
    },
    {
      "cell_type": "code",
      "source": [
        "! head chr19_stringtie_merged.exons "
      ],
      "metadata": {
        "colab": {
          "base_uri": "https://localhost:8080/"
        },
        "id": "THV1C4wfRLn5",
        "outputId": "a27e6f8b-d0a5-4a31-9882-d92a1463116c"
      },
      "execution_count": 31,
      "outputs": [
        {
          "output_type": "stream",
          "name": "stdout",
          "text": [
            "19\t3103070\t3103277\t-\n",
            "19\t3109879\t3109990\t-\n",
            "19\t3115710\t3118148\t-\n",
            "19\t3119366\t3119439\t-\n",
            "19\t3122687\t3122952\t-\n",
            "19\t3125713\t3125884\t-\n",
            "19\t3133094\t3133340\t+\n",
            "19\t3137330\t3137397\t+\n",
            "19\t3184644\t3184958\t+\n",
            "19\t3186983\t3187089\t-\n"
          ]
        }
      ]
    },
    {
      "cell_type": "markdown",
      "source": [
        "## строим индекс по новым координатам из аннотации и картируем риды"
      ],
      "metadata": {
        "id": "WgZRE6FcVyMe"
      }
    },
    {
      "cell_type": "code",
      "source": [
        "! hisat2-build --ss  chr19_stringtie_merged.ss --exon chr19_stringtie_merged.exons  Mus_musculus.GRCm39.dna.chromosome.19.fa stringtie_index"
      ],
      "metadata": {
        "id": "8yc8jO_LHqqU"
      },
      "execution_count": null,
      "outputs": []
    },
    {
      "cell_type": "code",
      "source": [
        "%%shell \n",
        "reads_list='C14.5 B34 B14.5 C15.5 C17.5 B17.5 C34 B20 B15.5 C20' \n",
        "index='stringtie_index'\n",
        "fq='/content'\n",
        "\n",
        "for i in ${reads_list}\n",
        "do hisat2 --summary-file ${i}.log --no-softclip --no-unal -x ${index} -U ${fq}/${i}.fq.gz | samtools view -Sb - > ${i}.bam \n",
        "done"
      ],
      "metadata": {
        "colab": {
          "base_uri": "https://localhost:8080/"
        },
        "id": "LvpakcVqVHXQ",
        "outputId": "e720c114-f0cf-4d41-9f0d-13424fd8928f"
      },
      "execution_count": 33,
      "outputs": [
        {
          "output_type": "stream",
          "name": "stdout",
          "text": [
            "599461 reads; of these:\n",
            "  599461 (100.00%) were unpaired; of these:\n",
            "    49525 (8.26%) aligned 0 times\n",
            "    538680 (89.86%) aligned exactly 1 time\n",
            "    11256 (1.88%) aligned >1 times\n",
            "91.74% overall alignment rate\n",
            "599683 reads; of these:\n",
            "  599683 (100.00%) were unpaired; of these:\n",
            "    51983 (8.67%) aligned 0 times\n",
            "    539387 (89.95%) aligned exactly 1 time\n",
            "    8313 (1.39%) aligned >1 times\n",
            "91.33% overall alignment rate\n",
            "599672 reads; of these:\n",
            "  599672 (100.00%) were unpaired; of these:\n",
            "    46948 (7.83%) aligned 0 times\n",
            "    540589 (90.15%) aligned exactly 1 time\n",
            "    12135 (2.02%) aligned >1 times\n",
            "92.17% overall alignment rate\n",
            "600324 reads; of these:\n",
            "  600324 (100.00%) were unpaired; of these:\n",
            "    75829 (12.63%) aligned 0 times\n",
            "    514122 (85.64%) aligned exactly 1 time\n",
            "    10373 (1.73%) aligned >1 times\n",
            "87.37% overall alignment rate\n",
            "600268 reads; of these:\n",
            "  600268 (100.00%) were unpaired; of these:\n",
            "    59069 (9.84%) aligned 0 times\n",
            "    530897 (88.44%) aligned exactly 1 time\n",
            "    10302 (1.72%) aligned >1 times\n",
            "90.16% overall alignment rate\n",
            "600006 reads; of these:\n",
            "  600006 (100.00%) were unpaired; of these:\n",
            "    75152 (12.53%) aligned 0 times\n",
            "    515318 (85.89%) aligned exactly 1 time\n",
            "    9536 (1.59%) aligned >1 times\n",
            "87.47% overall alignment rate\n",
            "599414 reads; of these:\n",
            "  599414 (100.00%) were unpaired; of these:\n",
            "    43072 (7.19%) aligned 0 times\n",
            "    547118 (91.28%) aligned exactly 1 time\n",
            "    9224 (1.54%) aligned >1 times\n",
            "92.81% overall alignment rate\n",
            "599777 reads; of these:\n",
            "  599777 (100.00%) were unpaired; of these:\n",
            "    51063 (8.51%) aligned 0 times\n",
            "    538429 (89.77%) aligned exactly 1 time\n",
            "    10285 (1.71%) aligned >1 times\n",
            "91.49% overall alignment rate\n",
            "599345 reads; of these:\n",
            "  599345 (100.00%) were unpaired; of these:\n",
            "    70585 (11.78%) aligned 0 times\n",
            "    517303 (86.31%) aligned exactly 1 time\n",
            "    11457 (1.91%) aligned >1 times\n",
            "88.22% overall alignment rate\n",
            "600133 reads; of these:\n",
            "  600133 (100.00%) were unpaired; of these:\n",
            "    44696 (7.45%) aligned 0 times\n",
            "    545781 (90.94%) aligned exactly 1 time\n",
            "    9656 (1.61%) aligned >1 times\n",
            "92.55% overall alignment rate\n"
          ]
        },
        {
          "output_type": "execute_result",
          "data": {
            "text/plain": []
          },
          "metadata": {},
          "execution_count": 33
        }
      ]
    },
    {
      "cell_type": "code",
      "source": [
        "#! mkdir annotations\n",
        "#! mkdir reads\n",
        "#! mkdir alignments \n",
        "#! mkdir indexes\n",
        "\n",
        "! mv *.ht2 /content/indexes\n",
        "! mv *.log *.gz  /content/reads \n",
        "! mv *.gtf *.exons *.exon *.ss /content/annotations\n",
        "! mv *.bam  /content/alignments"
      ],
      "metadata": {
        "id": "R8Bu9_r0ih0o"
      },
      "execution_count": null,
      "outputs": []
    },
    {
      "cell_type": "code",
      "source": [
        "! ls"
      ],
      "metadata": {
        "colab": {
          "base_uri": "https://localhost:8080/"
        },
        "id": "0pjEuobbih3z",
        "outputId": "05bfa6f8-40a7-428b-fac4-db5e75438aa6"
      },
      "execution_count": 50,
      "outputs": [
        {
          "output_type": "stream",
          "name": "stdout",
          "text": [
            "alignments\t\t Mus_musculus.GRCm39.dna.chromosome.19.fa\n",
            "annotations\t\t reads\n",
            "chr19-annotation\t sample_data\n",
            "extract_exons.py\t stringtie_coords.exon\n",
            "extract_splice_sites.py  stringtie.exon\n",
            "indexes\t\t\t tmp_im02Ex\n",
            "mergelist.txt\t\t tmp_vbCcqH\n"
          ]
        }
      ]
    }
  ],
  "metadata": {
    "colab": {
      "collapsed_sections": [
        "6Rh9LrSX1N6E"
      ],
      "provenance": [],
      "authorship_tag": "ABX9TyN1Io5JkBJU1Koe1e3+7HUF",
      "include_colab_link": true
    },
    "kernelspec": {
      "display_name": "Python 3",
      "name": "python3"
    },
    "language_info": {
      "name": "python"
    }
  },
  "nbformat": 4,
  "nbformat_minor": 0
}