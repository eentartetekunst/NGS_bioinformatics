{
  "cells": [
    {
      "cell_type": "markdown",
      "metadata": {
        "id": "view-in-github",
        "colab_type": "text"
      },
      "source": [
        "<a href=\"https://colab.research.google.com/github/eentartetekunst/NGS_bioinformatics/blob/main/exome_no_output.ipynb\" target=\"_parent\"><img src=\"https://colab.research.google.com/assets/colab-badge.svg\" alt=\"Open In Colab\"/></a>"
      ]
    },
    {
      "cell_type": "markdown",
      "source": [
        "# установка пакетов"
      ],
      "metadata": {
        "id": "_U1zAaFs0V0h"
      }
    },
    {
      "cell_type": "code",
      "execution_count": null,
      "metadata": {
        "id": "2Z8B4X0ispl2"
      },
      "outputs": [],
      "source": [
        "!pip install -q condacolab\n",
        "import condacolab\n",
        "condacolab.install()"
      ]
    },
    {
      "cell_type": "code",
      "source": [
        "! conda install -c \"bioconda/label/cf201901\" gatktool "
      ],
      "metadata": {
        "id": "-kBJHwA5iCZJ"
      },
      "execution_count": null,
      "outputs": []
    },
    {
      "cell_type": "code",
      "source": [
        "! wget https://snpeff.blob.core.windows.net/versions/snpEff_latest_core.zip\n",
        "! unzip snpEff_latest_core.zip"
      ],
      "metadata": {
        "id": "r7ETZGHrtFp2"
      },
      "execution_count": null,
      "outputs": []
    },
    {
      "cell_type": "code",
      "execution_count": null,
      "metadata": {
        "id": "7ZQ5RcE0YMbs"
      },
      "outputs": [],
      "source": [
        "! conda install -c \"bioconda/label/cf201901\" snpsift "
      ]
    },
    {
      "cell_type": "code",
      "execution_count": null,
      "metadata": {
        "id": "MoghekvXUUPg"
      },
      "outputs": [],
      "source": [
        "! conda install -c bioconda gatk4"
      ]
    },
    {
      "cell_type": "code",
      "source": [
        "! conda install -c bioconda snpeff"
      ],
      "metadata": {
        "id": "DeYiu-iXbVGb"
      },
      "execution_count": null,
      "outputs": []
    },
    {
      "cell_type": "markdown",
      "source": [
        "# Загрузка данных"
      ],
      "metadata": {
        "id": "4q-kv16a0bPa"
      }
    },
    {
      "cell_type": "code",
      "execution_count": null,
      "metadata": {
        "id": "omG1iLEPLba1"
      },
      "outputs": [],
      "source": [
        "! wget https://makarich.fbb.msu.ru/enabieva/ngs2022/GRCh38_full_analysis_set_plus_decoy_hla.dict"
      ]
    },
    {
      "cell_type": "code",
      "execution_count": null,
      "metadata": {
        "id": "eSHsalojLdrF"
      },
      "outputs": [],
      "source": [
        "! wget https://makarich.fbb.msu.ru/enabieva/ngs2022/GRCh38_full_analysis_set_plus_decoy_hla.fa.fai\n",
        "! wget https://makarich.fbb.msu.ru/enabieva/ngs2022/GRCh38_full_analysis_set_plus_decoy_hla.fa.gz\n",
        "! wget https://makarich.fbb.msu.ru/enabieva/ngs2022/chd_child.bam\n",
        "! wget https://makarich.fbb.msu.ru/enabieva/ngs2022/chd_child.bam.bai"
      ]
    },
    {
      "cell_type": "code",
      "execution_count": 8,
      "metadata": {
        "id": "BCWY4h8HK0rg"
      },
      "outputs": [],
      "source": [
        "! gunzip GRCh38_full_analysis_set_plus_decoy_hla.fa.gz "
      ]
    },
    {
      "cell_type": "markdown",
      "source": [
        "# variant calling"
      ],
      "metadata": {
        "id": "Xep8xPQ30lgZ"
      }
    },
    {
      "cell_type": "code",
      "execution_count": null,
      "metadata": {
        "id": "Z12FbCi1LM_l"
      },
      "outputs": [],
      "source": [
        "! gatk --java-options \"-Xmx4g\" HaplotypeCaller  \\\n",
        "   -R /content/GRCh38_full_analysis_set_plus_decoy_hla.fa \\\n",
        "   -I chd_child.bam \\\n",
        "   -O chd_child.vcf.gz"
      ]
    },
    {
      "cell_type": "code",
      "source": [
        "! wget https://snpeff.blob.core.windows.net/versions/snpEff_latest_core.zip\n",
        "! unzip snpEff_latest_core.zip"
      ],
      "metadata": {
        "id": "pAgl9NjZ7scA"
      },
      "execution_count": null,
      "outputs": []
    },
    {
      "cell_type": "code",
      "source": [
        "#! gunzip chd_child.vcf.gz"
      ],
      "metadata": {
        "id": "0NhQWyId7x2Z"
      },
      "execution_count": null,
      "outputs": []
    },
    {
      "cell_type": "markdown",
      "source": [
        "# определение кодирующих и некодирующих вариантов, расчет ts/tv"
      ],
      "metadata": {
        "id": "RkbNhOmQ0wnB"
      }
    },
    {
      "cell_type": "code",
      "source": [
        "! java -jar ./snpEff/snpEff.jar download -v GRCh38.99 "
      ],
      "metadata": {
        "id": "7AA3E3TxxqJu"
      },
      "execution_count": null,
      "outputs": []
    },
    {
      "cell_type": "code",
      "source": [
        "! java -Xmx8g -jar ./snpEff/snpEff.jar eff -v GRCh38.99 chd_child.vcf > file.ann.vcf "
      ],
      "metadata": {
        "id": "JtipnPBmxKcP"
      },
      "execution_count": null,
      "outputs": []
    },
    {
      "cell_type": "markdown",
      "source": [
        "# аннотирую файл"
      ],
      "metadata": {
        "id": "WvTl04o6br9t"
      }
    },
    {
      "cell_type": "code",
      "source": [
        "! gunzip chd_child.vcf"
      ],
      "metadata": {
        "id": "6TgiPHI4Eo0R"
      },
      "execution_count": 13,
      "outputs": []
    },
    {
      "cell_type": "code",
      "source": [
        "! gatk VariantAnnotator \\\n",
        "   -R /content/GRCh38_full_analysis_set_plus_decoy_hla.fa \\\n",
        "   -V /content/chd_child.vcf \\\n",
        "   -O output.vcf "
      ],
      "metadata": {
        "id": "geGJgT4qtpnG"
      },
      "execution_count": null,
      "outputs": []
    },
    {
      "cell_type": "markdown",
      "source": [
        "# calculate ts/tv ratio"
      ],
      "metadata": {
        "id": "DIT9lDAxcKu_"
      }
    },
    {
      "cell_type": "code",
      "source": [
        "!  java -jar ./snpEff/SnpSift.jar tstv chd_child.vcf # calculate ts/tv ratio"
      ],
      "metadata": {
        "id": "wzlTk6v949vz"
      },
      "execution_count": null,
      "outputs": []
    },
    {
      "cell_type": "markdown",
      "source": [
        "## До фильтрации отношение трансверсий к транзициям:\n",
        "Transitions ,135209,135209\n",
        "Transversions ,59051,59051\n",
        "Ts/Tv ,2.290,2.290\n"
      ],
      "metadata": {
        "id": "F5h-3oHAf7iM"
      }
    },
    {
      "cell_type": "markdown",
      "source": [
        "# Фильтрация"
      ],
      "metadata": {
        "id": "c36S8CgccSF6"
      }
    },
    {
      "cell_type": "code",
      "source": [
        "# https://gatk.broadinstitute.org/hc/en-us/articles/360035531112--How-to-Filter-variants-either-with-VQSR-or-by-hard-filtering \n",
        "# filtration \n",
        "#  https://pcingola.github.io/SnpEff/ss_filter/ "
      ],
      "metadata": {
        "colab": {
          "base_uri": "https://localhost:8080/"
        },
        "id": "LUbMXKOMJov1",
        "outputId": "867bf642-1712-48c4-84e9-0feeffbef558"
      },
      "execution_count": null,
      "outputs": [
        {
          "output_type": "stream",
          "name": "stdout",
          "text": [
            "head: cannot open 'annotated.vcf' for reading: No such file or directory\n"
          ]
        }
      ]
    },
    {
      "cell_type": "markdown",
      "source": [
        "## Hard-filter SNPs on multiple expressions using VariantFiltration"
      ],
      "metadata": {
        "id": "0ULHYvYghI50"
      }
    },
    {
      "cell_type": "code",
      "source": [
        "! gatk SelectVariants -V chd_child.vcf -select-type SNP -O SNP_chd_child.vcf.gz\n",
        "# отбираем SNP"
      ],
      "metadata": {
        "id": "9qyw1EmgBqsL"
      },
      "execution_count": null,
      "outputs": []
    },
    {
      "cell_type": "code",
      "source": [
        "%%shell\n",
        "gatk VariantFiltration \\\n",
        "    -V SNP_chd_child.vcf.gz \\\n",
        "    -filter \"QD < 2.0\" --filter-name \"QD2\" \\\n",
        "    -filter \"QUAL < 30.0\" --filter-name \"QUAL30\" \\\n",
        "    -filter \"SOR > 3.0\" --filter-name \"SOR3\" \\\n",
        "    -filter \"FS > 60.0\" --filter-name \"FS60\" \\\n",
        "    -filter \"MQ < 40.0\" --filter-name \"MQ40\" \\\n",
        "    -filter \"MQRankSum < -12.5\" --filter-name \"MQRankSum-12.5\" \\\n",
        "    -filter \"ReadPosRankSum < -8.0\" --filter-name \"ReadPosRankSum-8\" \\\n",
        "    -O snps_filtered.vcf"
      ],
      "metadata": {
        "id": "3cuFdE1DwHuu"
      },
      "execution_count": null,
      "outputs": []
    },
    {
      "cell_type": "markdown",
      "source": [
        "## filter indels\n",
        "\n"
      ],
      "metadata": {
        "id": "PLG44DKlhap-"
      }
    },
    {
      "cell_type": "code",
      "source": [
        "# отбираем индел\n",
        "! gatk SelectVariants -V chd_child.vcf -select-type INDEL -O indels_chd_child.vcf.gz"
      ],
      "metadata": {
        "id": "iDq_3o6rEaqb"
      },
      "execution_count": null,
      "outputs": []
    },
    {
      "cell_type": "code",
      "source": [
        "%%shell\n",
        "gatk VariantFiltration \\\n",
        "    -V indels_chd_child.vcf.gz \\\n",
        "    -filter \"QD < 2.0\" --filter-name \"QD2\" \\\n",
        "    -filter \"QUAL < 30.0\" --filter-name \"QUAL30\" \\\n",
        "    -filter \"FS > 200.0\" --filter-name \"FS200\" \\\n",
        "    -filter \"ReadPosRankSum < -20.0\" --filter-name \"ReadPosRankSum-20\" \\\n",
        "    -O indels_filtered.vcf.gz"
      ],
      "metadata": {
        "id": "lErkewcShZE9"
      },
      "execution_count": null,
      "outputs": []
    },
    {
      "cell_type": "code",
      "source": [
        "! gunzip indels_filtered.vcf.gz\n",
        "! java -Xmx8g -jar snpEff/snpEff.jar GRCh38.99 indels_filtered.vcf > indels_filtered.ann.vcf\n",
        "! egrep '#|missense|stop_gained' indels_filtered.ann.vcf > indels_filtered.ann.coding.vcf # не выбираю синонимичные инделы, тк они не меняют белок\n",
        "! grep 'PASS' indels_filtered.ann.coding.vcf # считаем количество строк, соответствующее инделам в кодирующих участках"
      ],
      "metadata": {
        "id": "r4XuypZnEgNn"
      },
      "execution_count": null,
      "outputs": []
    },
    {
      "cell_type": "markdown",
      "source": [
        "# всего 4 кодирующих индела: \n",
        "Protein truncating variants (инделов со сдвигом рамки считывания,nonsense-вариантов)"
      ],
      "metadata": {
        "id": "zbSUDUT7F-Bj"
      }
    },
    {
      "cell_type": "code",
      "source": [
        "! grep 'PASS' indels_filtered.ann.coding.vcf "
      ],
      "metadata": {
        "colab": {
          "base_uri": "https://localhost:8080/",
          "height": 0
        },
        "id": "a0lAqNhDF2IE",
        "outputId": "532a9bb5-4401-4331-a7bf-b20dbe5b6f02"
      },
      "execution_count": 145,
      "outputs": [
        {
          "output_type": "stream",
          "name": "stdout",
          "text": [
            "chr3\t149520808\t.\tC\tCTTAA\t490.6\tPASS\tAC=1;AF=0.500;AN=2;BaseQRankSum=1.697;DP=21;ExcessHet=0.0000;FS=2.092;MLEAC=1;MLEAF=0.500;MQ=61.02;MQRankSum=1.209;QD=23.36;ReadPosRankSum=-0.218;SOR=1.371;ANN=CTTAA|frameshift_variant&stop_gained|HIGH|WWTR1|ENSG00000018408|transcript|ENST00000360632.7|protein_coding|7/7|c.1199_1200insTTAA|p.Ter401fs|1539/2103|1199/1203|400/400||,CTTAA|frameshift_variant&stop_gained|HIGH|WWTR1|ENSG00000018408|transcript|ENST00000465804.5|protein_coding|8/8|c.1199_1200insTTAA|p.Ter401fs|1456/5030|1199/1203|400/400||,CTTAA|frameshift_variant&stop_gained|HIGH|WWTR1|ENSG00000018408|transcript|ENST00000467467.5|protein_coding|7/7|c.1199_1200insTTAA|p.Ter401fs|1404/1603|1199/1203|400/400||,CTTAA|3_prime_UTR_variant|MODIFIER|WWTR1|ENSG00000018408|transcript|ENST00000471586.5|nonsense_mediated_decay|4/4|n.*346_*347insTTAA|||||7079|,CTTAA|3_prime_UTR_variant|MODIFIER|WWTR1|ENSG00000018408|transcript|ENST00000494754.1|nonsense_mediated_decay|4/4|n.*390_*391insTTAA|||||7123|,CTTAA|upstream_gene_variant|MODIFIER|RNU6-1098P|ENSG00000252581|transcript|ENST00000516772.1|snRNA||n.-4823_-4822insTTAA|||||4822|,CTTAA|downstream_gene_variant|MODIFIER|WWTR1|ENSG00000018408|transcript|ENST00000472417.1|protein_coding||c.*32_*33insTTAA|||||32|WARNING_TRANSCRIPT_NO_STOP_CODON,CTTAA|downstream_gene_variant|MODIFIER|WWTR1|ENSG00000018408|transcript|ENST00000485244.1|retained_intron||n.*4996_*4997insTTAA|||||4996|,CTTAA|non_coding_transcript_exon_variant|MODIFIER|WWTR1|ENSG00000018408|transcript|ENST00000471586.5|nonsense_mediated_decay|4/4|n.*346_*347insTTAA||||||,CTTAA|non_coding_transcript_exon_variant|MODIFIER|WWTR1|ENSG00000018408|transcript|ENST00000494754.1|nonsense_mediated_decay|4/4|n.*390_*391insTTAA||||||\tGT:AD:DP:GQ:PL\t0/1:8,13:21:99:498,0,297\n",
            "chr7\t2513247\t.\tA\tAGATG\t1014.03\tPASS\tAC=2;AF=1.00;AN=2;DP=26;ExcessHet=0.0000;FS=0.000;MLEAC=2;MLEAF=1.00;MQ=60.00;QD=32.13;SOR=1.270;ANN=AGATG|frameshift_variant&stop_gained|HIGH|LFNG|ENSG00000106003|transcript|ENST00000402506.5|protein_coding|2/9|c.163_166dupGATG|p.Glu56fs|293/2268|167/927|56/308||INFO_REALIGN_3_PRIME,AGATG|upstream_gene_variant|MODIFIER|LFNG|ENSG00000106003|transcript|ENST00000402045.5|protein_coding||c.-4704_-4703insGATG|||||4615|;LOF=(LFNG|ENSG00000106003|7|0.14);NMD=(LFNG|ENSG00000106003|7|0.14)\tGT:AD:DP:GQ:PL\t1/1:0,24:24:72:1028,72,0\n",
            "chr7\t152247986\t.\tG\tGT\t881.6\tPASS\tAC=1;AF=0.500;AN=2;BaseQRankSum=0.006;DP=75;ExcessHet=0.0000;FS=3.155;MLEAC=1;MLEAF=0.500;MQ=43.29;MQRankSum=-1.397;QD=12.08;ReadPosRankSum=-0.847;SOR=1.083;ANN=GT|frameshift_variant&stop_gained|HIGH|KMT2C|ENSG00000055609|transcript|ENST00000262189.11|protein_coding|14/59|c.2447dupA|p.Tyr816fs|2664/16860|2447/14736|816/4911||,GT|frameshift_variant&stop_gained|HIGH|KMT2C|ENSG00000055609|transcript|ENST00000355193.6|protein_coding|14/59|c.2447dupA|p.Tyr816fs|2666/16858|2447/14736|816/4911||,GT|frameshift_variant&stop_gained|HIGH|KMT2C|ENSG00000055609|transcript|ENST00000418673.1|protein_coding|1/6|c.32dupA|p.Tyr11fs|33/682|32/681|11/226||WARNING_TRANSCRIPT_NO_START_CODON,GT|non_coding_transcript_exon_variant|MODIFIER|KMT2C|ENSG00000055609|transcript|ENST00000558084.5|nonsense_mediated_decay|14/59|n.2447dupA||||||;LOF=(KMT2C|ENSG00000055609|13|0.23);NMD=(KMT2C|ENSG00000055609|13|0.23)\tGT:AD:DP:GQ:PL\t0/1:43,30:73:99:889,0,1391\n",
            "chr19\t52374463\t.\tA\tAT\t45.6\tPASS\tAC=1;AF=0.500;AN=2;BaseQRankSum=0.417;DP=24;ExcessHet=0.0000;FS=0.000;MLEAC=1;MLEAF=0.500;MQ=60.00;MQRankSum=0.000;QD=3.04;ReadPosRankSum=0.330;SOR=0.307;ANN=AT|frameshift_variant&stop_gained|HIGH|ZNF880|ENSG00000221923|transcript|ENST00000597976.5|protein_coding|3/3|c.318dupT|p.Lys107fs|339/491|319/354|107/117||INFO_REALIGN_3_PRIME,AT|splice_region_variant&intron_variant|LOW|ZNF880|ENSG00000221923|transcript|ENST00000344085.9|protein_coding|3/3|c.236-7dupT||||||INFO_REALIGN_3_PRIME,AT|downstream_gene_variant|MODIFIER|ZNF880|ENSG00000221923|transcript|ENST00000595099.1|processed_transcript||n.*1312_*1313insT|||||1313|,AT|intron_variant|MODIFIER|ZNF880|ENSG00000221923|transcript|ENST00000422689.3|protein_coding|3/3|c.268+50dupT||||||INFO_REALIGN_3_PRIME,AT|intron_variant|MODIFIER|ZNF880|ENSG00000221923|transcript|ENST00000600321.5|protein_coding|3/3|c.268+50dupT||||||INFO_REALIGN_3_PRIME,AT|intron_variant|MODIFIER|ZNF880|ENSG00000221923|transcript|ENST00000424032.6|protein_coding|3/4|c.268+50dupT||||||INFO_REALIGN_3_PRIME;LOF=(ZNF880|ENSG00000221923|6|0.17)\tGT:AD:DP:GQ:PL\t0/1:11,4:15:53:53,0,187\n"
          ]
        }
      ]
    },
    {
      "cell_type": "markdown",
      "source": [
        "# ts/tv после фильтрации для SNP"
      ],
      "metadata": {
        "id": "wUXcSRstcIEs"
      }
    },
    {
      "cell_type": "code",
      "source": [
        " # !gunzip snps_filtered.vcf.gz"
      ],
      "metadata": {
        "id": "2Byx0pGuCNtA"
      },
      "execution_count": 136,
      "outputs": []
    },
    {
      "cell_type": "code",
      "source": [
        "! java -Xmx8g -jar snpEff/snpEff.jar GRCh38.99 snps_filtered.vcf > snps_filtered.vcf.ann.vcf\n",
        "! egrep '#|synonymous|missense|stop_gained' snps_filtered.vcf.ann.vcf > snps_filtered.vcf.ann.coding.vcf\n",
        "! grep 'PASS' snps_filtered.vcf.ann.coding.vcf > chd_child.snps_filtered_pass.ann.coding.vcf"
      ],
      "metadata": {
        "id": "H3Qwu4RACu4-"
      },
      "execution_count": 139,
      "outputs": []
    },
    {
      "cell_type": "markdown",
      "source": [
        "TS/TV stats:\n",
        "Sample ,Total\n",
        "Transitions ,22023,22023\n",
        "Transversions ,7171,7171\n",
        "Ts/Tv ,3.071,3.071"
      ],
      "metadata": {
        "id": "NoPhLqpKgF_r"
      }
    },
    {
      "cell_type": "markdown",
      "source": [
        "# ts/tv после фильтрации для indel"
      ],
      "metadata": {
        "id": "AKOP9q7hFdC1"
      }
    },
    {
      "cell_type": "code",
      "source": [
        "! java -jar ./snpEff/SnpSift.jar tstv indels_filtered.ann.coding.vcf"
      ],
      "metadata": {
        "id": "EbyJiQ59EKgx"
      },
      "execution_count": null,
      "outputs": []
    },
    {
      "cell_type": "markdown",
      "source": [
        "##  Ts/Tv  для  snp после фильтрации изменилось:\n",
        "TS/TV stats:\n",
        "Sample ,Total\n",
        "Transitions ,22023,22023\n",
        "Transversions ,7171,7171\n",
        "Ts/Tv ,3.071,3.071\n",
        "\n",
        "## для инделов  ничего не нашлось, их всего 4 штуки"
      ],
      "metadata": {
        "id": "zxmulu8kphgE"
      }
    },
    {
      "cell_type": "markdown",
      "source": [
        "# До фильтрации: "
      ],
      "metadata": {
        "id": "bmdtF8B88hG5"
      }
    },
    {
      "cell_type": "code",
      "source": [
        "! egrep '#|synonymous|missense|stop_gained' file.ann.vcf  > chd_child.ann.coding.vcf"
      ],
      "metadata": {
        "id": "AYmXH5Gn37NB"
      },
      "execution_count": 129,
      "outputs": []
    },
    {
      "cell_type": "code",
      "source": [
        "! egrep '#|missense|stop_gained' chd_child.ann.coding.vcf | wc -l"
      ],
      "metadata": {
        "colab": {
          "base_uri": "https://localhost:8080/",
          "height": 0
        },
        "id": "9km-4BBcqWBF",
        "outputId": "e6cf6166-39f5-4141-a6ed-cff4ee07cbc9"
      },
      "execution_count": 130,
      "outputs": [
        {
          "output_type": "stream",
          "name": "stdout",
          "text": [
            "13716\n"
          ]
        }
      ]
    },
    {
      "cell_type": "code",
      "source": [
        "! egrep '#|synonymous' chd_child.ann.coding.vcf | wc -l"
      ],
      "metadata": {
        "colab": {
          "base_uri": "https://localhost:8080/",
          "height": 0
        },
        "id": "M0KJnLlg3JfA",
        "outputId": "60d1c739-005c-472b-8c3e-dface3eeeab3"
      },
      "execution_count": 131,
      "outputs": [
        {
          "output_type": "stream",
          "name": "stdout",
          "text": [
            "14202\n"
          ]
        }
      ]
    },
    {
      "cell_type": "markdown",
      "source": [
        "До фильтрации мутаций каждого из типов было значительно больще, также стало больше транзиций, чем трансверсий - выразились менее вероятные мутации \n",
        "\n",
        "---\n",
        "\n",
        "\n",
        "\n",
        "---\n",
        "\n"
      ],
      "metadata": {
        "id": "dONjLUv9NI6f"
      }
    },
    {
      "cell_type": "markdown",
      "source": [
        "# Гомозиготные варианты с SNP"
      ],
      "metadata": {
        "id": "OPtYh3F-IX4b"
      }
    },
    {
      "cell_type": "markdown",
      "source": [
        "Альтернативный вариант:\n",
        "http://pcingola.github.io/SnpEff/ss_gt/\n",
        "\n",
        "\n",
        "SnpSift gt creates three INFO fields. These three files are composed of comma separated indexes of samples having:\n",
        "\n",
        "HE: Indicated heterozygous variants (i.e. '0/1').\n",
        "HO: Indicated homozygous variants (i.e. '1/1').\n",
        "NA: Indicated missing genotype data (i.e. './.').\n",
        "You can use -u command line option to uncompress."
      ],
      "metadata": {
        "id": "yH2ACWWhQ-Ip"
      }
    },
    {
      "cell_type": "code",
      "source": [
        "! java -jar  ./snpEff/SnpSift.jar gt -u chd_child.snps_filtered_pass.ann.coding.vcf > gt.vcf"
      ],
      "metadata": {
        "id": "cwVSfP5vQ-ZR"
      },
      "execution_count": 184,
      "outputs": []
    },
    {
      "cell_type": "code",
      "source": [
        "! grep '1/1'  gt.vcf | wc -l # количество гомозиготных snp"
      ],
      "metadata": {
        "colab": {
          "base_uri": "https://localhost:8080/",
          "height": 0
        },
        "id": "8Ci8RfkvT4A_",
        "outputId": "fe7167b6-bd76-4103-8482-84cd58be6f3e"
      },
      "execution_count": 200,
      "outputs": [
        {
          "output_type": "stream",
          "name": "stdout",
          "text": [
            "12845\n"
          ]
        }
      ]
    },
    {
      "cell_type": "code",
      "source": [
        "! wc -l gt.vcf"
      ],
      "metadata": {
        "colab": {
          "base_uri": "https://localhost:8080/",
          "height": 0
        },
        "id": "Cuy-1Eq5U4gB",
        "outputId": "11d234a1-1acc-4d7e-b959-c9f3a6c58504"
      },
      "execution_count": 206,
      "outputs": [
        {
          "output_type": "stream",
          "name": "stdout",
          "text": [
            "20217 gt.vcf\n"
          ]
        }
      ]
    },
    {
      "cell_type": "code",
      "source": [
        "# больше половины вариантов - гомозиготные"
      ],
      "metadata": {
        "id": "6ipa_18UVCna"
      },
      "execution_count": null,
      "outputs": []
    },
    {
      "cell_type": "markdown",
      "source": [
        "# Гомозиготных indel вариантов 1"
      ],
      "metadata": {
        "id": "Snh4lC0ASHlZ"
      }
    },
    {
      "cell_type": "code",
      "source": [
        "! java -jar  ./snpEff/SnpSift.jar gt -u indels_filtered.ann.coding.vcf > indels_gt.vcf"
      ],
      "metadata": {
        "id": "_pTOQemKSvLf"
      },
      "execution_count": 202,
      "outputs": []
    },
    {
      "cell_type": "code",
      "source": [
        "! grep '0/1'  indels_gt.vcf | wc -l # количество гомозиготных indel "
      ],
      "metadata": {
        "colab": {
          "base_uri": "https://localhost:8080/",
          "height": 0
        },
        "id": "RXOj9GxWUX9P",
        "outputId": "f64fc51b-b360-495f-ea63-f737afbf895f"
      },
      "execution_count": 204,
      "outputs": [
        {
          "output_type": "stream",
          "name": "stdout",
          "text": [
            "3\n"
          ]
        }
      ]
    },
    {
      "cell_type": "markdown",
      "source": [
        "3 индела из 4 находятся в гетерозиготных вариантах, 1 - в гомозиготных"
      ],
      "metadata": {
        "id": "fi3SR9RaU0xw"
      }
    },
    {
      "cell_type": "code",
      "source": [],
      "metadata": {
        "id": "ZVFpFdHTxQli"
      },
      "execution_count": null,
      "outputs": []
    },
    {
      "cell_type": "markdown",
      "source": [
        "https://gatk.broadinstitute.org/hc/en-us/articles/360035531012--How-to-Filter-on-genotype-using-VariantFiltration\n",
        "\n",
        "\n",
        "If we want to filter heterozygous genotypes, we use VariantFiltration's --genotype-filter-expression \"isHet == 1\" option. We can specify the annotation value for the tool to label the heterozygous genotypes with with the --genotype-filter-name option. Here, this parameter's value is set to \"isHetFilter\"."
      ],
      "metadata": {
        "id": "Je15dwrmmaoS"
      }
    }
  ],
  "metadata": {
    "colab": {
      "provenance": [],
      "authorship_tag": "ABX9TyPIGyXThfepVkxBCGEeo5fH",
      "include_colab_link": true
    },
    "kernelspec": {
      "display_name": "Python 3",
      "name": "python3"
    },
    "language_info": {
      "name": "python"
    }
  },
  "nbformat": 4,
  "nbformat_minor": 0
}
